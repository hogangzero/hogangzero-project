{
 "cells": [
  {
   "cell_type": "code",
   "execution_count": 142,
   "id": "5b3b6895-7ca2-42e7-8453-3fbfa5326b32",
   "metadata": {},
   "outputs": [],
   "source": [
    "import pandas as pd\n",
    "import glob\n",
    "import os\n",
    "import matplotlib.pyplot as plt\n",
    "import seaborn as sns\n",
    "from koreanize_matplotlib import koreanize\n",
    "koreanize()"
   ]
  },
  {
   "cell_type": "code",
   "execution_count": 143,
   "id": "acd6905b-5a92-4499-85f5-478dcf689eb6",
   "metadata": {},
   "outputs": [],
   "source": [
    "all_files = []\n",
    "for year in range(2021, 2025):\n",
    "    path_pattern = f'./data/넙치csv/{year}/*.csv'\n",
    "    all_files.extend(glob.glob(path_pattern))\n",
    "\n",
    "combined_df = pd.concat([pd.read_csv(file, encoding='utf-8') for file in all_files], ignore_index=True)"
   ]
  },
  {
   "cell_type": "code",
   "execution_count": 144,
   "id": "bd0cfde8-f068-4a24-b4e6-c3adc9a6290f",
   "metadata": {},
   "outputs": [],
   "source": [
    "dfs = []\n",
    "for year in range(2021, 2025):\n",
    "    for month in range(1, 13):\n",
    "        file = f'./data/넙치csv/{year}/{year}-{month}.csv'\n",
    "        if os.path.exists(file):\n",
    "            df = pd.read_csv(file, encoding='utf-8')\n",
    "            df['year'] = year\n",
    "            df['month'] = month\n",
    "            dfs.append(df)\n",
    "\n",
    "data_all = pd.concat(dfs, ignore_index=True)"
   ]
  },
  {
   "cell_type": "code",
   "execution_count": 145,
   "id": "40f818b4-caa5-482b-ad72-908e49c5b114",
   "metadata": {},
   "outputs": [],
   "source": [
    "# datetime 형식\n",
    "data_all['date'] = pd.to_datetime(\n",
    "    dict(year=data_all['year'], month=data_all['month'], day=1)\n",
    ")"
   ]
  },
  {
   "cell_type": "code",
   "execution_count": 146,
   "id": "42de097d-1d47-45a5-a692-e13a7e9b2be4",
   "metadata": {},
   "outputs": [
    {
     "data": {
      "text/html": [
       "<div>\n",
       "<style scoped>\n",
       "    .dataframe tbody tr th:only-of-type {\n",
       "        vertical-align: middle;\n",
       "    }\n",
       "\n",
       "    .dataframe tbody tr th {\n",
       "        vertical-align: top;\n",
       "    }\n",
       "\n",
       "    .dataframe thead th {\n",
       "        text-align: right;\n",
       "    }\n",
       "</style>\n",
       "<table border=\"1\" class=\"dataframe\">\n",
       "  <thead>\n",
       "    <tr style=\"text-align: right;\">\n",
       "      <th></th>\n",
       "      <th>어종</th>\n",
       "      <th>산지</th>\n",
       "      <th>규격</th>\n",
       "      <th>포장</th>\n",
       "      <th>수량</th>\n",
       "      <th>중량</th>\n",
       "      <th>낙찰고가</th>\n",
       "      <th>낙찰저가</th>\n",
       "      <th>평균가</th>\n",
       "      <th>year</th>\n",
       "      <th>month</th>\n",
       "      <th>date</th>\n",
       "    </tr>\n",
       "  </thead>\n",
       "  <tbody>\n",
       "    <tr>\n",
       "      <th>0</th>\n",
       "      <td>(활)넙치</td>\n",
       "      <td>속초</td>\n",
       "      <td>중</td>\n",
       "      <td>kg</td>\n",
       "      <td>29.2</td>\n",
       "      <td>1.0</td>\n",
       "      <td>29,000</td>\n",
       "      <td>6,000</td>\n",
       "      <td>20,700</td>\n",
       "      <td>2021</td>\n",
       "      <td>1</td>\n",
       "      <td>2021-01-01</td>\n",
       "    </tr>\n",
       "    <tr>\n",
       "      <th>1</th>\n",
       "      <td>(활)넙치</td>\n",
       "      <td>통영</td>\n",
       "      <td>3미</td>\n",
       "      <td>kg</td>\n",
       "      <td>3.4</td>\n",
       "      <td>1.0</td>\n",
       "      <td>6,000</td>\n",
       "      <td>6,000</td>\n",
       "      <td>6,000</td>\n",
       "      <td>2021</td>\n",
       "      <td>1</td>\n",
       "      <td>2021-01-01</td>\n",
       "    </tr>\n",
       "    <tr>\n",
       "      <th>2</th>\n",
       "      <td>(활)넙치</td>\n",
       "      <td>목포</td>\n",
       "      <td>중</td>\n",
       "      <td>kg</td>\n",
       "      <td>505.5</td>\n",
       "      <td>1.0</td>\n",
       "      <td>33,000</td>\n",
       "      <td>10,000</td>\n",
       "      <td>20,900</td>\n",
       "      <td>2021</td>\n",
       "      <td>1</td>\n",
       "      <td>2021-01-01</td>\n",
       "    </tr>\n",
       "    <tr>\n",
       "      <th>3</th>\n",
       "      <td>(활)넙치</td>\n",
       "      <td>부산(기장)</td>\n",
       "      <td>중</td>\n",
       "      <td>kg</td>\n",
       "      <td>1,646.7</td>\n",
       "      <td>1.0</td>\n",
       "      <td>28,000</td>\n",
       "      <td>7,000</td>\n",
       "      <td>18,800</td>\n",
       "      <td>2021</td>\n",
       "      <td>1</td>\n",
       "      <td>2021-01-01</td>\n",
       "    </tr>\n",
       "    <tr>\n",
       "      <th>4</th>\n",
       "      <td>(활)넙치</td>\n",
       "      <td>보령</td>\n",
       "      <td>중</td>\n",
       "      <td>kg</td>\n",
       "      <td>8.3</td>\n",
       "      <td>1.0</td>\n",
       "      <td>11,000</td>\n",
       "      <td>3,000</td>\n",
       "      <td>8,400</td>\n",
       "      <td>2021</td>\n",
       "      <td>1</td>\n",
       "      <td>2021-01-01</td>\n",
       "    </tr>\n",
       "  </tbody>\n",
       "</table>\n",
       "</div>"
      ],
      "text/plain": [
       "      어종      산지  규격  포장       수량   중량    낙찰고가    낙찰저가     평균가  year  month  \\\n",
       "0  (활)넙치      속초   중  kg     29.2  1.0  29,000   6,000  20,700  2021      1   \n",
       "1  (활)넙치      통영  3미  kg      3.4  1.0   6,000   6,000   6,000  2021      1   \n",
       "2  (활)넙치      목포   중  kg    505.5  1.0  33,000  10,000  20,900  2021      1   \n",
       "3  (활)넙치  부산(기장)   중  kg  1,646.7  1.0  28,000   7,000  18,800  2021      1   \n",
       "4  (활)넙치      보령   중  kg      8.3  1.0  11,000   3,000   8,400  2021      1   \n",
       "\n",
       "        date  \n",
       "0 2021-01-01  \n",
       "1 2021-01-01  \n",
       "2 2021-01-01  \n",
       "3 2021-01-01  \n",
       "4 2021-01-01  "
      ]
     },
     "execution_count": 146,
     "metadata": {},
     "output_type": "execute_result"
    }
   ],
   "source": [
    "data_all.head()"
   ]
  },
  {
   "cell_type": "code",
   "execution_count": 147,
   "id": "b9e6f799-5833-439f-9c42-dde7b2aa0592",
   "metadata": {},
   "outputs": [],
   "source": [
    "fish = data_all['어종'].unique()"
   ]
  },
  {
   "cell_type": "code",
   "execution_count": 148,
   "id": "d6b86a7a-cfc8-4308-ae20-977990a821ae",
   "metadata": {},
   "outputs": [
    {
     "data": {
      "text/plain": [
       "array(['속초', '통영', '목포', '부산(기장)', '보령', '군산', '서천', '진도', '완도', '여수',\n",
       "       '중국', '제주도', '안흥', '태안', '나로도', '대부도', '일본', '격포', '고흥', '대천',\n",
       "       '안면도', '화성', '서산', '신안', '영광', '장항', '부안', '인천', '당진', '후포', '포항',\n",
       "       '거제도', '동해시', '거진', '임원', '고성', '삼천포', '방어진', '남해', '고창', '강화',\n",
       "       '강구', '영흥도', '마산'], dtype=object)"
      ]
     },
     "execution_count": 148,
     "metadata": {},
     "output_type": "execute_result"
    }
   ],
   "source": [
    "data_all['산지'].unique()"
   ]
  },
  {
   "cell_type": "code",
   "execution_count": 149,
   "id": "78b0a090-a138-4ed6-8c3b-050fd245fec0",
   "metadata": {},
   "outputs": [
    {
     "data": {
      "image/png": "[encoded data removed]",
      "text/plain": [
       "<Figure size 640x480 with 1 Axes>"
      ]
     },
     "metadata": {},
     "output_type": "display_data"
    }
   ],
   "source": [
    "fish_counts = data_all['어종'].value_counts()\n",
    "\n",
    "# 막대그래프 그리기\n",
    "counts.plot(kind='bar')\n",
    "plt.xlabel('어종')\n",
    "plt.ylabel('개수')\n",
    "plt.title('어종별 분포')\n",
    "plt.show()"
   ]
  },
  {
   "cell_type": "code",
   "execution_count": 150,
   "id": "6de5dc32-d798-4ffd-bfe3-70d52cac8cd6",
   "metadata": {},
   "outputs": [
    {
     "data": {
      "text/plain": [
       "어종\n",
       "(선)넙치     1202\n",
       "(활)넙치      888\n",
       "(활)찰넙치      38\n",
       "(냉)넙치        7\n",
       "(선)찰넙치       4\n",
       "(선)대구        2\n",
       "(선)가자미       1\n",
       "(활)도다리       1\n",
       "(선)양태        1\n",
       "Name: count, dtype: int64"
      ]
     },
     "execution_count": 150,
     "metadata": {},
     "output_type": "execute_result"
    }
   ],
   "source": [
    "data_all['어종'].value_counts()"
   ]
  },
  {
   "cell_type": "code",
   "execution_count": 135,
   "id": "4d6730d9-a6f0-4225-bd86-e58c47b830da",
   "metadata": {},
   "outputs": [
    {
     "data": {
      "text/plain": [
       "산지\n",
       "제주도       302\n",
       "군산        201\n",
       "안흥        184\n",
       "완도        175\n",
       "태안        153\n",
       "통영        140\n",
       "나로도       139\n",
       "대부도       120\n",
       "서천         88\n",
       "목포         83\n",
       "대천         78\n",
       "서산         49\n",
       "격포         45\n",
       "보령         43\n",
       "여수         42\n",
       "진도         38\n",
       "인천         36\n",
       "부산(기장)     32\n",
       "장항         24\n",
       "안면도        24\n",
       "중국         23\n",
       "남해         17\n",
       "영흥도        14\n",
       "속초         13\n",
       "고흥          9\n",
       "거제도         8\n",
       "부안          8\n",
       "화성          7\n",
       "포항          6\n",
       "삼천포         6\n",
       "후포          6\n",
       "신안          5\n",
       "방어진         4\n",
       "당진          4\n",
       "동해시         4\n",
       "거진          3\n",
       "고창          2\n",
       "영광          2\n",
       "강구          2\n",
       "일본          1\n",
       "고성          1\n",
       "임원          1\n",
       "강화          1\n",
       "마산          1\n",
       "Name: count, dtype: int64"
      ]
     },
     "execution_count": 135,
     "metadata": {},
     "output_type": "execute_result"
    }
   ],
   "source": [
    "data_all['산지'].value_counts()"
   ]
  },
  {
   "cell_type": "code",
   "execution_count": 137,
   "id": "f2a69245-8043-496f-9120-fba5ea2f0bd0",
   "metadata": {},
   "outputs": [],
   "source": [
    "area_counts = data_all['산지'].value_counts()"
   ]
  },
  {
   "cell_type": "code",
   "execution_count": null,
   "id": "ffdba00b-9273-42f7-9ef0-e8d2df2293e4",
   "metadata": {},
   "outputs": [],
   "source": []
  },
  {
   "cell_type": "code",
   "execution_count": null,
   "id": "dbdc22ad-1cc7-489c-93f6-1788adc1d488",
   "metadata": {},
   "outputs": [],
   "source": []
  },
  {
   "cell_type": "code",
   "execution_count": null,
   "id": "2cd69bb8-3c98-4a92-8324-61a6d871906b",
   "metadata": {},
   "outputs": [],
   "source": []
  },
  {
   "cell_type": "code",
   "execution_count": null,
   "id": "7bb984c0-8f57-4660-8f77-eb29519e0e8b",
   "metadata": {},
   "outputs": [],
   "source": []
  },
  {
   "cell_type": "code",
   "execution_count": null,
   "id": "76a987ab-6644-4797-bd31-f3fc62604f65",
   "metadata": {},
   "outputs": [],
   "source": []
  },
  {
   "cell_type": "code",
   "execution_count": null,
   "id": "c9394b84-5851-4475-9d66-c853fd9aecec",
   "metadata": {},
   "outputs": [],
   "source": []
  },
  {
   "cell_type": "code",
   "execution_count": null,
   "id": "be2c89eb-66b0-4798-bcc3-09a78f455d29",
   "metadata": {},
   "outputs": [],
   "source": []
  },
  {
   "cell_type": "code",
   "execution_count": null,
   "id": "d8246af3-8964-4a0a-b02a-650f626239b7",
   "metadata": {},
   "outputs": [],
   "source": []
  },
  {
   "cell_type": "code",
   "execution_count": null,
   "id": "fa3efc28-1861-4c2c-947d-a2852ac403b6",
   "metadata": {},
   "outputs": [],
   "source": []
  },
  {
   "cell_type": "code",
   "execution_count": null,
   "id": "df222fe0-1843-4fad-93d2-fc1f30e4c84f",
   "metadata": {},
   "outputs": [],
   "source": []
  },
  {
   "cell_type": "code",
   "execution_count": null,
   "id": "46c2c99a-f436-4944-b3e8-f204837bd67f",
   "metadata": {},
   "outputs": [],
   "source": []
  },
  {
   "cell_type": "code",
   "execution_count": null,
   "id": "76fd4314-056a-4cd7-8b59-2617ce62036d",
   "metadata": {},
   "outputs": [],
   "source": []
  },
  {
   "cell_type": "code",
   "execution_count": null,
   "id": "6641a860-815b-4f0a-bdfc-055318cd21ea",
   "metadata": {},
   "outputs": [],
   "source": []
  }
 ],
 "metadata": {
  "kernelspec": {
   "display_name": "Python 3 (ipykernel)",
   "language": "python",
   "name": "python3"
  },
  "language_info": {
   "codemirror_mode": {
    "name": "ipython",
    "version": 3
   },
   "file_extension": ".py",
   "mimetype": "text/x-python",
   "name": "python",
   "nbconvert_exporter": "python",
   "pygments_lexer": "ipython3",
   "version": "3.10.18"
  }
 },
 "nbformat": 4,
 "nbformat_minor": 5
}
