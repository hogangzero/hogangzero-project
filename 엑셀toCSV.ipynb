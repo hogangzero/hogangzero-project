{
 "cells": [
  {
   "cell_type": "code",
   "execution_count": null,
   "id": "fe0bdf2f-0c35-47a7-978c-1e166e78c0d2",
   "metadata": {},
   "outputs": [],
   "source": [
    "import pandas as pd\n",
    "import os"
   ]
  },
  {
   "cell_type": "code",
   "execution_count": null,
   "id": "f4691c1e-99b8-4ee7-a5be-bc3500c9d3ed",
   "metadata": {},
   "outputs": [],
   "source": [
    "pip install pandas xlrd"
   ]
  },
  {
   "cell_type": "markdown",
   "id": "7fe656c7-72fd-402c-86c3-608bfa7a8135",
   "metadata": {},
   "source": [
    "### 엑셀 파일이 있는 폴더를 입력하면 모두 CSV파일로 변환"
   ]
  },
  {
   "cell_type": "code",
   "execution_count": null,
   "id": "3c906e0b-57f4-4156-83fd-79a86e1be036",
   "metadata": {},
   "outputs": [],
   "source": [
    "input_folder = './data/데이터2/홍어csv/2024'   # 엑셀 파일이 있는 폴더 경로\n",
    "output_folder = './data/홍어csv/2024'    # 변환된 파일을 저장할 폴더 경로\n",
    "\n",
    "if not os.path.exists(output_folder):\n",
    "    os.makedirs(output_folder)\n",
    "\n",
    "for file in os.listdir(input_folder):\n",
    "    if file.endswith('.xls'):\n",
    "        xls_path = os.path.join(input_folder, file)\n",
    "        csv_path = os.path.join(output_folder, file.replace('.xls', '.csv'))\n",
    "        \n",
    "        # xls 파일을 읽고 DataFrame으로 변환\n",
    "        df = pd.read_excel(xls_path, engine='xlrd')\n",
    "        \n",
    "        # CSV로 저장\n",
    "        df.to_csv(csv_path, index=False, encoding='utf-8-sig')\n",
    "        print(f'{file} → CSV 변환 완료')\n",
    "\n",
    "print('모든 XLS 파일 CSV 변환 완료!')"
   ]
  },
  {
   "cell_type": "markdown",
   "id": "e9a89948-83a7-4755-a6db-0c94c093cb06",
   "metadata": {},
   "source": [
    "### CSV파일에 날짜 컬럼 추가하기"
   ]
  },
  {
   "cell_type": "code",
   "execution_count": null,
   "id": "fb51367d-78ca-4c0c-a5d0-206311d94787",
   "metadata": {},
   "outputs": [],
   "source": [
    "dfs = []\n",
    "for year in range(2021, 2025):\n",
    "    for month in range(1, 13):\n",
    "        file = f'./data/홍어csv/{year}/{year}-{month}.csv'\n",
    "        if os.path.exists(file):\n",
    "            df = pd.read_csv(file, encoding='utf-8')\n",
    "            df['year'] = year\n",
    "            df['month'] = month\n",
    "            dfs.append(df)\n",
    "\n",
    "df = pd.concat(dfs, ignore_index=True)"
   ]
  },
  {
   "cell_type": "markdown",
   "id": "320012e3-d4f1-4ee7-9b74-0a8d174eb584",
   "metadata": {},
   "source": [
    "### CSV파일로 반환하기"
   ]
  },
  {
   "cell_type": "code",
   "execution_count": null,
   "id": "f7d1b8db-751e-440a-89b2-fa1eab9c4e55",
   "metadata": {},
   "outputs": [],
   "source": [
    "df.to_csv('./data/홍어csv/홍어.csv', index=False, encoding='utf-8-sig')"
   ]
  }
 ],
 "metadata": {
  "kernelspec": {
   "display_name": "Python 3 (ipykernel)",
   "language": "python",
   "name": "python3"
  },
  "language_info": {
   "codemirror_mode": {
    "name": "ipython",
    "version": 3
   },
   "file_extension": ".py",
   "mimetype": "text/x-python",
   "name": "python",
   "nbconvert_exporter": "python",
   "pygments_lexer": "ipython3",
   "version": "3.10.18"
  }
 },
 "nbformat": 4,
 "nbformat_minor": 5
}
