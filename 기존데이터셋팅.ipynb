{
 "cells": [
  {
   "cell_type": "code",
   "execution_count": 1,
   "id": "a18f8044-3400-48f7-b885-9b21c5c9d8ee",
   "metadata": {},
   "outputs": [],
   "source": [
    "import pandas as pd\n",
    "import os"
   ]
  },
  {
   "cell_type": "code",
   "execution_count": 2,
   "id": "c5cebe1b-d72d-401c-a02f-e32780dde09f",
   "metadata": {},
   "outputs": [
    {
     "name": "stdout",
     "output_type": "stream",
     "text": [
      "Requirement already satisfied: pandas in c:\\users\\406\\miniconda3\\envs\\yh\\lib\\site-packages (2.3.1)\n",
      "Collecting xlrd\n",
      "  Downloading xlrd-2.0.2-py2.py3-none-any.whl.metadata (3.5 kB)\n",
      "Requirement already satisfied: numpy>=1.22.4 in c:\\users\\406\\miniconda3\\envs\\yh\\lib\\site-packages (from pandas) (2.0.1)\n",
      "Requirement already satisfied: python-dateutil>=2.8.2 in c:\\users\\406\\miniconda3\\envs\\yh\\lib\\site-packages (from pandas) (2.9.0.post0)\n",
      "Requirement already satisfied: pytz>=2020.1 in c:\\users\\406\\miniconda3\\envs\\yh\\lib\\site-packages (from pandas) (2025.2)\n",
      "Requirement already satisfied: tzdata>=2022.7 in c:\\users\\406\\miniconda3\\envs\\yh\\lib\\site-packages (from pandas) (2025.2)\n",
      "Requirement already satisfied: six>=1.5 in c:\\users\\406\\miniconda3\\envs\\yh\\lib\\site-packages (from python-dateutil>=2.8.2->pandas) (1.17.0)\n",
      "Downloading xlrd-2.0.2-py2.py3-none-any.whl (96 kB)\n",
      "Installing collected packages: xlrd\n",
      "Successfully installed xlrd-2.0.2\n",
      "Note: you may need to restart the kernel to use updated packages.\n"
     ]
    }
   ],
   "source": [
    "pip install pandas xlrd"
   ]
  },
  {
   "cell_type": "markdown",
   "id": "68069b57-2f8a-4160-a263-6ed9637190b4",
   "metadata": {},
   "source": [
    "기존 폴더에 있는 엑셀파일들을 한번에 csv파일로 변환"
   ]
  },
  {
   "cell_type": "code",
   "execution_count": 3,
   "id": "5530d8c8-b019-4126-9931-4b3eb69a41b5",
   "metadata": {},
   "outputs": [],
   "source": [
    "# input_folder = './data/넙치/2024(넙치)'   # 엑셀 파일이 있는 폴더 경로\n",
    "# output_folder = './data/넙치csv/2024'    # 변환된 파일을 저장할 폴더 경로\n",
    "\n",
    "# if not os.path.exists(output_folder):\n",
    "#     os.makedirs(output_folder)\n",
    "\n",
    "# for file in os.listdir(input_folder):\n",
    "#     if file.endswith('.xls'):\n",
    "#         xls_path = os.path.join(input_folder, file)\n",
    "#         csv_path = os.path.join(output_folder, file.replace('.xls', '.csv'))\n",
    "        \n",
    "#         # xls 파일을 읽고 DataFrame으로 변환\n",
    "#         df = pd.read_excel(xls_path, engine='xlrd')\n",
    "        \n",
    "#         # CSV로 저장\n",
    "#         df.to_csv(csv_path, index=False, encoding='utf-8-sig')\n",
    "#         print(f'{file} → CSV 변환 완료')\n",
    "\n",
    "# print('모든 XLS 파일 CSV 변환 완료!')"
   ]
  },
  {
   "cell_type": "code",
   "execution_count": 4,
   "id": "98f753c9-4df8-4a44-aa75-86e93174f7e9",
   "metadata": {},
   "outputs": [],
   "source": [
    "# file의 경로를 f'./data/{원하는품종csv}csv/{year}/{year}-{month}.csv'\n",
    "# 원하는품종에 값으로 변경해주면 된다."
   ]
  },
  {
   "cell_type": "code",
   "execution_count": 5,
   "id": "c7acd1fe-d234-4ddb-807d-b1f6739abceb",
   "metadata": {},
   "outputs": [],
   "source": [
    "dfs = []\n",
    "for year in range(2021, 2025):\n",
    "    for month in range(1, 13):\n",
    "        file = f'./data/갈치csv/{year}/{year}-{month}.csv'\n",
    "        if os.path.exists(file):\n",
    "            df = pd.read_csv(file, encoding='utf-8')\n",
    "            df['year'] = year\n",
    "            df['month'] = month\n",
    "            dfs.append(df)\n",
    "\n",
    "data_all = pd.concat(dfs, ignore_index=True)"
   ]
  },
  {
   "cell_type": "code",
   "execution_count": 6,
   "id": "44ac2737-beda-48db-81fb-2a2832713b80",
   "metadata": {},
   "outputs": [],
   "source": [
    "# datetime 형식\n",
    "data_all['date'] = pd.to_datetime(\n",
    "    dict(year=data_all['year'], month=data_all['month'], day=1)\n",
    ")"
   ]
  },
  {
   "cell_type": "code",
   "execution_count": null,
   "id": "05e5975b-a005-4d8a-ab65-06f4ddc0544a",
   "metadata": {},
   "outputs": [],
   "source": []
  }
 ],
 "metadata": {
  "kernelspec": {
   "display_name": "Python 3 (ipykernel)",
   "language": "python",
   "name": "python3"
  },
  "language_info": {
   "codemirror_mode": {
    "name": "ipython",
    "version": 3
   },
   "file_extension": ".py",
   "mimetype": "text/x-python",
   "name": "python",
   "nbconvert_exporter": "python",
   "pygments_lexer": "ipython3",
   "version": "3.10.18"
  }
 },
 "nbformat": 4,
 "nbformat_minor": 5
}
