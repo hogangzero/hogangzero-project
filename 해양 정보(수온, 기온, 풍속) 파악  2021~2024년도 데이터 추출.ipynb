{
 "cells": [
  {
   "cell_type": "markdown",
   "id": "224433da-98b5-486e-a085-5af9d34c8858",
   "metadata": {},
   "source": [
    "### PDF 파일 불러오기"
   ]
  },
  {
   "cell_type": "code",
   "execution_count": 1,
   "id": "f2d80c60-58c3-4129-806e-708beae8ae3f",
   "metadata": {},
   "outputs": [],
   "source": [
    "import pandas as pd\n",
    "import numpy as np\n",
    "import tabula"
   ]
  },
  {
   "cell_type": "code",
   "execution_count": 2,
   "id": "123bd024-4117-4ebf-8b27-baf2395b5da2",
   "metadata": {},
   "outputs": [
    {
     "name": "stdout",
     "output_type": "stream",
     "text": [
      "/Users/mac/Documents/GitHub/hogangzero-project\n"
     ]
    }
   ],
   "source": [
    "import os\n",
    "print(os.getcwd()) \n",
    "os.chdir('/Users/mac/Documents/GitHub/hogangzero-project/data/해양정보(수온, 기온, 풍속)') "
   ]
  },
  {
   "cell_type": "code",
   "execution_count": 7,
   "id": "9e425862-9d74-4995-a9fc-907be5ee798a",
   "metadata": {},
   "outputs": [],
   "source": [
    "sanji = '통영'"
   ]
  },
  {
   "cell_type": "code",
   "execution_count": 8,
   "id": "47266e27-2e64-44c8-86c9-2f50a640cfb7",
   "metadata": {},
   "outputs": [
    {
     "name": "stdout",
     "output_type": "stream",
     "text": [
      "2021 년 1 월 수온\n",
      "2021 년 1 월 기온\n",
      "2021 년 1 월 풍속\n",
      "2021 년 2 월 수온\n",
      "2021 년 2 월 기온\n",
      "2021 년 2 월 풍속\n",
      "2021 년 3 월 수온\n",
      "2021 년 3 월 기온\n",
      "2021 년 3 월 풍속\n",
      "2021 년 4 월 수온\n",
      "2021 년 4 월 기온\n",
      "2021 년 4 월 풍속\n",
      "2021 년 5 월 수온\n",
      "2021 년 5 월 기온\n",
      "2021 년 5 월 풍속\n",
      "2021 년 6 월 수온\n",
      "2021 년 6 월 기온\n",
      "2021 년 6 월 풍속\n",
      "2021 년 7 월 수온\n",
      "2021 년 7 월 기온\n",
      "2021 년 7 월 풍속\n",
      "2021 년 8 월 수온\n",
      "2021 년 8 월 기온\n",
      "2021 년 8 월 풍속\n",
      "2021 년 9 월 수온\n",
      "2021 년 9 월 기온\n",
      "2021 년 9 월 풍속\n",
      "2021 년 10 월 수온\n",
      "2021 년 10 월 기온\n",
      "2021 년 10 월 풍속\n",
      "2021 년 11 월 수온\n",
      "2021 년 11 월 기온\n",
      "2021 년 11 월 풍속\n",
      "2021 년 12 월 수온\n",
      "2021 년 12 월 기온\n",
      "2021 년 12 월 풍속\n",
      "2022 년 1 월 수온\n",
      "2022 년 1 월 기온\n",
      "2022 년 1 월 풍속\n",
      "2022 년 2 월 수온\n",
      "2022 년 2 월 기온\n",
      "2022 년 2 월 풍속\n",
      "2022 년 3 월 수온\n",
      "2022 년 3 월 기온\n",
      "2022 년 3 월 풍속\n",
      "2022 년 4 월 수온\n",
      "2022 년 4 월 기온\n",
      "2022 년 4 월 풍속\n",
      "2022 년 5 월 수온\n",
      "2022 년 5 월 기온\n",
      "2022 년 5 월 풍속\n",
      "2022 년 6 월 수온\n",
      "2022 년 6 월 기온\n",
      "2022 년 6 월 풍속\n"
     ]
    },
    {
     "name": "stderr",
     "output_type": "stream",
     "text": [
      "Got stderr: 10월 27, 2025 9:52:05 오전 org.apache.pdfbox.pdmodel.font.PDCIDFontType2 findFontOrSubstitute\n",
      "WARNING: Using fallback font LiberationSans for CID-keyed TrueType font GulimChe\n",
      "10월 27, 2025 9:52:05 오전 org.apache.pdfbox.pdmodel.font.PDCIDFontType2 findFontOrSubstitute\n",
      "WARNING: Using fallback font LiberationSans for CID-keyed TrueType font Gulim,Bold\n",
      "10월 27, 2025 9:52:05 오전 org.apache.pdfbox.pdmodel.font.PDCIDFontType2 findFontOrSubstitute\n",
      "WARNING: Using fallback font LiberationSans for CID-keyed TrueType font Malgun Gothic,Bold\n",
      "\n"
     ]
    },
    {
     "name": "stdout",
     "output_type": "stream",
     "text": [
      "2022 년 7 월 수온\n"
     ]
    },
    {
     "name": "stderr",
     "output_type": "stream",
     "text": [
      "Got stderr: 10월 27, 2025 9:52:05 오전 org.apache.pdfbox.pdmodel.font.PDCIDFontType2 findFontOrSubstitute\n",
      "WARNING: Using fallback font LiberationSans for CID-keyed TrueType font GulimChe\n",
      "10월 27, 2025 9:52:05 오전 org.apache.pdfbox.pdmodel.font.PDCIDFontType2 findFontOrSubstitute\n",
      "WARNING: Using fallback font LiberationSans for CID-keyed TrueType font Gulim,Bold\n",
      "10월 27, 2025 9:52:05 오전 org.apache.pdfbox.pdmodel.font.PDCIDFontType2 findFontOrSubstitute\n",
      "WARNING: Using fallback font LiberationSans for CID-keyed TrueType font Malgun Gothic,Bold\n",
      "10월 27, 2025 9:52:05 오전 org.apache.pdfbox.rendering.TTFGlyph2D getPathForGID\n",
      "WARNING: No glyph for code 13336 (CID 3418) in font GulimChe\n",
      "10월 27, 2025 9:52:05 오전 org.apache.pdfbox.rendering.TTFGlyph2D getPathForGID\n",
      "WARNING: No glyph for code 8036 (CID 1f64) in font Gulim,Bold\n",
      "10월 27, 2025 9:52:05 오전 org.apache.pdfbox.rendering.TTFGlyph2D getPathForGID\n",
      "WARNING: No glyph for code 751 (CID 02ef) in font Malgun Gothic,Bold\n",
      "10월 27, 2025 9:52:05 오전 org.apache.pdfbox.pdmodel.font.PDCIDFontType2 findFontOrSubstitute\n",
      "WARNING: Using fallback font LiberationSans for CID-keyed TrueType font GulimChe\n",
      "10월 27, 2025 9:52:05 오전 org.apache.pdfbox.pdmodel.font.PDCIDFontType2 findFontOrSubstitute\n",
      "WARNING: Using fallback font LiberationSans for CID-keyed TrueType font Gulim,Bold\n",
      "10월 27, 2025 9:52:05 오전 org.apache.pdfbox.pdmodel.font.PDCIDFontType2 findFontOrSubstitute\n",
      "WARNING: Using fallback font LiberationSans for CID-keyed TrueType font Malgun Gothic,Bold\n",
      "\n"
     ]
    },
    {
     "name": "stdout",
     "output_type": "stream",
     "text": [
      "2022 년 7 월 기온\n"
     ]
    },
    {
     "name": "stderr",
     "output_type": "stream",
     "text": [
      "Got stderr: 10월 27, 2025 9:52:06 오전 org.apache.pdfbox.pdmodel.font.PDCIDFontType2 findFontOrSubstitute\n",
      "WARNING: Using fallback font LiberationSans for CID-keyed TrueType font GulimChe\n",
      "10월 27, 2025 9:52:06 오전 org.apache.pdfbox.pdmodel.font.PDCIDFontType2 findFontOrSubstitute\n",
      "WARNING: Using fallback font LiberationSans for CID-keyed TrueType font Gulim,Bold\n",
      "10월 27, 2025 9:52:06 오전 org.apache.pdfbox.pdmodel.font.PDCIDFontType2 findFontOrSubstitute\n",
      "WARNING: Using fallback font LiberationSans for CID-keyed TrueType font Malgun Gothic,Bold\n",
      "\n"
     ]
    },
    {
     "name": "stdout",
     "output_type": "stream",
     "text": [
      "2022 년 7 월 풍속\n"
     ]
    },
    {
     "name": "stderr",
     "output_type": "stream",
     "text": [
      "Got stderr: 10월 27, 2025 9:52:07 오전 org.apache.pdfbox.pdmodel.font.PDCIDFontType2 findFontOrSubstitute\n",
      "WARNING: Using fallback font LiberationSans for CID-keyed TrueType font GulimChe\n",
      "10월 27, 2025 9:52:07 오전 org.apache.pdfbox.pdmodel.font.PDCIDFontType2 findFontOrSubstitute\n",
      "WARNING: Using fallback font LiberationSans for CID-keyed TrueType font Gulim,Bold\n",
      "10월 27, 2025 9:52:07 오전 org.apache.pdfbox.pdmodel.font.PDCIDFontType2 findFontOrSubstitute\n",
      "WARNING: Using fallback font LiberationSans for CID-keyed TrueType font Malgun Gothic,Bold\n",
      "\n"
     ]
    },
    {
     "name": "stdout",
     "output_type": "stream",
     "text": [
      "2022 년 8 월 수온\n"
     ]
    },
    {
     "name": "stderr",
     "output_type": "stream",
     "text": [
      "Got stderr: 10월 27, 2025 9:52:07 오전 org.apache.pdfbox.pdmodel.font.PDCIDFontType2 findFontOrSubstitute\n",
      "WARNING: Using fallback font LiberationSans for CID-keyed TrueType font GulimChe\n",
      "10월 27, 2025 9:52:07 오전 org.apache.pdfbox.pdmodel.font.PDCIDFontType2 findFontOrSubstitute\n",
      "WARNING: Using fallback font LiberationSans for CID-keyed TrueType font Gulim,Bold\n",
      "10월 27, 2025 9:52:07 오전 org.apache.pdfbox.pdmodel.font.PDCIDFontType2 findFontOrSubstitute\n",
      "WARNING: Using fallback font LiberationSans for CID-keyed TrueType font Malgun Gothic,Bold\n",
      "10월 27, 2025 9:52:07 오전 org.apache.pdfbox.rendering.TTFGlyph2D getPathForGID\n",
      "WARNING: No glyph for code 13336 (CID 3418) in font GulimChe\n",
      "10월 27, 2025 9:52:07 오전 org.apache.pdfbox.rendering.TTFGlyph2D getPathForGID\n",
      "WARNING: No glyph for code 8036 (CID 1f64) in font Gulim,Bold\n",
      "10월 27, 2025 9:52:07 오전 org.apache.pdfbox.rendering.TTFGlyph2D getPathForGID\n",
      "WARNING: No glyph for code 751 (CID 02ef) in font Malgun Gothic,Bold\n",
      "10월 27, 2025 9:52:08 오전 org.apache.pdfbox.pdmodel.font.PDCIDFontType2 findFontOrSubstitute\n",
      "WARNING: Using fallback font LiberationSans for CID-keyed TrueType font GulimChe\n",
      "10월 27, 2025 9:52:08 오전 org.apache.pdfbox.pdmodel.font.PDCIDFontType2 findFontOrSubstitute\n",
      "WARNING: Using fallback font LiberationSans for CID-keyed TrueType font Gulim,Bold\n",
      "10월 27, 2025 9:52:08 오전 org.apache.pdfbox.pdmodel.font.PDCIDFontType2 findFontOrSubstitute\n",
      "WARNING: Using fallback font LiberationSans for CID-keyed TrueType font Malgun Gothic,Bold\n",
      "\n"
     ]
    },
    {
     "name": "stdout",
     "output_type": "stream",
     "text": [
      "2022 년 8 월 기온\n"
     ]
    },
    {
     "name": "stderr",
     "output_type": "stream",
     "text": [
      "Got stderr: 10월 27, 2025 9:52:08 오전 org.apache.pdfbox.pdmodel.font.PDCIDFontType2 findFontOrSubstitute\n",
      "WARNING: Using fallback font LiberationSans for CID-keyed TrueType font GulimChe\n",
      "10월 27, 2025 9:52:08 오전 org.apache.pdfbox.pdmodel.font.PDCIDFontType2 findFontOrSubstitute\n",
      "WARNING: Using fallback font LiberationSans for CID-keyed TrueType font Gulim,Bold\n",
      "10월 27, 2025 9:52:08 오전 org.apache.pdfbox.pdmodel.font.PDCIDFontType2 findFontOrSubstitute\n",
      "WARNING: Using fallback font LiberationSans for CID-keyed TrueType font Malgun Gothic,Bold\n",
      "\n"
     ]
    },
    {
     "name": "stdout",
     "output_type": "stream",
     "text": [
      "2022 년 8 월 풍속\n"
     ]
    },
    {
     "name": "stderr",
     "output_type": "stream",
     "text": [
      "Got stderr: 10월 27, 2025 9:52:09 오전 org.apache.pdfbox.pdmodel.font.PDCIDFontType2 findFontOrSubstitute\n",
      "WARNING: Using fallback font LiberationSans for CID-keyed TrueType font GulimChe\n",
      "10월 27, 2025 9:52:09 오전 org.apache.pdfbox.pdmodel.font.PDCIDFontType2 findFontOrSubstitute\n",
      "WARNING: Using fallback font LiberationSans for CID-keyed TrueType font Gulim,Bold\n",
      "10월 27, 2025 9:52:09 오전 org.apache.pdfbox.pdmodel.font.PDCIDFontType2 findFontOrSubstitute\n",
      "WARNING: Using fallback font LiberationSans for CID-keyed TrueType font Malgun Gothic,Bold\n",
      "\n"
     ]
    },
    {
     "name": "stdout",
     "output_type": "stream",
     "text": [
      "2022 년 9 월 수온\n"
     ]
    },
    {
     "name": "stderr",
     "output_type": "stream",
     "text": [
      "Got stderr: 10월 27, 2025 9:52:09 오전 org.apache.pdfbox.pdmodel.font.PDCIDFontType2 findFontOrSubstitute\n",
      "WARNING: Using fallback font LiberationSans for CID-keyed TrueType font GulimChe\n",
      "10월 27, 2025 9:52:09 오전 org.apache.pdfbox.pdmodel.font.PDCIDFontType2 findFontOrSubstitute\n",
      "WARNING: Using fallback font LiberationSans for CID-keyed TrueType font Gulim,Bold\n",
      "10월 27, 2025 9:52:09 오전 org.apache.pdfbox.pdmodel.font.PDCIDFontType2 findFontOrSubstitute\n",
      "WARNING: Using fallback font LiberationSans for CID-keyed TrueType font Malgun Gothic,Bold\n",
      "10월 27, 2025 9:52:10 오전 org.apache.pdfbox.rendering.TTFGlyph2D getPathForGID\n",
      "WARNING: No glyph for code 13336 (CID 3418) in font GulimChe\n",
      "10월 27, 2025 9:52:10 오전 org.apache.pdfbox.rendering.TTFGlyph2D getPathForGID\n",
      "WARNING: No glyph for code 8036 (CID 1f64) in font Gulim,Bold\n",
      "10월 27, 2025 9:52:10 오전 org.apache.pdfbox.rendering.TTFGlyph2D getPathForGID\n",
      "WARNING: No glyph for code 751 (CID 02ef) in font Malgun Gothic,Bold\n",
      "10월 27, 2025 9:52:10 오전 org.apache.pdfbox.pdmodel.font.PDCIDFontType2 findFontOrSubstitute\n",
      "WARNING: Using fallback font LiberationSans for CID-keyed TrueType font GulimChe\n",
      "10월 27, 2025 9:52:10 오전 org.apache.pdfbox.pdmodel.font.PDCIDFontType2 findFontOrSubstitute\n",
      "WARNING: Using fallback font LiberationSans for CID-keyed TrueType font Gulim,Bold\n",
      "10월 27, 2025 9:52:10 오전 org.apache.pdfbox.pdmodel.font.PDCIDFontType2 findFontOrSubstitute\n",
      "WARNING: Using fallback font LiberationSans for CID-keyed TrueType font Malgun Gothic,Bold\n",
      "\n"
     ]
    },
    {
     "name": "stdout",
     "output_type": "stream",
     "text": [
      "2022 년 9 월 기온\n"
     ]
    },
    {
     "name": "stderr",
     "output_type": "stream",
     "text": [
      "Got stderr: 10월 27, 2025 9:52:10 오전 org.apache.pdfbox.pdmodel.font.PDCIDFontType2 findFontOrSubstitute\n",
      "WARNING: Using fallback font LiberationSans for CID-keyed TrueType font GulimChe\n",
      "10월 27, 2025 9:52:10 오전 org.apache.pdfbox.pdmodel.font.PDCIDFontType2 findFontOrSubstitute\n",
      "WARNING: Using fallback font LiberationSans for CID-keyed TrueType font Gulim,Bold\n",
      "10월 27, 2025 9:52:10 오전 org.apache.pdfbox.pdmodel.font.PDCIDFontType2 findFontOrSubstitute\n",
      "WARNING: Using fallback font LiberationSans for CID-keyed TrueType font Malgun Gothic,Bold\n",
      "\n"
     ]
    },
    {
     "name": "stdout",
     "output_type": "stream",
     "text": [
      "2022 년 9 월 풍속\n"
     ]
    },
    {
     "name": "stderr",
     "output_type": "stream",
     "text": [
      "Got stderr: 10월 27, 2025 9:52:11 오전 org.apache.pdfbox.pdmodel.font.PDCIDFontType2 findFontOrSubstitute\n",
      "WARNING: Using fallback font LiberationSans for CID-keyed TrueType font GulimChe\n",
      "10월 27, 2025 9:52:11 오전 org.apache.pdfbox.pdmodel.font.PDCIDFontType2 findFontOrSubstitute\n",
      "WARNING: Using fallback font LiberationSans for CID-keyed TrueType font Gulim,Bold\n",
      "10월 27, 2025 9:52:11 오전 org.apache.pdfbox.pdmodel.font.PDCIDFontType2 findFontOrSubstitute\n",
      "WARNING: Using fallback font LiberationSans for CID-keyed TrueType font Malgun Gothic,Bold\n",
      "\n"
     ]
    },
    {
     "name": "stdout",
     "output_type": "stream",
     "text": [
      "2022 년 10 월 수온\n"
     ]
    },
    {
     "name": "stderr",
     "output_type": "stream",
     "text": [
      "Got stderr: 10월 27, 2025 9:52:11 오전 org.apache.pdfbox.pdmodel.font.PDCIDFontType2 findFontOrSubstitute\n",
      "WARNING: Using fallback font LiberationSans for CID-keyed TrueType font GulimChe\n",
      "10월 27, 2025 9:52:11 오전 org.apache.pdfbox.pdmodel.font.PDCIDFontType2 findFontOrSubstitute\n",
      "WARNING: Using fallback font LiberationSans for CID-keyed TrueType font Gulim,Bold\n",
      "10월 27, 2025 9:52:11 오전 org.apache.pdfbox.pdmodel.font.PDCIDFontType2 findFontOrSubstitute\n",
      "WARNING: Using fallback font LiberationSans for CID-keyed TrueType font Malgun Gothic,Bold\n",
      "10월 27, 2025 9:52:12 오전 org.apache.pdfbox.rendering.TTFGlyph2D getPathForGID\n",
      "WARNING: No glyph for code 13336 (CID 3418) in font GulimChe\n",
      "10월 27, 2025 9:52:12 오전 org.apache.pdfbox.rendering.TTFGlyph2D getPathForGID\n",
      "WARNING: No glyph for code 8036 (CID 1f64) in font Gulim,Bold\n",
      "10월 27, 2025 9:52:12 오전 org.apache.pdfbox.rendering.TTFGlyph2D getPathForGID\n",
      "WARNING: No glyph for code 751 (CID 02ef) in font Malgun Gothic,Bold\n",
      "10월 27, 2025 9:52:12 오전 org.apache.pdfbox.pdmodel.font.PDCIDFontType2 findFontOrSubstitute\n",
      "WARNING: Using fallback font LiberationSans for CID-keyed TrueType font GulimChe\n",
      "10월 27, 2025 9:52:12 오전 org.apache.pdfbox.pdmodel.font.PDCIDFontType2 findFontOrSubstitute\n",
      "WARNING: Using fallback font LiberationSans for CID-keyed TrueType font Gulim,Bold\n",
      "10월 27, 2025 9:52:12 오전 org.apache.pdfbox.pdmodel.font.PDCIDFontType2 findFontOrSubstitute\n",
      "WARNING: Using fallback font LiberationSans for CID-keyed TrueType font Malgun Gothic,Bold\n",
      "\n"
     ]
    },
    {
     "name": "stdout",
     "output_type": "stream",
     "text": [
      "2022 년 10 월 기온\n"
     ]
    },
    {
     "name": "stderr",
     "output_type": "stream",
     "text": [
      "Got stderr: 10월 27, 2025 9:52:13 오전 org.apache.pdfbox.pdmodel.font.PDCIDFontType2 findFontOrSubstitute\n",
      "WARNING: Using fallback font LiberationSans for CID-keyed TrueType font GulimChe\n",
      "10월 27, 2025 9:52:13 오전 org.apache.pdfbox.pdmodel.font.PDCIDFontType2 findFontOrSubstitute\n",
      "WARNING: Using fallback font LiberationSans for CID-keyed TrueType font Gulim,Bold\n",
      "10월 27, 2025 9:52:13 오전 org.apache.pdfbox.pdmodel.font.PDCIDFontType2 findFontOrSubstitute\n",
      "WARNING: Using fallback font LiberationSans for CID-keyed TrueType font Malgun Gothic,Bold\n",
      "\n"
     ]
    },
    {
     "name": "stdout",
     "output_type": "stream",
     "text": [
      "2022 년 10 월 풍속\n"
     ]
    },
    {
     "name": "stderr",
     "output_type": "stream",
     "text": [
      "Got stderr: 10월 27, 2025 9:52:13 오전 org.apache.pdfbox.pdmodel.font.PDCIDFontType2 findFontOrSubstitute\n",
      "WARNING: Using fallback font LiberationSans for CID-keyed TrueType font GulimChe\n",
      "10월 27, 2025 9:52:13 오전 org.apache.pdfbox.pdmodel.font.PDCIDFontType2 findFontOrSubstitute\n",
      "WARNING: Using fallback font LiberationSans for CID-keyed TrueType font Gulim,Bold\n",
      "10월 27, 2025 9:52:13 오전 org.apache.pdfbox.pdmodel.font.PDCIDFontType2 findFontOrSubstitute\n",
      "WARNING: Using fallback font LiberationSans for CID-keyed TrueType font Malgun Gothic,Bold\n",
      "\n"
     ]
    },
    {
     "name": "stdout",
     "output_type": "stream",
     "text": [
      "2022 년 11 월 수온\n"
     ]
    },
    {
     "name": "stderr",
     "output_type": "stream",
     "text": [
      "Got stderr: 10월 27, 2025 9:52:14 오전 org.apache.pdfbox.pdmodel.font.PDCIDFontType2 findFontOrSubstitute\n",
      "WARNING: Using fallback font LiberationSans for CID-keyed TrueType font GulimChe\n",
      "10월 27, 2025 9:52:14 오전 org.apache.pdfbox.pdmodel.font.PDCIDFontType2 findFontOrSubstitute\n",
      "WARNING: Using fallback font LiberationSans for CID-keyed TrueType font Gulim,Bold\n",
      "10월 27, 2025 9:52:14 오전 org.apache.pdfbox.pdmodel.font.PDCIDFontType2 findFontOrSubstitute\n",
      "WARNING: Using fallback font LiberationSans for CID-keyed TrueType font Malgun Gothic,Bold\n",
      "10월 27, 2025 9:52:14 오전 org.apache.pdfbox.rendering.TTFGlyph2D getPathForGID\n",
      "WARNING: No glyph for code 13336 (CID 3418) in font GulimChe\n",
      "10월 27, 2025 9:52:14 오전 org.apache.pdfbox.rendering.TTFGlyph2D getPathForGID\n",
      "WARNING: No glyph for code 8036 (CID 1f64) in font Gulim,Bold\n",
      "10월 27, 2025 9:52:14 오전 org.apache.pdfbox.rendering.TTFGlyph2D getPathForGID\n",
      "WARNING: No glyph for code 751 (CID 02ef) in font Malgun Gothic,Bold\n",
      "10월 27, 2025 9:52:14 오전 org.apache.pdfbox.pdmodel.font.PDCIDFontType2 findFontOrSubstitute\n",
      "WARNING: Using fallback font LiberationSans for CID-keyed TrueType font GulimChe\n",
      "10월 27, 2025 9:52:14 오전 org.apache.pdfbox.pdmodel.font.PDCIDFontType2 findFontOrSubstitute\n",
      "WARNING: Using fallback font LiberationSans for CID-keyed TrueType font Gulim,Bold\n",
      "10월 27, 2025 9:52:14 오전 org.apache.pdfbox.pdmodel.font.PDCIDFontType2 findFontOrSubstitute\n",
      "WARNING: Using fallback font LiberationSans for CID-keyed TrueType font Malgun Gothic,Bold\n",
      "\n"
     ]
    },
    {
     "name": "stdout",
     "output_type": "stream",
     "text": [
      "2022 년 11 월 기온\n"
     ]
    },
    {
     "name": "stderr",
     "output_type": "stream",
     "text": [
      "Got stderr: 10월 27, 2025 9:52:15 오전 org.apache.pdfbox.pdmodel.font.PDCIDFontType2 findFontOrSubstitute\n",
      "WARNING: Using fallback font LiberationSans for CID-keyed TrueType font GulimChe\n",
      "10월 27, 2025 9:52:15 오전 org.apache.pdfbox.pdmodel.font.PDCIDFontType2 findFontOrSubstitute\n",
      "WARNING: Using fallback font LiberationSans for CID-keyed TrueType font Gulim,Bold\n",
      "10월 27, 2025 9:52:15 오전 org.apache.pdfbox.pdmodel.font.PDCIDFontType2 findFontOrSubstitute\n",
      "WARNING: Using fallback font LiberationSans for CID-keyed TrueType font Malgun Gothic,Bold\n",
      "\n"
     ]
    },
    {
     "name": "stdout",
     "output_type": "stream",
     "text": [
      "2022 년 11 월 풍속\n"
     ]
    },
    {
     "name": "stderr",
     "output_type": "stream",
     "text": [
      "Got stderr: 10월 27, 2025 9:52:15 오전 org.apache.pdfbox.pdmodel.font.PDCIDFontType2 findFontOrSubstitute\n",
      "WARNING: Using fallback font LiberationSans for CID-keyed TrueType font GulimChe\n",
      "10월 27, 2025 9:52:15 오전 org.apache.pdfbox.pdmodel.font.PDCIDFontType2 findFontOrSubstitute\n",
      "WARNING: Using fallback font LiberationSans for CID-keyed TrueType font Gulim,Bold\n",
      "10월 27, 2025 9:52:15 오전 org.apache.pdfbox.pdmodel.font.PDCIDFontType2 findFontOrSubstitute\n",
      "WARNING: Using fallback font LiberationSans for CID-keyed TrueType font Malgun Gothic,Bold\n",
      "\n"
     ]
    },
    {
     "name": "stdout",
     "output_type": "stream",
     "text": [
      "2022 년 12 월 수온\n"
     ]
    },
    {
     "name": "stderr",
     "output_type": "stream",
     "text": [
      "Got stderr: 10월 27, 2025 9:52:16 오전 org.apache.pdfbox.pdmodel.font.PDCIDFontType2 findFontOrSubstitute\n",
      "WARNING: Using fallback font LiberationSans for CID-keyed TrueType font GulimChe\n",
      "10월 27, 2025 9:52:16 오전 org.apache.pdfbox.pdmodel.font.PDCIDFontType2 findFontOrSubstitute\n",
      "WARNING: Using fallback font LiberationSans for CID-keyed TrueType font Gulim,Bold\n",
      "10월 27, 2025 9:52:16 오전 org.apache.pdfbox.pdmodel.font.PDCIDFontType2 findFontOrSubstitute\n",
      "WARNING: Using fallback font LiberationSans for CID-keyed TrueType font Malgun Gothic,Bold\n",
      "10월 27, 2025 9:52:16 오전 org.apache.pdfbox.rendering.TTFGlyph2D getPathForGID\n",
      "WARNING: No glyph for code 13336 (CID 3418) in font GulimChe\n",
      "10월 27, 2025 9:52:16 오전 org.apache.pdfbox.rendering.TTFGlyph2D getPathForGID\n",
      "WARNING: No glyph for code 8036 (CID 1f64) in font Gulim,Bold\n",
      "10월 27, 2025 9:52:16 오전 org.apache.pdfbox.rendering.TTFGlyph2D getPathForGID\n",
      "WARNING: No glyph for code 751 (CID 02ef) in font Malgun Gothic,Bold\n",
      "10월 27, 2025 9:52:16 오전 org.apache.pdfbox.pdmodel.font.PDCIDFontType2 findFontOrSubstitute\n",
      "WARNING: Using fallback font LiberationSans for CID-keyed TrueType font GulimChe\n",
      "10월 27, 2025 9:52:16 오전 org.apache.pdfbox.pdmodel.font.PDCIDFontType2 findFontOrSubstitute\n",
      "WARNING: Using fallback font LiberationSans for CID-keyed TrueType font Gulim,Bold\n",
      "10월 27, 2025 9:52:16 오전 org.apache.pdfbox.pdmodel.font.PDCIDFontType2 findFontOrSubstitute\n",
      "WARNING: Using fallback font LiberationSans for CID-keyed TrueType font Malgun Gothic,Bold\n",
      "\n"
     ]
    },
    {
     "name": "stdout",
     "output_type": "stream",
     "text": [
      "2022 년 12 월 기온\n"
     ]
    },
    {
     "name": "stderr",
     "output_type": "stream",
     "text": [
      "Got stderr: 10월 27, 2025 9:52:17 오전 org.apache.pdfbox.pdmodel.font.PDCIDFontType2 findFontOrSubstitute\n",
      "WARNING: Using fallback font LiberationSans for CID-keyed TrueType font GulimChe\n",
      "10월 27, 2025 9:52:17 오전 org.apache.pdfbox.pdmodel.font.PDCIDFontType2 findFontOrSubstitute\n",
      "WARNING: Using fallback font LiberationSans for CID-keyed TrueType font Gulim,Bold\n",
      "10월 27, 2025 9:52:17 오전 org.apache.pdfbox.pdmodel.font.PDCIDFontType2 findFontOrSubstitute\n",
      "WARNING: Using fallback font LiberationSans for CID-keyed TrueType font Malgun Gothic,Bold\n",
      "\n"
     ]
    },
    {
     "name": "stdout",
     "output_type": "stream",
     "text": [
      "2022 년 12 월 풍속\n"
     ]
    },
    {
     "name": "stderr",
     "output_type": "stream",
     "text": [
      "Got stderr: 10월 27, 2025 9:52:17 오전 org.apache.pdfbox.pdmodel.font.PDCIDFontType2 findFontOrSubstitute\n",
      "WARNING: Using fallback font LiberationSans for CID-keyed TrueType font GulimChe\n",
      "10월 27, 2025 9:52:17 오전 org.apache.pdfbox.pdmodel.font.PDCIDFontType2 findFontOrSubstitute\n",
      "WARNING: Using fallback font LiberationSans for CID-keyed TrueType font Gulim,Bold\n",
      "10월 27, 2025 9:52:17 오전 org.apache.pdfbox.pdmodel.font.PDCIDFontType2 findFontOrSubstitute\n",
      "WARNING: Using fallback font LiberationSans for CID-keyed TrueType font Malgun Gothic,Bold\n",
      "\n"
     ]
    },
    {
     "name": "stdout",
     "output_type": "stream",
     "text": [
      "2023 년 1 월 수온\n"
     ]
    },
    {
     "name": "stderr",
     "output_type": "stream",
     "text": [
      "Got stderr: 10월 27, 2025 9:52:18 오전 org.apache.pdfbox.pdmodel.font.PDCIDFontType2 findFontOrSubstitute\n",
      "WARNING: Using fallback font LiberationSans for CID-keyed TrueType font GulimChe\n",
      "10월 27, 2025 9:52:18 오전 org.apache.pdfbox.pdmodel.font.PDCIDFontType2 findFontOrSubstitute\n",
      "WARNING: Using fallback font LiberationSans for CID-keyed TrueType font Gulim,Bold\n",
      "10월 27, 2025 9:52:18 오전 org.apache.pdfbox.pdmodel.font.PDCIDFontType2 findFontOrSubstitute\n",
      "WARNING: Using fallback font LiberationSans for CID-keyed TrueType font Malgun Gothic,Bold\n",
      "10월 27, 2025 9:52:18 오전 org.apache.pdfbox.rendering.TTFGlyph2D getPathForGID\n",
      "WARNING: No glyph for code 13336 (CID 3418) in font GulimChe\n",
      "10월 27, 2025 9:52:18 오전 org.apache.pdfbox.rendering.TTFGlyph2D getPathForGID\n",
      "WARNING: No glyph for code 8036 (CID 1f64) in font Gulim,Bold\n",
      "10월 27, 2025 9:52:18 오전 org.apache.pdfbox.rendering.TTFGlyph2D getPathForGID\n",
      "WARNING: No glyph for code 751 (CID 02ef) in font Malgun Gothic,Bold\n",
      "10월 27, 2025 9:52:18 오전 org.apache.pdfbox.pdmodel.font.PDCIDFontType2 findFontOrSubstitute\n",
      "WARNING: Using fallback font LiberationSans for CID-keyed TrueType font GulimChe\n",
      "10월 27, 2025 9:52:18 오전 org.apache.pdfbox.pdmodel.font.PDCIDFontType2 findFontOrSubstitute\n",
      "WARNING: Using fallback font LiberationSans for CID-keyed TrueType font Gulim,Bold\n",
      "10월 27, 2025 9:52:18 오전 org.apache.pdfbox.pdmodel.font.PDCIDFontType2 findFontOrSubstitute\n",
      "WARNING: Using fallback font LiberationSans for CID-keyed TrueType font Malgun Gothic,Bold\n",
      "\n"
     ]
    },
    {
     "name": "stdout",
     "output_type": "stream",
     "text": [
      "2023 년 1 월 기온\n"
     ]
    },
    {
     "name": "stderr",
     "output_type": "stream",
     "text": [
      "Got stderr: 10월 27, 2025 9:52:19 오전 org.apache.pdfbox.pdmodel.font.PDCIDFontType2 findFontOrSubstitute\n",
      "WARNING: Using fallback font LiberationSans for CID-keyed TrueType font GulimChe\n",
      "10월 27, 2025 9:52:19 오전 org.apache.pdfbox.pdmodel.font.PDCIDFontType2 findFontOrSubstitute\n",
      "WARNING: Using fallback font LiberationSans for CID-keyed TrueType font Gulim,Bold\n",
      "10월 27, 2025 9:52:19 오전 org.apache.pdfbox.pdmodel.font.PDCIDFontType2 findFontOrSubstitute\n",
      "WARNING: Using fallback font LiberationSans for CID-keyed TrueType font Malgun Gothic,Bold\n",
      "\n"
     ]
    },
    {
     "name": "stdout",
     "output_type": "stream",
     "text": [
      "2023 년 1 월 풍속\n"
     ]
    },
    {
     "name": "stderr",
     "output_type": "stream",
     "text": [
      "Got stderr: 10월 27, 2025 9:52:19 오전 org.apache.pdfbox.pdmodel.font.PDCIDFontType2 findFontOrSubstitute\n",
      "WARNING: Using fallback font LiberationSans for CID-keyed TrueType font GulimChe\n",
      "10월 27, 2025 9:52:19 오전 org.apache.pdfbox.pdmodel.font.PDCIDFontType2 findFontOrSubstitute\n",
      "WARNING: Using fallback font LiberationSans for CID-keyed TrueType font Gulim,Bold\n",
      "10월 27, 2025 9:52:19 오전 org.apache.pdfbox.pdmodel.font.PDCIDFontType2 findFontOrSubstitute\n",
      "WARNING: Using fallback font LiberationSans for CID-keyed TrueType font Malgun Gothic,Bold\n",
      "\n"
     ]
    },
    {
     "name": "stdout",
     "output_type": "stream",
     "text": [
      "2023 년 2 월 수온\n"
     ]
    },
    {
     "name": "stderr",
     "output_type": "stream",
     "text": [
      "Got stderr: 10월 27, 2025 9:52:20 오전 org.apache.pdfbox.pdmodel.font.PDCIDFontType2 findFontOrSubstitute\n",
      "WARNING: Using fallback font LiberationSans for CID-keyed TrueType font GulimChe\n",
      "10월 27, 2025 9:52:20 오전 org.apache.pdfbox.pdmodel.font.PDCIDFontType2 findFontOrSubstitute\n",
      "WARNING: Using fallback font LiberationSans for CID-keyed TrueType font Gulim,Bold\n",
      "10월 27, 2025 9:52:20 오전 org.apache.pdfbox.pdmodel.font.PDCIDFontType2 findFontOrSubstitute\n",
      "WARNING: Using fallback font LiberationSans for CID-keyed TrueType font Malgun Gothic,Bold\n",
      "10월 27, 2025 9:52:20 오전 org.apache.pdfbox.rendering.TTFGlyph2D getPathForGID\n",
      "WARNING: No glyph for code 13336 (CID 3418) in font GulimChe\n",
      "10월 27, 2025 9:52:20 오전 org.apache.pdfbox.rendering.TTFGlyph2D getPathForGID\n",
      "WARNING: No glyph for code 8036 (CID 1f64) in font Gulim,Bold\n",
      "10월 27, 2025 9:52:20 오전 org.apache.pdfbox.rendering.TTFGlyph2D getPathForGID\n",
      "WARNING: No glyph for code 751 (CID 02ef) in font Malgun Gothic,Bold\n",
      "10월 27, 2025 9:52:20 오전 org.apache.pdfbox.pdmodel.font.PDCIDFontType2 findFontOrSubstitute\n",
      "WARNING: Using fallback font LiberationSans for CID-keyed TrueType font GulimChe\n",
      "10월 27, 2025 9:52:20 오전 org.apache.pdfbox.pdmodel.font.PDCIDFontType2 findFontOrSubstitute\n",
      "WARNING: Using fallback font LiberationSans for CID-keyed TrueType font Gulim,Bold\n",
      "10월 27, 2025 9:52:20 오전 org.apache.pdfbox.pdmodel.font.PDCIDFontType2 findFontOrSubstitute\n",
      "WARNING: Using fallback font LiberationSans for CID-keyed TrueType font Malgun Gothic,Bold\n",
      "\n"
     ]
    },
    {
     "name": "stdout",
     "output_type": "stream",
     "text": [
      "2023 년 2 월 기온\n"
     ]
    },
    {
     "name": "stderr",
     "output_type": "stream",
     "text": [
      "Got stderr: 10월 27, 2025 9:52:21 오전 org.apache.pdfbox.pdmodel.font.PDCIDFontType2 findFontOrSubstitute\n",
      "WARNING: Using fallback font LiberationSans for CID-keyed TrueType font GulimChe\n",
      "10월 27, 2025 9:52:21 오전 org.apache.pdfbox.pdmodel.font.PDCIDFontType2 findFontOrSubstitute\n",
      "WARNING: Using fallback font LiberationSans for CID-keyed TrueType font Gulim,Bold\n",
      "10월 27, 2025 9:52:21 오전 org.apache.pdfbox.pdmodel.font.PDCIDFontType2 findFontOrSubstitute\n",
      "WARNING: Using fallback font LiberationSans for CID-keyed TrueType font Malgun Gothic,Bold\n",
      "\n"
     ]
    },
    {
     "name": "stdout",
     "output_type": "stream",
     "text": [
      "2023 년 2 월 풍속\n"
     ]
    },
    {
     "name": "stderr",
     "output_type": "stream",
     "text": [
      "Got stderr: 10월 27, 2025 9:52:21 오전 org.apache.pdfbox.pdmodel.font.PDCIDFontType2 findFontOrSubstitute\n",
      "WARNING: Using fallback font LiberationSans for CID-keyed TrueType font GulimChe\n",
      "10월 27, 2025 9:52:21 오전 org.apache.pdfbox.pdmodel.font.PDCIDFontType2 findFontOrSubstitute\n",
      "WARNING: Using fallback font LiberationSans for CID-keyed TrueType font Gulim,Bold\n",
      "10월 27, 2025 9:52:21 오전 org.apache.pdfbox.pdmodel.font.PDCIDFontType2 findFontOrSubstitute\n",
      "WARNING: Using fallback font LiberationSans for CID-keyed TrueType font Malgun Gothic,Bold\n",
      "\n"
     ]
    },
    {
     "name": "stdout",
     "output_type": "stream",
     "text": [
      "2023 년 3 월 수온\n"
     ]
    },
    {
     "name": "stderr",
     "output_type": "stream",
     "text": [
      "Got stderr: 10월 27, 2025 9:52:22 오전 org.apache.pdfbox.pdmodel.font.PDCIDFontType2 findFontOrSubstitute\n",
      "WARNING: Using fallback font LiberationSans for CID-keyed TrueType font GulimChe\n",
      "10월 27, 2025 9:52:22 오전 org.apache.pdfbox.pdmodel.font.PDCIDFontType2 findFontOrSubstitute\n",
      "WARNING: Using fallback font LiberationSans for CID-keyed TrueType font Gulim,Bold\n",
      "10월 27, 2025 9:52:22 오전 org.apache.pdfbox.pdmodel.font.PDCIDFontType2 findFontOrSubstitute\n",
      "WARNING: Using fallback font LiberationSans for CID-keyed TrueType font Malgun Gothic,Bold\n",
      "10월 27, 2025 9:52:22 오전 org.apache.pdfbox.rendering.TTFGlyph2D getPathForGID\n",
      "WARNING: No glyph for code 13336 (CID 3418) in font GulimChe\n",
      "10월 27, 2025 9:52:22 오전 org.apache.pdfbox.rendering.TTFGlyph2D getPathForGID\n",
      "WARNING: No glyph for code 8036 (CID 1f64) in font Gulim,Bold\n",
      "10월 27, 2025 9:52:22 오전 org.apache.pdfbox.rendering.TTFGlyph2D getPathForGID\n",
      "WARNING: No glyph for code 751 (CID 02ef) in font Malgun Gothic,Bold\n",
      "10월 27, 2025 9:52:22 오전 org.apache.pdfbox.pdmodel.font.PDCIDFontType2 findFontOrSubstitute\n",
      "WARNING: Using fallback font LiberationSans for CID-keyed TrueType font GulimChe\n",
      "10월 27, 2025 9:52:22 오전 org.apache.pdfbox.pdmodel.font.PDCIDFontType2 findFontOrSubstitute\n",
      "WARNING: Using fallback font LiberationSans for CID-keyed TrueType font Gulim,Bold\n",
      "10월 27, 2025 9:52:22 오전 org.apache.pdfbox.pdmodel.font.PDCIDFontType2 findFontOrSubstitute\n",
      "WARNING: Using fallback font LiberationSans for CID-keyed TrueType font Malgun Gothic,Bold\n",
      "\n"
     ]
    },
    {
     "name": "stdout",
     "output_type": "stream",
     "text": [
      "2023 년 3 월 기온\n"
     ]
    },
    {
     "name": "stderr",
     "output_type": "stream",
     "text": [
      "Got stderr: 10월 27, 2025 9:52:23 오전 org.apache.pdfbox.pdmodel.font.PDCIDFontType2 findFontOrSubstitute\n",
      "WARNING: Using fallback font LiberationSans for CID-keyed TrueType font GulimChe\n",
      "10월 27, 2025 9:52:23 오전 org.apache.pdfbox.pdmodel.font.PDCIDFontType2 findFontOrSubstitute\n",
      "WARNING: Using fallback font LiberationSans for CID-keyed TrueType font Gulim,Bold\n",
      "10월 27, 2025 9:52:23 오전 org.apache.pdfbox.pdmodel.font.PDCIDFontType2 findFontOrSubstitute\n",
      "WARNING: Using fallback font LiberationSans for CID-keyed TrueType font Malgun Gothic,Bold\n",
      "\n"
     ]
    },
    {
     "name": "stdout",
     "output_type": "stream",
     "text": [
      "2023 년 3 월 풍속\n"
     ]
    },
    {
     "name": "stderr",
     "output_type": "stream",
     "text": [
      "Got stderr: 10월 27, 2025 9:52:23 오전 org.apache.pdfbox.pdmodel.font.PDCIDFontType2 findFontOrSubstitute\n",
      "WARNING: Using fallback font LiberationSans for CID-keyed TrueType font GulimChe\n",
      "10월 27, 2025 9:52:23 오전 org.apache.pdfbox.pdmodel.font.PDCIDFontType2 findFontOrSubstitute\n",
      "WARNING: Using fallback font LiberationSans for CID-keyed TrueType font Gulim,Bold\n",
      "10월 27, 2025 9:52:23 오전 org.apache.pdfbox.pdmodel.font.PDCIDFontType2 findFontOrSubstitute\n",
      "WARNING: Using fallback font LiberationSans for CID-keyed TrueType font Malgun Gothic,Bold\n",
      "\n"
     ]
    },
    {
     "name": "stdout",
     "output_type": "stream",
     "text": [
      "2023 년 4 월 수온\n"
     ]
    },
    {
     "name": "stderr",
     "output_type": "stream",
     "text": [
      "Got stderr: 10월 27, 2025 9:52:24 오전 org.apache.pdfbox.pdmodel.font.PDCIDFontType2 findFontOrSubstitute\n",
      "WARNING: Using fallback font LiberationSans for CID-keyed TrueType font GulimChe\n",
      "10월 27, 2025 9:52:24 오전 org.apache.pdfbox.pdmodel.font.PDCIDFontType2 findFontOrSubstitute\n",
      "WARNING: Using fallback font LiberationSans for CID-keyed TrueType font Gulim,Bold\n",
      "10월 27, 2025 9:52:24 오전 org.apache.pdfbox.pdmodel.font.PDCIDFontType2 findFontOrSubstitute\n",
      "WARNING: Using fallback font LiberationSans for CID-keyed TrueType font Malgun Gothic,Bold\n",
      "10월 27, 2025 9:52:24 오전 org.apache.pdfbox.rendering.TTFGlyph2D getPathForGID\n",
      "WARNING: No glyph for code 13336 (CID 3418) in font GulimChe\n",
      "10월 27, 2025 9:52:24 오전 org.apache.pdfbox.rendering.TTFGlyph2D getPathForGID\n",
      "WARNING: No glyph for code 8036 (CID 1f64) in font Gulim,Bold\n",
      "10월 27, 2025 9:52:24 오전 org.apache.pdfbox.rendering.TTFGlyph2D getPathForGID\n",
      "WARNING: No glyph for code 751 (CID 02ef) in font Malgun Gothic,Bold\n",
      "10월 27, 2025 9:52:24 오전 org.apache.pdfbox.pdmodel.font.PDCIDFontType2 findFontOrSubstitute\n",
      "WARNING: Using fallback font LiberationSans for CID-keyed TrueType font GulimChe\n",
      "10월 27, 2025 9:52:24 오전 org.apache.pdfbox.pdmodel.font.PDCIDFontType2 findFontOrSubstitute\n",
      "WARNING: Using fallback font LiberationSans for CID-keyed TrueType font Gulim,Bold\n",
      "10월 27, 2025 9:52:24 오전 org.apache.pdfbox.pdmodel.font.PDCIDFontType2 findFontOrSubstitute\n",
      "WARNING: Using fallback font LiberationSans for CID-keyed TrueType font Malgun Gothic,Bold\n",
      "\n"
     ]
    },
    {
     "name": "stdout",
     "output_type": "stream",
     "text": [
      "2023 년 4 월 기온\n"
     ]
    },
    {
     "name": "stderr",
     "output_type": "stream",
     "text": [
      "Got stderr: 10월 27, 2025 9:52:25 오전 org.apache.pdfbox.pdmodel.font.PDCIDFontType2 findFontOrSubstitute\n",
      "WARNING: Using fallback font LiberationSans for CID-keyed TrueType font GulimChe\n",
      "10월 27, 2025 9:52:25 오전 org.apache.pdfbox.pdmodel.font.PDCIDFontType2 findFontOrSubstitute\n",
      "WARNING: Using fallback font LiberationSans for CID-keyed TrueType font Gulim,Bold\n",
      "10월 27, 2025 9:52:25 오전 org.apache.pdfbox.pdmodel.font.PDCIDFontType2 findFontOrSubstitute\n",
      "WARNING: Using fallback font LiberationSans for CID-keyed TrueType font Malgun Gothic,Bold\n",
      "\n"
     ]
    },
    {
     "name": "stdout",
     "output_type": "stream",
     "text": [
      "2023 년 4 월 풍속\n"
     ]
    },
    {
     "name": "stderr",
     "output_type": "stream",
     "text": [
      "Got stderr: 10월 27, 2025 9:52:26 오전 org.apache.pdfbox.pdmodel.font.PDCIDFontType2 findFontOrSubstitute\n",
      "WARNING: Using fallback font LiberationSans for CID-keyed TrueType font GulimChe\n",
      "10월 27, 2025 9:52:26 오전 org.apache.pdfbox.pdmodel.font.PDCIDFontType2 findFontOrSubstitute\n",
      "WARNING: Using fallback font LiberationSans for CID-keyed TrueType font Gulim,Bold\n",
      "10월 27, 2025 9:52:26 오전 org.apache.pdfbox.pdmodel.font.PDCIDFontType2 findFontOrSubstitute\n",
      "WARNING: Using fallback font LiberationSans for CID-keyed TrueType font Malgun Gothic,Bold\n",
      "\n"
     ]
    },
    {
     "name": "stdout",
     "output_type": "stream",
     "text": [
      "2023 년 5 월 수온\n"
     ]
    },
    {
     "name": "stderr",
     "output_type": "stream",
     "text": [
      "Got stderr: 10월 27, 2025 9:52:26 오전 org.apache.pdfbox.pdmodel.font.PDCIDFontType2 findFontOrSubstitute\n",
      "WARNING: Using fallback font LiberationSans for CID-keyed TrueType font GulimChe\n",
      "10월 27, 2025 9:52:26 오전 org.apache.pdfbox.pdmodel.font.PDCIDFontType2 findFontOrSubstitute\n",
      "WARNING: Using fallback font LiberationSans for CID-keyed TrueType font Gulim,Bold\n",
      "10월 27, 2025 9:52:26 오전 org.apache.pdfbox.pdmodel.font.PDCIDFontType2 findFontOrSubstitute\n",
      "WARNING: Using fallback font LiberationSans for CID-keyed TrueType font Malgun Gothic,Bold\n",
      "10월 27, 2025 9:52:26 오전 org.apache.pdfbox.rendering.TTFGlyph2D getPathForGID\n",
      "WARNING: No glyph for code 13336 (CID 3418) in font GulimChe\n",
      "10월 27, 2025 9:52:26 오전 org.apache.pdfbox.rendering.TTFGlyph2D getPathForGID\n",
      "WARNING: No glyph for code 8036 (CID 1f64) in font Gulim,Bold\n",
      "10월 27, 2025 9:52:26 오전 org.apache.pdfbox.rendering.TTFGlyph2D getPathForGID\n",
      "WARNING: No glyph for code 751 (CID 02ef) in font Malgun Gothic,Bold\n",
      "10월 27, 2025 9:52:26 오전 org.apache.pdfbox.pdmodel.font.PDCIDFontType2 findFontOrSubstitute\n",
      "WARNING: Using fallback font LiberationSans for CID-keyed TrueType font GulimChe\n",
      "10월 27, 2025 9:52:26 오전 org.apache.pdfbox.pdmodel.font.PDCIDFontType2 findFontOrSubstitute\n",
      "WARNING: Using fallback font LiberationSans for CID-keyed TrueType font Gulim,Bold\n",
      "10월 27, 2025 9:52:26 오전 org.apache.pdfbox.pdmodel.font.PDCIDFontType2 findFontOrSubstitute\n",
      "WARNING: Using fallback font LiberationSans for CID-keyed TrueType font Malgun Gothic,Bold\n",
      "\n"
     ]
    },
    {
     "name": "stdout",
     "output_type": "stream",
     "text": [
      "2023 년 5 월 기온\n"
     ]
    },
    {
     "name": "stderr",
     "output_type": "stream",
     "text": [
      "Got stderr: 10월 27, 2025 9:52:27 오전 org.apache.pdfbox.pdmodel.font.PDCIDFontType2 findFontOrSubstitute\n",
      "WARNING: Using fallback font LiberationSans for CID-keyed TrueType font GulimChe\n",
      "10월 27, 2025 9:52:27 오전 org.apache.pdfbox.pdmodel.font.PDCIDFontType2 findFontOrSubstitute\n",
      "WARNING: Using fallback font LiberationSans for CID-keyed TrueType font Gulim,Bold\n",
      "10월 27, 2025 9:52:27 오전 org.apache.pdfbox.pdmodel.font.PDCIDFontType2 findFontOrSubstitute\n",
      "WARNING: Using fallback font LiberationSans for CID-keyed TrueType font Malgun Gothic,Bold\n",
      "\n"
     ]
    },
    {
     "name": "stdout",
     "output_type": "stream",
     "text": [
      "2023 년 5 월 풍속\n"
     ]
    },
    {
     "name": "stderr",
     "output_type": "stream",
     "text": [
      "Got stderr: 10월 27, 2025 9:52:28 오전 org.apache.pdfbox.pdmodel.font.PDCIDFontType2 findFontOrSubstitute\n",
      "WARNING: Using fallback font LiberationSans for CID-keyed TrueType font GulimChe\n",
      "10월 27, 2025 9:52:28 오전 org.apache.pdfbox.pdmodel.font.PDCIDFontType2 findFontOrSubstitute\n",
      "WARNING: Using fallback font LiberationSans for CID-keyed TrueType font Gulim,Bold\n",
      "10월 27, 2025 9:52:28 오전 org.apache.pdfbox.pdmodel.font.PDCIDFontType2 findFontOrSubstitute\n",
      "WARNING: Using fallback font LiberationSans for CID-keyed TrueType font Malgun Gothic,Bold\n",
      "\n"
     ]
    },
    {
     "name": "stdout",
     "output_type": "stream",
     "text": [
      "2023 년 6 월 수온\n"
     ]
    },
    {
     "name": "stderr",
     "output_type": "stream",
     "text": [
      "Got stderr: 10월 27, 2025 9:52:28 오전 org.apache.pdfbox.pdmodel.font.PDCIDFontType2 findFontOrSubstitute\n",
      "WARNING: Using fallback font LiberationSans for CID-keyed TrueType font GulimChe\n",
      "10월 27, 2025 9:52:28 오전 org.apache.pdfbox.pdmodel.font.PDCIDFontType2 findFontOrSubstitute\n",
      "WARNING: Using fallback font LiberationSans for CID-keyed TrueType font Gulim,Bold\n",
      "10월 27, 2025 9:52:28 오전 org.apache.pdfbox.pdmodel.font.PDCIDFontType2 findFontOrSubstitute\n",
      "WARNING: Using fallback font LiberationSans for CID-keyed TrueType font Malgun Gothic,Bold\n",
      "10월 27, 2025 9:52:28 오전 org.apache.pdfbox.rendering.TTFGlyph2D getPathForGID\n",
      "WARNING: No glyph for code 13336 (CID 3418) in font GulimChe\n",
      "10월 27, 2025 9:52:28 오전 org.apache.pdfbox.rendering.TTFGlyph2D getPathForGID\n",
      "WARNING: No glyph for code 8036 (CID 1f64) in font Gulim,Bold\n",
      "10월 27, 2025 9:52:28 오전 org.apache.pdfbox.rendering.TTFGlyph2D getPathForGID\n",
      "WARNING: No glyph for code 751 (CID 02ef) in font Malgun Gothic,Bold\n",
      "10월 27, 2025 9:52:29 오전 org.apache.pdfbox.pdmodel.font.PDCIDFontType2 findFontOrSubstitute\n",
      "WARNING: Using fallback font LiberationSans for CID-keyed TrueType font GulimChe\n",
      "10월 27, 2025 9:52:29 오전 org.apache.pdfbox.pdmodel.font.PDCIDFontType2 findFontOrSubstitute\n",
      "WARNING: Using fallback font LiberationSans for CID-keyed TrueType font Gulim,Bold\n",
      "10월 27, 2025 9:52:29 오전 org.apache.pdfbox.pdmodel.font.PDCIDFontType2 findFontOrSubstitute\n",
      "WARNING: Using fallback font LiberationSans for CID-keyed TrueType font Malgun Gothic,Bold\n",
      "\n"
     ]
    },
    {
     "name": "stdout",
     "output_type": "stream",
     "text": [
      "2023 년 6 월 기온\n"
     ]
    },
    {
     "name": "stderr",
     "output_type": "stream",
     "text": [
      "Got stderr: 10월 27, 2025 9:52:29 오전 org.apache.pdfbox.pdmodel.font.PDCIDFontType2 findFontOrSubstitute\n",
      "WARNING: Using fallback font LiberationSans for CID-keyed TrueType font GulimChe\n",
      "10월 27, 2025 9:52:29 오전 org.apache.pdfbox.pdmodel.font.PDCIDFontType2 findFontOrSubstitute\n",
      "WARNING: Using fallback font LiberationSans for CID-keyed TrueType font Gulim,Bold\n",
      "10월 27, 2025 9:52:29 오전 org.apache.pdfbox.pdmodel.font.PDCIDFontType2 findFontOrSubstitute\n",
      "WARNING: Using fallback font LiberationSans for CID-keyed TrueType font Malgun Gothic,Bold\n",
      "\n"
     ]
    },
    {
     "name": "stdout",
     "output_type": "stream",
     "text": [
      "2023 년 6 월 풍속\n"
     ]
    },
    {
     "name": "stderr",
     "output_type": "stream",
     "text": [
      "Got stderr: 10월 27, 2025 9:52:30 오전 org.apache.pdfbox.pdmodel.font.PDCIDFontType2 findFontOrSubstitute\n",
      "WARNING: Using fallback font LiberationSans for CID-keyed TrueType font GulimChe\n",
      "10월 27, 2025 9:52:30 오전 org.apache.pdfbox.pdmodel.font.PDCIDFontType2 findFontOrSubstitute\n",
      "WARNING: Using fallback font LiberationSans for CID-keyed TrueType font Gulim,Bold\n",
      "10월 27, 2025 9:52:30 오전 org.apache.pdfbox.pdmodel.font.PDCIDFontType2 findFontOrSubstitute\n",
      "WARNING: Using fallback font LiberationSans for CID-keyed TrueType font Malgun Gothic,Bold\n",
      "\n"
     ]
    },
    {
     "name": "stdout",
     "output_type": "stream",
     "text": [
      "2023 년 7 월 수온\n"
     ]
    },
    {
     "name": "stderr",
     "output_type": "stream",
     "text": [
      "Got stderr: 10월 27, 2025 9:52:30 오전 org.apache.pdfbox.pdmodel.font.PDCIDFontType2 findFontOrSubstitute\n",
      "WARNING: Using fallback font LiberationSans for CID-keyed TrueType font GulimChe\n",
      "10월 27, 2025 9:52:30 오전 org.apache.pdfbox.pdmodel.font.PDCIDFontType2 findFontOrSubstitute\n",
      "WARNING: Using fallback font LiberationSans for CID-keyed TrueType font Gulim,Bold\n",
      "10월 27, 2025 9:52:30 오전 org.apache.pdfbox.pdmodel.font.PDCIDFontType2 findFontOrSubstitute\n",
      "WARNING: Using fallback font LiberationSans for CID-keyed TrueType font Malgun Gothic,Bold\n",
      "10월 27, 2025 9:52:31 오전 org.apache.pdfbox.rendering.TTFGlyph2D getPathForGID\n",
      "WARNING: No glyph for code 13336 (CID 3418) in font GulimChe\n",
      "10월 27, 2025 9:52:31 오전 org.apache.pdfbox.rendering.TTFGlyph2D getPathForGID\n",
      "WARNING: No glyph for code 8036 (CID 1f64) in font Gulim,Bold\n",
      "10월 27, 2025 9:52:31 오전 org.apache.pdfbox.rendering.TTFGlyph2D getPathForGID\n",
      "WARNING: No glyph for code 751 (CID 02ef) in font Malgun Gothic,Bold\n",
      "10월 27, 2025 9:52:31 오전 org.apache.pdfbox.pdmodel.font.PDCIDFontType2 findFontOrSubstitute\n",
      "WARNING: Using fallback font LiberationSans for CID-keyed TrueType font GulimChe\n",
      "10월 27, 2025 9:52:31 오전 org.apache.pdfbox.pdmodel.font.PDCIDFontType2 findFontOrSubstitute\n",
      "WARNING: Using fallback font LiberationSans for CID-keyed TrueType font Gulim,Bold\n",
      "10월 27, 2025 9:52:31 오전 org.apache.pdfbox.pdmodel.font.PDCIDFontType2 findFontOrSubstitute\n",
      "WARNING: Using fallback font LiberationSans for CID-keyed TrueType font Malgun Gothic,Bold\n",
      "\n"
     ]
    },
    {
     "name": "stdout",
     "output_type": "stream",
     "text": [
      "2023 년 7 월 기온\n"
     ]
    },
    {
     "name": "stderr",
     "output_type": "stream",
     "text": [
      "Got stderr: 10월 27, 2025 9:52:32 오전 org.apache.pdfbox.pdmodel.font.PDCIDFontType2 findFontOrSubstitute\n",
      "WARNING: Using fallback font LiberationSans for CID-keyed TrueType font GulimChe\n",
      "10월 27, 2025 9:52:32 오전 org.apache.pdfbox.pdmodel.font.PDCIDFontType2 findFontOrSubstitute\n",
      "WARNING: Using fallback font LiberationSans for CID-keyed TrueType font Gulim,Bold\n",
      "10월 27, 2025 9:52:32 오전 org.apache.pdfbox.pdmodel.font.PDCIDFontType2 findFontOrSubstitute\n",
      "WARNING: Using fallback font LiberationSans for CID-keyed TrueType font Malgun Gothic,Bold\n",
      "\n"
     ]
    },
    {
     "name": "stdout",
     "output_type": "stream",
     "text": [
      "2023 년 7 월 풍속\n"
     ]
    },
    {
     "name": "stderr",
     "output_type": "stream",
     "text": [
      "Got stderr: 10월 27, 2025 9:52:32 오전 org.apache.pdfbox.pdmodel.font.PDCIDFontType2 findFontOrSubstitute\n",
      "WARNING: Using fallback font LiberationSans for CID-keyed TrueType font GulimChe\n",
      "10월 27, 2025 9:52:32 오전 org.apache.pdfbox.pdmodel.font.PDCIDFontType2 findFontOrSubstitute\n",
      "WARNING: Using fallback font LiberationSans for CID-keyed TrueType font Gulim,Bold\n",
      "10월 27, 2025 9:52:32 오전 org.apache.pdfbox.pdmodel.font.PDCIDFontType2 findFontOrSubstitute\n",
      "WARNING: Using fallback font LiberationSans for CID-keyed TrueType font Malgun Gothic,Bold\n",
      "\n"
     ]
    },
    {
     "name": "stdout",
     "output_type": "stream",
     "text": [
      "2023 년 8 월 수온\n"
     ]
    },
    {
     "name": "stderr",
     "output_type": "stream",
     "text": [
      "Got stderr: 10월 27, 2025 9:52:33 오전 org.apache.pdfbox.pdmodel.font.PDCIDFontType2 findFontOrSubstitute\n",
      "WARNING: Using fallback font LiberationSans for CID-keyed TrueType font GulimChe\n",
      "10월 27, 2025 9:52:33 오전 org.apache.pdfbox.pdmodel.font.PDCIDFontType2 findFontOrSubstitute\n",
      "WARNING: Using fallback font LiberationSans for CID-keyed TrueType font Gulim,Bold\n",
      "10월 27, 2025 9:52:33 오전 org.apache.pdfbox.pdmodel.font.PDCIDFontType2 findFontOrSubstitute\n",
      "WARNING: Using fallback font LiberationSans for CID-keyed TrueType font Malgun Gothic,Bold\n",
      "10월 27, 2025 9:52:33 오전 org.apache.pdfbox.rendering.TTFGlyph2D getPathForGID\n",
      "WARNING: No glyph for code 13336 (CID 3418) in font GulimChe\n",
      "10월 27, 2025 9:52:33 오전 org.apache.pdfbox.rendering.TTFGlyph2D getPathForGID\n",
      "WARNING: No glyph for code 8036 (CID 1f64) in font Gulim,Bold\n",
      "10월 27, 2025 9:52:33 오전 org.apache.pdfbox.rendering.TTFGlyph2D getPathForGID\n",
      "WARNING: No glyph for code 751 (CID 02ef) in font Malgun Gothic,Bold\n",
      "10월 27, 2025 9:52:33 오전 org.apache.pdfbox.pdmodel.font.PDCIDFontType2 findFontOrSubstitute\n",
      "WARNING: Using fallback font LiberationSans for CID-keyed TrueType font GulimChe\n",
      "10월 27, 2025 9:52:33 오전 org.apache.pdfbox.pdmodel.font.PDCIDFontType2 findFontOrSubstitute\n",
      "WARNING: Using fallback font LiberationSans for CID-keyed TrueType font Gulim,Bold\n",
      "10월 27, 2025 9:52:33 오전 org.apache.pdfbox.pdmodel.font.PDCIDFontType2 findFontOrSubstitute\n",
      "WARNING: Using fallback font LiberationSans for CID-keyed TrueType font Malgun Gothic,Bold\n",
      "\n"
     ]
    },
    {
     "name": "stdout",
     "output_type": "stream",
     "text": [
      "2023 년 8 월 기온\n"
     ]
    },
    {
     "name": "stderr",
     "output_type": "stream",
     "text": [
      "Got stderr: 10월 27, 2025 9:52:34 오전 org.apache.pdfbox.pdmodel.font.PDCIDFontType2 findFontOrSubstitute\n",
      "WARNING: Using fallback font LiberationSans for CID-keyed TrueType font GulimChe\n",
      "10월 27, 2025 9:52:34 오전 org.apache.pdfbox.pdmodel.font.PDCIDFontType2 findFontOrSubstitute\n",
      "WARNING: Using fallback font LiberationSans for CID-keyed TrueType font Gulim,Bold\n",
      "10월 27, 2025 9:52:34 오전 org.apache.pdfbox.pdmodel.font.PDCIDFontType2 findFontOrSubstitute\n",
      "WARNING: Using fallback font LiberationSans for CID-keyed TrueType font Malgun Gothic,Bold\n",
      "\n"
     ]
    },
    {
     "name": "stdout",
     "output_type": "stream",
     "text": [
      "2023 년 8 월 풍속\n"
     ]
    },
    {
     "name": "stderr",
     "output_type": "stream",
     "text": [
      "Got stderr: 10월 27, 2025 9:52:34 오전 org.apache.pdfbox.pdmodel.font.PDCIDFontType2 findFontOrSubstitute\n",
      "WARNING: Using fallback font LiberationSans for CID-keyed TrueType font GulimChe\n",
      "10월 27, 2025 9:52:34 오전 org.apache.pdfbox.pdmodel.font.PDCIDFontType2 findFontOrSubstitute\n",
      "WARNING: Using fallback font LiberationSans for CID-keyed TrueType font Gulim,Bold\n",
      "10월 27, 2025 9:52:34 오전 org.apache.pdfbox.pdmodel.font.PDCIDFontType2 findFontOrSubstitute\n",
      "WARNING: Using fallback font LiberationSans for CID-keyed TrueType font Malgun Gothic,Bold\n",
      "\n"
     ]
    },
    {
     "name": "stdout",
     "output_type": "stream",
     "text": [
      "2023 년 9 월 수온\n"
     ]
    },
    {
     "name": "stderr",
     "output_type": "stream",
     "text": [
      "Got stderr: 10월 27, 2025 9:52:35 오전 org.apache.pdfbox.pdmodel.font.PDCIDFontType2 findFontOrSubstitute\n",
      "WARNING: Using fallback font LiberationSans for CID-keyed TrueType font GulimChe\n",
      "10월 27, 2025 9:52:35 오전 org.apache.pdfbox.pdmodel.font.PDCIDFontType2 findFontOrSubstitute\n",
      "WARNING: Using fallback font LiberationSans for CID-keyed TrueType font Gulim,Bold\n",
      "10월 27, 2025 9:52:35 오전 org.apache.pdfbox.pdmodel.font.PDCIDFontType2 findFontOrSubstitute\n",
      "WARNING: Using fallback font LiberationSans for CID-keyed TrueType font Malgun Gothic,Bold\n",
      "10월 27, 2025 9:52:35 오전 org.apache.pdfbox.rendering.TTFGlyph2D getPathForGID\n",
      "WARNING: No glyph for code 13336 (CID 3418) in font GulimChe\n",
      "10월 27, 2025 9:52:35 오전 org.apache.pdfbox.rendering.TTFGlyph2D getPathForGID\n",
      "WARNING: No glyph for code 8036 (CID 1f64) in font Gulim,Bold\n",
      "10월 27, 2025 9:52:35 오전 org.apache.pdfbox.rendering.TTFGlyph2D getPathForGID\n",
      "WARNING: No glyph for code 751 (CID 02ef) in font Malgun Gothic,Bold\n",
      "10월 27, 2025 9:52:35 오전 org.apache.pdfbox.pdmodel.font.PDCIDFontType2 findFontOrSubstitute\n",
      "WARNING: Using fallback font LiberationSans for CID-keyed TrueType font GulimChe\n",
      "10월 27, 2025 9:52:35 오전 org.apache.pdfbox.pdmodel.font.PDCIDFontType2 findFontOrSubstitute\n",
      "WARNING: Using fallback font LiberationSans for CID-keyed TrueType font Gulim,Bold\n",
      "10월 27, 2025 9:52:35 오전 org.apache.pdfbox.pdmodel.font.PDCIDFontType2 findFontOrSubstitute\n",
      "WARNING: Using fallback font LiberationSans for CID-keyed TrueType font Malgun Gothic,Bold\n",
      "\n"
     ]
    },
    {
     "name": "stdout",
     "output_type": "stream",
     "text": [
      "2023 년 9 월 기온\n"
     ]
    },
    {
     "name": "stderr",
     "output_type": "stream",
     "text": [
      "Got stderr: 10월 27, 2025 9:52:36 오전 org.apache.pdfbox.pdmodel.font.PDCIDFontType2 findFontOrSubstitute\n",
      "WARNING: Using fallback font LiberationSans for CID-keyed TrueType font GulimChe\n",
      "10월 27, 2025 9:52:36 오전 org.apache.pdfbox.pdmodel.font.PDCIDFontType2 findFontOrSubstitute\n",
      "WARNING: Using fallback font LiberationSans for CID-keyed TrueType font Gulim,Bold\n",
      "10월 27, 2025 9:52:36 오전 org.apache.pdfbox.pdmodel.font.PDCIDFontType2 findFontOrSubstitute\n",
      "WARNING: Using fallback font LiberationSans for CID-keyed TrueType font Malgun Gothic,Bold\n",
      "\n"
     ]
    },
    {
     "name": "stdout",
     "output_type": "stream",
     "text": [
      "2023 년 9 월 풍속\n"
     ]
    },
    {
     "name": "stderr",
     "output_type": "stream",
     "text": [
      "Got stderr: 10월 27, 2025 9:52:36 오전 org.apache.pdfbox.pdmodel.font.PDCIDFontType2 findFontOrSubstitute\n",
      "WARNING: Using fallback font LiberationSans for CID-keyed TrueType font GulimChe\n",
      "10월 27, 2025 9:52:36 오전 org.apache.pdfbox.pdmodel.font.PDCIDFontType2 findFontOrSubstitute\n",
      "WARNING: Using fallback font LiberationSans for CID-keyed TrueType font Gulim,Bold\n",
      "10월 27, 2025 9:52:36 오전 org.apache.pdfbox.pdmodel.font.PDCIDFontType2 findFontOrSubstitute\n",
      "WARNING: Using fallback font LiberationSans for CID-keyed TrueType font Malgun Gothic,Bold\n",
      "\n"
     ]
    },
    {
     "name": "stdout",
     "output_type": "stream",
     "text": [
      "2023 년 10 월 수온\n"
     ]
    },
    {
     "name": "stderr",
     "output_type": "stream",
     "text": [
      "Got stderr: 10월 27, 2025 9:52:37 오전 org.apache.pdfbox.pdmodel.font.PDCIDFontType2 findFontOrSubstitute\n",
      "WARNING: Using fallback font LiberationSans for CID-keyed TrueType font GulimChe\n",
      "10월 27, 2025 9:52:37 오전 org.apache.pdfbox.pdmodel.font.PDCIDFontType2 findFontOrSubstitute\n",
      "WARNING: Using fallback font LiberationSans for CID-keyed TrueType font Gulim,Bold\n",
      "10월 27, 2025 9:52:37 오전 org.apache.pdfbox.pdmodel.font.PDCIDFontType2 findFontOrSubstitute\n",
      "WARNING: Using fallback font LiberationSans for CID-keyed TrueType font Malgun Gothic,Bold\n",
      "10월 27, 2025 9:52:37 오전 org.apache.pdfbox.rendering.TTFGlyph2D getPathForGID\n",
      "WARNING: No glyph for code 13336 (CID 3418) in font GulimChe\n",
      "10월 27, 2025 9:52:37 오전 org.apache.pdfbox.rendering.TTFGlyph2D getPathForGID\n",
      "WARNING: No glyph for code 8036 (CID 1f64) in font Gulim,Bold\n",
      "10월 27, 2025 9:52:37 오전 org.apache.pdfbox.rendering.TTFGlyph2D getPathForGID\n",
      "WARNING: No glyph for code 751 (CID 02ef) in font Malgun Gothic,Bold\n",
      "10월 27, 2025 9:52:37 오전 org.apache.pdfbox.pdmodel.font.PDCIDFontType2 findFontOrSubstitute\n",
      "WARNING: Using fallback font LiberationSans for CID-keyed TrueType font GulimChe\n",
      "10월 27, 2025 9:52:37 오전 org.apache.pdfbox.pdmodel.font.PDCIDFontType2 findFontOrSubstitute\n",
      "WARNING: Using fallback font LiberationSans for CID-keyed TrueType font Gulim,Bold\n",
      "10월 27, 2025 9:52:37 오전 org.apache.pdfbox.pdmodel.font.PDCIDFontType2 findFontOrSubstitute\n",
      "WARNING: Using fallback font LiberationSans for CID-keyed TrueType font Malgun Gothic,Bold\n",
      "\n"
     ]
    },
    {
     "name": "stdout",
     "output_type": "stream",
     "text": [
      "2023 년 10 월 기온\n"
     ]
    },
    {
     "name": "stderr",
     "output_type": "stream",
     "text": [
      "Got stderr: 10월 27, 2025 9:52:38 오전 org.apache.pdfbox.pdmodel.font.PDCIDFontType2 findFontOrSubstitute\n",
      "WARNING: Using fallback font LiberationSans for CID-keyed TrueType font GulimChe\n",
      "10월 27, 2025 9:52:38 오전 org.apache.pdfbox.pdmodel.font.PDCIDFontType2 findFontOrSubstitute\n",
      "WARNING: Using fallback font LiberationSans for CID-keyed TrueType font Gulim,Bold\n",
      "10월 27, 2025 9:52:38 오전 org.apache.pdfbox.pdmodel.font.PDCIDFontType2 findFontOrSubstitute\n",
      "WARNING: Using fallback font LiberationSans for CID-keyed TrueType font Malgun Gothic,Bold\n",
      "\n"
     ]
    },
    {
     "name": "stdout",
     "output_type": "stream",
     "text": [
      "2023 년 10 월 풍속\n"
     ]
    },
    {
     "name": "stderr",
     "output_type": "stream",
     "text": [
      "Got stderr: 10월 27, 2025 9:52:39 오전 org.apache.pdfbox.pdmodel.font.PDCIDFontType2 findFontOrSubstitute\n",
      "WARNING: Using fallback font LiberationSans for CID-keyed TrueType font GulimChe\n",
      "10월 27, 2025 9:52:39 오전 org.apache.pdfbox.pdmodel.font.PDCIDFontType2 findFontOrSubstitute\n",
      "WARNING: Using fallback font LiberationSans for CID-keyed TrueType font Gulim,Bold\n",
      "10월 27, 2025 9:52:39 오전 org.apache.pdfbox.pdmodel.font.PDCIDFontType2 findFontOrSubstitute\n",
      "WARNING: Using fallback font LiberationSans for CID-keyed TrueType font Malgun Gothic,Bold\n",
      "\n"
     ]
    },
    {
     "name": "stdout",
     "output_type": "stream",
     "text": [
      "2023 년 11 월 수온\n"
     ]
    },
    {
     "name": "stderr",
     "output_type": "stream",
     "text": [
      "Got stderr: 10월 27, 2025 9:52:39 오전 org.apache.pdfbox.pdmodel.font.PDCIDFontType2 findFontOrSubstitute\n",
      "WARNING: Using fallback font LiberationSans for CID-keyed TrueType font GulimChe\n",
      "10월 27, 2025 9:52:39 오전 org.apache.pdfbox.pdmodel.font.PDCIDFontType2 findFontOrSubstitute\n",
      "WARNING: Using fallback font LiberationSans for CID-keyed TrueType font Gulim,Bold\n",
      "10월 27, 2025 9:52:39 오전 org.apache.pdfbox.pdmodel.font.PDCIDFontType2 findFontOrSubstitute\n",
      "WARNING: Using fallback font LiberationSans for CID-keyed TrueType font Malgun Gothic,Bold\n",
      "10월 27, 2025 9:52:39 오전 org.apache.pdfbox.rendering.TTFGlyph2D getPathForGID\n",
      "WARNING: No glyph for code 13336 (CID 3418) in font GulimChe\n",
      "10월 27, 2025 9:52:39 오전 org.apache.pdfbox.rendering.TTFGlyph2D getPathForGID\n",
      "WARNING: No glyph for code 8036 (CID 1f64) in font Gulim,Bold\n",
      "10월 27, 2025 9:52:39 오전 org.apache.pdfbox.rendering.TTFGlyph2D getPathForGID\n",
      "WARNING: No glyph for code 751 (CID 02ef) in font Malgun Gothic,Bold\n",
      "10월 27, 2025 9:52:39 오전 org.apache.pdfbox.pdmodel.font.PDCIDFontType2 findFontOrSubstitute\n",
      "WARNING: Using fallback font LiberationSans for CID-keyed TrueType font GulimChe\n",
      "10월 27, 2025 9:52:39 오전 org.apache.pdfbox.pdmodel.font.PDCIDFontType2 findFontOrSubstitute\n",
      "WARNING: Using fallback font LiberationSans for CID-keyed TrueType font Gulim,Bold\n",
      "10월 27, 2025 9:52:39 오전 org.apache.pdfbox.pdmodel.font.PDCIDFontType2 findFontOrSubstitute\n",
      "WARNING: Using fallback font LiberationSans for CID-keyed TrueType font Malgun Gothic,Bold\n",
      "\n"
     ]
    },
    {
     "name": "stdout",
     "output_type": "stream",
     "text": [
      "2023 년 11 월 기온\n"
     ]
    },
    {
     "name": "stderr",
     "output_type": "stream",
     "text": [
      "Got stderr: 10월 27, 2025 9:52:40 오전 org.apache.pdfbox.pdmodel.font.PDCIDFontType2 findFontOrSubstitute\n",
      "WARNING: Using fallback font LiberationSans for CID-keyed TrueType font GulimChe\n",
      "10월 27, 2025 9:52:40 오전 org.apache.pdfbox.pdmodel.font.PDCIDFontType2 findFontOrSubstitute\n",
      "WARNING: Using fallback font LiberationSans for CID-keyed TrueType font Gulim,Bold\n",
      "10월 27, 2025 9:52:40 오전 org.apache.pdfbox.pdmodel.font.PDCIDFontType2 findFontOrSubstitute\n",
      "WARNING: Using fallback font LiberationSans for CID-keyed TrueType font Malgun Gothic,Bold\n",
      "\n"
     ]
    },
    {
     "name": "stdout",
     "output_type": "stream",
     "text": [
      "2023 년 11 월 풍속\n"
     ]
    },
    {
     "name": "stderr",
     "output_type": "stream",
     "text": [
      "Got stderr: 10월 27, 2025 9:52:41 오전 org.apache.pdfbox.pdmodel.font.PDCIDFontType2 findFontOrSubstitute\n",
      "WARNING: Using fallback font LiberationSans for CID-keyed TrueType font GulimChe\n",
      "10월 27, 2025 9:52:41 오전 org.apache.pdfbox.pdmodel.font.PDCIDFontType2 findFontOrSubstitute\n",
      "WARNING: Using fallback font LiberationSans for CID-keyed TrueType font Gulim,Bold\n",
      "10월 27, 2025 9:52:41 오전 org.apache.pdfbox.pdmodel.font.PDCIDFontType2 findFontOrSubstitute\n",
      "WARNING: Using fallback font LiberationSans for CID-keyed TrueType font Malgun Gothic,Bold\n",
      "\n"
     ]
    },
    {
     "name": "stdout",
     "output_type": "stream",
     "text": [
      "2023 년 12 월 수온\n"
     ]
    },
    {
     "name": "stderr",
     "output_type": "stream",
     "text": [
      "Got stderr: 10월 27, 2025 9:52:41 오전 org.apache.pdfbox.pdmodel.font.PDCIDFontType2 findFontOrSubstitute\n",
      "WARNING: Using fallback font LiberationSans for CID-keyed TrueType font GulimChe\n",
      "10월 27, 2025 9:52:41 오전 org.apache.pdfbox.pdmodel.font.PDCIDFontType2 findFontOrSubstitute\n",
      "WARNING: Using fallback font LiberationSans for CID-keyed TrueType font Gulim,Bold\n",
      "10월 27, 2025 9:52:41 오전 org.apache.pdfbox.pdmodel.font.PDCIDFontType2 findFontOrSubstitute\n",
      "WARNING: Using fallback font LiberationSans for CID-keyed TrueType font Malgun Gothic,Bold\n",
      "10월 27, 2025 9:52:41 오전 org.apache.pdfbox.rendering.TTFGlyph2D getPathForGID\n",
      "WARNING: No glyph for code 13336 (CID 3418) in font GulimChe\n",
      "10월 27, 2025 9:52:41 오전 org.apache.pdfbox.rendering.TTFGlyph2D getPathForGID\n",
      "WARNING: No glyph for code 8036 (CID 1f64) in font Gulim,Bold\n",
      "10월 27, 2025 9:52:41 오전 org.apache.pdfbox.rendering.TTFGlyph2D getPathForGID\n",
      "WARNING: No glyph for code 751 (CID 02ef) in font Malgun Gothic,Bold\n",
      "10월 27, 2025 9:52:42 오전 org.apache.pdfbox.pdmodel.font.PDCIDFontType2 findFontOrSubstitute\n",
      "WARNING: Using fallback font LiberationSans for CID-keyed TrueType font GulimChe\n",
      "10월 27, 2025 9:52:42 오전 org.apache.pdfbox.pdmodel.font.PDCIDFontType2 findFontOrSubstitute\n",
      "WARNING: Using fallback font LiberationSans for CID-keyed TrueType font Gulim,Bold\n",
      "10월 27, 2025 9:52:42 오전 org.apache.pdfbox.pdmodel.font.PDCIDFontType2 findFontOrSubstitute\n",
      "WARNING: Using fallback font LiberationSans for CID-keyed TrueType font Malgun Gothic,Bold\n",
      "\n"
     ]
    },
    {
     "name": "stdout",
     "output_type": "stream",
     "text": [
      "2023 년 12 월 기온\n"
     ]
    },
    {
     "name": "stderr",
     "output_type": "stream",
     "text": [
      "Got stderr: 10월 27, 2025 9:52:42 오전 org.apache.pdfbox.pdmodel.font.PDCIDFontType2 findFontOrSubstitute\n",
      "WARNING: Using fallback font LiberationSans for CID-keyed TrueType font GulimChe\n",
      "10월 27, 2025 9:52:42 오전 org.apache.pdfbox.pdmodel.font.PDCIDFontType2 findFontOrSubstitute\n",
      "WARNING: Using fallback font LiberationSans for CID-keyed TrueType font Gulim,Bold\n",
      "10월 27, 2025 9:52:42 오전 org.apache.pdfbox.pdmodel.font.PDCIDFontType2 findFontOrSubstitute\n",
      "WARNING: Using fallback font LiberationSans for CID-keyed TrueType font Malgun Gothic,Bold\n",
      "\n"
     ]
    },
    {
     "name": "stdout",
     "output_type": "stream",
     "text": [
      "2023 년 12 월 풍속\n"
     ]
    },
    {
     "name": "stderr",
     "output_type": "stream",
     "text": [
      "Got stderr: 10월 27, 2025 9:52:43 오전 org.apache.pdfbox.pdmodel.font.PDCIDFontType2 findFontOrSubstitute\n",
      "WARNING: Using fallback font LiberationSans for CID-keyed TrueType font GulimChe\n",
      "10월 27, 2025 9:52:43 오전 org.apache.pdfbox.pdmodel.font.PDCIDFontType2 findFontOrSubstitute\n",
      "WARNING: Using fallback font LiberationSans for CID-keyed TrueType font Gulim,Bold\n",
      "10월 27, 2025 9:52:43 오전 org.apache.pdfbox.pdmodel.font.PDCIDFontType2 findFontOrSubstitute\n",
      "WARNING: Using fallback font LiberationSans for CID-keyed TrueType font Malgun Gothic,Bold\n",
      "\n"
     ]
    },
    {
     "name": "stdout",
     "output_type": "stream",
     "text": [
      "2024 년 1 월 수온\n"
     ]
    },
    {
     "name": "stderr",
     "output_type": "stream",
     "text": [
      "Got stderr: 10월 27, 2025 9:52:43 오전 org.apache.pdfbox.pdmodel.font.PDCIDFontType2 findFontOrSubstitute\n",
      "WARNING: Using fallback font LiberationSans for CID-keyed TrueType font GulimChe\n",
      "10월 27, 2025 9:52:43 오전 org.apache.pdfbox.pdmodel.font.PDCIDFontType2 findFontOrSubstitute\n",
      "WARNING: Using fallback font LiberationSans for CID-keyed TrueType font Gulim,Bold\n",
      "10월 27, 2025 9:52:43 오전 org.apache.pdfbox.pdmodel.font.PDCIDFontType2 findFontOrSubstitute\n",
      "WARNING: Using fallback font LiberationSans for CID-keyed TrueType font Malgun Gothic,Bold\n",
      "10월 27, 2025 9:52:44 오전 org.apache.pdfbox.rendering.TTFGlyph2D getPathForGID\n",
      "WARNING: No glyph for code 13336 (CID 3418) in font GulimChe\n",
      "10월 27, 2025 9:52:44 오전 org.apache.pdfbox.rendering.TTFGlyph2D getPathForGID\n",
      "WARNING: No glyph for code 8036 (CID 1f64) in font Gulim,Bold\n",
      "10월 27, 2025 9:52:44 오전 org.apache.pdfbox.rendering.TTFGlyph2D getPathForGID\n",
      "WARNING: No glyph for code 751 (CID 02ef) in font Malgun Gothic,Bold\n",
      "10월 27, 2025 9:52:44 오전 org.apache.pdfbox.pdmodel.font.PDCIDFontType2 findFontOrSubstitute\n",
      "WARNING: Using fallback font LiberationSans for CID-keyed TrueType font GulimChe\n",
      "10월 27, 2025 9:52:44 오전 org.apache.pdfbox.pdmodel.font.PDCIDFontType2 findFontOrSubstitute\n",
      "WARNING: Using fallback font LiberationSans for CID-keyed TrueType font Gulim,Bold\n",
      "10월 27, 2025 9:52:44 오전 org.apache.pdfbox.pdmodel.font.PDCIDFontType2 findFontOrSubstitute\n",
      "WARNING: Using fallback font LiberationSans for CID-keyed TrueType font Malgun Gothic,Bold\n",
      "\n"
     ]
    },
    {
     "name": "stdout",
     "output_type": "stream",
     "text": [
      "2024 년 1 월 기온\n"
     ]
    },
    {
     "name": "stderr",
     "output_type": "stream",
     "text": [
      "Got stderr: 10월 27, 2025 9:52:45 오전 org.apache.pdfbox.pdmodel.font.PDCIDFontType2 findFontOrSubstitute\n",
      "WARNING: Using fallback font LiberationSans for CID-keyed TrueType font GulimChe\n",
      "10월 27, 2025 9:52:45 오전 org.apache.pdfbox.pdmodel.font.PDCIDFontType2 findFontOrSubstitute\n",
      "WARNING: Using fallback font LiberationSans for CID-keyed TrueType font Gulim,Bold\n",
      "10월 27, 2025 9:52:45 오전 org.apache.pdfbox.pdmodel.font.PDCIDFontType2 findFontOrSubstitute\n",
      "WARNING: Using fallback font LiberationSans for CID-keyed TrueType font Malgun Gothic,Bold\n",
      "\n"
     ]
    },
    {
     "name": "stdout",
     "output_type": "stream",
     "text": [
      "2024 년 1 월 풍속\n"
     ]
    },
    {
     "name": "stderr",
     "output_type": "stream",
     "text": [
      "Got stderr: 10월 27, 2025 9:52:45 오전 org.apache.pdfbox.pdmodel.font.PDCIDFontType2 findFontOrSubstitute\n",
      "WARNING: Using fallback font LiberationSans for CID-keyed TrueType font GulimChe\n",
      "10월 27, 2025 9:52:45 오전 org.apache.pdfbox.pdmodel.font.PDCIDFontType2 findFontOrSubstitute\n",
      "WARNING: Using fallback font LiberationSans for CID-keyed TrueType font Gulim,Bold\n",
      "10월 27, 2025 9:52:45 오전 org.apache.pdfbox.pdmodel.font.PDCIDFontType2 findFontOrSubstitute\n",
      "WARNING: Using fallback font LiberationSans for CID-keyed TrueType font Malgun Gothic,Bold\n",
      "\n"
     ]
    },
    {
     "name": "stdout",
     "output_type": "stream",
     "text": [
      "2024 년 2 월 수온\n"
     ]
    },
    {
     "name": "stderr",
     "output_type": "stream",
     "text": [
      "Got stderr: 10월 27, 2025 9:52:46 오전 org.apache.pdfbox.pdmodel.font.PDCIDFontType2 findFontOrSubstitute\n",
      "WARNING: Using fallback font LiberationSans for CID-keyed TrueType font GulimChe\n",
      "10월 27, 2025 9:52:46 오전 org.apache.pdfbox.pdmodel.font.PDCIDFontType2 findFontOrSubstitute\n",
      "WARNING: Using fallback font LiberationSans for CID-keyed TrueType font Gulim,Bold\n",
      "10월 27, 2025 9:52:46 오전 org.apache.pdfbox.pdmodel.font.PDCIDFontType2 findFontOrSubstitute\n",
      "WARNING: Using fallback font LiberationSans for CID-keyed TrueType font Malgun Gothic,Bold\n",
      "10월 27, 2025 9:52:46 오전 org.apache.pdfbox.rendering.TTFGlyph2D getPathForGID\n",
      "WARNING: No glyph for code 13336 (CID 3418) in font GulimChe\n",
      "10월 27, 2025 9:52:46 오전 org.apache.pdfbox.rendering.TTFGlyph2D getPathForGID\n",
      "WARNING: No glyph for code 8036 (CID 1f64) in font Gulim,Bold\n",
      "10월 27, 2025 9:52:46 오전 org.apache.pdfbox.rendering.TTFGlyph2D getPathForGID\n",
      "WARNING: No glyph for code 751 (CID 02ef) in font Malgun Gothic,Bold\n",
      "10월 27, 2025 9:52:46 오전 org.apache.pdfbox.pdmodel.font.PDCIDFontType2 findFontOrSubstitute\n",
      "WARNING: Using fallback font LiberationSans for CID-keyed TrueType font GulimChe\n",
      "10월 27, 2025 9:52:46 오전 org.apache.pdfbox.pdmodel.font.PDCIDFontType2 findFontOrSubstitute\n",
      "WARNING: Using fallback font LiberationSans for CID-keyed TrueType font Gulim,Bold\n",
      "10월 27, 2025 9:52:46 오전 org.apache.pdfbox.pdmodel.font.PDCIDFontType2 findFontOrSubstitute\n",
      "WARNING: Using fallback font LiberationSans for CID-keyed TrueType font Malgun Gothic,Bold\n",
      "\n"
     ]
    },
    {
     "name": "stdout",
     "output_type": "stream",
     "text": [
      "2024 년 2 월 기온\n"
     ]
    },
    {
     "name": "stderr",
     "output_type": "stream",
     "text": [
      "Got stderr: 10월 27, 2025 9:52:47 오전 org.apache.pdfbox.pdmodel.font.PDCIDFontType2 findFontOrSubstitute\n",
      "WARNING: Using fallback font LiberationSans for CID-keyed TrueType font GulimChe\n",
      "10월 27, 2025 9:52:47 오전 org.apache.pdfbox.pdmodel.font.PDCIDFontType2 findFontOrSubstitute\n",
      "WARNING: Using fallback font LiberationSans for CID-keyed TrueType font Gulim,Bold\n",
      "10월 27, 2025 9:52:47 오전 org.apache.pdfbox.pdmodel.font.PDCIDFontType2 findFontOrSubstitute\n",
      "WARNING: Using fallback font LiberationSans for CID-keyed TrueType font Malgun Gothic,Bold\n",
      "\n"
     ]
    },
    {
     "name": "stdout",
     "output_type": "stream",
     "text": [
      "2024 년 2 월 풍속\n"
     ]
    },
    {
     "name": "stderr",
     "output_type": "stream",
     "text": [
      "Got stderr: 10월 27, 2025 9:52:47 오전 org.apache.pdfbox.pdmodel.font.PDCIDFontType2 findFontOrSubstitute\n",
      "WARNING: Using fallback font LiberationSans for CID-keyed TrueType font GulimChe\n",
      "10월 27, 2025 9:52:47 오전 org.apache.pdfbox.pdmodel.font.PDCIDFontType2 findFontOrSubstitute\n",
      "WARNING: Using fallback font LiberationSans for CID-keyed TrueType font Gulim,Bold\n",
      "10월 27, 2025 9:52:47 오전 org.apache.pdfbox.pdmodel.font.PDCIDFontType2 findFontOrSubstitute\n",
      "WARNING: Using fallback font LiberationSans for CID-keyed TrueType font Malgun Gothic,Bold\n",
      "\n"
     ]
    },
    {
     "name": "stdout",
     "output_type": "stream",
     "text": [
      "2024 년 3 월 수온\n"
     ]
    },
    {
     "name": "stderr",
     "output_type": "stream",
     "text": [
      "Got stderr: 10월 27, 2025 9:52:48 오전 org.apache.pdfbox.pdmodel.font.PDCIDFontType2 findFontOrSubstitute\n",
      "WARNING: Using fallback font LiberationSans for CID-keyed TrueType font GulimChe\n",
      "10월 27, 2025 9:52:48 오전 org.apache.pdfbox.pdmodel.font.PDCIDFontType2 findFontOrSubstitute\n",
      "WARNING: Using fallback font LiberationSans for CID-keyed TrueType font Gulim,Bold\n",
      "10월 27, 2025 9:52:48 오전 org.apache.pdfbox.pdmodel.font.PDCIDFontType2 findFontOrSubstitute\n",
      "WARNING: Using fallback font LiberationSans for CID-keyed TrueType font Malgun Gothic,Bold\n",
      "10월 27, 2025 9:52:48 오전 org.apache.pdfbox.rendering.TTFGlyph2D getPathForGID\n",
      "WARNING: No glyph for code 13336 (CID 3418) in font GulimChe\n",
      "10월 27, 2025 9:52:48 오전 org.apache.pdfbox.rendering.TTFGlyph2D getPathForGID\n",
      "WARNING: No glyph for code 8036 (CID 1f64) in font Gulim,Bold\n",
      "10월 27, 2025 9:52:48 오전 org.apache.pdfbox.rendering.TTFGlyph2D getPathForGID\n",
      "WARNING: No glyph for code 751 (CID 02ef) in font Malgun Gothic,Bold\n",
      "10월 27, 2025 9:52:48 오전 org.apache.pdfbox.pdmodel.font.PDCIDFontType2 findFontOrSubstitute\n",
      "WARNING: Using fallback font LiberationSans for CID-keyed TrueType font GulimChe\n",
      "10월 27, 2025 9:52:48 오전 org.apache.pdfbox.pdmodel.font.PDCIDFontType2 findFontOrSubstitute\n",
      "WARNING: Using fallback font LiberationSans for CID-keyed TrueType font Gulim,Bold\n",
      "10월 27, 2025 9:52:48 오전 org.apache.pdfbox.pdmodel.font.PDCIDFontType2 findFontOrSubstitute\n",
      "WARNING: Using fallback font LiberationSans for CID-keyed TrueType font Malgun Gothic,Bold\n",
      "\n"
     ]
    },
    {
     "name": "stdout",
     "output_type": "stream",
     "text": [
      "2024 년 3 월 기온\n"
     ]
    },
    {
     "name": "stderr",
     "output_type": "stream",
     "text": [
      "Got stderr: 10월 27, 2025 9:52:49 오전 org.apache.pdfbox.pdmodel.font.PDCIDFontType2 findFontOrSubstitute\n",
      "WARNING: Using fallback font LiberationSans for CID-keyed TrueType font GulimChe\n",
      "10월 27, 2025 9:52:49 오전 org.apache.pdfbox.pdmodel.font.PDCIDFontType2 findFontOrSubstitute\n",
      "WARNING: Using fallback font LiberationSans for CID-keyed TrueType font Gulim,Bold\n",
      "10월 27, 2025 9:52:49 오전 org.apache.pdfbox.pdmodel.font.PDCIDFontType2 findFontOrSubstitute\n",
      "WARNING: Using fallback font LiberationSans for CID-keyed TrueType font Malgun Gothic,Bold\n",
      "\n"
     ]
    },
    {
     "name": "stdout",
     "output_type": "stream",
     "text": [
      "2024 년 3 월 풍속\n"
     ]
    },
    {
     "name": "stderr",
     "output_type": "stream",
     "text": [
      "Got stderr: 10월 27, 2025 9:52:50 오전 org.apache.pdfbox.pdmodel.font.PDCIDFontType2 findFontOrSubstitute\n",
      "WARNING: Using fallback font LiberationSans for CID-keyed TrueType font GulimChe\n",
      "10월 27, 2025 9:52:50 오전 org.apache.pdfbox.pdmodel.font.PDCIDFontType2 findFontOrSubstitute\n",
      "WARNING: Using fallback font LiberationSans for CID-keyed TrueType font Gulim,Bold\n",
      "10월 27, 2025 9:52:50 오전 org.apache.pdfbox.pdmodel.font.PDCIDFontType2 findFontOrSubstitute\n",
      "WARNING: Using fallback font LiberationSans for CID-keyed TrueType font Malgun Gothic,Bold\n",
      "\n"
     ]
    },
    {
     "name": "stdout",
     "output_type": "stream",
     "text": [
      "2024 년 4 월 수온\n"
     ]
    },
    {
     "name": "stderr",
     "output_type": "stream",
     "text": [
      "Got stderr: 10월 27, 2025 9:52:50 오전 org.apache.pdfbox.pdmodel.font.PDCIDFontType2 findFontOrSubstitute\n",
      "WARNING: Using fallback font LiberationSans for CID-keyed TrueType font GulimChe\n",
      "10월 27, 2025 9:52:50 오전 org.apache.pdfbox.pdmodel.font.PDCIDFontType2 findFontOrSubstitute\n",
      "WARNING: Using fallback font LiberationSans for CID-keyed TrueType font Gulim,Bold\n",
      "10월 27, 2025 9:52:50 오전 org.apache.pdfbox.pdmodel.font.PDCIDFontType2 findFontOrSubstitute\n",
      "WARNING: Using fallback font LiberationSans for CID-keyed TrueType font Malgun Gothic,Bold\n",
      "10월 27, 2025 9:52:50 오전 org.apache.pdfbox.rendering.TTFGlyph2D getPathForGID\n",
      "WARNING: No glyph for code 13336 (CID 3418) in font GulimChe\n",
      "10월 27, 2025 9:52:50 오전 org.apache.pdfbox.rendering.TTFGlyph2D getPathForGID\n",
      "WARNING: No glyph for code 8036 (CID 1f64) in font Gulim,Bold\n",
      "10월 27, 2025 9:52:50 오전 org.apache.pdfbox.rendering.TTFGlyph2D getPathForGID\n",
      "WARNING: No glyph for code 751 (CID 02ef) in font Malgun Gothic,Bold\n",
      "10월 27, 2025 9:52:51 오전 org.apache.pdfbox.pdmodel.font.PDCIDFontType2 findFontOrSubstitute\n",
      "WARNING: Using fallback font LiberationSans for CID-keyed TrueType font GulimChe\n",
      "10월 27, 2025 9:52:51 오전 org.apache.pdfbox.pdmodel.font.PDCIDFontType2 findFontOrSubstitute\n",
      "WARNING: Using fallback font LiberationSans for CID-keyed TrueType font Gulim,Bold\n",
      "10월 27, 2025 9:52:51 오전 org.apache.pdfbox.pdmodel.font.PDCIDFontType2 findFontOrSubstitute\n",
      "WARNING: Using fallback font LiberationSans for CID-keyed TrueType font Malgun Gothic,Bold\n",
      "\n"
     ]
    },
    {
     "name": "stdout",
     "output_type": "stream",
     "text": [
      "2024 년 4 월 기온\n"
     ]
    },
    {
     "name": "stderr",
     "output_type": "stream",
     "text": [
      "Got stderr: 10월 27, 2025 9:52:51 오전 org.apache.pdfbox.pdmodel.font.PDCIDFontType2 findFontOrSubstitute\n",
      "WARNING: Using fallback font LiberationSans for CID-keyed TrueType font GulimChe\n",
      "10월 27, 2025 9:52:51 오전 org.apache.pdfbox.pdmodel.font.PDCIDFontType2 findFontOrSubstitute\n",
      "WARNING: Using fallback font LiberationSans for CID-keyed TrueType font Gulim,Bold\n",
      "10월 27, 2025 9:52:51 오전 org.apache.pdfbox.pdmodel.font.PDCIDFontType2 findFontOrSubstitute\n",
      "WARNING: Using fallback font LiberationSans for CID-keyed TrueType font Malgun Gothic,Bold\n",
      "\n"
     ]
    },
    {
     "name": "stdout",
     "output_type": "stream",
     "text": [
      "2024 년 4 월 풍속\n"
     ]
    },
    {
     "name": "stderr",
     "output_type": "stream",
     "text": [
      "Got stderr: 10월 27, 2025 9:52:52 오전 org.apache.pdfbox.pdmodel.font.PDCIDFontType2 findFontOrSubstitute\n",
      "WARNING: Using fallback font LiberationSans for CID-keyed TrueType font GulimChe\n",
      "10월 27, 2025 9:52:52 오전 org.apache.pdfbox.pdmodel.font.PDCIDFontType2 findFontOrSubstitute\n",
      "WARNING: Using fallback font LiberationSans for CID-keyed TrueType font Gulim,Bold\n",
      "10월 27, 2025 9:52:52 오전 org.apache.pdfbox.pdmodel.font.PDCIDFontType2 findFontOrSubstitute\n",
      "WARNING: Using fallback font LiberationSans for CID-keyed TrueType font Malgun Gothic,Bold\n",
      "\n"
     ]
    },
    {
     "name": "stdout",
     "output_type": "stream",
     "text": [
      "2024 년 5 월 수온\n"
     ]
    },
    {
     "name": "stderr",
     "output_type": "stream",
     "text": [
      "Got stderr: 10월 27, 2025 9:52:52 오전 org.apache.pdfbox.pdmodel.font.PDCIDFontType2 findFontOrSubstitute\n",
      "WARNING: Using fallback font LiberationSans for CID-keyed TrueType font GulimChe\n",
      "10월 27, 2025 9:52:52 오전 org.apache.pdfbox.pdmodel.font.PDCIDFontType2 findFontOrSubstitute\n",
      "WARNING: Using fallback font LiberationSans for CID-keyed TrueType font Gulim,Bold\n",
      "10월 27, 2025 9:52:52 오전 org.apache.pdfbox.pdmodel.font.PDCIDFontType2 findFontOrSubstitute\n",
      "WARNING: Using fallback font LiberationSans for CID-keyed TrueType font Malgun Gothic,Bold\n",
      "10월 27, 2025 9:52:53 오전 org.apache.pdfbox.rendering.TTFGlyph2D getPathForGID\n",
      "WARNING: No glyph for code 13336 (CID 3418) in font GulimChe\n",
      "10월 27, 2025 9:52:53 오전 org.apache.pdfbox.rendering.TTFGlyph2D getPathForGID\n",
      "WARNING: No glyph for code 8036 (CID 1f64) in font Gulim,Bold\n",
      "10월 27, 2025 9:52:53 오전 org.apache.pdfbox.rendering.TTFGlyph2D getPathForGID\n",
      "WARNING: No glyph for code 751 (CID 02ef) in font Malgun Gothic,Bold\n",
      "10월 27, 2025 9:52:53 오전 org.apache.pdfbox.pdmodel.font.PDCIDFontType2 findFontOrSubstitute\n",
      "WARNING: Using fallback font LiberationSans for CID-keyed TrueType font GulimChe\n",
      "10월 27, 2025 9:52:53 오전 org.apache.pdfbox.pdmodel.font.PDCIDFontType2 findFontOrSubstitute\n",
      "WARNING: Using fallback font LiberationSans for CID-keyed TrueType font Gulim,Bold\n",
      "10월 27, 2025 9:52:53 오전 org.apache.pdfbox.pdmodel.font.PDCIDFontType2 findFontOrSubstitute\n",
      "WARNING: Using fallback font LiberationSans for CID-keyed TrueType font Malgun Gothic,Bold\n",
      "\n"
     ]
    },
    {
     "name": "stdout",
     "output_type": "stream",
     "text": [
      "2024 년 5 월 기온\n"
     ]
    },
    {
     "name": "stderr",
     "output_type": "stream",
     "text": [
      "Got stderr: 10월 27, 2025 9:52:53 오전 org.apache.pdfbox.pdmodel.font.PDCIDFontType2 findFontOrSubstitute\n",
      "WARNING: Using fallback font LiberationSans for CID-keyed TrueType font GulimChe\n",
      "10월 27, 2025 9:52:53 오전 org.apache.pdfbox.pdmodel.font.PDCIDFontType2 findFontOrSubstitute\n",
      "WARNING: Using fallback font LiberationSans for CID-keyed TrueType font Gulim,Bold\n",
      "10월 27, 2025 9:52:53 오전 org.apache.pdfbox.pdmodel.font.PDCIDFontType2 findFontOrSubstitute\n",
      "WARNING: Using fallback font LiberationSans for CID-keyed TrueType font Malgun Gothic,Bold\n",
      "\n"
     ]
    },
    {
     "name": "stdout",
     "output_type": "stream",
     "text": [
      "2024 년 5 월 풍속\n"
     ]
    },
    {
     "name": "stderr",
     "output_type": "stream",
     "text": [
      "Got stderr: 10월 27, 2025 9:52:54 오전 org.apache.pdfbox.pdmodel.font.PDCIDFontType2 findFontOrSubstitute\n",
      "WARNING: Using fallback font LiberationSans for CID-keyed TrueType font GulimChe\n",
      "10월 27, 2025 9:52:54 오전 org.apache.pdfbox.pdmodel.font.PDCIDFontType2 findFontOrSubstitute\n",
      "WARNING: Using fallback font LiberationSans for CID-keyed TrueType font Gulim,Bold\n",
      "10월 27, 2025 9:52:54 오전 org.apache.pdfbox.pdmodel.font.PDCIDFontType2 findFontOrSubstitute\n",
      "WARNING: Using fallback font LiberationSans for CID-keyed TrueType font Malgun Gothic,Bold\n",
      "\n"
     ]
    },
    {
     "name": "stdout",
     "output_type": "stream",
     "text": [
      "2024 년 6 월 수온\n"
     ]
    },
    {
     "name": "stderr",
     "output_type": "stream",
     "text": [
      "Got stderr: 10월 27, 2025 9:52:54 오전 org.apache.pdfbox.pdmodel.font.PDCIDFontType2 findFontOrSubstitute\n",
      "WARNING: Using fallback font LiberationSans for CID-keyed TrueType font GulimChe\n",
      "10월 27, 2025 9:52:54 오전 org.apache.pdfbox.pdmodel.font.PDCIDFontType2 findFontOrSubstitute\n",
      "WARNING: Using fallback font LiberationSans for CID-keyed TrueType font Gulim,Bold\n",
      "10월 27, 2025 9:52:54 오전 org.apache.pdfbox.pdmodel.font.PDCIDFontType2 findFontOrSubstitute\n",
      "WARNING: Using fallback font LiberationSans for CID-keyed TrueType font Malgun Gothic,Bold\n",
      "10월 27, 2025 9:52:55 오전 org.apache.pdfbox.rendering.TTFGlyph2D getPathForGID\n",
      "WARNING: No glyph for code 13336 (CID 3418) in font GulimChe\n",
      "10월 27, 2025 9:52:55 오전 org.apache.pdfbox.rendering.TTFGlyph2D getPathForGID\n",
      "WARNING: No glyph for code 8036 (CID 1f64) in font Gulim,Bold\n",
      "10월 27, 2025 9:52:55 오전 org.apache.pdfbox.rendering.TTFGlyph2D getPathForGID\n",
      "WARNING: No glyph for code 751 (CID 02ef) in font Malgun Gothic,Bold\n",
      "10월 27, 2025 9:52:55 오전 org.apache.pdfbox.pdmodel.font.PDCIDFontType2 findFontOrSubstitute\n",
      "WARNING: Using fallback font LiberationSans for CID-keyed TrueType font GulimChe\n",
      "10월 27, 2025 9:52:55 오전 org.apache.pdfbox.pdmodel.font.PDCIDFontType2 findFontOrSubstitute\n",
      "WARNING: Using fallback font LiberationSans for CID-keyed TrueType font Gulim,Bold\n",
      "10월 27, 2025 9:52:55 오전 org.apache.pdfbox.pdmodel.font.PDCIDFontType2 findFontOrSubstitute\n",
      "WARNING: Using fallback font LiberationSans for CID-keyed TrueType font Malgun Gothic,Bold\n",
      "\n"
     ]
    },
    {
     "name": "stdout",
     "output_type": "stream",
     "text": [
      "2024 년 6 월 기온\n"
     ]
    },
    {
     "name": "stderr",
     "output_type": "stream",
     "text": [
      "Got stderr: 10월 27, 2025 9:52:56 오전 org.apache.pdfbox.pdmodel.font.PDCIDFontType2 findFontOrSubstitute\n",
      "WARNING: Using fallback font LiberationSans for CID-keyed TrueType font GulimChe\n",
      "10월 27, 2025 9:52:56 오전 org.apache.pdfbox.pdmodel.font.PDCIDFontType2 findFontOrSubstitute\n",
      "WARNING: Using fallback font LiberationSans for CID-keyed TrueType font Gulim,Bold\n",
      "10월 27, 2025 9:52:56 오전 org.apache.pdfbox.pdmodel.font.PDCIDFontType2 findFontOrSubstitute\n",
      "WARNING: Using fallback font LiberationSans for CID-keyed TrueType font Malgun Gothic,Bold\n",
      "\n"
     ]
    },
    {
     "name": "stdout",
     "output_type": "stream",
     "text": [
      "2024 년 6 월 풍속\n"
     ]
    },
    {
     "name": "stderr",
     "output_type": "stream",
     "text": [
      "Got stderr: 10월 27, 2025 9:52:56 오전 org.apache.pdfbox.pdmodel.font.PDCIDFontType2 findFontOrSubstitute\n",
      "WARNING: Using fallback font LiberationSans for CID-keyed TrueType font GulimChe\n",
      "10월 27, 2025 9:52:56 오전 org.apache.pdfbox.pdmodel.font.PDCIDFontType2 findFontOrSubstitute\n",
      "WARNING: Using fallback font LiberationSans for CID-keyed TrueType font Gulim,Bold\n",
      "10월 27, 2025 9:52:56 오전 org.apache.pdfbox.pdmodel.font.PDCIDFontType2 findFontOrSubstitute\n",
      "WARNING: Using fallback font LiberationSans for CID-keyed TrueType font Malgun Gothic,Bold\n",
      "\n"
     ]
    },
    {
     "name": "stdout",
     "output_type": "stream",
     "text": [
      "2024 년 7 월 수온\n"
     ]
    },
    {
     "name": "stderr",
     "output_type": "stream",
     "text": [
      "Got stderr: 10월 27, 2025 9:52:57 오전 org.apache.pdfbox.pdmodel.font.PDCIDFontType2 findFontOrSubstitute\n",
      "WARNING: Using fallback font LiberationSans for CID-keyed TrueType font GulimChe\n",
      "10월 27, 2025 9:52:57 오전 org.apache.pdfbox.pdmodel.font.PDCIDFontType2 findFontOrSubstitute\n",
      "WARNING: Using fallback font LiberationSans for CID-keyed TrueType font Gulim,Bold\n",
      "10월 27, 2025 9:52:57 오전 org.apache.pdfbox.pdmodel.font.PDCIDFontType2 findFontOrSubstitute\n",
      "WARNING: Using fallback font LiberationSans for CID-keyed TrueType font Malgun Gothic,Bold\n",
      "10월 27, 2025 9:52:57 오전 org.apache.pdfbox.rendering.TTFGlyph2D getPathForGID\n",
      "WARNING: No glyph for code 13336 (CID 3418) in font GulimChe\n",
      "10월 27, 2025 9:52:57 오전 org.apache.pdfbox.rendering.TTFGlyph2D getPathForGID\n",
      "WARNING: No glyph for code 8036 (CID 1f64) in font Gulim,Bold\n",
      "10월 27, 2025 9:52:57 오전 org.apache.pdfbox.rendering.TTFGlyph2D getPathForGID\n",
      "WARNING: No glyph for code 751 (CID 02ef) in font Malgun Gothic,Bold\n",
      "10월 27, 2025 9:52:57 오전 org.apache.pdfbox.pdmodel.font.PDCIDFontType2 findFontOrSubstitute\n",
      "WARNING: Using fallback font LiberationSans for CID-keyed TrueType font GulimChe\n",
      "10월 27, 2025 9:52:57 오전 org.apache.pdfbox.pdmodel.font.PDCIDFontType2 findFontOrSubstitute\n",
      "WARNING: Using fallback font LiberationSans for CID-keyed TrueType font Gulim,Bold\n",
      "10월 27, 2025 9:52:57 오전 org.apache.pdfbox.pdmodel.font.PDCIDFontType2 findFontOrSubstitute\n",
      "WARNING: Using fallback font LiberationSans for CID-keyed TrueType font Malgun Gothic,Bold\n",
      "\n"
     ]
    },
    {
     "name": "stdout",
     "output_type": "stream",
     "text": [
      "2024 년 7 월 기온\n"
     ]
    },
    {
     "name": "stderr",
     "output_type": "stream",
     "text": [
      "Got stderr: 10월 27, 2025 9:52:58 오전 org.apache.pdfbox.pdmodel.font.PDCIDFontType2 findFontOrSubstitute\n",
      "WARNING: Using fallback font LiberationSans for CID-keyed TrueType font GulimChe\n",
      "10월 27, 2025 9:52:58 오전 org.apache.pdfbox.pdmodel.font.PDCIDFontType2 findFontOrSubstitute\n",
      "WARNING: Using fallback font LiberationSans for CID-keyed TrueType font Gulim,Bold\n",
      "10월 27, 2025 9:52:58 오전 org.apache.pdfbox.pdmodel.font.PDCIDFontType2 findFontOrSubstitute\n",
      "WARNING: Using fallback font LiberationSans for CID-keyed TrueType font Malgun Gothic,Bold\n",
      "\n"
     ]
    },
    {
     "name": "stdout",
     "output_type": "stream",
     "text": [
      "2024 년 7 월 풍속\n"
     ]
    },
    {
     "name": "stderr",
     "output_type": "stream",
     "text": [
      "Got stderr: 10월 27, 2025 9:52:58 오전 org.apache.pdfbox.pdmodel.font.PDCIDFontType2 findFontOrSubstitute\n",
      "WARNING: Using fallback font LiberationSans for CID-keyed TrueType font GulimChe\n",
      "10월 27, 2025 9:52:58 오전 org.apache.pdfbox.pdmodel.font.PDCIDFontType2 findFontOrSubstitute\n",
      "WARNING: Using fallback font LiberationSans for CID-keyed TrueType font Gulim,Bold\n",
      "10월 27, 2025 9:52:58 오전 org.apache.pdfbox.pdmodel.font.PDCIDFontType2 findFontOrSubstitute\n",
      "WARNING: Using fallback font LiberationSans for CID-keyed TrueType font Malgun Gothic,Bold\n",
      "\n"
     ]
    },
    {
     "name": "stdout",
     "output_type": "stream",
     "text": [
      "2024 년 8 월 수온\n"
     ]
    },
    {
     "name": "stderr",
     "output_type": "stream",
     "text": [
      "Got stderr: 10월 27, 2025 9:52:59 오전 org.apache.pdfbox.pdmodel.font.PDCIDFontType2 findFontOrSubstitute\n",
      "WARNING: Using fallback font LiberationSans for CID-keyed TrueType font GulimChe\n",
      "10월 27, 2025 9:52:59 오전 org.apache.pdfbox.pdmodel.font.PDCIDFontType2 findFontOrSubstitute\n",
      "WARNING: Using fallback font LiberationSans for CID-keyed TrueType font Gulim,Bold\n",
      "10월 27, 2025 9:52:59 오전 org.apache.pdfbox.pdmodel.font.PDCIDFontType2 findFontOrSubstitute\n",
      "WARNING: Using fallback font LiberationSans for CID-keyed TrueType font Malgun Gothic,Bold\n",
      "10월 27, 2025 9:52:59 오전 org.apache.pdfbox.rendering.TTFGlyph2D getPathForGID\n",
      "WARNING: No glyph for code 13336 (CID 3418) in font GulimChe\n",
      "10월 27, 2025 9:52:59 오전 org.apache.pdfbox.rendering.TTFGlyph2D getPathForGID\n",
      "WARNING: No glyph for code 8036 (CID 1f64) in font Gulim,Bold\n",
      "10월 27, 2025 9:52:59 오전 org.apache.pdfbox.rendering.TTFGlyph2D getPathForGID\n",
      "WARNING: No glyph for code 751 (CID 02ef) in font Malgun Gothic,Bold\n",
      "10월 27, 2025 9:52:59 오전 org.apache.pdfbox.pdmodel.font.PDCIDFontType2 findFontOrSubstitute\n",
      "WARNING: Using fallback font LiberationSans for CID-keyed TrueType font GulimChe\n",
      "10월 27, 2025 9:52:59 오전 org.apache.pdfbox.pdmodel.font.PDCIDFontType2 findFontOrSubstitute\n",
      "WARNING: Using fallback font LiberationSans for CID-keyed TrueType font Gulim,Bold\n",
      "10월 27, 2025 9:52:59 오전 org.apache.pdfbox.pdmodel.font.PDCIDFontType2 findFontOrSubstitute\n",
      "WARNING: Using fallback font LiberationSans for CID-keyed TrueType font Malgun Gothic,Bold\n",
      "\n"
     ]
    },
    {
     "name": "stdout",
     "output_type": "stream",
     "text": [
      "2024 년 8 월 기온\n"
     ]
    },
    {
     "name": "stderr",
     "output_type": "stream",
     "text": [
      "Got stderr: 10월 27, 2025 9:53:00 오전 org.apache.pdfbox.pdmodel.font.PDCIDFontType2 findFontOrSubstitute\n",
      "WARNING: Using fallback font LiberationSans for CID-keyed TrueType font GulimChe\n",
      "10월 27, 2025 9:53:00 오전 org.apache.pdfbox.pdmodel.font.PDCIDFontType2 findFontOrSubstitute\n",
      "WARNING: Using fallback font LiberationSans for CID-keyed TrueType font Gulim,Bold\n",
      "10월 27, 2025 9:53:00 오전 org.apache.pdfbox.pdmodel.font.PDCIDFontType2 findFontOrSubstitute\n",
      "WARNING: Using fallback font LiberationSans for CID-keyed TrueType font Malgun Gothic,Bold\n",
      "\n"
     ]
    },
    {
     "name": "stdout",
     "output_type": "stream",
     "text": [
      "2024 년 8 월 풍속\n"
     ]
    },
    {
     "name": "stderr",
     "output_type": "stream",
     "text": [
      "Got stderr: 10월 27, 2025 9:53:00 오전 org.apache.pdfbox.pdmodel.font.PDCIDFontType2 findFontOrSubstitute\n",
      "WARNING: Using fallback font LiberationSans for CID-keyed TrueType font GulimChe\n",
      "10월 27, 2025 9:53:00 오전 org.apache.pdfbox.pdmodel.font.PDCIDFontType2 findFontOrSubstitute\n",
      "WARNING: Using fallback font LiberationSans for CID-keyed TrueType font Gulim,Bold\n",
      "10월 27, 2025 9:53:00 오전 org.apache.pdfbox.pdmodel.font.PDCIDFontType2 findFontOrSubstitute\n",
      "WARNING: Using fallback font LiberationSans for CID-keyed TrueType font Malgun Gothic,Bold\n",
      "\n"
     ]
    },
    {
     "name": "stdout",
     "output_type": "stream",
     "text": [
      "2024 년 9 월 수온\n"
     ]
    },
    {
     "name": "stderr",
     "output_type": "stream",
     "text": [
      "Got stderr: 10월 27, 2025 9:53:01 오전 org.apache.pdfbox.pdmodel.font.PDCIDFontType2 findFontOrSubstitute\n",
      "WARNING: Using fallback font LiberationSans for CID-keyed TrueType font GulimChe\n",
      "10월 27, 2025 9:53:01 오전 org.apache.pdfbox.pdmodel.font.PDCIDFontType2 findFontOrSubstitute\n",
      "WARNING: Using fallback font LiberationSans for CID-keyed TrueType font Gulim,Bold\n",
      "10월 27, 2025 9:53:01 오전 org.apache.pdfbox.pdmodel.font.PDCIDFontType2 findFontOrSubstitute\n",
      "WARNING: Using fallback font LiberationSans for CID-keyed TrueType font Malgun Gothic,Bold\n",
      "10월 27, 2025 9:53:01 오전 org.apache.pdfbox.rendering.TTFGlyph2D getPathForGID\n",
      "WARNING: No glyph for code 13336 (CID 3418) in font GulimChe\n",
      "10월 27, 2025 9:53:01 오전 org.apache.pdfbox.rendering.TTFGlyph2D getPathForGID\n",
      "WARNING: No glyph for code 8036 (CID 1f64) in font Gulim,Bold\n",
      "10월 27, 2025 9:53:01 오전 org.apache.pdfbox.rendering.TTFGlyph2D getPathForGID\n",
      "WARNING: No glyph for code 751 (CID 02ef) in font Malgun Gothic,Bold\n",
      "10월 27, 2025 9:53:01 오전 org.apache.pdfbox.pdmodel.font.PDCIDFontType2 findFontOrSubstitute\n",
      "WARNING: Using fallback font LiberationSans for CID-keyed TrueType font GulimChe\n",
      "10월 27, 2025 9:53:01 오전 org.apache.pdfbox.pdmodel.font.PDCIDFontType2 findFontOrSubstitute\n",
      "WARNING: Using fallback font LiberationSans for CID-keyed TrueType font Gulim,Bold\n",
      "10월 27, 2025 9:53:01 오전 org.apache.pdfbox.pdmodel.font.PDCIDFontType2 findFontOrSubstitute\n",
      "WARNING: Using fallback font LiberationSans for CID-keyed TrueType font Malgun Gothic,Bold\n",
      "\n"
     ]
    },
    {
     "name": "stdout",
     "output_type": "stream",
     "text": [
      "2024 년 9 월 기온\n"
     ]
    },
    {
     "name": "stderr",
     "output_type": "stream",
     "text": [
      "Got stderr: 10월 27, 2025 9:53:02 오전 org.apache.pdfbox.pdmodel.font.PDCIDFontType2 findFontOrSubstitute\n",
      "WARNING: Using fallback font LiberationSans for CID-keyed TrueType font GulimChe\n",
      "10월 27, 2025 9:53:02 오전 org.apache.pdfbox.pdmodel.font.PDCIDFontType2 findFontOrSubstitute\n",
      "WARNING: Using fallback font LiberationSans for CID-keyed TrueType font Gulim,Bold\n",
      "10월 27, 2025 9:53:02 오전 org.apache.pdfbox.pdmodel.font.PDCIDFontType2 findFontOrSubstitute\n",
      "WARNING: Using fallback font LiberationSans for CID-keyed TrueType font Malgun Gothic,Bold\n",
      "\n"
     ]
    },
    {
     "name": "stdout",
     "output_type": "stream",
     "text": [
      "2024 년 9 월 풍속\n"
     ]
    },
    {
     "name": "stderr",
     "output_type": "stream",
     "text": [
      "Got stderr: 10월 27, 2025 9:53:03 오전 org.apache.pdfbox.pdmodel.font.PDCIDFontType2 findFontOrSubstitute\n",
      "WARNING: Using fallback font LiberationSans for CID-keyed TrueType font GulimChe\n",
      "10월 27, 2025 9:53:03 오전 org.apache.pdfbox.pdmodel.font.PDCIDFontType2 findFontOrSubstitute\n",
      "WARNING: Using fallback font LiberationSans for CID-keyed TrueType font Gulim,Bold\n",
      "10월 27, 2025 9:53:03 오전 org.apache.pdfbox.pdmodel.font.PDCIDFontType2 findFontOrSubstitute\n",
      "WARNING: Using fallback font LiberationSans for CID-keyed TrueType font Malgun Gothic,Bold\n",
      "\n"
     ]
    },
    {
     "name": "stdout",
     "output_type": "stream",
     "text": [
      "2024 년 10 월 수온\n"
     ]
    },
    {
     "name": "stderr",
     "output_type": "stream",
     "text": [
      "Got stderr: 10월 27, 2025 9:53:03 오전 org.apache.pdfbox.pdmodel.font.PDCIDFontType2 findFontOrSubstitute\n",
      "WARNING: Using fallback font LiberationSans for CID-keyed TrueType font GulimChe\n",
      "10월 27, 2025 9:53:03 오전 org.apache.pdfbox.pdmodel.font.PDCIDFontType2 findFontOrSubstitute\n",
      "WARNING: Using fallback font LiberationSans for CID-keyed TrueType font Gulim,Bold\n",
      "10월 27, 2025 9:53:03 오전 org.apache.pdfbox.pdmodel.font.PDCIDFontType2 findFontOrSubstitute\n",
      "WARNING: Using fallback font LiberationSans for CID-keyed TrueType font Malgun Gothic,Bold\n",
      "10월 27, 2025 9:53:03 오전 org.apache.pdfbox.rendering.TTFGlyph2D getPathForGID\n",
      "WARNING: No glyph for code 13336 (CID 3418) in font GulimChe\n",
      "10월 27, 2025 9:53:03 오전 org.apache.pdfbox.rendering.TTFGlyph2D getPathForGID\n",
      "WARNING: No glyph for code 8036 (CID 1f64) in font Gulim,Bold\n",
      "10월 27, 2025 9:53:03 오전 org.apache.pdfbox.rendering.TTFGlyph2D getPathForGID\n",
      "WARNING: No glyph for code 751 (CID 02ef) in font Malgun Gothic,Bold\n",
      "10월 27, 2025 9:53:04 오전 org.apache.pdfbox.pdmodel.font.PDCIDFontType2 findFontOrSubstitute\n",
      "WARNING: Using fallback font LiberationSans for CID-keyed TrueType font GulimChe\n",
      "10월 27, 2025 9:53:04 오전 org.apache.pdfbox.pdmodel.font.PDCIDFontType2 findFontOrSubstitute\n",
      "WARNING: Using fallback font LiberationSans for CID-keyed TrueType font Gulim,Bold\n",
      "10월 27, 2025 9:53:04 오전 org.apache.pdfbox.pdmodel.font.PDCIDFontType2 findFontOrSubstitute\n",
      "WARNING: Using fallback font LiberationSans for CID-keyed TrueType font Malgun Gothic,Bold\n",
      "\n"
     ]
    },
    {
     "name": "stdout",
     "output_type": "stream",
     "text": [
      "2024 년 10 월 기온\n"
     ]
    },
    {
     "name": "stderr",
     "output_type": "stream",
     "text": [
      "Got stderr: 10월 27, 2025 9:53:04 오전 org.apache.pdfbox.pdmodel.font.PDCIDFontType2 findFontOrSubstitute\n",
      "WARNING: Using fallback font LiberationSans for CID-keyed TrueType font GulimChe\n",
      "10월 27, 2025 9:53:04 오전 org.apache.pdfbox.pdmodel.font.PDCIDFontType2 findFontOrSubstitute\n",
      "WARNING: Using fallback font LiberationSans for CID-keyed TrueType font Gulim,Bold\n",
      "10월 27, 2025 9:53:04 오전 org.apache.pdfbox.pdmodel.font.PDCIDFontType2 findFontOrSubstitute\n",
      "WARNING: Using fallback font LiberationSans for CID-keyed TrueType font Malgun Gothic,Bold\n",
      "\n"
     ]
    },
    {
     "name": "stdout",
     "output_type": "stream",
     "text": [
      "2024 년 10 월 풍속\n"
     ]
    },
    {
     "name": "stderr",
     "output_type": "stream",
     "text": [
      "Got stderr: 10월 27, 2025 9:53:05 오전 org.apache.pdfbox.pdmodel.font.PDCIDFontType2 findFontOrSubstitute\n",
      "WARNING: Using fallback font LiberationSans for CID-keyed TrueType font GulimChe\n",
      "10월 27, 2025 9:53:05 오전 org.apache.pdfbox.pdmodel.font.PDCIDFontType2 findFontOrSubstitute\n",
      "WARNING: Using fallback font LiberationSans for CID-keyed TrueType font Gulim,Bold\n",
      "10월 27, 2025 9:53:05 오전 org.apache.pdfbox.pdmodel.font.PDCIDFontType2 findFontOrSubstitute\n",
      "WARNING: Using fallback font LiberationSans for CID-keyed TrueType font Malgun Gothic,Bold\n",
      "\n"
     ]
    },
    {
     "name": "stdout",
     "output_type": "stream",
     "text": [
      "2024 년 11 월 수온\n"
     ]
    },
    {
     "name": "stderr",
     "output_type": "stream",
     "text": [
      "Got stderr: 10월 27, 2025 9:53:05 오전 org.apache.pdfbox.pdmodel.font.PDCIDFontType2 findFontOrSubstitute\n",
      "WARNING: Using fallback font LiberationSans for CID-keyed TrueType font GulimChe\n",
      "10월 27, 2025 9:53:05 오전 org.apache.pdfbox.pdmodel.font.PDCIDFontType2 findFontOrSubstitute\n",
      "WARNING: Using fallback font LiberationSans for CID-keyed TrueType font Gulim,Bold\n",
      "10월 27, 2025 9:53:05 오전 org.apache.pdfbox.pdmodel.font.PDCIDFontType2 findFontOrSubstitute\n",
      "WARNING: Using fallback font LiberationSans for CID-keyed TrueType font Malgun Gothic,Bold\n",
      "10월 27, 2025 9:53:06 오전 org.apache.pdfbox.rendering.TTFGlyph2D getPathForGID\n",
      "WARNING: No glyph for code 13336 (CID 3418) in font GulimChe\n",
      "10월 27, 2025 9:53:06 오전 org.apache.pdfbox.rendering.TTFGlyph2D getPathForGID\n",
      "WARNING: No glyph for code 8036 (CID 1f64) in font Gulim,Bold\n",
      "10월 27, 2025 9:53:06 오전 org.apache.pdfbox.rendering.TTFGlyph2D getPathForGID\n",
      "WARNING: No glyph for code 751 (CID 02ef) in font Malgun Gothic,Bold\n",
      "10월 27, 2025 9:53:06 오전 org.apache.pdfbox.pdmodel.font.PDCIDFontType2 findFontOrSubstitute\n",
      "WARNING: Using fallback font LiberationSans for CID-keyed TrueType font GulimChe\n",
      "10월 27, 2025 9:53:06 오전 org.apache.pdfbox.pdmodel.font.PDCIDFontType2 findFontOrSubstitute\n",
      "WARNING: Using fallback font LiberationSans for CID-keyed TrueType font Gulim,Bold\n",
      "10월 27, 2025 9:53:06 오전 org.apache.pdfbox.pdmodel.font.PDCIDFontType2 findFontOrSubstitute\n",
      "WARNING: Using fallback font LiberationSans for CID-keyed TrueType font Malgun Gothic,Bold\n",
      "\n"
     ]
    },
    {
     "name": "stdout",
     "output_type": "stream",
     "text": [
      "2024 년 11 월 기온\n"
     ]
    },
    {
     "name": "stderr",
     "output_type": "stream",
     "text": [
      "Got stderr: 10월 27, 2025 9:53:07 오전 org.apache.pdfbox.pdmodel.font.PDCIDFontType2 findFontOrSubstitute\n",
      "WARNING: Using fallback font LiberationSans for CID-keyed TrueType font GulimChe\n",
      "10월 27, 2025 9:53:07 오전 org.apache.pdfbox.pdmodel.font.PDCIDFontType2 findFontOrSubstitute\n",
      "WARNING: Using fallback font LiberationSans for CID-keyed TrueType font Gulim,Bold\n",
      "10월 27, 2025 9:53:07 오전 org.apache.pdfbox.pdmodel.font.PDCIDFontType2 findFontOrSubstitute\n",
      "WARNING: Using fallback font LiberationSans for CID-keyed TrueType font Malgun Gothic,Bold\n",
      "\n"
     ]
    },
    {
     "name": "stdout",
     "output_type": "stream",
     "text": [
      "2024 년 11 월 풍속\n"
     ]
    },
    {
     "name": "stderr",
     "output_type": "stream",
     "text": [
      "Got stderr: 10월 27, 2025 9:53:07 오전 org.apache.pdfbox.pdmodel.font.PDCIDFontType2 findFontOrSubstitute\n",
      "WARNING: Using fallback font LiberationSans for CID-keyed TrueType font GulimChe\n",
      "10월 27, 2025 9:53:07 오전 org.apache.pdfbox.pdmodel.font.PDCIDFontType2 findFontOrSubstitute\n",
      "WARNING: Using fallback font LiberationSans for CID-keyed TrueType font Gulim,Bold\n",
      "10월 27, 2025 9:53:07 오전 org.apache.pdfbox.pdmodel.font.PDCIDFontType2 findFontOrSubstitute\n",
      "WARNING: Using fallback font LiberationSans for CID-keyed TrueType font Malgun Gothic,Bold\n",
      "\n"
     ]
    },
    {
     "name": "stdout",
     "output_type": "stream",
     "text": [
      "2024 년 12 월 수온\n"
     ]
    },
    {
     "name": "stderr",
     "output_type": "stream",
     "text": [
      "Got stderr: 10월 27, 2025 9:53:07 오전 org.apache.pdfbox.pdmodel.font.PDCIDFontType2 findFontOrSubstitute\n",
      "WARNING: Using fallback font LiberationSans for CID-keyed TrueType font GulimChe\n",
      "10월 27, 2025 9:53:08 오전 org.apache.pdfbox.pdmodel.font.PDCIDFontType2 findFontOrSubstitute\n",
      "WARNING: Using fallback font LiberationSans for CID-keyed TrueType font Gulim,Bold\n",
      "10월 27, 2025 9:53:08 오전 org.apache.pdfbox.pdmodel.font.PDCIDFontType2 findFontOrSubstitute\n",
      "WARNING: Using fallback font LiberationSans for CID-keyed TrueType font Malgun Gothic,Bold\n",
      "10월 27, 2025 9:53:08 오전 org.apache.pdfbox.rendering.TTFGlyph2D getPathForGID\n",
      "WARNING: No glyph for code 13336 (CID 3418) in font GulimChe\n",
      "10월 27, 2025 9:53:08 오전 org.apache.pdfbox.rendering.TTFGlyph2D getPathForGID\n",
      "WARNING: No glyph for code 8036 (CID 1f64) in font Gulim,Bold\n",
      "10월 27, 2025 9:53:08 오전 org.apache.pdfbox.rendering.TTFGlyph2D getPathForGID\n",
      "WARNING: No glyph for code 751 (CID 02ef) in font Malgun Gothic,Bold\n",
      "10월 27, 2025 9:53:08 오전 org.apache.pdfbox.pdmodel.font.PDCIDFontType2 findFontOrSubstitute\n",
      "WARNING: Using fallback font LiberationSans for CID-keyed TrueType font GulimChe\n",
      "10월 27, 2025 9:53:08 오전 org.apache.pdfbox.pdmodel.font.PDCIDFontType2 findFontOrSubstitute\n",
      "WARNING: Using fallback font LiberationSans for CID-keyed TrueType font Gulim,Bold\n",
      "10월 27, 2025 9:53:08 오전 org.apache.pdfbox.pdmodel.font.PDCIDFontType2 findFontOrSubstitute\n",
      "WARNING: Using fallback font LiberationSans for CID-keyed TrueType font Malgun Gothic,Bold\n",
      "\n"
     ]
    },
    {
     "name": "stdout",
     "output_type": "stream",
     "text": [
      "2024 년 12 월 기온\n"
     ]
    },
    {
     "name": "stderr",
     "output_type": "stream",
     "text": [
      "Got stderr: 10월 27, 2025 9:53:09 오전 org.apache.pdfbox.pdmodel.font.PDCIDFontType2 findFontOrSubstitute\n",
      "WARNING: Using fallback font LiberationSans for CID-keyed TrueType font GulimChe\n",
      "10월 27, 2025 9:53:09 오전 org.apache.pdfbox.pdmodel.font.PDCIDFontType2 findFontOrSubstitute\n",
      "WARNING: Using fallback font LiberationSans for CID-keyed TrueType font Gulim,Bold\n",
      "10월 27, 2025 9:53:09 오전 org.apache.pdfbox.pdmodel.font.PDCIDFontType2 findFontOrSubstitute\n",
      "WARNING: Using fallback font LiberationSans for CID-keyed TrueType font Malgun Gothic,Bold\n",
      "\n"
     ]
    },
    {
     "name": "stdout",
     "output_type": "stream",
     "text": [
      "2024 년 12 월 풍속\n"
     ]
    }
   ],
   "source": [
    "# 2021 ~ 2024 산지 해양데이터(수온, 기온, 풍속) pdf -> csv 변환\n",
    "\n",
    "year = 2021\n",
    "month = 1\n",
    "i = 0\n",
    "info = ['수온', '기온', '풍속']\n",
    "\n",
    "while year <= 2024:\n",
    "    month_str = str(month).zfill(2)\n",
    "    file1 = f\"./{year}/{sanji}/pdf/{sanji}_{info[i]}_{year}_{month_str}_월간보고서.pdf\"\n",
    "    file2 = f\"./{year}/{sanji}/csv/{info[i]}_{year}_{month}.csv\"\n",
    "\n",
    "    try:\n",
    "        dfs = tabula.read_pdf(file1, pages='all', multiple_tables=True)\n",
    "        dfs[0].to_csv(file2, index=False, encoding='utf-8-sig')\n",
    "        print(year, '년', month, '월', info[i])\n",
    "    except FileNotFoundError:\n",
    "        print(f\"{file1} 파일이 없습니다. 건너뜁니다.\")\n",
    "\n",
    "    i += 1\n",
    "    if i == len(info):\n",
    "        i = 0\n",
    "        month += 1\n",
    "        if month == 13:\n",
    "            month = 1\n",
    "            year += 1\n",
    "\n"
   ]
  },
  {
   "cell_type": "code",
   "execution_count": 60,
   "id": "8cfd3f7a-21de-408e-94cf-ed1970c7f227",
   "metadata": {},
   "outputs": [],
   "source": [
    "# df = pd.read_csv('./2021/제주/csv/기온_2021_1.csv')"
   ]
  },
  {
   "cell_type": "code",
   "execution_count": 42,
   "id": "1a5a386d-8795-49a4-9a5f-1fbefd7e5fe7",
   "metadata": {},
   "outputs": [],
   "source": [
    "# # df['평균']\n",
    "# info = ['수온','기온','풍속']\n",
    "\n",
    "# df.rename(columns={'평균': info[1]+' 평균'}, inplace=True)\n",
    "# df['year'] = 2021\n",
    "# df['month'] = 1\n",
    "# df['산지'] = '제주도'"
   ]
  },
  {
   "cell_type": "code",
   "execution_count": 9,
   "id": "b37fb74f-c979-4c89-9361-893f9c07dd94",
   "metadata": {},
   "outputs": [
    {
     "data": {
      "text/html": [
       "<div>\n",
       "<style scoped>\n",
       "    .dataframe tbody tr th:only-of-type {\n",
       "        vertical-align: middle;\n",
       "    }\n",
       "\n",
       "    .dataframe tbody tr th {\n",
       "        vertical-align: top;\n",
       "    }\n",
       "\n",
       "    .dataframe thead th {\n",
       "        text-align: right;\n",
       "    }\n",
       "</style>\n",
       "<table border=\"1\" class=\"dataframe\">\n",
       "  <thead>\n",
       "    <tr style=\"text-align: right;\">\n",
       "      <th></th>\n",
       "      <th>year</th>\n",
       "      <th>month</th>\n",
       "      <th>산지</th>\n",
       "      <th>기온 평균</th>\n",
       "      <th>수온 평균</th>\n",
       "      <th>풍속 평균</th>\n",
       "    </tr>\n",
       "  </thead>\n",
       "  <tbody>\n",
       "    <tr>\n",
       "      <th>0</th>\n",
       "      <td>2021</td>\n",
       "      <td>1</td>\n",
       "      <td>통영</td>\n",
       "      <td>3.2</td>\n",
       "      <td>7.1</td>\n",
       "      <td>1.6</td>\n",
       "    </tr>\n",
       "    <tr>\n",
       "      <th>1</th>\n",
       "      <td>2021</td>\n",
       "      <td>2</td>\n",
       "      <td>통영</td>\n",
       "      <td>6.5</td>\n",
       "      <td>8.6</td>\n",
       "      <td>2.0</td>\n",
       "    </tr>\n",
       "    <tr>\n",
       "      <th>2</th>\n",
       "      <td>2021</td>\n",
       "      <td>3</td>\n",
       "      <td>통영</td>\n",
       "      <td>10.6</td>\n",
       "      <td>11.1</td>\n",
       "      <td>2.0</td>\n",
       "    </tr>\n",
       "    <tr>\n",
       "      <th>3</th>\n",
       "      <td>2021</td>\n",
       "      <td>4</td>\n",
       "      <td>통영</td>\n",
       "      <td>14.2</td>\n",
       "      <td>14.3</td>\n",
       "      <td>2.3</td>\n",
       "    </tr>\n",
       "    <tr>\n",
       "      <th>4</th>\n",
       "      <td>2021</td>\n",
       "      <td>5</td>\n",
       "      <td>통영</td>\n",
       "      <td>17.6</td>\n",
       "      <td>16.9</td>\n",
       "      <td>2.1</td>\n",
       "    </tr>\n",
       "    <tr>\n",
       "      <th>5</th>\n",
       "      <td>2021</td>\n",
       "      <td>6</td>\n",
       "      <td>통영</td>\n",
       "      <td>21.4</td>\n",
       "      <td>19.7</td>\n",
       "      <td>1.7</td>\n",
       "    </tr>\n",
       "    <tr>\n",
       "      <th>6</th>\n",
       "      <td>2021</td>\n",
       "      <td>7</td>\n",
       "      <td>통영</td>\n",
       "      <td>26.2</td>\n",
       "      <td>23.7</td>\n",
       "      <td>2.2</td>\n",
       "    </tr>\n",
       "    <tr>\n",
       "      <th>7</th>\n",
       "      <td>2021</td>\n",
       "      <td>8</td>\n",
       "      <td>통영</td>\n",
       "      <td>26.5</td>\n",
       "      <td>26.8</td>\n",
       "      <td>2.1</td>\n",
       "    </tr>\n",
       "    <tr>\n",
       "      <th>8</th>\n",
       "      <td>2021</td>\n",
       "      <td>9</td>\n",
       "      <td>통영</td>\n",
       "      <td>23.1</td>\n",
       "      <td>24.6</td>\n",
       "      <td>2.6</td>\n",
       "    </tr>\n",
       "    <tr>\n",
       "      <th>9</th>\n",
       "      <td>2021</td>\n",
       "      <td>10</td>\n",
       "      <td>통영</td>\n",
       "      <td>18.3</td>\n",
       "      <td>22.1</td>\n",
       "      <td>1.6</td>\n",
       "    </tr>\n",
       "    <tr>\n",
       "      <th>10</th>\n",
       "      <td>2021</td>\n",
       "      <td>11</td>\n",
       "      <td>통영</td>\n",
       "      <td>12.0</td>\n",
       "      <td>17.2</td>\n",
       "      <td>1.6</td>\n",
       "    </tr>\n",
       "    <tr>\n",
       "      <th>11</th>\n",
       "      <td>2021</td>\n",
       "      <td>12</td>\n",
       "      <td>통영</td>\n",
       "      <td>6.1</td>\n",
       "      <td>11.8</td>\n",
       "      <td>1.2</td>\n",
       "    </tr>\n",
       "    <tr>\n",
       "      <th>12</th>\n",
       "      <td>2022</td>\n",
       "      <td>1</td>\n",
       "      <td>통영</td>\n",
       "      <td>3.6</td>\n",
       "      <td>8.5</td>\n",
       "      <td>1.2</td>\n",
       "    </tr>\n",
       "    <tr>\n",
       "      <th>13</th>\n",
       "      <td>2022</td>\n",
       "      <td>2</td>\n",
       "      <td>통영</td>\n",
       "      <td>3.5</td>\n",
       "      <td>7.9</td>\n",
       "      <td>1.5</td>\n",
       "    </tr>\n",
       "    <tr>\n",
       "      <th>14</th>\n",
       "      <td>2022</td>\n",
       "      <td>3</td>\n",
       "      <td>통영</td>\n",
       "      <td>9.9</td>\n",
       "      <td>10.3</td>\n",
       "      <td>1.9</td>\n",
       "    </tr>\n",
       "    <tr>\n",
       "      <th>15</th>\n",
       "      <td>2022</td>\n",
       "      <td>4</td>\n",
       "      <td>통영</td>\n",
       "      <td>14.3</td>\n",
       "      <td>14.2</td>\n",
       "      <td>1.9</td>\n",
       "    </tr>\n",
       "    <tr>\n",
       "      <th>16</th>\n",
       "      <td>2022</td>\n",
       "      <td>5</td>\n",
       "      <td>통영</td>\n",
       "      <td>18.3</td>\n",
       "      <td>17.4</td>\n",
       "      <td>1.8</td>\n",
       "    </tr>\n",
       "    <tr>\n",
       "      <th>17</th>\n",
       "      <td>2022</td>\n",
       "      <td>6</td>\n",
       "      <td>통영</td>\n",
       "      <td>21.8</td>\n",
       "      <td>20.0</td>\n",
       "      <td>2.4</td>\n",
       "    </tr>\n",
       "    <tr>\n",
       "      <th>18</th>\n",
       "      <td>2022</td>\n",
       "      <td>7</td>\n",
       "      <td>통영</td>\n",
       "      <td>26.1</td>\n",
       "      <td>22.9</td>\n",
       "      <td>1.6</td>\n",
       "    </tr>\n",
       "    <tr>\n",
       "      <th>19</th>\n",
       "      <td>2022</td>\n",
       "      <td>8</td>\n",
       "      <td>통영</td>\n",
       "      <td>26.3</td>\n",
       "      <td>24.0</td>\n",
       "      <td>1.9</td>\n",
       "    </tr>\n",
       "    <tr>\n",
       "      <th>20</th>\n",
       "      <td>2022</td>\n",
       "      <td>9</td>\n",
       "      <td>통영</td>\n",
       "      <td>23.2</td>\n",
       "      <td>24.1</td>\n",
       "      <td>2.4</td>\n",
       "    </tr>\n",
       "    <tr>\n",
       "      <th>21</th>\n",
       "      <td>2022</td>\n",
       "      <td>10</td>\n",
       "      <td>통영</td>\n",
       "      <td>17.6</td>\n",
       "      <td>21.2</td>\n",
       "      <td>1.9</td>\n",
       "    </tr>\n",
       "    <tr>\n",
       "      <th>22</th>\n",
       "      <td>2022</td>\n",
       "      <td>11</td>\n",
       "      <td>통영</td>\n",
       "      <td>13.7</td>\n",
       "      <td>17.5</td>\n",
       "      <td>1.3</td>\n",
       "    </tr>\n",
       "    <tr>\n",
       "      <th>23</th>\n",
       "      <td>2022</td>\n",
       "      <td>12</td>\n",
       "      <td>통영</td>\n",
       "      <td>3.8</td>\n",
       "      <td>11.7</td>\n",
       "      <td>1.2</td>\n",
       "    </tr>\n",
       "    <tr>\n",
       "      <th>24</th>\n",
       "      <td>2023</td>\n",
       "      <td>1</td>\n",
       "      <td>통영</td>\n",
       "      <td>3.7</td>\n",
       "      <td>8.9</td>\n",
       "      <td>1.1</td>\n",
       "    </tr>\n",
       "    <tr>\n",
       "      <th>25</th>\n",
       "      <td>2023</td>\n",
       "      <td>2</td>\n",
       "      <td>통영</td>\n",
       "      <td>6.2</td>\n",
       "      <td>8.6</td>\n",
       "      <td>1.5</td>\n",
       "    </tr>\n",
       "    <tr>\n",
       "      <th>26</th>\n",
       "      <td>2023</td>\n",
       "      <td>3</td>\n",
       "      <td>통영</td>\n",
       "      <td>11.3</td>\n",
       "      <td>12.0</td>\n",
       "      <td>1.5</td>\n",
       "    </tr>\n",
       "    <tr>\n",
       "      <th>27</th>\n",
       "      <td>2023</td>\n",
       "      <td>4</td>\n",
       "      <td>통영</td>\n",
       "      <td>14.5</td>\n",
       "      <td>15.3</td>\n",
       "      <td>2.3</td>\n",
       "    </tr>\n",
       "    <tr>\n",
       "      <th>28</th>\n",
       "      <td>2023</td>\n",
       "      <td>5</td>\n",
       "      <td>통영</td>\n",
       "      <td>17.6</td>\n",
       "      <td>17.5</td>\n",
       "      <td>1.8</td>\n",
       "    </tr>\n",
       "    <tr>\n",
       "      <th>29</th>\n",
       "      <td>2023</td>\n",
       "      <td>6</td>\n",
       "      <td>통영</td>\n",
       "      <td>21.9</td>\n",
       "      <td>20.7</td>\n",
       "      <td>1.7</td>\n",
       "    </tr>\n",
       "    <tr>\n",
       "      <th>30</th>\n",
       "      <td>2023</td>\n",
       "      <td>7</td>\n",
       "      <td>통영</td>\n",
       "      <td>25.2</td>\n",
       "      <td>21.8</td>\n",
       "      <td>1.7</td>\n",
       "    </tr>\n",
       "    <tr>\n",
       "      <th>31</th>\n",
       "      <td>2023</td>\n",
       "      <td>8</td>\n",
       "      <td>통영</td>\n",
       "      <td>27.5</td>\n",
       "      <td>26.1</td>\n",
       "      <td>1.9</td>\n",
       "    </tr>\n",
       "    <tr>\n",
       "      <th>32</th>\n",
       "      <td>2023</td>\n",
       "      <td>9</td>\n",
       "      <td>통영</td>\n",
       "      <td>24.5</td>\n",
       "      <td>26.1</td>\n",
       "      <td>1.6</td>\n",
       "    </tr>\n",
       "    <tr>\n",
       "      <th>33</th>\n",
       "      <td>2023</td>\n",
       "      <td>10</td>\n",
       "      <td>통영</td>\n",
       "      <td>17.7</td>\n",
       "      <td>21.7</td>\n",
       "      <td>1.4</td>\n",
       "    </tr>\n",
       "    <tr>\n",
       "      <th>34</th>\n",
       "      <td>2023</td>\n",
       "      <td>11</td>\n",
       "      <td>통영</td>\n",
       "      <td>11.7</td>\n",
       "      <td>16.8</td>\n",
       "      <td>1.4</td>\n",
       "    </tr>\n",
       "    <tr>\n",
       "      <th>35</th>\n",
       "      <td>2023</td>\n",
       "      <td>12</td>\n",
       "      <td>통영</td>\n",
       "      <td>6.4</td>\n",
       "      <td>11.4</td>\n",
       "      <td>1.2</td>\n",
       "    </tr>\n",
       "    <tr>\n",
       "      <th>36</th>\n",
       "      <td>2024</td>\n",
       "      <td>1</td>\n",
       "      <td>통영</td>\n",
       "      <td>4.7</td>\n",
       "      <td>9.2</td>\n",
       "      <td>1.3</td>\n",
       "    </tr>\n",
       "    <tr>\n",
       "      <th>37</th>\n",
       "      <td>2024</td>\n",
       "      <td>2</td>\n",
       "      <td>통영</td>\n",
       "      <td>7.2</td>\n",
       "      <td>9.4</td>\n",
       "      <td>2.3</td>\n",
       "    </tr>\n",
       "    <tr>\n",
       "      <th>38</th>\n",
       "      <td>2024</td>\n",
       "      <td>3</td>\n",
       "      <td>통영</td>\n",
       "      <td>9.2</td>\n",
       "      <td>11.0</td>\n",
       "      <td>1.8</td>\n",
       "    </tr>\n",
       "    <tr>\n",
       "      <th>39</th>\n",
       "      <td>2024</td>\n",
       "      <td>4</td>\n",
       "      <td>통영</td>\n",
       "      <td>15.1</td>\n",
       "      <td>14.8</td>\n",
       "      <td>1.5</td>\n",
       "    </tr>\n",
       "    <tr>\n",
       "      <th>40</th>\n",
       "      <td>2024</td>\n",
       "      <td>5</td>\n",
       "      <td>통영</td>\n",
       "      <td>18.2</td>\n",
       "      <td>18.1</td>\n",
       "      <td>1.9</td>\n",
       "    </tr>\n",
       "    <tr>\n",
       "      <th>41</th>\n",
       "      <td>2024</td>\n",
       "      <td>6</td>\n",
       "      <td>통영</td>\n",
       "      <td>21.9</td>\n",
       "      <td>21.0</td>\n",
       "      <td>1.6</td>\n",
       "    </tr>\n",
       "    <tr>\n",
       "      <th>42</th>\n",
       "      <td>2024</td>\n",
       "      <td>7</td>\n",
       "      <td>통영</td>\n",
       "      <td>25.8</td>\n",
       "      <td>21.5</td>\n",
       "      <td>2.1</td>\n",
       "    </tr>\n",
       "    <tr>\n",
       "      <th>43</th>\n",
       "      <td>2024</td>\n",
       "      <td>8</td>\n",
       "      <td>통영</td>\n",
       "      <td>28.5</td>\n",
       "      <td>26.0</td>\n",
       "      <td>1.8</td>\n",
       "    </tr>\n",
       "    <tr>\n",
       "      <th>44</th>\n",
       "      <td>2024</td>\n",
       "      <td>9</td>\n",
       "      <td>통영</td>\n",
       "      <td>26.6</td>\n",
       "      <td>27.8</td>\n",
       "      <td>2.2</td>\n",
       "    </tr>\n",
       "    <tr>\n",
       "      <th>45</th>\n",
       "      <td>2024</td>\n",
       "      <td>10</td>\n",
       "      <td>통영</td>\n",
       "      <td>19.8</td>\n",
       "      <td>23.3</td>\n",
       "      <td>2.2</td>\n",
       "    </tr>\n",
       "    <tr>\n",
       "      <th>46</th>\n",
       "      <td>2024</td>\n",
       "      <td>11</td>\n",
       "      <td>통영</td>\n",
       "      <td>13.6</td>\n",
       "      <td>19.0</td>\n",
       "      <td>1.5</td>\n",
       "    </tr>\n",
       "    <tr>\n",
       "      <th>47</th>\n",
       "      <td>2024</td>\n",
       "      <td>12</td>\n",
       "      <td>통영</td>\n",
       "      <td>5.8</td>\n",
       "      <td>12.0</td>\n",
       "      <td>1.1</td>\n",
       "    </tr>\n",
       "  </tbody>\n",
       "</table>\n",
       "</div>"
      ],
      "text/plain": [
       "    year  month  산지  기온 평균  수온 평균  풍속 평균\n",
       "0   2021      1  통영    3.2    7.1    1.6\n",
       "1   2021      2  통영    6.5    8.6    2.0\n",
       "2   2021      3  통영   10.6   11.1    2.0\n",
       "3   2021      4  통영   14.2   14.3    2.3\n",
       "4   2021      5  통영   17.6   16.9    2.1\n",
       "5   2021      6  통영   21.4   19.7    1.7\n",
       "6   2021      7  통영   26.2   23.7    2.2\n",
       "7   2021      8  통영   26.5   26.8    2.1\n",
       "8   2021      9  통영   23.1   24.6    2.6\n",
       "9   2021     10  통영   18.3   22.1    1.6\n",
       "10  2021     11  통영   12.0   17.2    1.6\n",
       "11  2021     12  통영    6.1   11.8    1.2\n",
       "12  2022      1  통영    3.6    8.5    1.2\n",
       "13  2022      2  통영    3.5    7.9    1.5\n",
       "14  2022      3  통영    9.9   10.3    1.9\n",
       "15  2022      4  통영   14.3   14.2    1.9\n",
       "16  2022      5  통영   18.3   17.4    1.8\n",
       "17  2022      6  통영   21.8   20.0    2.4\n",
       "18  2022      7  통영   26.1   22.9    1.6\n",
       "19  2022      8  통영   26.3   24.0    1.9\n",
       "20  2022      9  통영   23.2   24.1    2.4\n",
       "21  2022     10  통영   17.6   21.2    1.9\n",
       "22  2022     11  통영   13.7   17.5    1.3\n",
       "23  2022     12  통영    3.8   11.7    1.2\n",
       "24  2023      1  통영    3.7    8.9    1.1\n",
       "25  2023      2  통영    6.2    8.6    1.5\n",
       "26  2023      3  통영   11.3   12.0    1.5\n",
       "27  2023      4  통영   14.5   15.3    2.3\n",
       "28  2023      5  통영   17.6   17.5    1.8\n",
       "29  2023      6  통영   21.9   20.7    1.7\n",
       "30  2023      7  통영   25.2   21.8    1.7\n",
       "31  2023      8  통영   27.5   26.1    1.9\n",
       "32  2023      9  통영   24.5   26.1    1.6\n",
       "33  2023     10  통영   17.7   21.7    1.4\n",
       "34  2023     11  통영   11.7   16.8    1.4\n",
       "35  2023     12  통영    6.4   11.4    1.2\n",
       "36  2024      1  통영    4.7    9.2    1.3\n",
       "37  2024      2  통영    7.2    9.4    2.3\n",
       "38  2024      3  통영    9.2   11.0    1.8\n",
       "39  2024      4  통영   15.1   14.8    1.5\n",
       "40  2024      5  통영   18.2   18.1    1.9\n",
       "41  2024      6  통영   21.9   21.0    1.6\n",
       "42  2024      7  통영   25.8   21.5    2.1\n",
       "43  2024      8  통영   28.5   26.0    1.8\n",
       "44  2024      9  통영   26.6   27.8    2.2\n",
       "45  2024     10  통영   19.8   23.3    2.2\n",
       "46  2024     11  통영   13.6   19.0    1.5\n",
       "47  2024     12  통영    5.8   12.0    1.1"
      ]
     },
     "execution_count": 9,
     "metadata": {},
     "output_type": "execute_result"
    }
   ],
   "source": [
    "# 2021 ~ 2024 산지 해양정보(수온, 기온, 풍속) 데이터 추출\n",
    "\n",
    "start_year = 2021\n",
    "end_year = 2024\n",
    "info = ['수온', '기온', '풍속']\n",
    "dfs = []\n",
    "\n",
    "for year in range(start_year, end_year + 1):\n",
    "    for month in range(1, 13):\n",
    "        for i in range(len(info)):\n",
    "            file_path = f'./{year}/{sanji}/csv/{info[i]}_{year}_{month}.csv' # 제주 -> 해당 산지명 추가\n",
    "            try:\n",
    "                df = pd.read_csv(file_path, encoding='utf-8')\n",
    "                \n",
    "                df = df[['평균']]\n",
    "                df.rename(columns={'평균': '평균'}, inplace=True)  # 원래 컬럼명 유지\n",
    "                \n",
    "                df['year'] = year\n",
    "                df['month'] = month\n",
    "                df['산지'] = sanji # 제주도 -> 해당 산지명 추가\n",
    "                df['항목'] = info[i]\n",
    "                \n",
    "                df_last = df.iloc[-1:]\n",
    "                dfs.append(df_last)\n",
    "            except FileNotFoundError:\n",
    "                print(f\"{file_path} 파일이 없습니다. 건너뜁니다.\")\n",
    "                continue\n",
    "\n",
    "combined_df = pd.concat(dfs, ignore_index=True)\n",
    "\n",
    "# 'year', 'month', '산지'를 기준으로 항목별 평균 컬럼으로 변환\n",
    "final_df = combined_df.pivot_table(\n",
    "    index=['year', 'month', '산지'], \n",
    "    columns='항목', \n",
    "    values='평균',\n",
    "    aggfunc='first'\n",
    ").reset_index()\n",
    "\n",
    "final_df.columns.name = None  # columns 그룹명 제거\n",
    "final_df.rename(columns={\n",
    "    '수온': '수온 평균', \n",
    "    '기온': '기온 평균', \n",
    "    '풍속': '풍속 평균'\n",
    "}, inplace=True)\n",
    "\n",
    "final_df\n"
   ]
  },
  {
   "cell_type": "code",
   "execution_count": 10,
   "id": "81d423c6-3ea0-4396-847e-e820ea1ed2eb",
   "metadata": {},
   "outputs": [],
   "source": [
    "# 2021년도부터 2024년도까지 해양데이터 값을 csv로 추출\n",
    "# 제주 -> 산지명으로 변경하여 추출\n",
    "out_csv_name = f\"../해양정보_추출/{sanji}_2021_2024_해양데이터.csv\"\n",
    "final_df.to_csv(out_csv_name, index=False, encoding='utf-8-sig')"
   ]
  },
  {
   "cell_type": "code",
   "execution_count": 76,
   "id": "62b9a36b-5bac-404a-9a99-a13a04d1a41d",
   "metadata": {},
   "outputs": [
    {
     "ename": "SyntaxError",
     "evalue": "invalid syntax (942398928.py, line 8)",
     "output_type": "error",
     "traceback": [
      "\u001b[0;36m  Cell \u001b[0;32mIn[76], line 8\u001b[0;36m\u001b[0m\n\u001b[0;31m    for year == 2021 :\u001b[0m\n\u001b[0m             ^\u001b[0m\n\u001b[0;31mSyntaxError\u001b[0m\u001b[0;31m:\u001b[0m invalid syntax\n"
     ]
    }
   ],
   "source": [
    "# # 2021 제주도의 해양정보(수온, 기온, 풍속) 데이터 추출 테스트\n",
    "\n",
    "# year = 2021\n",
    "# i = 0 # info 값 돌리기\n",
    "# info = ['수온','기온','풍속']\n",
    "\n",
    "# dfs = []\n",
    "# for year == 2021 :\n",
    "#     for month in range(1, 13):\n",
    "#         file_path = f'./{year}/제주/csv/{info[i]}_{year}_{month}.csv'\n",
    "#         df1 = pd.read_csv(file_path1, encoding='utf-8')  # 기온\n",
    "        \n",
    "#         # 필요한 컬럼만 선택 (예: '평균' 컬럼)\n",
    "#         df = df[['평균']]\n",
    "        \n",
    "#         # 컬럼명 변경 (선택사항)\n",
    "#         df.rename(columns={'평균': {info[i]}+' 평균'}, inplace=True)\n",
    "        \n",
    "#         # 연도, 월, 산지 컬럼 추가\n",
    "#         df['year'] = year\n",
    "#         df['month'] = month\n",
    "#         df['산지'] = '제주도'\n",
    "    \n",
    "#         # 원하는 컬럼으로 마지막 행만 추출\n",
    "#         df_last = df[['year', 'month', '산지', info[i]+'평균']].iloc[-1:]\n",
    "        \n",
    "#         dfs.append(df_last)\n",
    "\n",
    "#     # 12개월 데이터 합치기\n",
    "#     combined_df = pd.concat(dfs, ignore_index=True)\n",
    "    \n",
    "#     combined_df\n",
    "\n"
   ]
  },
  {
   "cell_type": "code",
   "execution_count": 59,
   "id": "6ffa7880-315c-4daf-9386-8e88c4f0be52",
   "metadata": {},
   "outputs": [
    {
     "data": {
      "text/html": [
       "<div>\n",
       "<style scoped>\n",
       "    .dataframe tbody tr th:only-of-type {\n",
       "        vertical-align: middle;\n",
       "    }\n",
       "\n",
       "    .dataframe tbody tr th {\n",
       "        vertical-align: top;\n",
       "    }\n",
       "\n",
       "    .dataframe thead th {\n",
       "        text-align: right;\n",
       "    }\n",
       "</style>\n",
       "<table border=\"1\" class=\"dataframe\">\n",
       "  <thead>\n",
       "    <tr style=\"text-align: right;\">\n",
       "      <th></th>\n",
       "      <th>기온 평균</th>\n",
       "      <th>year</th>\n",
       "      <th>month</th>\n",
       "      <th>산지</th>\n",
       "    </tr>\n",
       "  </thead>\n",
       "  <tbody>\n",
       "    <tr>\n",
       "      <th>31</th>\n",
       "      <td>9.3</td>\n",
       "      <td>2021</td>\n",
       "      <td>12</td>\n",
       "      <td>제주도</td>\n",
       "    </tr>\n",
       "  </tbody>\n",
       "</table>\n",
       "</div>"
      ],
      "text/plain": [
       "    기온 평균  year  month   산지\n",
       "31    9.3  2021     12  제주도"
      ]
     },
     "execution_count": 59,
     "metadata": {},
     "output_type": "execute_result"
    }
   ],
   "source": []
  },
  {
   "cell_type": "code",
   "execution_count": null,
   "id": "7c6ebfd9-34fd-4e5b-8532-0140fd739559",
   "metadata": {},
   "outputs": [],
   "source": []
  }
 ],
 "metadata": {
  "kernelspec": {
   "display_name": "Python 3 (ipykernel)",
   "language": "python",
   "name": "python3"
  },
  "language_info": {
   "codemirror_mode": {
    "name": "ipython",
    "version": 3
   },
   "file_extension": ".py",
   "mimetype": "text/x-python",
   "name": "python",
   "nbconvert_exporter": "python",
   "pygments_lexer": "ipython3",
   "version": "3.10.18"
  }
 },
 "nbformat": 4,
 "nbformat_minor": 5
}
