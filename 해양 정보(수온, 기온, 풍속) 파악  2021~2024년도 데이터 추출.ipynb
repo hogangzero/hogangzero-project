{
 "cells": [
  {
   "cell_type": "markdown",
   "id": "224433da-98b5-486e-a085-5af9d34c8858",
   "metadata": {},
   "source": [
    "### PDF 파일 불러오기"
   ]
  },
  {
   "cell_type": "code",
   "execution_count": 2,
   "id": "f2d80c60-58c3-4129-806e-708beae8ae3f",
   "metadata": {},
   "outputs": [],
   "source": [
    "import pandas as pd\n",
    "import numpy as np\n",
    "import tabula"
   ]
  },
  {
   "cell_type": "code",
   "execution_count": 3,
   "id": "123bd024-4117-4ebf-8b27-baf2395b5da2",
   "metadata": {},
   "outputs": [
    {
     "name": "stdout",
     "output_type": "stream",
     "text": [
      "/Users/mac/Documents/GitHub/hogangzero-project\n"
     ]
    }
   ],
   "source": [
    "import os\n",
    "print(os.getcwd()) \n",
    "os.chdir('/Users/mac/Documents/GitHub/hogangzero-project/data/해양정보(수온, 기온, 풍속)') "
   ]
  },
  {
   "cell_type": "code",
   "execution_count": null,
   "id": "9e425862-9d74-4995-a9fc-907be5ee798a",
   "metadata": {},
   "outputs": [],
   "source": []
  },
  {
   "cell_type": "code",
   "execution_count": 70,
   "id": "56ed104c-5092-462d-83f7-21e2df074f1f",
   "metadata": {},
   "outputs": [
    {
     "name": "stdout",
     "output_type": "stream",
     "text": [
      "2021 년 1 월\n",
      "2021 년 2 월\n",
      "2021 년 3 월\n",
      "2021 년 4 월\n",
      "2021 년 5 월\n",
      "2021 년 6 월\n",
      "2021 년 7 월\n",
      "2021 년 8 월\n",
      "2021 년 9 월\n",
      "2021 년 10 월\n",
      "2021 년 11 월\n",
      "2021 년 12 월\n",
      "2022 년 1 월\n",
      "2022 년 2 월\n",
      "2022 년 3 월\n",
      "2022 년 4 월\n",
      "2022 년 5 월\n",
      "2022 년 6 월\n"
     ]
    },
    {
     "name": "stderr",
     "output_type": "stream",
     "text": [
      "Got stderr: 10월 24, 2025 4:28:12 오후 org.apache.pdfbox.pdmodel.font.PDCIDFontType2 findFontOrSubstitute\n",
      "WARNING: Using fallback font LiberationSans for CID-keyed TrueType font GulimChe\n",
      "10월 24, 2025 4:28:12 오후 org.apache.pdfbox.pdmodel.font.PDCIDFontType2 findFontOrSubstitute\n",
      "WARNING: Using fallback font LiberationSans for CID-keyed TrueType font Gulim,Bold\n",
      "10월 24, 2025 4:28:12 오후 org.apache.pdfbox.pdmodel.font.PDCIDFontType2 findFontOrSubstitute\n",
      "WARNING: Using fallback font LiberationSans for CID-keyed TrueType font Malgun Gothic,Bold\n",
      "10월 24, 2025 4:28:12 오후 org.apache.pdfbox.rendering.TTFGlyph2D getPathForGID\n",
      "WARNING: No glyph for code 13336 (CID 3418) in font GulimChe\n",
      "10월 24, 2025 4:28:12 오후 org.apache.pdfbox.rendering.TTFGlyph2D getPathForGID\n",
      "WARNING: No glyph for code 8036 (CID 1f64) in font Gulim,Bold\n",
      "10월 24, 2025 4:28:12 오후 org.apache.pdfbox.rendering.TTFGlyph2D getPathForGID\n",
      "WARNING: No glyph for code 751 (CID 02ef) in font Malgun Gothic,Bold\n",
      "10월 24, 2025 4:28:12 오후 org.apache.pdfbox.pdmodel.font.PDCIDFontType2 findFontOrSubstitute\n",
      "WARNING: Using fallback font LiberationSans for CID-keyed TrueType font GulimChe\n",
      "10월 24, 2025 4:28:12 오후 org.apache.pdfbox.pdmodel.font.PDCIDFontType2 findFontOrSubstitute\n",
      "WARNING: Using fallback font LiberationSans for CID-keyed TrueType font Gulim,Bold\n",
      "10월 24, 2025 4:28:12 오후 org.apache.pdfbox.pdmodel.font.PDCIDFontType2 findFontOrSubstitute\n",
      "WARNING: Using fallback font LiberationSans for CID-keyed TrueType font Malgun Gothic,Bold\n",
      "\n"
     ]
    },
    {
     "name": "stdout",
     "output_type": "stream",
     "text": [
      "2022 년 7 월\n"
     ]
    },
    {
     "name": "stderr",
     "output_type": "stream",
     "text": [
      "Got stderr: 10월 24, 2025 4:28:13 오후 org.apache.pdfbox.pdmodel.font.PDCIDFontType2 findFontOrSubstitute\n",
      "WARNING: Using fallback font LiberationSans for CID-keyed TrueType font GulimChe\n",
      "10월 24, 2025 4:28:13 오후 org.apache.pdfbox.pdmodel.font.PDCIDFontType2 findFontOrSubstitute\n",
      "WARNING: Using fallback font LiberationSans for CID-keyed TrueType font Gulim,Bold\n",
      "10월 24, 2025 4:28:13 오후 org.apache.pdfbox.pdmodel.font.PDCIDFontType2 findFontOrSubstitute\n",
      "WARNING: Using fallback font LiberationSans for CID-keyed TrueType font Malgun Gothic,Bold\n",
      "10월 24, 2025 4:28:13 오후 org.apache.pdfbox.rendering.TTFGlyph2D getPathForGID\n",
      "WARNING: No glyph for code 13336 (CID 3418) in font GulimChe\n",
      "10월 24, 2025 4:28:13 오후 org.apache.pdfbox.rendering.TTFGlyph2D getPathForGID\n",
      "WARNING: No glyph for code 8036 (CID 1f64) in font Gulim,Bold\n",
      "10월 24, 2025 4:28:13 오후 org.apache.pdfbox.rendering.TTFGlyph2D getPathForGID\n",
      "WARNING: No glyph for code 751 (CID 02ef) in font Malgun Gothic,Bold\n",
      "10월 24, 2025 4:28:13 오후 org.apache.pdfbox.pdmodel.font.PDCIDFontType2 findFontOrSubstitute\n",
      "WARNING: Using fallback font LiberationSans for CID-keyed TrueType font GulimChe\n",
      "10월 24, 2025 4:28:13 오후 org.apache.pdfbox.pdmodel.font.PDCIDFontType2 findFontOrSubstitute\n",
      "WARNING: Using fallback font LiberationSans for CID-keyed TrueType font Gulim,Bold\n",
      "10월 24, 2025 4:28:13 오후 org.apache.pdfbox.pdmodel.font.PDCIDFontType2 findFontOrSubstitute\n",
      "WARNING: Using fallback font LiberationSans for CID-keyed TrueType font Malgun Gothic,Bold\n",
      "\n"
     ]
    },
    {
     "name": "stdout",
     "output_type": "stream",
     "text": [
      "2022 년 8 월\n"
     ]
    },
    {
     "name": "stderr",
     "output_type": "stream",
     "text": [
      "Got stderr: 10월 24, 2025 4:28:14 오후 org.apache.pdfbox.pdmodel.font.PDCIDFontType2 findFontOrSubstitute\n",
      "WARNING: Using fallback font LiberationSans for CID-keyed TrueType font GulimChe\n",
      "10월 24, 2025 4:28:14 오후 org.apache.pdfbox.pdmodel.font.PDCIDFontType2 findFontOrSubstitute\n",
      "WARNING: Using fallback font LiberationSans for CID-keyed TrueType font Gulim,Bold\n",
      "10월 24, 2025 4:28:14 오후 org.apache.pdfbox.pdmodel.font.PDCIDFontType2 findFontOrSubstitute\n",
      "WARNING: Using fallback font LiberationSans for CID-keyed TrueType font Malgun Gothic,Bold\n",
      "10월 24, 2025 4:28:14 오후 org.apache.pdfbox.rendering.TTFGlyph2D getPathForGID\n",
      "WARNING: No glyph for code 13336 (CID 3418) in font GulimChe\n",
      "10월 24, 2025 4:28:14 오후 org.apache.pdfbox.rendering.TTFGlyph2D getPathForGID\n",
      "WARNING: No glyph for code 8036 (CID 1f64) in font Gulim,Bold\n",
      "10월 24, 2025 4:28:14 오후 org.apache.pdfbox.rendering.TTFGlyph2D getPathForGID\n",
      "WARNING: No glyph for code 751 (CID 02ef) in font Malgun Gothic,Bold\n",
      "10월 24, 2025 4:28:15 오후 org.apache.pdfbox.pdmodel.font.PDCIDFontType2 findFontOrSubstitute\n",
      "WARNING: Using fallback font LiberationSans for CID-keyed TrueType font GulimChe\n",
      "10월 24, 2025 4:28:15 오후 org.apache.pdfbox.pdmodel.font.PDCIDFontType2 findFontOrSubstitute\n",
      "WARNING: Using fallback font LiberationSans for CID-keyed TrueType font Gulim,Bold\n",
      "10월 24, 2025 4:28:15 오후 org.apache.pdfbox.pdmodel.font.PDCIDFontType2 findFontOrSubstitute\n",
      "WARNING: Using fallback font LiberationSans for CID-keyed TrueType font Malgun Gothic,Bold\n",
      "\n"
     ]
    },
    {
     "name": "stdout",
     "output_type": "stream",
     "text": [
      "2022 년 9 월\n"
     ]
    },
    {
     "name": "stderr",
     "output_type": "stream",
     "text": [
      "Got stderr: 10월 24, 2025 4:28:15 오후 org.apache.pdfbox.pdmodel.font.PDCIDFontType2 findFontOrSubstitute\n",
      "WARNING: Using fallback font LiberationSans for CID-keyed TrueType font GulimChe\n",
      "10월 24, 2025 4:28:15 오후 org.apache.pdfbox.pdmodel.font.PDCIDFontType2 findFontOrSubstitute\n",
      "WARNING: Using fallback font LiberationSans for CID-keyed TrueType font Gulim,Bold\n",
      "10월 24, 2025 4:28:15 오후 org.apache.pdfbox.pdmodel.font.PDCIDFontType2 findFontOrSubstitute\n",
      "WARNING: Using fallback font LiberationSans for CID-keyed TrueType font Malgun Gothic,Bold\n",
      "10월 24, 2025 4:28:16 오후 org.apache.pdfbox.rendering.TTFGlyph2D getPathForGID\n",
      "WARNING: No glyph for code 13336 (CID 3418) in font GulimChe\n",
      "10월 24, 2025 4:28:16 오후 org.apache.pdfbox.rendering.TTFGlyph2D getPathForGID\n",
      "WARNING: No glyph for code 8036 (CID 1f64) in font Gulim,Bold\n",
      "10월 24, 2025 4:28:16 오후 org.apache.pdfbox.rendering.TTFGlyph2D getPathForGID\n",
      "WARNING: No glyph for code 751 (CID 02ef) in font Malgun Gothic,Bold\n",
      "10월 24, 2025 4:28:16 오후 org.apache.pdfbox.pdmodel.font.PDCIDFontType2 findFontOrSubstitute\n",
      "WARNING: Using fallback font LiberationSans for CID-keyed TrueType font GulimChe\n",
      "10월 24, 2025 4:28:16 오후 org.apache.pdfbox.pdmodel.font.PDCIDFontType2 findFontOrSubstitute\n",
      "WARNING: Using fallback font LiberationSans for CID-keyed TrueType font Gulim,Bold\n",
      "10월 24, 2025 4:28:16 오후 org.apache.pdfbox.pdmodel.font.PDCIDFontType2 findFontOrSubstitute\n",
      "WARNING: Using fallback font LiberationSans for CID-keyed TrueType font Malgun Gothic,Bold\n",
      "\n"
     ]
    },
    {
     "name": "stdout",
     "output_type": "stream",
     "text": [
      "2022 년 10 월\n"
     ]
    },
    {
     "name": "stderr",
     "output_type": "stream",
     "text": [
      "Got stderr: 10월 24, 2025 4:28:17 오후 org.apache.pdfbox.pdmodel.font.PDCIDFontType2 findFontOrSubstitute\n",
      "WARNING: Using fallback font LiberationSans for CID-keyed TrueType font GulimChe\n",
      "10월 24, 2025 4:28:17 오후 org.apache.pdfbox.pdmodel.font.PDCIDFontType2 findFontOrSubstitute\n",
      "WARNING: Using fallback font LiberationSans for CID-keyed TrueType font Gulim,Bold\n",
      "10월 24, 2025 4:28:17 오후 org.apache.pdfbox.pdmodel.font.PDCIDFontType2 findFontOrSubstitute\n",
      "WARNING: Using fallback font LiberationSans for CID-keyed TrueType font Malgun Gothic,Bold\n",
      "10월 24, 2025 4:28:17 오후 org.apache.pdfbox.rendering.TTFGlyph2D getPathForGID\n",
      "WARNING: No glyph for code 13336 (CID 3418) in font GulimChe\n",
      "10월 24, 2025 4:28:17 오후 org.apache.pdfbox.rendering.TTFGlyph2D getPathForGID\n",
      "WARNING: No glyph for code 8036 (CID 1f64) in font Gulim,Bold\n",
      "10월 24, 2025 4:28:17 오후 org.apache.pdfbox.rendering.TTFGlyph2D getPathForGID\n",
      "WARNING: No glyph for code 751 (CID 02ef) in font Malgun Gothic,Bold\n",
      "10월 24, 2025 4:28:17 오후 org.apache.pdfbox.pdmodel.font.PDCIDFontType2 findFontOrSubstitute\n",
      "WARNING: Using fallback font LiberationSans for CID-keyed TrueType font GulimChe\n",
      "10월 24, 2025 4:28:17 오후 org.apache.pdfbox.pdmodel.font.PDCIDFontType2 findFontOrSubstitute\n",
      "WARNING: Using fallback font LiberationSans for CID-keyed TrueType font Gulim,Bold\n",
      "10월 24, 2025 4:28:17 오후 org.apache.pdfbox.pdmodel.font.PDCIDFontType2 findFontOrSubstitute\n",
      "WARNING: Using fallback font LiberationSans for CID-keyed TrueType font Malgun Gothic,Bold\n",
      "\n"
     ]
    },
    {
     "name": "stdout",
     "output_type": "stream",
     "text": [
      "2022 년 11 월\n"
     ]
    },
    {
     "name": "stderr",
     "output_type": "stream",
     "text": [
      "Got stderr: 10월 24, 2025 4:28:18 오후 org.apache.pdfbox.pdmodel.font.PDCIDFontType2 findFontOrSubstitute\n",
      "WARNING: Using fallback font LiberationSans for CID-keyed TrueType font GulimChe\n",
      "10월 24, 2025 4:28:18 오후 org.apache.pdfbox.pdmodel.font.PDCIDFontType2 findFontOrSubstitute\n",
      "WARNING: Using fallback font LiberationSans for CID-keyed TrueType font Gulim,Bold\n",
      "10월 24, 2025 4:28:18 오후 org.apache.pdfbox.pdmodel.font.PDCIDFontType2 findFontOrSubstitute\n",
      "WARNING: Using fallback font LiberationSans for CID-keyed TrueType font Malgun Gothic,Bold\n",
      "10월 24, 2025 4:28:18 오후 org.apache.pdfbox.rendering.TTFGlyph2D getPathForGID\n",
      "WARNING: No glyph for code 13336 (CID 3418) in font GulimChe\n",
      "10월 24, 2025 4:28:18 오후 org.apache.pdfbox.rendering.TTFGlyph2D getPathForGID\n",
      "WARNING: No glyph for code 8036 (CID 1f64) in font Gulim,Bold\n",
      "10월 24, 2025 4:28:18 오후 org.apache.pdfbox.rendering.TTFGlyph2D getPathForGID\n",
      "WARNING: No glyph for code 751 (CID 02ef) in font Malgun Gothic,Bold\n",
      "10월 24, 2025 4:28:18 오후 org.apache.pdfbox.pdmodel.font.PDCIDFontType2 findFontOrSubstitute\n",
      "WARNING: Using fallback font LiberationSans for CID-keyed TrueType font GulimChe\n",
      "10월 24, 2025 4:28:18 오후 org.apache.pdfbox.pdmodel.font.PDCIDFontType2 findFontOrSubstitute\n",
      "WARNING: Using fallback font LiberationSans for CID-keyed TrueType font Gulim,Bold\n",
      "10월 24, 2025 4:28:18 오후 org.apache.pdfbox.pdmodel.font.PDCIDFontType2 findFontOrSubstitute\n",
      "WARNING: Using fallback font LiberationSans for CID-keyed TrueType font Malgun Gothic,Bold\n",
      "\n"
     ]
    },
    {
     "name": "stdout",
     "output_type": "stream",
     "text": [
      "2022 년 12 월\n"
     ]
    },
    {
     "name": "stderr",
     "output_type": "stream",
     "text": [
      "Got stderr: 10월 24, 2025 4:28:19 오후 org.apache.pdfbox.pdmodel.font.PDCIDFontType2 findFontOrSubstitute\n",
      "WARNING: Using fallback font LiberationSans for CID-keyed TrueType font GulimChe\n",
      "10월 24, 2025 4:28:19 오후 org.apache.pdfbox.pdmodel.font.PDCIDFontType2 findFontOrSubstitute\n",
      "WARNING: Using fallback font LiberationSans for CID-keyed TrueType font Gulim,Bold\n",
      "10월 24, 2025 4:28:19 오후 org.apache.pdfbox.pdmodel.font.PDCIDFontType2 findFontOrSubstitute\n",
      "WARNING: Using fallback font LiberationSans for CID-keyed TrueType font Malgun Gothic,Bold\n",
      "\n"
     ]
    },
    {
     "name": "stdout",
     "output_type": "stream",
     "text": [
      "2023 년 1 월\n"
     ]
    },
    {
     "name": "stderr",
     "output_type": "stream",
     "text": [
      "Got stderr: 10월 24, 2025 4:28:20 오후 org.apache.pdfbox.pdmodel.font.PDCIDFontType2 findFontOrSubstitute\n",
      "WARNING: Using fallback font LiberationSans for CID-keyed TrueType font GulimChe\n",
      "10월 24, 2025 4:28:20 오후 org.apache.pdfbox.pdmodel.font.PDCIDFontType2 findFontOrSubstitute\n",
      "WARNING: Using fallback font LiberationSans for CID-keyed TrueType font Gulim,Bold\n",
      "10월 24, 2025 4:28:20 오후 org.apache.pdfbox.pdmodel.font.PDCIDFontType2 findFontOrSubstitute\n",
      "WARNING: Using fallback font LiberationSans for CID-keyed TrueType font Malgun Gothic,Bold\n",
      "\n"
     ]
    },
    {
     "name": "stdout",
     "output_type": "stream",
     "text": [
      "2023 년 2 월\n"
     ]
    },
    {
     "name": "stderr",
     "output_type": "stream",
     "text": [
      "Got stderr: 10월 24, 2025 4:28:20 오후 org.apache.pdfbox.pdmodel.font.PDCIDFontType2 findFontOrSubstitute\n",
      "WARNING: Using fallback font LiberationSans for CID-keyed TrueType font GulimChe\n",
      "10월 24, 2025 4:28:20 오후 org.apache.pdfbox.pdmodel.font.PDCIDFontType2 findFontOrSubstitute\n",
      "WARNING: Using fallback font LiberationSans for CID-keyed TrueType font Gulim,Bold\n",
      "10월 24, 2025 4:28:20 오후 org.apache.pdfbox.pdmodel.font.PDCIDFontType2 findFontOrSubstitute\n",
      "WARNING: Using fallback font LiberationSans for CID-keyed TrueType font Malgun Gothic,Bold\n",
      "\n"
     ]
    },
    {
     "name": "stdout",
     "output_type": "stream",
     "text": [
      "2023 년 3 월\n"
     ]
    },
    {
     "name": "stderr",
     "output_type": "stream",
     "text": [
      "Got stderr: 10월 24, 2025 4:28:20 오후 org.apache.pdfbox.pdmodel.font.PDCIDFontType2 findFontOrSubstitute\n",
      "WARNING: Using fallback font LiberationSans for CID-keyed TrueType font GulimChe\n",
      "10월 24, 2025 4:28:20 오후 org.apache.pdfbox.pdmodel.font.PDCIDFontType2 findFontOrSubstitute\n",
      "WARNING: Using fallback font LiberationSans for CID-keyed TrueType font Gulim,Bold\n",
      "10월 24, 2025 4:28:20 오후 org.apache.pdfbox.pdmodel.font.PDCIDFontType2 findFontOrSubstitute\n",
      "WARNING: Using fallback font LiberationSans for CID-keyed TrueType font Malgun Gothic,Bold\n",
      "\n"
     ]
    },
    {
     "name": "stdout",
     "output_type": "stream",
     "text": [
      "2023 년 4 월\n"
     ]
    },
    {
     "name": "stderr",
     "output_type": "stream",
     "text": [
      "Got stderr: 10월 24, 2025 4:28:21 오후 org.apache.pdfbox.pdmodel.font.PDCIDFontType2 findFontOrSubstitute\n",
      "WARNING: Using fallback font LiberationSans for CID-keyed TrueType font GulimChe\n",
      "10월 24, 2025 4:28:21 오후 org.apache.pdfbox.pdmodel.font.PDCIDFontType2 findFontOrSubstitute\n",
      "WARNING: Using fallback font LiberationSans for CID-keyed TrueType font Gulim,Bold\n",
      "10월 24, 2025 4:28:21 오후 org.apache.pdfbox.pdmodel.font.PDCIDFontType2 findFontOrSubstitute\n",
      "WARNING: Using fallback font LiberationSans for CID-keyed TrueType font Malgun Gothic,Bold\n",
      "\n"
     ]
    },
    {
     "name": "stdout",
     "output_type": "stream",
     "text": [
      "2023 년 5 월\n"
     ]
    },
    {
     "name": "stderr",
     "output_type": "stream",
     "text": [
      "Got stderr: 10월 24, 2025 4:28:21 오후 org.apache.pdfbox.pdmodel.font.PDCIDFontType2 findFontOrSubstitute\n",
      "WARNING: Using fallback font LiberationSans for CID-keyed TrueType font GulimChe\n",
      "10월 24, 2025 4:28:21 오후 org.apache.pdfbox.pdmodel.font.PDCIDFontType2 findFontOrSubstitute\n",
      "WARNING: Using fallback font LiberationSans for CID-keyed TrueType font Gulim,Bold\n",
      "10월 24, 2025 4:28:21 오후 org.apache.pdfbox.pdmodel.font.PDCIDFontType2 findFontOrSubstitute\n",
      "WARNING: Using fallback font LiberationSans for CID-keyed TrueType font Malgun Gothic,Bold\n",
      "\n"
     ]
    },
    {
     "name": "stdout",
     "output_type": "stream",
     "text": [
      "2023 년 6 월\n"
     ]
    },
    {
     "name": "stderr",
     "output_type": "stream",
     "text": [
      "Got stderr: 10월 24, 2025 4:28:22 오후 org.apache.pdfbox.pdmodel.font.PDCIDFontType2 findFontOrSubstitute\n",
      "WARNING: Using fallback font LiberationSans for CID-keyed TrueType font GulimChe\n",
      "10월 24, 2025 4:28:22 오후 org.apache.pdfbox.pdmodel.font.PDCIDFontType2 findFontOrSubstitute\n",
      "WARNING: Using fallback font LiberationSans for CID-keyed TrueType font Gulim,Bold\n",
      "10월 24, 2025 4:28:22 오후 org.apache.pdfbox.pdmodel.font.PDCIDFontType2 findFontOrSubstitute\n",
      "WARNING: Using fallback font LiberationSans for CID-keyed TrueType font Malgun Gothic,Bold\n",
      "\n"
     ]
    },
    {
     "name": "stdout",
     "output_type": "stream",
     "text": [
      "2023 년 7 월\n"
     ]
    },
    {
     "name": "stderr",
     "output_type": "stream",
     "text": [
      "Got stderr: 10월 24, 2025 4:28:22 오후 org.apache.pdfbox.pdmodel.font.PDCIDFontType2 findFontOrSubstitute\n",
      "WARNING: Using fallback font LiberationSans for CID-keyed TrueType font GulimChe\n",
      "10월 24, 2025 4:28:22 오후 org.apache.pdfbox.pdmodel.font.PDCIDFontType2 findFontOrSubstitute\n",
      "WARNING: Using fallback font LiberationSans for CID-keyed TrueType font Gulim,Bold\n",
      "10월 24, 2025 4:28:22 오후 org.apache.pdfbox.pdmodel.font.PDCIDFontType2 findFontOrSubstitute\n",
      "WARNING: Using fallback font LiberationSans for CID-keyed TrueType font Malgun Gothic,Bold\n",
      "\n"
     ]
    },
    {
     "name": "stdout",
     "output_type": "stream",
     "text": [
      "2023 년 8 월\n"
     ]
    },
    {
     "name": "stderr",
     "output_type": "stream",
     "text": [
      "Got stderr: 10월 24, 2025 4:28:23 오후 org.apache.pdfbox.pdmodel.font.PDCIDFontType2 findFontOrSubstitute\n",
      "WARNING: Using fallback font LiberationSans for CID-keyed TrueType font GulimChe\n",
      "10월 24, 2025 4:28:23 오후 org.apache.pdfbox.pdmodel.font.PDCIDFontType2 findFontOrSubstitute\n",
      "WARNING: Using fallback font LiberationSans for CID-keyed TrueType font Gulim,Bold\n",
      "10월 24, 2025 4:28:23 오후 org.apache.pdfbox.pdmodel.font.PDCIDFontType2 findFontOrSubstitute\n",
      "WARNING: Using fallback font LiberationSans for CID-keyed TrueType font Malgun Gothic,Bold\n",
      "\n"
     ]
    },
    {
     "name": "stdout",
     "output_type": "stream",
     "text": [
      "2023 년 9 월\n"
     ]
    },
    {
     "name": "stderr",
     "output_type": "stream",
     "text": [
      "Got stderr: 10월 24, 2025 4:28:23 오후 org.apache.pdfbox.pdmodel.font.PDCIDFontType2 findFontOrSubstitute\n",
      "WARNING: Using fallback font LiberationSans for CID-keyed TrueType font GulimChe\n",
      "10월 24, 2025 4:28:23 오후 org.apache.pdfbox.pdmodel.font.PDCIDFontType2 findFontOrSubstitute\n",
      "WARNING: Using fallback font LiberationSans for CID-keyed TrueType font Gulim,Bold\n",
      "10월 24, 2025 4:28:23 오후 org.apache.pdfbox.pdmodel.font.PDCIDFontType2 findFontOrSubstitute\n",
      "WARNING: Using fallback font LiberationSans for CID-keyed TrueType font Malgun Gothic,Bold\n",
      "\n"
     ]
    },
    {
     "name": "stdout",
     "output_type": "stream",
     "text": [
      "2023 년 10 월\n"
     ]
    },
    {
     "name": "stderr",
     "output_type": "stream",
     "text": [
      "Got stderr: 10월 24, 2025 4:28:24 오후 org.apache.pdfbox.pdmodel.font.PDCIDFontType2 findFontOrSubstitute\n",
      "WARNING: Using fallback font LiberationSans for CID-keyed TrueType font GulimChe\n",
      "10월 24, 2025 4:28:24 오후 org.apache.pdfbox.pdmodel.font.PDCIDFontType2 findFontOrSubstitute\n",
      "WARNING: Using fallback font LiberationSans for CID-keyed TrueType font Gulim,Bold\n",
      "10월 24, 2025 4:28:24 오후 org.apache.pdfbox.pdmodel.font.PDCIDFontType2 findFontOrSubstitute\n",
      "WARNING: Using fallback font LiberationSans for CID-keyed TrueType font Malgun Gothic,Bold\n",
      "\n"
     ]
    },
    {
     "name": "stdout",
     "output_type": "stream",
     "text": [
      "2023 년 11 월\n"
     ]
    },
    {
     "name": "stderr",
     "output_type": "stream",
     "text": [
      "Got stderr: 10월 24, 2025 4:28:24 오후 org.apache.pdfbox.pdmodel.font.PDCIDFontType2 findFontOrSubstitute\n",
      "WARNING: Using fallback font LiberationSans for CID-keyed TrueType font GulimChe\n",
      "10월 24, 2025 4:28:24 오후 org.apache.pdfbox.pdmodel.font.PDCIDFontType2 findFontOrSubstitute\n",
      "WARNING: Using fallback font LiberationSans for CID-keyed TrueType font Gulim,Bold\n",
      "10월 24, 2025 4:28:24 오후 org.apache.pdfbox.pdmodel.font.PDCIDFontType2 findFontOrSubstitute\n",
      "WARNING: Using fallback font LiberationSans for CID-keyed TrueType font Malgun Gothic,Bold\n",
      "\n"
     ]
    },
    {
     "name": "stdout",
     "output_type": "stream",
     "text": [
      "2023 년 12 월\n"
     ]
    }
   ],
   "source": [
    "# import tabula\n",
    "\n",
    "# year = 2021\n",
    "# month = 1\n",
    "\n",
    "# i = 0 # info 값 돌리기\n",
    "# info = ['수온','기온','풍속']\n",
    "\n",
    "\n",
    "# while year <= 2025: # 2025로 변환\n",
    "#     while month <= 12:\n",
    "#         month_str = str(month).zfill(2)  # 여기서 month_str은 매번 갱신해야 합니다.\n",
    "#         file1 = f\"./{year}/제주/pdf/제주_{info[i]}_{year}_{month_str}_월간보고서.pdf\"\n",
    "#         file2 = f\"./{year}/제주/csv/{info[i]}_{year}_{month}.csv\"\n",
    "        \n",
    "\n",
    "#         dfs = tabula.read_pdf(file1, pages='all', multiple_tables=True)\n",
    "#         dfs[0].to_csv(file2, index=False)\n",
    "#         # tabula.convert_into(file1, file2, output_format=\"csv\", pages='all')  # 중복 저장 방지 위해 주석처리 가능\n",
    "#         print(year,'년',month,'월')\n",
    "#         month += 1\n",
    "#         if month == 13:\n",
    "#             month = 1\n",
    "#             year += 1\n",
    "#             i += 1\n",
    "#             if i == len(info) :\n",
    "#                 break\n",
    "            \n",
    "                \n",
    "            \n",
    "\n",
    "#     # 무한루프 방지를 위해 year 값을 변경하거나 종료\n",
    "#     # year += 1  # year가 1 밖으로 나가면서 루프 종료\n",
    "#     break\n"
   ]
  },
  {
   "cell_type": "code",
   "execution_count": 71,
   "id": "47266e27-2e64-44c8-86c9-2f50a640cfb7",
   "metadata": {},
   "outputs": [
    {
     "name": "stdout",
     "output_type": "stream",
     "text": [
      "2021 년 1 월 수온\n",
      "2021 년 1 월 기온\n",
      "2021 년 1 월 풍속\n",
      "2021 년 2 월 수온\n",
      "2021 년 2 월 기온\n",
      "2021 년 2 월 풍속\n",
      "2021 년 3 월 수온\n",
      "2021 년 3 월 기온\n",
      "2021 년 3 월 풍속\n",
      "2021 년 4 월 수온\n",
      "2021 년 4 월 기온\n",
      "2021 년 4 월 풍속\n",
      "2021 년 5 월 수온\n",
      "2021 년 5 월 기온\n",
      "2021 년 5 월 풍속\n",
      "2021 년 6 월 수온\n",
      "2021 년 6 월 기온\n",
      "2021 년 6 월 풍속\n",
      "2021 년 7 월 수온\n",
      "2021 년 7 월 기온\n",
      "2021 년 7 월 풍속\n",
      "2021 년 8 월 수온\n",
      "2021 년 8 월 기온\n",
      "2021 년 8 월 풍속\n",
      "2021 년 9 월 수온\n",
      "2021 년 9 월 기온\n",
      "2021 년 9 월 풍속\n",
      "2021 년 10 월 수온\n",
      "2021 년 10 월 기온\n",
      "2021 년 10 월 풍속\n",
      "2021 년 11 월 수온\n",
      "2021 년 11 월 기온\n",
      "2021 년 11 월 풍속\n",
      "2021 년 12 월 수온\n",
      "2021 년 12 월 기온\n",
      "2021 년 12 월 풍속\n",
      "2022 년 1 월 수온\n",
      "2022 년 1 월 기온\n",
      "2022 년 1 월 풍속\n",
      "2022 년 2 월 수온\n",
      "2022 년 2 월 기온\n",
      "2022 년 2 월 풍속\n",
      "2022 년 3 월 수온\n",
      "2022 년 3 월 기온\n",
      "2022 년 3 월 풍속\n",
      "2022 년 4 월 수온\n",
      "2022 년 4 월 기온\n",
      "2022 년 4 월 풍속\n",
      "2022 년 5 월 수온\n",
      "2022 년 5 월 기온\n",
      "2022 년 5 월 풍속\n",
      "2022 년 6 월 수온\n",
      "2022 년 6 월 기온\n",
      "2022 년 6 월 풍속\n"
     ]
    },
    {
     "name": "stderr",
     "output_type": "stream",
     "text": [
      "Got stderr: 10월 24, 2025 4:31:23 오후 org.apache.pdfbox.pdmodel.font.PDCIDFontType2 findFontOrSubstitute\n",
      "WARNING: Using fallback font LiberationSans for CID-keyed TrueType font GulimChe\n",
      "10월 24, 2025 4:31:23 오후 org.apache.pdfbox.pdmodel.font.PDCIDFontType2 findFontOrSubstitute\n",
      "WARNING: Using fallback font LiberationSans for CID-keyed TrueType font Gulim,Bold\n",
      "10월 24, 2025 4:31:23 오후 org.apache.pdfbox.pdmodel.font.PDCIDFontType2 findFontOrSubstitute\n",
      "WARNING: Using fallback font LiberationSans for CID-keyed TrueType font Malgun Gothic,Bold\n",
      "\n"
     ]
    },
    {
     "name": "stdout",
     "output_type": "stream",
     "text": [
      "2022 년 7 월 수온\n"
     ]
    },
    {
     "name": "stderr",
     "output_type": "stream",
     "text": [
      "Got stderr: 10월 24, 2025 4:31:23 오후 org.apache.pdfbox.pdmodel.font.PDCIDFontType2 findFontOrSubstitute\n",
      "WARNING: Using fallback font LiberationSans for CID-keyed TrueType font GulimChe\n",
      "10월 24, 2025 4:31:23 오후 org.apache.pdfbox.pdmodel.font.PDCIDFontType2 findFontOrSubstitute\n",
      "WARNING: Using fallback font LiberationSans for CID-keyed TrueType font Gulim,Bold\n",
      "10월 24, 2025 4:31:23 오후 org.apache.pdfbox.pdmodel.font.PDCIDFontType2 findFontOrSubstitute\n",
      "WARNING: Using fallback font LiberationSans for CID-keyed TrueType font Malgun Gothic,Bold\n",
      "10월 24, 2025 4:31:23 오후 org.apache.pdfbox.rendering.TTFGlyph2D getPathForGID\n",
      "WARNING: No glyph for code 13336 (CID 3418) in font GulimChe\n",
      "10월 24, 2025 4:31:23 오후 org.apache.pdfbox.rendering.TTFGlyph2D getPathForGID\n",
      "WARNING: No glyph for code 8036 (CID 1f64) in font Gulim,Bold\n",
      "10월 24, 2025 4:31:23 오후 org.apache.pdfbox.rendering.TTFGlyph2D getPathForGID\n",
      "WARNING: No glyph for code 751 (CID 02ef) in font Malgun Gothic,Bold\n",
      "10월 24, 2025 4:31:24 오후 org.apache.pdfbox.pdmodel.font.PDCIDFontType2 findFontOrSubstitute\n",
      "WARNING: Using fallback font LiberationSans for CID-keyed TrueType font GulimChe\n",
      "10월 24, 2025 4:31:24 오후 org.apache.pdfbox.pdmodel.font.PDCIDFontType2 findFontOrSubstitute\n",
      "WARNING: Using fallback font LiberationSans for CID-keyed TrueType font Gulim,Bold\n",
      "10월 24, 2025 4:31:24 오후 org.apache.pdfbox.pdmodel.font.PDCIDFontType2 findFontOrSubstitute\n",
      "WARNING: Using fallback font LiberationSans for CID-keyed TrueType font Malgun Gothic,Bold\n",
      "\n"
     ]
    },
    {
     "name": "stdout",
     "output_type": "stream",
     "text": [
      "2022 년 7 월 기온\n"
     ]
    },
    {
     "name": "stderr",
     "output_type": "stream",
     "text": [
      "Got stderr: 10월 24, 2025 4:31:24 오후 org.apache.pdfbox.pdmodel.font.PDCIDFontType2 findFontOrSubstitute\n",
      "WARNING: Using fallback font LiberationSans for CID-keyed TrueType font GulimChe\n",
      "10월 24, 2025 4:31:24 오후 org.apache.pdfbox.pdmodel.font.PDCIDFontType2 findFontOrSubstitute\n",
      "WARNING: Using fallback font LiberationSans for CID-keyed TrueType font Gulim,Bold\n",
      "10월 24, 2025 4:31:24 오후 org.apache.pdfbox.pdmodel.font.PDCIDFontType2 findFontOrSubstitute\n",
      "WARNING: Using fallback font LiberationSans for CID-keyed TrueType font Malgun Gothic,Bold\n",
      "\n"
     ]
    },
    {
     "name": "stdout",
     "output_type": "stream",
     "text": [
      "2022 년 7 월 풍속\n"
     ]
    },
    {
     "name": "stderr",
     "output_type": "stream",
     "text": [
      "Got stderr: 10월 24, 2025 4:31:25 오후 org.apache.pdfbox.pdmodel.font.PDCIDFontType2 findFontOrSubstitute\n",
      "WARNING: Using fallback font LiberationSans for CID-keyed TrueType font GulimChe\n",
      "10월 24, 2025 4:31:25 오후 org.apache.pdfbox.pdmodel.font.PDCIDFontType2 findFontOrSubstitute\n",
      "WARNING: Using fallback font LiberationSans for CID-keyed TrueType font Gulim,Bold\n",
      "10월 24, 2025 4:31:25 오후 org.apache.pdfbox.pdmodel.font.PDCIDFontType2 findFontOrSubstitute\n",
      "WARNING: Using fallback font LiberationSans for CID-keyed TrueType font Malgun Gothic,Bold\n",
      "\n"
     ]
    },
    {
     "name": "stdout",
     "output_type": "stream",
     "text": [
      "2022 년 8 월 수온\n"
     ]
    },
    {
     "name": "stderr",
     "output_type": "stream",
     "text": [
      "Got stderr: 10월 24, 2025 4:31:25 오후 org.apache.pdfbox.pdmodel.font.PDCIDFontType2 findFontOrSubstitute\n",
      "WARNING: Using fallback font LiberationSans for CID-keyed TrueType font GulimChe\n",
      "10월 24, 2025 4:31:25 오후 org.apache.pdfbox.pdmodel.font.PDCIDFontType2 findFontOrSubstitute\n",
      "WARNING: Using fallback font LiberationSans for CID-keyed TrueType font Gulim,Bold\n",
      "10월 24, 2025 4:31:25 오후 org.apache.pdfbox.pdmodel.font.PDCIDFontType2 findFontOrSubstitute\n",
      "WARNING: Using fallback font LiberationSans for CID-keyed TrueType font Malgun Gothic,Bold\n",
      "10월 24, 2025 4:31:26 오후 org.apache.pdfbox.rendering.TTFGlyph2D getPathForGID\n",
      "WARNING: No glyph for code 13336 (CID 3418) in font GulimChe\n",
      "10월 24, 2025 4:31:26 오후 org.apache.pdfbox.rendering.TTFGlyph2D getPathForGID\n",
      "WARNING: No glyph for code 8036 (CID 1f64) in font Gulim,Bold\n",
      "10월 24, 2025 4:31:26 오후 org.apache.pdfbox.rendering.TTFGlyph2D getPathForGID\n",
      "WARNING: No glyph for code 751 (CID 02ef) in font Malgun Gothic,Bold\n",
      "10월 24, 2025 4:31:26 오후 org.apache.pdfbox.pdmodel.font.PDCIDFontType2 findFontOrSubstitute\n",
      "WARNING: Using fallback font LiberationSans for CID-keyed TrueType font GulimChe\n",
      "10월 24, 2025 4:31:26 오후 org.apache.pdfbox.pdmodel.font.PDCIDFontType2 findFontOrSubstitute\n",
      "WARNING: Using fallback font LiberationSans for CID-keyed TrueType font Gulim,Bold\n",
      "10월 24, 2025 4:31:26 오후 org.apache.pdfbox.pdmodel.font.PDCIDFontType2 findFontOrSubstitute\n",
      "WARNING: Using fallback font LiberationSans for CID-keyed TrueType font Malgun Gothic,Bold\n",
      "\n"
     ]
    },
    {
     "name": "stdout",
     "output_type": "stream",
     "text": [
      "2022 년 8 월 기온\n"
     ]
    },
    {
     "name": "stderr",
     "output_type": "stream",
     "text": [
      "Got stderr: 10월 24, 2025 4:31:26 오후 org.apache.pdfbox.pdmodel.font.PDCIDFontType2 findFontOrSubstitute\n",
      "WARNING: Using fallback font LiberationSans for CID-keyed TrueType font GulimChe\n",
      "10월 24, 2025 4:31:26 오후 org.apache.pdfbox.pdmodel.font.PDCIDFontType2 findFontOrSubstitute\n",
      "WARNING: Using fallback font LiberationSans for CID-keyed TrueType font Gulim,Bold\n",
      "10월 24, 2025 4:31:26 오후 org.apache.pdfbox.pdmodel.font.PDCIDFontType2 findFontOrSubstitute\n",
      "WARNING: Using fallback font LiberationSans for CID-keyed TrueType font Malgun Gothic,Bold\n",
      "\n"
     ]
    },
    {
     "name": "stdout",
     "output_type": "stream",
     "text": [
      "2022 년 8 월 풍속\n"
     ]
    },
    {
     "name": "stderr",
     "output_type": "stream",
     "text": [
      "Got stderr: 10월 24, 2025 4:31:27 오후 org.apache.pdfbox.pdmodel.font.PDCIDFontType2 findFontOrSubstitute\n",
      "WARNING: Using fallback font LiberationSans for CID-keyed TrueType font GulimChe\n",
      "10월 24, 2025 4:31:27 오후 org.apache.pdfbox.pdmodel.font.PDCIDFontType2 findFontOrSubstitute\n",
      "WARNING: Using fallback font LiberationSans for CID-keyed TrueType font Gulim,Bold\n",
      "10월 24, 2025 4:31:27 오후 org.apache.pdfbox.pdmodel.font.PDCIDFontType2 findFontOrSubstitute\n",
      "WARNING: Using fallback font LiberationSans for CID-keyed TrueType font Malgun Gothic,Bold\n",
      "\n"
     ]
    },
    {
     "name": "stdout",
     "output_type": "stream",
     "text": [
      "2022 년 9 월 수온\n"
     ]
    },
    {
     "name": "stderr",
     "output_type": "stream",
     "text": [
      "Got stderr: 10월 24, 2025 4:31:27 오후 org.apache.pdfbox.pdmodel.font.PDCIDFontType2 findFontOrSubstitute\n",
      "WARNING: Using fallback font LiberationSans for CID-keyed TrueType font GulimChe\n",
      "10월 24, 2025 4:31:27 오후 org.apache.pdfbox.pdmodel.font.PDCIDFontType2 findFontOrSubstitute\n",
      "WARNING: Using fallback font LiberationSans for CID-keyed TrueType font Gulim,Bold\n",
      "10월 24, 2025 4:31:27 오후 org.apache.pdfbox.pdmodel.font.PDCIDFontType2 findFontOrSubstitute\n",
      "WARNING: Using fallback font LiberationSans for CID-keyed TrueType font Malgun Gothic,Bold\n",
      "10월 24, 2025 4:31:28 오후 org.apache.pdfbox.rendering.TTFGlyph2D getPathForGID\n",
      "WARNING: No glyph for code 13336 (CID 3418) in font GulimChe\n",
      "10월 24, 2025 4:31:28 오후 org.apache.pdfbox.rendering.TTFGlyph2D getPathForGID\n",
      "WARNING: No glyph for code 8036 (CID 1f64) in font Gulim,Bold\n",
      "10월 24, 2025 4:31:28 오후 org.apache.pdfbox.rendering.TTFGlyph2D getPathForGID\n",
      "WARNING: No glyph for code 751 (CID 02ef) in font Malgun Gothic,Bold\n",
      "10월 24, 2025 4:31:28 오후 org.apache.pdfbox.pdmodel.font.PDCIDFontType2 findFontOrSubstitute\n",
      "WARNING: Using fallback font LiberationSans for CID-keyed TrueType font GulimChe\n",
      "10월 24, 2025 4:31:28 오후 org.apache.pdfbox.pdmodel.font.PDCIDFontType2 findFontOrSubstitute\n",
      "WARNING: Using fallback font LiberationSans for CID-keyed TrueType font Gulim,Bold\n",
      "10월 24, 2025 4:31:28 오후 org.apache.pdfbox.pdmodel.font.PDCIDFontType2 findFontOrSubstitute\n",
      "WARNING: Using fallback font LiberationSans for CID-keyed TrueType font Malgun Gothic,Bold\n",
      "\n"
     ]
    },
    {
     "name": "stdout",
     "output_type": "stream",
     "text": [
      "2022 년 9 월 기온\n"
     ]
    },
    {
     "name": "stderr",
     "output_type": "stream",
     "text": [
      "Got stderr: 10월 24, 2025 4:31:29 오후 org.apache.pdfbox.pdmodel.font.PDCIDFontType2 findFontOrSubstitute\n",
      "WARNING: Using fallback font LiberationSans for CID-keyed TrueType font GulimChe\n",
      "10월 24, 2025 4:31:29 오후 org.apache.pdfbox.pdmodel.font.PDCIDFontType2 findFontOrSubstitute\n",
      "WARNING: Using fallback font LiberationSans for CID-keyed TrueType font Gulim,Bold\n",
      "10월 24, 2025 4:31:29 오후 org.apache.pdfbox.pdmodel.font.PDCIDFontType2 findFontOrSubstitute\n",
      "WARNING: Using fallback font LiberationSans for CID-keyed TrueType font Malgun Gothic,Bold\n",
      "\n"
     ]
    },
    {
     "name": "stdout",
     "output_type": "stream",
     "text": [
      "2022 년 9 월 풍속\n"
     ]
    },
    {
     "name": "stderr",
     "output_type": "stream",
     "text": [
      "Got stderr: 10월 24, 2025 4:31:29 오후 org.apache.pdfbox.pdmodel.font.PDCIDFontType2 findFontOrSubstitute\n",
      "WARNING: Using fallback font LiberationSans for CID-keyed TrueType font GulimChe\n",
      "10월 24, 2025 4:31:29 오후 org.apache.pdfbox.pdmodel.font.PDCIDFontType2 findFontOrSubstitute\n",
      "WARNING: Using fallback font LiberationSans for CID-keyed TrueType font Gulim,Bold\n",
      "10월 24, 2025 4:31:29 오후 org.apache.pdfbox.pdmodel.font.PDCIDFontType2 findFontOrSubstitute\n",
      "WARNING: Using fallback font LiberationSans for CID-keyed TrueType font Malgun Gothic,Bold\n",
      "\n"
     ]
    },
    {
     "name": "stdout",
     "output_type": "stream",
     "text": [
      "2022 년 10 월 수온\n"
     ]
    },
    {
     "name": "stderr",
     "output_type": "stream",
     "text": [
      "Got stderr: 10월 24, 2025 4:31:30 오후 org.apache.pdfbox.pdmodel.font.PDCIDFontType2 findFontOrSubstitute\n",
      "WARNING: Using fallback font LiberationSans for CID-keyed TrueType font GulimChe\n",
      "10월 24, 2025 4:31:30 오후 org.apache.pdfbox.pdmodel.font.PDCIDFontType2 findFontOrSubstitute\n",
      "WARNING: Using fallback font LiberationSans for CID-keyed TrueType font Gulim,Bold\n",
      "10월 24, 2025 4:31:30 오후 org.apache.pdfbox.pdmodel.font.PDCIDFontType2 findFontOrSubstitute\n",
      "WARNING: Using fallback font LiberationSans for CID-keyed TrueType font Malgun Gothic,Bold\n",
      "10월 24, 2025 4:31:30 오후 org.apache.pdfbox.rendering.TTFGlyph2D getPathForGID\n",
      "WARNING: No glyph for code 13336 (CID 3418) in font GulimChe\n",
      "10월 24, 2025 4:31:30 오후 org.apache.pdfbox.rendering.TTFGlyph2D getPathForGID\n",
      "WARNING: No glyph for code 8036 (CID 1f64) in font Gulim,Bold\n",
      "10월 24, 2025 4:31:30 오후 org.apache.pdfbox.rendering.TTFGlyph2D getPathForGID\n",
      "WARNING: No glyph for code 751 (CID 02ef) in font Malgun Gothic,Bold\n",
      "10월 24, 2025 4:31:30 오후 org.apache.pdfbox.pdmodel.font.PDCIDFontType2 findFontOrSubstitute\n",
      "WARNING: Using fallback font LiberationSans for CID-keyed TrueType font GulimChe\n",
      "10월 24, 2025 4:31:30 오후 org.apache.pdfbox.pdmodel.font.PDCIDFontType2 findFontOrSubstitute\n",
      "WARNING: Using fallback font LiberationSans for CID-keyed TrueType font Gulim,Bold\n",
      "10월 24, 2025 4:31:30 오후 org.apache.pdfbox.pdmodel.font.PDCIDFontType2 findFontOrSubstitute\n",
      "WARNING: Using fallback font LiberationSans for CID-keyed TrueType font Malgun Gothic,Bold\n",
      "\n"
     ]
    },
    {
     "name": "stdout",
     "output_type": "stream",
     "text": [
      "2022 년 10 월 기온\n"
     ]
    },
    {
     "name": "stderr",
     "output_type": "stream",
     "text": [
      "Got stderr: 10월 24, 2025 4:31:31 오후 org.apache.pdfbox.pdmodel.font.PDCIDFontType2 findFontOrSubstitute\n",
      "WARNING: Using fallback font LiberationSans for CID-keyed TrueType font GulimChe\n",
      "10월 24, 2025 4:31:31 오후 org.apache.pdfbox.pdmodel.font.PDCIDFontType2 findFontOrSubstitute\n",
      "WARNING: Using fallback font LiberationSans for CID-keyed TrueType font Gulim,Bold\n",
      "10월 24, 2025 4:31:31 오후 org.apache.pdfbox.pdmodel.font.PDCIDFontType2 findFontOrSubstitute\n",
      "WARNING: Using fallback font LiberationSans for CID-keyed TrueType font Malgun Gothic,Bold\n",
      "\n"
     ]
    },
    {
     "name": "stdout",
     "output_type": "stream",
     "text": [
      "2022 년 10 월 풍속\n"
     ]
    },
    {
     "name": "stderr",
     "output_type": "stream",
     "text": [
      "Got stderr: 10월 24, 2025 4:31:31 오후 org.apache.pdfbox.pdmodel.font.PDCIDFontType2 findFontOrSubstitute\n",
      "WARNING: Using fallback font LiberationSans for CID-keyed TrueType font GulimChe\n",
      "10월 24, 2025 4:31:31 오후 org.apache.pdfbox.pdmodel.font.PDCIDFontType2 findFontOrSubstitute\n",
      "WARNING: Using fallback font LiberationSans for CID-keyed TrueType font Gulim,Bold\n",
      "10월 24, 2025 4:31:31 오후 org.apache.pdfbox.pdmodel.font.PDCIDFontType2 findFontOrSubstitute\n",
      "WARNING: Using fallback font LiberationSans for CID-keyed TrueType font Malgun Gothic,Bold\n",
      "\n"
     ]
    },
    {
     "name": "stdout",
     "output_type": "stream",
     "text": [
      "2022 년 11 월 수온\n"
     ]
    },
    {
     "name": "stderr",
     "output_type": "stream",
     "text": [
      "Got stderr: 10월 24, 2025 4:31:32 오후 org.apache.pdfbox.pdmodel.font.PDCIDFontType2 findFontOrSubstitute\n",
      "WARNING: Using fallback font LiberationSans for CID-keyed TrueType font GulimChe\n",
      "10월 24, 2025 4:31:32 오후 org.apache.pdfbox.pdmodel.font.PDCIDFontType2 findFontOrSubstitute\n",
      "WARNING: Using fallback font LiberationSans for CID-keyed TrueType font Gulim,Bold\n",
      "10월 24, 2025 4:31:32 오후 org.apache.pdfbox.pdmodel.font.PDCIDFontType2 findFontOrSubstitute\n",
      "WARNING: Using fallback font LiberationSans for CID-keyed TrueType font Malgun Gothic,Bold\n",
      "10월 24, 2025 4:31:32 오후 org.apache.pdfbox.rendering.TTFGlyph2D getPathForGID\n",
      "WARNING: No glyph for code 13336 (CID 3418) in font GulimChe\n",
      "10월 24, 2025 4:31:32 오후 org.apache.pdfbox.rendering.TTFGlyph2D getPathForGID\n",
      "WARNING: No glyph for code 8036 (CID 1f64) in font Gulim,Bold\n",
      "10월 24, 2025 4:31:32 오후 org.apache.pdfbox.rendering.TTFGlyph2D getPathForGID\n",
      "WARNING: No glyph for code 751 (CID 02ef) in font Malgun Gothic,Bold\n",
      "10월 24, 2025 4:31:32 오후 org.apache.pdfbox.pdmodel.font.PDCIDFontType2 findFontOrSubstitute\n",
      "WARNING: Using fallback font LiberationSans for CID-keyed TrueType font GulimChe\n",
      "10월 24, 2025 4:31:32 오후 org.apache.pdfbox.pdmodel.font.PDCIDFontType2 findFontOrSubstitute\n",
      "WARNING: Using fallback font LiberationSans for CID-keyed TrueType font Gulim,Bold\n",
      "10월 24, 2025 4:31:32 오후 org.apache.pdfbox.pdmodel.font.PDCIDFontType2 findFontOrSubstitute\n",
      "WARNING: Using fallback font LiberationSans for CID-keyed TrueType font Malgun Gothic,Bold\n",
      "\n"
     ]
    },
    {
     "name": "stdout",
     "output_type": "stream",
     "text": [
      "2022 년 11 월 기온\n"
     ]
    },
    {
     "name": "stderr",
     "output_type": "stream",
     "text": [
      "Got stderr: 10월 24, 2025 4:31:33 오후 org.apache.pdfbox.pdmodel.font.PDCIDFontType2 findFontOrSubstitute\n",
      "WARNING: Using fallback font LiberationSans for CID-keyed TrueType font GulimChe\n",
      "10월 24, 2025 4:31:33 오후 org.apache.pdfbox.pdmodel.font.PDCIDFontType2 findFontOrSubstitute\n",
      "WARNING: Using fallback font LiberationSans for CID-keyed TrueType font Gulim,Bold\n",
      "10월 24, 2025 4:31:33 오후 org.apache.pdfbox.pdmodel.font.PDCIDFontType2 findFontOrSubstitute\n",
      "WARNING: Using fallback font LiberationSans for CID-keyed TrueType font Malgun Gothic,Bold\n",
      "\n"
     ]
    },
    {
     "name": "stdout",
     "output_type": "stream",
     "text": [
      "2022 년 11 월 풍속\n"
     ]
    },
    {
     "name": "stderr",
     "output_type": "stream",
     "text": [
      "Got stderr: 10월 24, 2025 4:31:33 오후 org.apache.pdfbox.pdmodel.font.PDCIDFontType2 findFontOrSubstitute\n",
      "WARNING: Using fallback font LiberationSans for CID-keyed TrueType font GulimChe\n",
      "10월 24, 2025 4:31:34 오후 org.apache.pdfbox.pdmodel.font.PDCIDFontType2 findFontOrSubstitute\n",
      "WARNING: Using fallback font LiberationSans for CID-keyed TrueType font Gulim,Bold\n",
      "10월 24, 2025 4:31:34 오후 org.apache.pdfbox.pdmodel.font.PDCIDFontType2 findFontOrSubstitute\n",
      "WARNING: Using fallback font LiberationSans for CID-keyed TrueType font Malgun Gothic,Bold\n",
      "\n"
     ]
    },
    {
     "name": "stdout",
     "output_type": "stream",
     "text": [
      "2022 년 12 월 수온\n"
     ]
    },
    {
     "name": "stderr",
     "output_type": "stream",
     "text": [
      "Got stderr: 10월 24, 2025 4:31:34 오후 org.apache.pdfbox.pdmodel.font.PDCIDFontType2 findFontOrSubstitute\n",
      "WARNING: Using fallback font LiberationSans for CID-keyed TrueType font GulimChe\n",
      "10월 24, 2025 4:31:34 오후 org.apache.pdfbox.pdmodel.font.PDCIDFontType2 findFontOrSubstitute\n",
      "WARNING: Using fallback font LiberationSans for CID-keyed TrueType font Gulim,Bold\n",
      "10월 24, 2025 4:31:34 오후 org.apache.pdfbox.pdmodel.font.PDCIDFontType2 findFontOrSubstitute\n",
      "WARNING: Using fallback font LiberationSans for CID-keyed TrueType font Malgun Gothic,Bold\n",
      "10월 24, 2025 4:31:34 오후 org.apache.pdfbox.rendering.TTFGlyph2D getPathForGID\n",
      "WARNING: No glyph for code 13336 (CID 3418) in font GulimChe\n",
      "10월 24, 2025 4:31:34 오후 org.apache.pdfbox.rendering.TTFGlyph2D getPathForGID\n",
      "WARNING: No glyph for code 8036 (CID 1f64) in font Gulim,Bold\n",
      "10월 24, 2025 4:31:34 오후 org.apache.pdfbox.rendering.TTFGlyph2D getPathForGID\n",
      "WARNING: No glyph for code 751 (CID 02ef) in font Malgun Gothic,Bold\n",
      "10월 24, 2025 4:31:34 오후 org.apache.pdfbox.pdmodel.font.PDCIDFontType2 findFontOrSubstitute\n",
      "WARNING: Using fallback font LiberationSans for CID-keyed TrueType font GulimChe\n",
      "10월 24, 2025 4:31:34 오후 org.apache.pdfbox.pdmodel.font.PDCIDFontType2 findFontOrSubstitute\n",
      "WARNING: Using fallback font LiberationSans for CID-keyed TrueType font Gulim,Bold\n",
      "10월 24, 2025 4:31:34 오후 org.apache.pdfbox.pdmodel.font.PDCIDFontType2 findFontOrSubstitute\n",
      "WARNING: Using fallback font LiberationSans for CID-keyed TrueType font Malgun Gothic,Bold\n",
      "\n"
     ]
    },
    {
     "name": "stdout",
     "output_type": "stream",
     "text": [
      "2022 년 12 월 기온\n"
     ]
    },
    {
     "name": "stderr",
     "output_type": "stream",
     "text": [
      "Got stderr: 10월 24, 2025 4:31:35 오후 org.apache.pdfbox.pdmodel.font.PDCIDFontType2 findFontOrSubstitute\n",
      "WARNING: Using fallback font LiberationSans for CID-keyed TrueType font GulimChe\n",
      "10월 24, 2025 4:31:35 오후 org.apache.pdfbox.pdmodel.font.PDCIDFontType2 findFontOrSubstitute\n",
      "WARNING: Using fallback font LiberationSans for CID-keyed TrueType font Gulim,Bold\n",
      "10월 24, 2025 4:31:35 오후 org.apache.pdfbox.pdmodel.font.PDCIDFontType2 findFontOrSubstitute\n",
      "WARNING: Using fallback font LiberationSans for CID-keyed TrueType font Malgun Gothic,Bold\n",
      "\n"
     ]
    },
    {
     "name": "stdout",
     "output_type": "stream",
     "text": [
      "2022 년 12 월 풍속\n"
     ]
    },
    {
     "name": "stderr",
     "output_type": "stream",
     "text": [
      "Got stderr: 10월 24, 2025 4:31:36 오후 org.apache.pdfbox.pdmodel.font.PDCIDFontType2 findFontOrSubstitute\n",
      "WARNING: Using fallback font LiberationSans for CID-keyed TrueType font GulimChe\n",
      "10월 24, 2025 4:31:36 오후 org.apache.pdfbox.pdmodel.font.PDCIDFontType2 findFontOrSubstitute\n",
      "WARNING: Using fallback font LiberationSans for CID-keyed TrueType font Gulim,Bold\n",
      "10월 24, 2025 4:31:36 오후 org.apache.pdfbox.pdmodel.font.PDCIDFontType2 findFontOrSubstitute\n",
      "WARNING: Using fallback font LiberationSans for CID-keyed TrueType font Malgun Gothic,Bold\n",
      "\n"
     ]
    },
    {
     "name": "stdout",
     "output_type": "stream",
     "text": [
      "2023 년 1 월 수온\n"
     ]
    },
    {
     "name": "stderr",
     "output_type": "stream",
     "text": [
      "Got stderr: 10월 24, 2025 4:31:36 오후 org.apache.pdfbox.pdmodel.font.PDCIDFontType2 findFontOrSubstitute\n",
      "WARNING: Using fallback font LiberationSans for CID-keyed TrueType font GulimChe\n",
      "10월 24, 2025 4:31:36 오후 org.apache.pdfbox.pdmodel.font.PDCIDFontType2 findFontOrSubstitute\n",
      "WARNING: Using fallback font LiberationSans for CID-keyed TrueType font Gulim,Bold\n",
      "10월 24, 2025 4:31:36 오후 org.apache.pdfbox.pdmodel.font.PDCIDFontType2 findFontOrSubstitute\n",
      "WARNING: Using fallback font LiberationSans for CID-keyed TrueType font Malgun Gothic,Bold\n",
      "10월 24, 2025 4:31:36 오후 org.apache.pdfbox.rendering.TTFGlyph2D getPathForGID\n",
      "WARNING: No glyph for code 13336 (CID 3418) in font GulimChe\n",
      "10월 24, 2025 4:31:36 오후 org.apache.pdfbox.rendering.TTFGlyph2D getPathForGID\n",
      "WARNING: No glyph for code 8036 (CID 1f64) in font Gulim,Bold\n",
      "10월 24, 2025 4:31:36 오후 org.apache.pdfbox.rendering.TTFGlyph2D getPathForGID\n",
      "WARNING: No glyph for code 751 (CID 02ef) in font Malgun Gothic,Bold\n",
      "10월 24, 2025 4:31:37 오후 org.apache.pdfbox.pdmodel.font.PDCIDFontType2 findFontOrSubstitute\n",
      "WARNING: Using fallback font LiberationSans for CID-keyed TrueType font GulimChe\n",
      "10월 24, 2025 4:31:37 오후 org.apache.pdfbox.pdmodel.font.PDCIDFontType2 findFontOrSubstitute\n",
      "WARNING: Using fallback font LiberationSans for CID-keyed TrueType font Gulim,Bold\n",
      "10월 24, 2025 4:31:37 오후 org.apache.pdfbox.pdmodel.font.PDCIDFontType2 findFontOrSubstitute\n",
      "WARNING: Using fallback font LiberationSans for CID-keyed TrueType font Malgun Gothic,Bold\n",
      "\n"
     ]
    },
    {
     "name": "stdout",
     "output_type": "stream",
     "text": [
      "2023 년 1 월 기온\n"
     ]
    },
    {
     "name": "stderr",
     "output_type": "stream",
     "text": [
      "Got stderr: 10월 24, 2025 4:31:37 오후 org.apache.pdfbox.pdmodel.font.PDCIDFontType2 findFontOrSubstitute\n",
      "WARNING: Using fallback font LiberationSans for CID-keyed TrueType font GulimChe\n",
      "10월 24, 2025 4:31:37 오후 org.apache.pdfbox.pdmodel.font.PDCIDFontType2 findFontOrSubstitute\n",
      "WARNING: Using fallback font LiberationSans for CID-keyed TrueType font Gulim,Bold\n",
      "10월 24, 2025 4:31:37 오후 org.apache.pdfbox.pdmodel.font.PDCIDFontType2 findFontOrSubstitute\n",
      "WARNING: Using fallback font LiberationSans for CID-keyed TrueType font Malgun Gothic,Bold\n",
      "\n"
     ]
    },
    {
     "name": "stdout",
     "output_type": "stream",
     "text": [
      "2023 년 1 월 풍속\n"
     ]
    },
    {
     "name": "stderr",
     "output_type": "stream",
     "text": [
      "Got stderr: 10월 24, 2025 4:31:38 오후 org.apache.pdfbox.pdmodel.font.PDCIDFontType2 findFontOrSubstitute\n",
      "WARNING: Using fallback font LiberationSans for CID-keyed TrueType font GulimChe\n",
      "10월 24, 2025 4:31:38 오후 org.apache.pdfbox.pdmodel.font.PDCIDFontType2 findFontOrSubstitute\n",
      "WARNING: Using fallback font LiberationSans for CID-keyed TrueType font Gulim,Bold\n",
      "10월 24, 2025 4:31:38 오후 org.apache.pdfbox.pdmodel.font.PDCIDFontType2 findFontOrSubstitute\n",
      "WARNING: Using fallback font LiberationSans for CID-keyed TrueType font Malgun Gothic,Bold\n",
      "\n"
     ]
    },
    {
     "name": "stdout",
     "output_type": "stream",
     "text": [
      "2023 년 2 월 수온\n"
     ]
    },
    {
     "name": "stderr",
     "output_type": "stream",
     "text": [
      "Got stderr: 10월 24, 2025 4:31:38 오후 org.apache.pdfbox.pdmodel.font.PDCIDFontType2 findFontOrSubstitute\n",
      "WARNING: Using fallback font LiberationSans for CID-keyed TrueType font GulimChe\n",
      "10월 24, 2025 4:31:38 오후 org.apache.pdfbox.pdmodel.font.PDCIDFontType2 findFontOrSubstitute\n",
      "WARNING: Using fallback font LiberationSans for CID-keyed TrueType font Gulim,Bold\n",
      "10월 24, 2025 4:31:38 오후 org.apache.pdfbox.pdmodel.font.PDCIDFontType2 findFontOrSubstitute\n",
      "WARNING: Using fallback font LiberationSans for CID-keyed TrueType font Malgun Gothic,Bold\n",
      "10월 24, 2025 4:31:39 오후 org.apache.pdfbox.rendering.TTFGlyph2D getPathForGID\n",
      "WARNING: No glyph for code 13336 (CID 3418) in font GulimChe\n",
      "10월 24, 2025 4:31:39 오후 org.apache.pdfbox.rendering.TTFGlyph2D getPathForGID\n",
      "WARNING: No glyph for code 8036 (CID 1f64) in font Gulim,Bold\n",
      "10월 24, 2025 4:31:39 오후 org.apache.pdfbox.rendering.TTFGlyph2D getPathForGID\n",
      "WARNING: No glyph for code 751 (CID 02ef) in font Malgun Gothic,Bold\n",
      "10월 24, 2025 4:31:39 오후 org.apache.pdfbox.pdmodel.font.PDCIDFontType2 findFontOrSubstitute\n",
      "WARNING: Using fallback font LiberationSans for CID-keyed TrueType font GulimChe\n",
      "10월 24, 2025 4:31:39 오후 org.apache.pdfbox.pdmodel.font.PDCIDFontType2 findFontOrSubstitute\n",
      "WARNING: Using fallback font LiberationSans for CID-keyed TrueType font Gulim,Bold\n",
      "10월 24, 2025 4:31:39 오후 org.apache.pdfbox.pdmodel.font.PDCIDFontType2 findFontOrSubstitute\n",
      "WARNING: Using fallback font LiberationSans for CID-keyed TrueType font Malgun Gothic,Bold\n",
      "\n"
     ]
    },
    {
     "name": "stdout",
     "output_type": "stream",
     "text": [
      "2023 년 2 월 기온\n"
     ]
    },
    {
     "name": "stderr",
     "output_type": "stream",
     "text": [
      "Got stderr: 10월 24, 2025 4:31:40 오후 org.apache.pdfbox.pdmodel.font.PDCIDFontType2 findFontOrSubstitute\n",
      "WARNING: Using fallback font LiberationSans for CID-keyed TrueType font GulimChe\n",
      "10월 24, 2025 4:31:40 오후 org.apache.pdfbox.pdmodel.font.PDCIDFontType2 findFontOrSubstitute\n",
      "WARNING: Using fallback font LiberationSans for CID-keyed TrueType font Gulim,Bold\n",
      "10월 24, 2025 4:31:40 오후 org.apache.pdfbox.pdmodel.font.PDCIDFontType2 findFontOrSubstitute\n",
      "WARNING: Using fallback font LiberationSans for CID-keyed TrueType font Malgun Gothic,Bold\n",
      "\n"
     ]
    },
    {
     "name": "stdout",
     "output_type": "stream",
     "text": [
      "2023 년 2 월 풍속\n"
     ]
    },
    {
     "name": "stderr",
     "output_type": "stream",
     "text": [
      "Got stderr: 10월 24, 2025 4:31:40 오후 org.apache.pdfbox.pdmodel.font.PDCIDFontType2 findFontOrSubstitute\n",
      "WARNING: Using fallback font LiberationSans for CID-keyed TrueType font GulimChe\n",
      "10월 24, 2025 4:31:40 오후 org.apache.pdfbox.pdmodel.font.PDCIDFontType2 findFontOrSubstitute\n",
      "WARNING: Using fallback font LiberationSans for CID-keyed TrueType font Gulim,Bold\n",
      "10월 24, 2025 4:31:40 오후 org.apache.pdfbox.pdmodel.font.PDCIDFontType2 findFontOrSubstitute\n",
      "WARNING: Using fallback font LiberationSans for CID-keyed TrueType font Malgun Gothic,Bold\n",
      "\n"
     ]
    },
    {
     "name": "stdout",
     "output_type": "stream",
     "text": [
      "2023 년 3 월 수온\n"
     ]
    },
    {
     "name": "stderr",
     "output_type": "stream",
     "text": [
      "Got stderr: 10월 24, 2025 4:31:41 오후 org.apache.pdfbox.pdmodel.font.PDCIDFontType2 findFontOrSubstitute\n",
      "WARNING: Using fallback font LiberationSans for CID-keyed TrueType font GulimChe\n",
      "10월 24, 2025 4:31:41 오후 org.apache.pdfbox.pdmodel.font.PDCIDFontType2 findFontOrSubstitute\n",
      "WARNING: Using fallback font LiberationSans for CID-keyed TrueType font Gulim,Bold\n",
      "10월 24, 2025 4:31:41 오후 org.apache.pdfbox.pdmodel.font.PDCIDFontType2 findFontOrSubstitute\n",
      "WARNING: Using fallback font LiberationSans for CID-keyed TrueType font Malgun Gothic,Bold\n",
      "10월 24, 2025 4:31:41 오후 org.apache.pdfbox.rendering.TTFGlyph2D getPathForGID\n",
      "WARNING: No glyph for code 13336 (CID 3418) in font GulimChe\n",
      "10월 24, 2025 4:31:41 오후 org.apache.pdfbox.rendering.TTFGlyph2D getPathForGID\n",
      "WARNING: No glyph for code 8036 (CID 1f64) in font Gulim,Bold\n",
      "10월 24, 2025 4:31:41 오후 org.apache.pdfbox.rendering.TTFGlyph2D getPathForGID\n",
      "WARNING: No glyph for code 751 (CID 02ef) in font Malgun Gothic,Bold\n",
      "10월 24, 2025 4:31:41 오후 org.apache.pdfbox.pdmodel.font.PDCIDFontType2 findFontOrSubstitute\n",
      "WARNING: Using fallback font LiberationSans for CID-keyed TrueType font GulimChe\n",
      "10월 24, 2025 4:31:41 오후 org.apache.pdfbox.pdmodel.font.PDCIDFontType2 findFontOrSubstitute\n",
      "WARNING: Using fallback font LiberationSans for CID-keyed TrueType font Gulim,Bold\n",
      "10월 24, 2025 4:31:41 오후 org.apache.pdfbox.pdmodel.font.PDCIDFontType2 findFontOrSubstitute\n",
      "WARNING: Using fallback font LiberationSans for CID-keyed TrueType font Malgun Gothic,Bold\n",
      "\n"
     ]
    },
    {
     "name": "stdout",
     "output_type": "stream",
     "text": [
      "2023 년 3 월 기온\n"
     ]
    },
    {
     "name": "stderr",
     "output_type": "stream",
     "text": [
      "Got stderr: 10월 24, 2025 4:31:42 오후 org.apache.pdfbox.pdmodel.font.PDCIDFontType2 findFontOrSubstitute\n",
      "WARNING: Using fallback font LiberationSans for CID-keyed TrueType font GulimChe\n",
      "10월 24, 2025 4:31:42 오후 org.apache.pdfbox.pdmodel.font.PDCIDFontType2 findFontOrSubstitute\n",
      "WARNING: Using fallback font LiberationSans for CID-keyed TrueType font Gulim,Bold\n",
      "10월 24, 2025 4:31:42 오후 org.apache.pdfbox.pdmodel.font.PDCIDFontType2 findFontOrSubstitute\n",
      "WARNING: Using fallback font LiberationSans for CID-keyed TrueType font Malgun Gothic,Bold\n",
      "\n"
     ]
    },
    {
     "name": "stdout",
     "output_type": "stream",
     "text": [
      "2023 년 3 월 풍속\n"
     ]
    },
    {
     "name": "stderr",
     "output_type": "stream",
     "text": [
      "Got stderr: 10월 24, 2025 4:31:42 오후 org.apache.pdfbox.pdmodel.font.PDCIDFontType2 findFontOrSubstitute\n",
      "WARNING: Using fallback font LiberationSans for CID-keyed TrueType font GulimChe\n",
      "10월 24, 2025 4:31:42 오후 org.apache.pdfbox.pdmodel.font.PDCIDFontType2 findFontOrSubstitute\n",
      "WARNING: Using fallback font LiberationSans for CID-keyed TrueType font Gulim,Bold\n",
      "10월 24, 2025 4:31:42 오후 org.apache.pdfbox.pdmodel.font.PDCIDFontType2 findFontOrSubstitute\n",
      "WARNING: Using fallback font LiberationSans for CID-keyed TrueType font Malgun Gothic,Bold\n",
      "\n"
     ]
    },
    {
     "name": "stdout",
     "output_type": "stream",
     "text": [
      "2023 년 4 월 수온\n"
     ]
    },
    {
     "name": "stderr",
     "output_type": "stream",
     "text": [
      "Got stderr: 10월 24, 2025 4:31:43 오후 org.apache.pdfbox.pdmodel.font.PDCIDFontType2 findFontOrSubstitute\n",
      "WARNING: Using fallback font LiberationSans for CID-keyed TrueType font GulimChe\n",
      "10월 24, 2025 4:31:43 오후 org.apache.pdfbox.pdmodel.font.PDCIDFontType2 findFontOrSubstitute\n",
      "WARNING: Using fallback font LiberationSans for CID-keyed TrueType font Gulim,Bold\n",
      "10월 24, 2025 4:31:43 오후 org.apache.pdfbox.pdmodel.font.PDCIDFontType2 findFontOrSubstitute\n",
      "WARNING: Using fallback font LiberationSans for CID-keyed TrueType font Malgun Gothic,Bold\n",
      "10월 24, 2025 4:31:43 오후 org.apache.pdfbox.rendering.TTFGlyph2D getPathForGID\n",
      "WARNING: No glyph for code 13336 (CID 3418) in font GulimChe\n",
      "10월 24, 2025 4:31:43 오후 org.apache.pdfbox.rendering.TTFGlyph2D getPathForGID\n",
      "WARNING: No glyph for code 8036 (CID 1f64) in font Gulim,Bold\n",
      "10월 24, 2025 4:31:43 오후 org.apache.pdfbox.rendering.TTFGlyph2D getPathForGID\n",
      "WARNING: No glyph for code 751 (CID 02ef) in font Malgun Gothic,Bold\n",
      "10월 24, 2025 4:31:43 오후 org.apache.pdfbox.pdmodel.font.PDCIDFontType2 findFontOrSubstitute\n",
      "WARNING: Using fallback font LiberationSans for CID-keyed TrueType font GulimChe\n",
      "10월 24, 2025 4:31:43 오후 org.apache.pdfbox.pdmodel.font.PDCIDFontType2 findFontOrSubstitute\n",
      "WARNING: Using fallback font LiberationSans for CID-keyed TrueType font Gulim,Bold\n",
      "10월 24, 2025 4:31:43 오후 org.apache.pdfbox.pdmodel.font.PDCIDFontType2 findFontOrSubstitute\n",
      "WARNING: Using fallback font LiberationSans for CID-keyed TrueType font Malgun Gothic,Bold\n",
      "\n"
     ]
    },
    {
     "name": "stdout",
     "output_type": "stream",
     "text": [
      "2023 년 4 월 기온\n"
     ]
    },
    {
     "name": "stderr",
     "output_type": "stream",
     "text": [
      "Got stderr: 10월 24, 2025 4:31:44 오후 org.apache.pdfbox.pdmodel.font.PDCIDFontType2 findFontOrSubstitute\n",
      "WARNING: Using fallback font LiberationSans for CID-keyed TrueType font GulimChe\n",
      "10월 24, 2025 4:31:44 오후 org.apache.pdfbox.pdmodel.font.PDCIDFontType2 findFontOrSubstitute\n",
      "WARNING: Using fallback font LiberationSans for CID-keyed TrueType font Gulim,Bold\n",
      "10월 24, 2025 4:31:44 오후 org.apache.pdfbox.pdmodel.font.PDCIDFontType2 findFontOrSubstitute\n",
      "WARNING: Using fallback font LiberationSans for CID-keyed TrueType font Malgun Gothic,Bold\n",
      "\n"
     ]
    },
    {
     "name": "stdout",
     "output_type": "stream",
     "text": [
      "2023 년 4 월 풍속\n"
     ]
    },
    {
     "name": "stderr",
     "output_type": "stream",
     "text": [
      "Got stderr: 10월 24, 2025 4:31:44 오후 org.apache.pdfbox.pdmodel.font.PDCIDFontType2 findFontOrSubstitute\n",
      "WARNING: Using fallback font LiberationSans for CID-keyed TrueType font GulimChe\n",
      "10월 24, 2025 4:31:44 오후 org.apache.pdfbox.pdmodel.font.PDCIDFontType2 findFontOrSubstitute\n",
      "WARNING: Using fallback font LiberationSans for CID-keyed TrueType font Gulim,Bold\n",
      "10월 24, 2025 4:31:44 오후 org.apache.pdfbox.pdmodel.font.PDCIDFontType2 findFontOrSubstitute\n",
      "WARNING: Using fallback font LiberationSans for CID-keyed TrueType font Malgun Gothic,Bold\n",
      "\n"
     ]
    },
    {
     "name": "stdout",
     "output_type": "stream",
     "text": [
      "2023 년 5 월 수온\n"
     ]
    },
    {
     "name": "stderr",
     "output_type": "stream",
     "text": [
      "Got stderr: 10월 24, 2025 4:31:45 오후 org.apache.pdfbox.pdmodel.font.PDCIDFontType2 findFontOrSubstitute\n",
      "WARNING: Using fallback font LiberationSans for CID-keyed TrueType font GulimChe\n",
      "10월 24, 2025 4:31:45 오후 org.apache.pdfbox.pdmodel.font.PDCIDFontType2 findFontOrSubstitute\n",
      "WARNING: Using fallback font LiberationSans for CID-keyed TrueType font Gulim,Bold\n",
      "10월 24, 2025 4:31:45 오후 org.apache.pdfbox.pdmodel.font.PDCIDFontType2 findFontOrSubstitute\n",
      "WARNING: Using fallback font LiberationSans for CID-keyed TrueType font Malgun Gothic,Bold\n",
      "10월 24, 2025 4:31:45 오후 org.apache.pdfbox.rendering.TTFGlyph2D getPathForGID\n",
      "WARNING: No glyph for code 13336 (CID 3418) in font GulimChe\n",
      "10월 24, 2025 4:31:45 오후 org.apache.pdfbox.rendering.TTFGlyph2D getPathForGID\n",
      "WARNING: No glyph for code 8036 (CID 1f64) in font Gulim,Bold\n",
      "10월 24, 2025 4:31:45 오후 org.apache.pdfbox.rendering.TTFGlyph2D getPathForGID\n",
      "WARNING: No glyph for code 751 (CID 02ef) in font Malgun Gothic,Bold\n",
      "10월 24, 2025 4:31:45 오후 org.apache.pdfbox.pdmodel.font.PDCIDFontType2 findFontOrSubstitute\n",
      "WARNING: Using fallback font LiberationSans for CID-keyed TrueType font GulimChe\n",
      "10월 24, 2025 4:31:45 오후 org.apache.pdfbox.pdmodel.font.PDCIDFontType2 findFontOrSubstitute\n",
      "WARNING: Using fallback font LiberationSans for CID-keyed TrueType font Gulim,Bold\n",
      "10월 24, 2025 4:31:45 오후 org.apache.pdfbox.pdmodel.font.PDCIDFontType2 findFontOrSubstitute\n",
      "WARNING: Using fallback font LiberationSans for CID-keyed TrueType font Malgun Gothic,Bold\n",
      "\n"
     ]
    },
    {
     "name": "stdout",
     "output_type": "stream",
     "text": [
      "2023 년 5 월 기온\n"
     ]
    },
    {
     "name": "stderr",
     "output_type": "stream",
     "text": [
      "Got stderr: 10월 24, 2025 4:31:46 오후 org.apache.pdfbox.pdmodel.font.PDCIDFontType2 findFontOrSubstitute\n",
      "WARNING: Using fallback font LiberationSans for CID-keyed TrueType font GulimChe\n",
      "10월 24, 2025 4:31:46 오후 org.apache.pdfbox.pdmodel.font.PDCIDFontType2 findFontOrSubstitute\n",
      "WARNING: Using fallback font LiberationSans for CID-keyed TrueType font Gulim,Bold\n",
      "10월 24, 2025 4:31:46 오후 org.apache.pdfbox.pdmodel.font.PDCIDFontType2 findFontOrSubstitute\n",
      "WARNING: Using fallback font LiberationSans for CID-keyed TrueType font Malgun Gothic,Bold\n",
      "\n"
     ]
    },
    {
     "name": "stdout",
     "output_type": "stream",
     "text": [
      "2023 년 5 월 풍속\n"
     ]
    },
    {
     "name": "stderr",
     "output_type": "stream",
     "text": [
      "Got stderr: 10월 24, 2025 4:31:46 오후 org.apache.pdfbox.pdmodel.font.PDCIDFontType2 findFontOrSubstitute\n",
      "WARNING: Using fallback font LiberationSans for CID-keyed TrueType font GulimChe\n",
      "10월 24, 2025 4:31:47 오후 org.apache.pdfbox.pdmodel.font.PDCIDFontType2 findFontOrSubstitute\n",
      "WARNING: Using fallback font LiberationSans for CID-keyed TrueType font Gulim,Bold\n",
      "10월 24, 2025 4:31:47 오후 org.apache.pdfbox.pdmodel.font.PDCIDFontType2 findFontOrSubstitute\n",
      "WARNING: Using fallback font LiberationSans for CID-keyed TrueType font Malgun Gothic,Bold\n",
      "\n"
     ]
    },
    {
     "name": "stdout",
     "output_type": "stream",
     "text": [
      "2023 년 6 월 수온\n"
     ]
    },
    {
     "name": "stderr",
     "output_type": "stream",
     "text": [
      "Got stderr: 10월 24, 2025 4:31:47 오후 org.apache.pdfbox.pdmodel.font.PDCIDFontType2 findFontOrSubstitute\n",
      "WARNING: Using fallback font LiberationSans for CID-keyed TrueType font GulimChe\n",
      "10월 24, 2025 4:31:47 오후 org.apache.pdfbox.pdmodel.font.PDCIDFontType2 findFontOrSubstitute\n",
      "WARNING: Using fallback font LiberationSans for CID-keyed TrueType font Gulim,Bold\n",
      "10월 24, 2025 4:31:47 오후 org.apache.pdfbox.pdmodel.font.PDCIDFontType2 findFontOrSubstitute\n",
      "WARNING: Using fallback font LiberationSans for CID-keyed TrueType font Malgun Gothic,Bold\n",
      "10월 24, 2025 4:31:47 오후 org.apache.pdfbox.rendering.TTFGlyph2D getPathForGID\n",
      "WARNING: No glyph for code 13336 (CID 3418) in font GulimChe\n",
      "10월 24, 2025 4:31:47 오후 org.apache.pdfbox.rendering.TTFGlyph2D getPathForGID\n",
      "WARNING: No glyph for code 8036 (CID 1f64) in font Gulim,Bold\n",
      "10월 24, 2025 4:31:47 오후 org.apache.pdfbox.rendering.TTFGlyph2D getPathForGID\n",
      "WARNING: No glyph for code 751 (CID 02ef) in font Malgun Gothic,Bold\n",
      "10월 24, 2025 4:31:47 오후 org.apache.pdfbox.pdmodel.font.PDCIDFontType2 findFontOrSubstitute\n",
      "WARNING: Using fallback font LiberationSans for CID-keyed TrueType font GulimChe\n",
      "10월 24, 2025 4:31:47 오후 org.apache.pdfbox.pdmodel.font.PDCIDFontType2 findFontOrSubstitute\n",
      "WARNING: Using fallback font LiberationSans for CID-keyed TrueType font Gulim,Bold\n",
      "10월 24, 2025 4:31:47 오후 org.apache.pdfbox.pdmodel.font.PDCIDFontType2 findFontOrSubstitute\n",
      "WARNING: Using fallback font LiberationSans for CID-keyed TrueType font Malgun Gothic,Bold\n",
      "\n"
     ]
    },
    {
     "name": "stdout",
     "output_type": "stream",
     "text": [
      "2023 년 6 월 기온\n"
     ]
    },
    {
     "name": "stderr",
     "output_type": "stream",
     "text": [
      "Got stderr: 10월 24, 2025 4:31:48 오후 org.apache.pdfbox.pdmodel.font.PDCIDFontType2 findFontOrSubstitute\n",
      "WARNING: Using fallback font LiberationSans for CID-keyed TrueType font GulimChe\n",
      "10월 24, 2025 4:31:48 오후 org.apache.pdfbox.pdmodel.font.PDCIDFontType2 findFontOrSubstitute\n",
      "WARNING: Using fallback font LiberationSans for CID-keyed TrueType font Gulim,Bold\n",
      "10월 24, 2025 4:31:48 오후 org.apache.pdfbox.pdmodel.font.PDCIDFontType2 findFontOrSubstitute\n",
      "WARNING: Using fallback font LiberationSans for CID-keyed TrueType font Malgun Gothic,Bold\n",
      "\n"
     ]
    },
    {
     "name": "stdout",
     "output_type": "stream",
     "text": [
      "2023 년 6 월 풍속\n"
     ]
    },
    {
     "name": "stderr",
     "output_type": "stream",
     "text": [
      "Got stderr: 10월 24, 2025 4:31:49 오후 org.apache.pdfbox.pdmodel.font.PDCIDFontType2 findFontOrSubstitute\n",
      "WARNING: Using fallback font LiberationSans for CID-keyed TrueType font GulimChe\n",
      "10월 24, 2025 4:31:49 오후 org.apache.pdfbox.pdmodel.font.PDCIDFontType2 findFontOrSubstitute\n",
      "WARNING: Using fallback font LiberationSans for CID-keyed TrueType font Gulim,Bold\n",
      "10월 24, 2025 4:31:49 오후 org.apache.pdfbox.pdmodel.font.PDCIDFontType2 findFontOrSubstitute\n",
      "WARNING: Using fallback font LiberationSans for CID-keyed TrueType font Malgun Gothic,Bold\n",
      "\n"
     ]
    },
    {
     "name": "stdout",
     "output_type": "stream",
     "text": [
      "2023 년 7 월 수온\n"
     ]
    },
    {
     "name": "stderr",
     "output_type": "stream",
     "text": [
      "Got stderr: 10월 24, 2025 4:31:49 오후 org.apache.pdfbox.pdmodel.font.PDCIDFontType2 findFontOrSubstitute\n",
      "WARNING: Using fallback font LiberationSans for CID-keyed TrueType font GulimChe\n",
      "10월 24, 2025 4:31:49 오후 org.apache.pdfbox.pdmodel.font.PDCIDFontType2 findFontOrSubstitute\n",
      "WARNING: Using fallback font LiberationSans for CID-keyed TrueType font Gulim,Bold\n",
      "10월 24, 2025 4:31:49 오후 org.apache.pdfbox.pdmodel.font.PDCIDFontType2 findFontOrSubstitute\n",
      "WARNING: Using fallback font LiberationSans for CID-keyed TrueType font Malgun Gothic,Bold\n",
      "10월 24, 2025 4:31:49 오후 org.apache.pdfbox.rendering.TTFGlyph2D getPathForGID\n",
      "WARNING: No glyph for code 13336 (CID 3418) in font GulimChe\n",
      "10월 24, 2025 4:31:49 오후 org.apache.pdfbox.rendering.TTFGlyph2D getPathForGID\n",
      "WARNING: No glyph for code 8036 (CID 1f64) in font Gulim,Bold\n",
      "10월 24, 2025 4:31:49 오후 org.apache.pdfbox.rendering.TTFGlyph2D getPathForGID\n",
      "WARNING: No glyph for code 751 (CID 02ef) in font Malgun Gothic,Bold\n",
      "10월 24, 2025 4:31:49 오후 org.apache.pdfbox.pdmodel.font.PDCIDFontType2 findFontOrSubstitute\n",
      "WARNING: Using fallback font LiberationSans for CID-keyed TrueType font GulimChe\n",
      "10월 24, 2025 4:31:49 오후 org.apache.pdfbox.pdmodel.font.PDCIDFontType2 findFontOrSubstitute\n",
      "WARNING: Using fallback font LiberationSans for CID-keyed TrueType font Gulim,Bold\n",
      "10월 24, 2025 4:31:49 오후 org.apache.pdfbox.pdmodel.font.PDCIDFontType2 findFontOrSubstitute\n",
      "WARNING: Using fallback font LiberationSans for CID-keyed TrueType font Malgun Gothic,Bold\n",
      "\n"
     ]
    },
    {
     "name": "stdout",
     "output_type": "stream",
     "text": [
      "2023 년 7 월 기온\n"
     ]
    },
    {
     "name": "stderr",
     "output_type": "stream",
     "text": [
      "Got stderr: 10월 24, 2025 4:31:50 오후 org.apache.pdfbox.pdmodel.font.PDCIDFontType2 findFontOrSubstitute\n",
      "WARNING: Using fallback font LiberationSans for CID-keyed TrueType font GulimChe\n",
      "10월 24, 2025 4:31:50 오후 org.apache.pdfbox.pdmodel.font.PDCIDFontType2 findFontOrSubstitute\n",
      "WARNING: Using fallback font LiberationSans for CID-keyed TrueType font Gulim,Bold\n",
      "10월 24, 2025 4:31:50 오후 org.apache.pdfbox.pdmodel.font.PDCIDFontType2 findFontOrSubstitute\n",
      "WARNING: Using fallback font LiberationSans for CID-keyed TrueType font Malgun Gothic,Bold\n",
      "\n"
     ]
    },
    {
     "name": "stdout",
     "output_type": "stream",
     "text": [
      "2023 년 7 월 풍속\n"
     ]
    },
    {
     "name": "stderr",
     "output_type": "stream",
     "text": [
      "Got stderr: 10월 24, 2025 4:31:51 오후 org.apache.pdfbox.pdmodel.font.PDCIDFontType2 findFontOrSubstitute\n",
      "WARNING: Using fallback font LiberationSans for CID-keyed TrueType font GulimChe\n",
      "10월 24, 2025 4:31:51 오후 org.apache.pdfbox.pdmodel.font.PDCIDFontType2 findFontOrSubstitute\n",
      "WARNING: Using fallback font LiberationSans for CID-keyed TrueType font Gulim,Bold\n",
      "10월 24, 2025 4:31:51 오후 org.apache.pdfbox.pdmodel.font.PDCIDFontType2 findFontOrSubstitute\n",
      "WARNING: Using fallback font LiberationSans for CID-keyed TrueType font Malgun Gothic,Bold\n",
      "\n"
     ]
    },
    {
     "name": "stdout",
     "output_type": "stream",
     "text": [
      "2023 년 8 월 수온\n"
     ]
    },
    {
     "name": "stderr",
     "output_type": "stream",
     "text": [
      "Got stderr: 10월 24, 2025 4:31:51 오후 org.apache.pdfbox.pdmodel.font.PDCIDFontType2 findFontOrSubstitute\n",
      "WARNING: Using fallback font LiberationSans for CID-keyed TrueType font GulimChe\n",
      "10월 24, 2025 4:31:51 오후 org.apache.pdfbox.pdmodel.font.PDCIDFontType2 findFontOrSubstitute\n",
      "WARNING: Using fallback font LiberationSans for CID-keyed TrueType font Gulim,Bold\n",
      "10월 24, 2025 4:31:51 오후 org.apache.pdfbox.pdmodel.font.PDCIDFontType2 findFontOrSubstitute\n",
      "WARNING: Using fallback font LiberationSans for CID-keyed TrueType font Malgun Gothic,Bold\n",
      "10월 24, 2025 4:31:51 오후 org.apache.pdfbox.rendering.TTFGlyph2D getPathForGID\n",
      "WARNING: No glyph for code 13336 (CID 3418) in font GulimChe\n",
      "10월 24, 2025 4:31:51 오후 org.apache.pdfbox.rendering.TTFGlyph2D getPathForGID\n",
      "WARNING: No glyph for code 8036 (CID 1f64) in font Gulim,Bold\n",
      "10월 24, 2025 4:31:51 오후 org.apache.pdfbox.rendering.TTFGlyph2D getPathForGID\n",
      "WARNING: No glyph for code 751 (CID 02ef) in font Malgun Gothic,Bold\n",
      "10월 24, 2025 4:31:52 오후 org.apache.pdfbox.pdmodel.font.PDCIDFontType2 findFontOrSubstitute\n",
      "WARNING: Using fallback font LiberationSans for CID-keyed TrueType font GulimChe\n",
      "10월 24, 2025 4:31:52 오후 org.apache.pdfbox.pdmodel.font.PDCIDFontType2 findFontOrSubstitute\n",
      "WARNING: Using fallback font LiberationSans for CID-keyed TrueType font Gulim,Bold\n",
      "10월 24, 2025 4:31:52 오후 org.apache.pdfbox.pdmodel.font.PDCIDFontType2 findFontOrSubstitute\n",
      "WARNING: Using fallback font LiberationSans for CID-keyed TrueType font Malgun Gothic,Bold\n",
      "\n"
     ]
    },
    {
     "name": "stdout",
     "output_type": "stream",
     "text": [
      "2023 년 8 월 기온\n"
     ]
    },
    {
     "name": "stderr",
     "output_type": "stream",
     "text": [
      "Got stderr: 10월 24, 2025 4:31:52 오후 org.apache.pdfbox.pdmodel.font.PDCIDFontType2 findFontOrSubstitute\n",
      "WARNING: Using fallback font LiberationSans for CID-keyed TrueType font GulimChe\n",
      "10월 24, 2025 4:31:52 오후 org.apache.pdfbox.pdmodel.font.PDCIDFontType2 findFontOrSubstitute\n",
      "WARNING: Using fallback font LiberationSans for CID-keyed TrueType font Gulim,Bold\n",
      "10월 24, 2025 4:31:52 오후 org.apache.pdfbox.pdmodel.font.PDCIDFontType2 findFontOrSubstitute\n",
      "WARNING: Using fallback font LiberationSans for CID-keyed TrueType font Malgun Gothic,Bold\n",
      "\n"
     ]
    },
    {
     "name": "stdout",
     "output_type": "stream",
     "text": [
      "2023 년 8 월 풍속\n"
     ]
    },
    {
     "name": "stderr",
     "output_type": "stream",
     "text": [
      "Got stderr: 10월 24, 2025 4:31:53 오후 org.apache.pdfbox.pdmodel.font.PDCIDFontType2 findFontOrSubstitute\n",
      "WARNING: Using fallback font LiberationSans for CID-keyed TrueType font GulimChe\n",
      "10월 24, 2025 4:31:53 오후 org.apache.pdfbox.pdmodel.font.PDCIDFontType2 findFontOrSubstitute\n",
      "WARNING: Using fallback font LiberationSans for CID-keyed TrueType font Gulim,Bold\n",
      "10월 24, 2025 4:31:53 오후 org.apache.pdfbox.pdmodel.font.PDCIDFontType2 findFontOrSubstitute\n",
      "WARNING: Using fallback font LiberationSans for CID-keyed TrueType font Malgun Gothic,Bold\n",
      "\n"
     ]
    },
    {
     "name": "stdout",
     "output_type": "stream",
     "text": [
      "2023 년 9 월 수온\n"
     ]
    },
    {
     "name": "stderr",
     "output_type": "stream",
     "text": [
      "Got stderr: 10월 24, 2025 4:31:53 오후 org.apache.pdfbox.pdmodel.font.PDCIDFontType2 findFontOrSubstitute\n",
      "WARNING: Using fallback font LiberationSans for CID-keyed TrueType font GulimChe\n",
      "10월 24, 2025 4:31:53 오후 org.apache.pdfbox.pdmodel.font.PDCIDFontType2 findFontOrSubstitute\n",
      "WARNING: Using fallback font LiberationSans for CID-keyed TrueType font Gulim,Bold\n",
      "10월 24, 2025 4:31:53 오후 org.apache.pdfbox.pdmodel.font.PDCIDFontType2 findFontOrSubstitute\n",
      "WARNING: Using fallback font LiberationSans for CID-keyed TrueType font Malgun Gothic,Bold\n",
      "10월 24, 2025 4:31:53 오후 org.apache.pdfbox.rendering.TTFGlyph2D getPathForGID\n",
      "WARNING: No glyph for code 13336 (CID 3418) in font GulimChe\n",
      "10월 24, 2025 4:31:53 오후 org.apache.pdfbox.rendering.TTFGlyph2D getPathForGID\n",
      "WARNING: No glyph for code 8036 (CID 1f64) in font Gulim,Bold\n",
      "10월 24, 2025 4:31:54 오후 org.apache.pdfbox.rendering.TTFGlyph2D getPathForGID\n",
      "WARNING: No glyph for code 751 (CID 02ef) in font Malgun Gothic,Bold\n",
      "10월 24, 2025 4:31:54 오후 org.apache.pdfbox.pdmodel.font.PDCIDFontType2 findFontOrSubstitute\n",
      "WARNING: Using fallback font LiberationSans for CID-keyed TrueType font GulimChe\n",
      "10월 24, 2025 4:31:54 오후 org.apache.pdfbox.pdmodel.font.PDCIDFontType2 findFontOrSubstitute\n",
      "WARNING: Using fallback font LiberationSans for CID-keyed TrueType font Gulim,Bold\n",
      "10월 24, 2025 4:31:54 오후 org.apache.pdfbox.pdmodel.font.PDCIDFontType2 findFontOrSubstitute\n",
      "WARNING: Using fallback font LiberationSans for CID-keyed TrueType font Malgun Gothic,Bold\n",
      "\n"
     ]
    },
    {
     "name": "stdout",
     "output_type": "stream",
     "text": [
      "2023 년 9 월 기온\n"
     ]
    },
    {
     "name": "stderr",
     "output_type": "stream",
     "text": [
      "Got stderr: 10월 24, 2025 4:31:54 오후 org.apache.pdfbox.pdmodel.font.PDCIDFontType2 findFontOrSubstitute\n",
      "WARNING: Using fallback font LiberationSans for CID-keyed TrueType font GulimChe\n",
      "10월 24, 2025 4:31:54 오후 org.apache.pdfbox.pdmodel.font.PDCIDFontType2 findFontOrSubstitute\n",
      "WARNING: Using fallback font LiberationSans for CID-keyed TrueType font Gulim,Bold\n",
      "10월 24, 2025 4:31:54 오후 org.apache.pdfbox.pdmodel.font.PDCIDFontType2 findFontOrSubstitute\n",
      "WARNING: Using fallback font LiberationSans for CID-keyed TrueType font Malgun Gothic,Bold\n",
      "\n"
     ]
    },
    {
     "name": "stdout",
     "output_type": "stream",
     "text": [
      "2023 년 9 월 풍속\n"
     ]
    },
    {
     "name": "stderr",
     "output_type": "stream",
     "text": [
      "Got stderr: 10월 24, 2025 4:31:55 오후 org.apache.pdfbox.pdmodel.font.PDCIDFontType2 findFontOrSubstitute\n",
      "WARNING: Using fallback font LiberationSans for CID-keyed TrueType font GulimChe\n",
      "10월 24, 2025 4:31:55 오후 org.apache.pdfbox.pdmodel.font.PDCIDFontType2 findFontOrSubstitute\n",
      "WARNING: Using fallback font LiberationSans for CID-keyed TrueType font Gulim,Bold\n",
      "10월 24, 2025 4:31:55 오후 org.apache.pdfbox.pdmodel.font.PDCIDFontType2 findFontOrSubstitute\n",
      "WARNING: Using fallback font LiberationSans for CID-keyed TrueType font Malgun Gothic,Bold\n",
      "\n"
     ]
    },
    {
     "name": "stdout",
     "output_type": "stream",
     "text": [
      "2023 년 10 월 수온\n"
     ]
    },
    {
     "name": "stderr",
     "output_type": "stream",
     "text": [
      "Got stderr: 10월 24, 2025 4:31:55 오후 org.apache.pdfbox.pdmodel.font.PDCIDFontType2 findFontOrSubstitute\n",
      "WARNING: Using fallback font LiberationSans for CID-keyed TrueType font GulimChe\n",
      "10월 24, 2025 4:31:55 오후 org.apache.pdfbox.pdmodel.font.PDCIDFontType2 findFontOrSubstitute\n",
      "WARNING: Using fallback font LiberationSans for CID-keyed TrueType font Gulim,Bold\n",
      "10월 24, 2025 4:31:55 오후 org.apache.pdfbox.pdmodel.font.PDCIDFontType2 findFontOrSubstitute\n",
      "WARNING: Using fallback font LiberationSans for CID-keyed TrueType font Malgun Gothic,Bold\n",
      "10월 24, 2025 4:31:56 오후 org.apache.pdfbox.rendering.TTFGlyph2D getPathForGID\n",
      "WARNING: No glyph for code 13336 (CID 3418) in font GulimChe\n",
      "10월 24, 2025 4:31:56 오후 org.apache.pdfbox.rendering.TTFGlyph2D getPathForGID\n",
      "WARNING: No glyph for code 8036 (CID 1f64) in font Gulim,Bold\n",
      "10월 24, 2025 4:31:56 오후 org.apache.pdfbox.rendering.TTFGlyph2D getPathForGID\n",
      "WARNING: No glyph for code 751 (CID 02ef) in font Malgun Gothic,Bold\n",
      "10월 24, 2025 4:31:56 오후 org.apache.pdfbox.pdmodel.font.PDCIDFontType2 findFontOrSubstitute\n",
      "WARNING: Using fallback font LiberationSans for CID-keyed TrueType font GulimChe\n",
      "10월 24, 2025 4:31:56 오후 org.apache.pdfbox.pdmodel.font.PDCIDFontType2 findFontOrSubstitute\n",
      "WARNING: Using fallback font LiberationSans for CID-keyed TrueType font Gulim,Bold\n",
      "10월 24, 2025 4:31:56 오후 org.apache.pdfbox.pdmodel.font.PDCIDFontType2 findFontOrSubstitute\n",
      "WARNING: Using fallback font LiberationSans for CID-keyed TrueType font Malgun Gothic,Bold\n",
      "\n"
     ]
    },
    {
     "name": "stdout",
     "output_type": "stream",
     "text": [
      "2023 년 10 월 기온\n"
     ]
    },
    {
     "name": "stderr",
     "output_type": "stream",
     "text": [
      "Got stderr: 10월 24, 2025 4:31:57 오후 org.apache.pdfbox.pdmodel.font.PDCIDFontType2 findFontOrSubstitute\n",
      "WARNING: Using fallback font LiberationSans for CID-keyed TrueType font GulimChe\n",
      "10월 24, 2025 4:31:57 오후 org.apache.pdfbox.pdmodel.font.PDCIDFontType2 findFontOrSubstitute\n",
      "WARNING: Using fallback font LiberationSans for CID-keyed TrueType font Gulim,Bold\n",
      "10월 24, 2025 4:31:57 오후 org.apache.pdfbox.pdmodel.font.PDCIDFontType2 findFontOrSubstitute\n",
      "WARNING: Using fallback font LiberationSans for CID-keyed TrueType font Malgun Gothic,Bold\n",
      "\n"
     ]
    },
    {
     "name": "stdout",
     "output_type": "stream",
     "text": [
      "2023 년 10 월 풍속\n"
     ]
    },
    {
     "name": "stderr",
     "output_type": "stream",
     "text": [
      "Got stderr: 10월 24, 2025 4:31:57 오후 org.apache.pdfbox.pdmodel.font.PDCIDFontType2 findFontOrSubstitute\n",
      "WARNING: Using fallback font LiberationSans for CID-keyed TrueType font GulimChe\n",
      "10월 24, 2025 4:31:57 오후 org.apache.pdfbox.pdmodel.font.PDCIDFontType2 findFontOrSubstitute\n",
      "WARNING: Using fallback font LiberationSans for CID-keyed TrueType font Gulim,Bold\n",
      "10월 24, 2025 4:31:57 오후 org.apache.pdfbox.pdmodel.font.PDCIDFontType2 findFontOrSubstitute\n",
      "WARNING: Using fallback font LiberationSans for CID-keyed TrueType font Malgun Gothic,Bold\n",
      "\n"
     ]
    },
    {
     "name": "stdout",
     "output_type": "stream",
     "text": [
      "2023 년 11 월 수온\n"
     ]
    },
    {
     "name": "stderr",
     "output_type": "stream",
     "text": [
      "Got stderr: 10월 24, 2025 4:31:58 오후 org.apache.pdfbox.pdmodel.font.PDCIDFontType2 findFontOrSubstitute\n",
      "WARNING: Using fallback font LiberationSans for CID-keyed TrueType font GulimChe\n",
      "10월 24, 2025 4:31:58 오후 org.apache.pdfbox.pdmodel.font.PDCIDFontType2 findFontOrSubstitute\n",
      "WARNING: Using fallback font LiberationSans for CID-keyed TrueType font Gulim,Bold\n",
      "10월 24, 2025 4:31:58 오후 org.apache.pdfbox.pdmodel.font.PDCIDFontType2 findFontOrSubstitute\n",
      "WARNING: Using fallback font LiberationSans for CID-keyed TrueType font Malgun Gothic,Bold\n",
      "10월 24, 2025 4:31:58 오후 org.apache.pdfbox.rendering.TTFGlyph2D getPathForGID\n",
      "WARNING: No glyph for code 13336 (CID 3418) in font GulimChe\n",
      "10월 24, 2025 4:31:58 오후 org.apache.pdfbox.rendering.TTFGlyph2D getPathForGID\n",
      "WARNING: No glyph for code 8036 (CID 1f64) in font Gulim,Bold\n",
      "10월 24, 2025 4:31:58 오후 org.apache.pdfbox.rendering.TTFGlyph2D getPathForGID\n",
      "WARNING: No glyph for code 751 (CID 02ef) in font Malgun Gothic,Bold\n",
      "10월 24, 2025 4:31:58 오후 org.apache.pdfbox.pdmodel.font.PDCIDFontType2 findFontOrSubstitute\n",
      "WARNING: Using fallback font LiberationSans for CID-keyed TrueType font GulimChe\n",
      "10월 24, 2025 4:31:58 오후 org.apache.pdfbox.pdmodel.font.PDCIDFontType2 findFontOrSubstitute\n",
      "WARNING: Using fallback font LiberationSans for CID-keyed TrueType font Gulim,Bold\n",
      "10월 24, 2025 4:31:58 오후 org.apache.pdfbox.pdmodel.font.PDCIDFontType2 findFontOrSubstitute\n",
      "WARNING: Using fallback font LiberationSans for CID-keyed TrueType font Malgun Gothic,Bold\n",
      "\n"
     ]
    },
    {
     "name": "stdout",
     "output_type": "stream",
     "text": [
      "2023 년 11 월 기온\n"
     ]
    },
    {
     "name": "stderr",
     "output_type": "stream",
     "text": [
      "Got stderr: 10월 24, 2025 4:31:59 오후 org.apache.pdfbox.pdmodel.font.PDCIDFontType2 findFontOrSubstitute\n",
      "WARNING: Using fallback font LiberationSans for CID-keyed TrueType font GulimChe\n",
      "10월 24, 2025 4:31:59 오후 org.apache.pdfbox.pdmodel.font.PDCIDFontType2 findFontOrSubstitute\n",
      "WARNING: Using fallback font LiberationSans for CID-keyed TrueType font Gulim,Bold\n",
      "10월 24, 2025 4:31:59 오후 org.apache.pdfbox.pdmodel.font.PDCIDFontType2 findFontOrSubstitute\n",
      "WARNING: Using fallback font LiberationSans for CID-keyed TrueType font Malgun Gothic,Bold\n",
      "\n"
     ]
    },
    {
     "name": "stdout",
     "output_type": "stream",
     "text": [
      "2023 년 11 월 풍속\n"
     ]
    },
    {
     "name": "stderr",
     "output_type": "stream",
     "text": [
      "Got stderr: 10월 24, 2025 4:31:59 오후 org.apache.pdfbox.pdmodel.font.PDCIDFontType2 findFontOrSubstitute\n",
      "WARNING: Using fallback font LiberationSans for CID-keyed TrueType font GulimChe\n",
      "10월 24, 2025 4:31:59 오후 org.apache.pdfbox.pdmodel.font.PDCIDFontType2 findFontOrSubstitute\n",
      "WARNING: Using fallback font LiberationSans for CID-keyed TrueType font Gulim,Bold\n",
      "10월 24, 2025 4:31:59 오후 org.apache.pdfbox.pdmodel.font.PDCIDFontType2 findFontOrSubstitute\n",
      "WARNING: Using fallback font LiberationSans for CID-keyed TrueType font Malgun Gothic,Bold\n",
      "\n"
     ]
    },
    {
     "name": "stdout",
     "output_type": "stream",
     "text": [
      "2023 년 12 월 수온\n"
     ]
    },
    {
     "name": "stderr",
     "output_type": "stream",
     "text": [
      "Got stderr: 10월 24, 2025 4:32:00 오후 org.apache.pdfbox.pdmodel.font.PDCIDFontType2 findFontOrSubstitute\n",
      "WARNING: Using fallback font LiberationSans for CID-keyed TrueType font GulimChe\n",
      "10월 24, 2025 4:32:00 오후 org.apache.pdfbox.pdmodel.font.PDCIDFontType2 findFontOrSubstitute\n",
      "WARNING: Using fallback font LiberationSans for CID-keyed TrueType font Gulim,Bold\n",
      "10월 24, 2025 4:32:00 오후 org.apache.pdfbox.pdmodel.font.PDCIDFontType2 findFontOrSubstitute\n",
      "WARNING: Using fallback font LiberationSans for CID-keyed TrueType font Malgun Gothic,Bold\n",
      "10월 24, 2025 4:32:00 오후 org.apache.pdfbox.rendering.TTFGlyph2D getPathForGID\n",
      "WARNING: No glyph for code 13336 (CID 3418) in font GulimChe\n",
      "10월 24, 2025 4:32:00 오후 org.apache.pdfbox.rendering.TTFGlyph2D getPathForGID\n",
      "WARNING: No glyph for code 8036 (CID 1f64) in font Gulim,Bold\n",
      "10월 24, 2025 4:32:00 오후 org.apache.pdfbox.rendering.TTFGlyph2D getPathForGID\n",
      "WARNING: No glyph for code 751 (CID 02ef) in font Malgun Gothic,Bold\n",
      "10월 24, 2025 4:32:00 오후 org.apache.pdfbox.pdmodel.font.PDCIDFontType2 findFontOrSubstitute\n",
      "WARNING: Using fallback font LiberationSans for CID-keyed TrueType font GulimChe\n",
      "10월 24, 2025 4:32:00 오후 org.apache.pdfbox.pdmodel.font.PDCIDFontType2 findFontOrSubstitute\n",
      "WARNING: Using fallback font LiberationSans for CID-keyed TrueType font Gulim,Bold\n",
      "10월 24, 2025 4:32:00 오후 org.apache.pdfbox.pdmodel.font.PDCIDFontType2 findFontOrSubstitute\n",
      "WARNING: Using fallback font LiberationSans for CID-keyed TrueType font Malgun Gothic,Bold\n",
      "\n"
     ]
    },
    {
     "name": "stdout",
     "output_type": "stream",
     "text": [
      "2023 년 12 월 기온\n"
     ]
    },
    {
     "name": "stderr",
     "output_type": "stream",
     "text": [
      "Got stderr: 10월 24, 2025 4:32:01 오후 org.apache.pdfbox.pdmodel.font.PDCIDFontType2 findFontOrSubstitute\n",
      "WARNING: Using fallback font LiberationSans for CID-keyed TrueType font GulimChe\n",
      "10월 24, 2025 4:32:01 오후 org.apache.pdfbox.pdmodel.font.PDCIDFontType2 findFontOrSubstitute\n",
      "WARNING: Using fallback font LiberationSans for CID-keyed TrueType font Gulim,Bold\n",
      "10월 24, 2025 4:32:01 오후 org.apache.pdfbox.pdmodel.font.PDCIDFontType2 findFontOrSubstitute\n",
      "WARNING: Using fallback font LiberationSans for CID-keyed TrueType font Malgun Gothic,Bold\n",
      "\n"
     ]
    },
    {
     "name": "stdout",
     "output_type": "stream",
     "text": [
      "2023 년 12 월 풍속\n"
     ]
    },
    {
     "name": "stderr",
     "output_type": "stream",
     "text": [
      "Got stderr: 10월 24, 2025 4:32:01 오후 org.apache.pdfbox.pdmodel.font.PDCIDFontType2 findFontOrSubstitute\n",
      "WARNING: Using fallback font LiberationSans for CID-keyed TrueType font GulimChe\n",
      "10월 24, 2025 4:32:01 오후 org.apache.pdfbox.pdmodel.font.PDCIDFontType2 findFontOrSubstitute\n",
      "WARNING: Using fallback font LiberationSans for CID-keyed TrueType font Gulim,Bold\n",
      "10월 24, 2025 4:32:01 오후 org.apache.pdfbox.pdmodel.font.PDCIDFontType2 findFontOrSubstitute\n",
      "WARNING: Using fallback font LiberationSans for CID-keyed TrueType font Malgun Gothic,Bold\n",
      "\n"
     ]
    },
    {
     "name": "stdout",
     "output_type": "stream",
     "text": [
      "2024 년 1 월 수온\n"
     ]
    },
    {
     "name": "stderr",
     "output_type": "stream",
     "text": [
      "Got stderr: 10월 24, 2025 4:32:02 오후 org.apache.pdfbox.pdmodel.font.PDCIDFontType2 findFontOrSubstitute\n",
      "WARNING: Using fallback font LiberationSans for CID-keyed TrueType font GulimChe\n",
      "10월 24, 2025 4:32:02 오후 org.apache.pdfbox.pdmodel.font.PDCIDFontType2 findFontOrSubstitute\n",
      "WARNING: Using fallback font LiberationSans for CID-keyed TrueType font Gulim,Bold\n",
      "10월 24, 2025 4:32:02 오후 org.apache.pdfbox.pdmodel.font.PDCIDFontType2 findFontOrSubstitute\n",
      "WARNING: Using fallback font LiberationSans for CID-keyed TrueType font Malgun Gothic,Bold\n",
      "10월 24, 2025 4:32:02 오후 org.apache.pdfbox.rendering.TTFGlyph2D getPathForGID\n",
      "WARNING: No glyph for code 13336 (CID 3418) in font GulimChe\n",
      "10월 24, 2025 4:32:02 오후 org.apache.pdfbox.rendering.TTFGlyph2D getPathForGID\n",
      "WARNING: No glyph for code 8036 (CID 1f64) in font Gulim,Bold\n",
      "10월 24, 2025 4:32:02 오후 org.apache.pdfbox.rendering.TTFGlyph2D getPathForGID\n",
      "WARNING: No glyph for code 751 (CID 02ef) in font Malgun Gothic,Bold\n",
      "10월 24, 2025 4:32:02 오후 org.apache.pdfbox.pdmodel.font.PDCIDFontType2 findFontOrSubstitute\n",
      "WARNING: Using fallback font LiberationSans for CID-keyed TrueType font GulimChe\n",
      "10월 24, 2025 4:32:02 오후 org.apache.pdfbox.pdmodel.font.PDCIDFontType2 findFontOrSubstitute\n",
      "WARNING: Using fallback font LiberationSans for CID-keyed TrueType font Gulim,Bold\n",
      "10월 24, 2025 4:32:02 오후 org.apache.pdfbox.pdmodel.font.PDCIDFontType2 findFontOrSubstitute\n",
      "WARNING: Using fallback font LiberationSans for CID-keyed TrueType font Malgun Gothic,Bold\n",
      "\n"
     ]
    },
    {
     "name": "stdout",
     "output_type": "stream",
     "text": [
      "2024 년 1 월 기온\n"
     ]
    },
    {
     "name": "stderr",
     "output_type": "stream",
     "text": [
      "Got stderr: 10월 24, 2025 4:32:03 오후 org.apache.pdfbox.pdmodel.font.PDCIDFontType2 findFontOrSubstitute\n",
      "WARNING: Using fallback font LiberationSans for CID-keyed TrueType font GulimChe\n",
      "10월 24, 2025 4:32:03 오후 org.apache.pdfbox.pdmodel.font.PDCIDFontType2 findFontOrSubstitute\n",
      "WARNING: Using fallback font LiberationSans for CID-keyed TrueType font Gulim,Bold\n",
      "10월 24, 2025 4:32:03 오후 org.apache.pdfbox.pdmodel.font.PDCIDFontType2 findFontOrSubstitute\n",
      "WARNING: Using fallback font LiberationSans for CID-keyed TrueType font Malgun Gothic,Bold\n",
      "\n"
     ]
    },
    {
     "name": "stdout",
     "output_type": "stream",
     "text": [
      "2024 년 1 월 풍속\n"
     ]
    },
    {
     "name": "stderr",
     "output_type": "stream",
     "text": [
      "Got stderr: 10월 24, 2025 4:32:04 오후 org.apache.pdfbox.pdmodel.font.PDCIDFontType2 findFontOrSubstitute\n",
      "WARNING: Using fallback font LiberationSans for CID-keyed TrueType font GulimChe\n",
      "10월 24, 2025 4:32:04 오후 org.apache.pdfbox.pdmodel.font.PDCIDFontType2 findFontOrSubstitute\n",
      "WARNING: Using fallback font LiberationSans for CID-keyed TrueType font Gulim,Bold\n",
      "10월 24, 2025 4:32:04 오후 org.apache.pdfbox.pdmodel.font.PDCIDFontType2 findFontOrSubstitute\n",
      "WARNING: Using fallback font LiberationSans for CID-keyed TrueType font Malgun Gothic,Bold\n",
      "\n"
     ]
    },
    {
     "name": "stdout",
     "output_type": "stream",
     "text": [
      "2024 년 2 월 수온\n"
     ]
    },
    {
     "name": "stderr",
     "output_type": "stream",
     "text": [
      "Got stderr: 10월 24, 2025 4:32:04 오후 org.apache.pdfbox.pdmodel.font.PDCIDFontType2 findFontOrSubstitute\n",
      "WARNING: Using fallback font LiberationSans for CID-keyed TrueType font GulimChe\n",
      "10월 24, 2025 4:32:04 오후 org.apache.pdfbox.pdmodel.font.PDCIDFontType2 findFontOrSubstitute\n",
      "WARNING: Using fallback font LiberationSans for CID-keyed TrueType font Gulim,Bold\n",
      "10월 24, 2025 4:32:04 오후 org.apache.pdfbox.pdmodel.font.PDCIDFontType2 findFontOrSubstitute\n",
      "WARNING: Using fallback font LiberationSans for CID-keyed TrueType font Malgun Gothic,Bold\n",
      "10월 24, 2025 4:32:04 오후 org.apache.pdfbox.rendering.TTFGlyph2D getPathForGID\n",
      "WARNING: No glyph for code 13336 (CID 3418) in font GulimChe\n",
      "10월 24, 2025 4:32:04 오후 org.apache.pdfbox.rendering.TTFGlyph2D getPathForGID\n",
      "WARNING: No glyph for code 8036 (CID 1f64) in font Gulim,Bold\n",
      "10월 24, 2025 4:32:04 오후 org.apache.pdfbox.rendering.TTFGlyph2D getPathForGID\n",
      "WARNING: No glyph for code 751 (CID 02ef) in font Malgun Gothic,Bold\n",
      "10월 24, 2025 4:32:05 오후 org.apache.pdfbox.pdmodel.font.PDCIDFontType2 findFontOrSubstitute\n",
      "WARNING: Using fallback font LiberationSans for CID-keyed TrueType font GulimChe\n",
      "10월 24, 2025 4:32:05 오후 org.apache.pdfbox.pdmodel.font.PDCIDFontType2 findFontOrSubstitute\n",
      "WARNING: Using fallback font LiberationSans for CID-keyed TrueType font Gulim,Bold\n",
      "10월 24, 2025 4:32:05 오후 org.apache.pdfbox.pdmodel.font.PDCIDFontType2 findFontOrSubstitute\n",
      "WARNING: Using fallback font LiberationSans for CID-keyed TrueType font Malgun Gothic,Bold\n",
      "\n"
     ]
    },
    {
     "name": "stdout",
     "output_type": "stream",
     "text": [
      "2024 년 2 월 기온\n"
     ]
    },
    {
     "name": "stderr",
     "output_type": "stream",
     "text": [
      "Got stderr: 10월 24, 2025 4:32:05 오후 org.apache.pdfbox.pdmodel.font.PDCIDFontType2 findFontOrSubstitute\n",
      "WARNING: Using fallback font LiberationSans for CID-keyed TrueType font GulimChe\n",
      "10월 24, 2025 4:32:05 오후 org.apache.pdfbox.pdmodel.font.PDCIDFontType2 findFontOrSubstitute\n",
      "WARNING: Using fallback font LiberationSans for CID-keyed TrueType font Gulim,Bold\n",
      "10월 24, 2025 4:32:05 오후 org.apache.pdfbox.pdmodel.font.PDCIDFontType2 findFontOrSubstitute\n",
      "WARNING: Using fallback font LiberationSans for CID-keyed TrueType font Malgun Gothic,Bold\n",
      "\n"
     ]
    },
    {
     "name": "stdout",
     "output_type": "stream",
     "text": [
      "2024 년 2 월 풍속\n"
     ]
    },
    {
     "name": "stderr",
     "output_type": "stream",
     "text": [
      "Got stderr: 10월 24, 2025 4:32:06 오후 org.apache.pdfbox.pdmodel.font.PDCIDFontType2 findFontOrSubstitute\n",
      "WARNING: Using fallback font LiberationSans for CID-keyed TrueType font GulimChe\n",
      "10월 24, 2025 4:32:06 오후 org.apache.pdfbox.pdmodel.font.PDCIDFontType2 findFontOrSubstitute\n",
      "WARNING: Using fallback font LiberationSans for CID-keyed TrueType font Gulim,Bold\n",
      "10월 24, 2025 4:32:06 오후 org.apache.pdfbox.pdmodel.font.PDCIDFontType2 findFontOrSubstitute\n",
      "WARNING: Using fallback font LiberationSans for CID-keyed TrueType font Malgun Gothic,Bold\n",
      "\n"
     ]
    },
    {
     "name": "stdout",
     "output_type": "stream",
     "text": [
      "2024 년 3 월 수온\n"
     ]
    },
    {
     "name": "stderr",
     "output_type": "stream",
     "text": [
      "Got stderr: 10월 24, 2025 4:32:06 오후 org.apache.pdfbox.pdmodel.font.PDCIDFontType2 findFontOrSubstitute\n",
      "WARNING: Using fallback font LiberationSans for CID-keyed TrueType font GulimChe\n",
      "10월 24, 2025 4:32:06 오후 org.apache.pdfbox.pdmodel.font.PDCIDFontType2 findFontOrSubstitute\n",
      "WARNING: Using fallback font LiberationSans for CID-keyed TrueType font Gulim,Bold\n",
      "10월 24, 2025 4:32:06 오후 org.apache.pdfbox.pdmodel.font.PDCIDFontType2 findFontOrSubstitute\n",
      "WARNING: Using fallback font LiberationSans for CID-keyed TrueType font Malgun Gothic,Bold\n",
      "10월 24, 2025 4:32:07 오후 org.apache.pdfbox.rendering.TTFGlyph2D getPathForGID\n",
      "WARNING: No glyph for code 13336 (CID 3418) in font GulimChe\n",
      "10월 24, 2025 4:32:07 오후 org.apache.pdfbox.rendering.TTFGlyph2D getPathForGID\n",
      "WARNING: No glyph for code 8036 (CID 1f64) in font Gulim,Bold\n",
      "10월 24, 2025 4:32:07 오후 org.apache.pdfbox.rendering.TTFGlyph2D getPathForGID\n",
      "WARNING: No glyph for code 751 (CID 02ef) in font Malgun Gothic,Bold\n",
      "10월 24, 2025 4:32:07 오후 org.apache.pdfbox.pdmodel.font.PDCIDFontType2 findFontOrSubstitute\n",
      "WARNING: Using fallback font LiberationSans for CID-keyed TrueType font GulimChe\n",
      "10월 24, 2025 4:32:07 오후 org.apache.pdfbox.pdmodel.font.PDCIDFontType2 findFontOrSubstitute\n",
      "WARNING: Using fallback font LiberationSans for CID-keyed TrueType font Gulim,Bold\n",
      "10월 24, 2025 4:32:07 오후 org.apache.pdfbox.pdmodel.font.PDCIDFontType2 findFontOrSubstitute\n",
      "WARNING: Using fallback font LiberationSans for CID-keyed TrueType font Malgun Gothic,Bold\n",
      "\n"
     ]
    },
    {
     "name": "stdout",
     "output_type": "stream",
     "text": [
      "2024 년 3 월 기온\n"
     ]
    },
    {
     "name": "stderr",
     "output_type": "stream",
     "text": [
      "Got stderr: 10월 24, 2025 4:32:08 오후 org.apache.pdfbox.pdmodel.font.PDCIDFontType2 findFontOrSubstitute\n",
      "WARNING: Using fallback font LiberationSans for CID-keyed TrueType font GulimChe\n",
      "10월 24, 2025 4:32:08 오후 org.apache.pdfbox.pdmodel.font.PDCIDFontType2 findFontOrSubstitute\n",
      "WARNING: Using fallback font LiberationSans for CID-keyed TrueType font Gulim,Bold\n",
      "10월 24, 2025 4:32:08 오후 org.apache.pdfbox.pdmodel.font.PDCIDFontType2 findFontOrSubstitute\n",
      "WARNING: Using fallback font LiberationSans for CID-keyed TrueType font Malgun Gothic,Bold\n",
      "\n"
     ]
    },
    {
     "name": "stdout",
     "output_type": "stream",
     "text": [
      "2024 년 3 월 풍속\n"
     ]
    },
    {
     "name": "stderr",
     "output_type": "stream",
     "text": [
      "Got stderr: 10월 24, 2025 4:32:08 오후 org.apache.pdfbox.pdmodel.font.PDCIDFontType2 findFontOrSubstitute\n",
      "WARNING: Using fallback font LiberationSans for CID-keyed TrueType font GulimChe\n",
      "10월 24, 2025 4:32:08 오후 org.apache.pdfbox.pdmodel.font.PDCIDFontType2 findFontOrSubstitute\n",
      "WARNING: Using fallback font LiberationSans for CID-keyed TrueType font Gulim,Bold\n",
      "10월 24, 2025 4:32:08 오후 org.apache.pdfbox.pdmodel.font.PDCIDFontType2 findFontOrSubstitute\n",
      "WARNING: Using fallback font LiberationSans for CID-keyed TrueType font Malgun Gothic,Bold\n",
      "\n"
     ]
    },
    {
     "name": "stdout",
     "output_type": "stream",
     "text": [
      "2024 년 4 월 수온\n"
     ]
    },
    {
     "name": "stderr",
     "output_type": "stream",
     "text": [
      "Got stderr: 10월 24, 2025 4:32:09 오후 org.apache.pdfbox.pdmodel.font.PDCIDFontType2 findFontOrSubstitute\n",
      "WARNING: Using fallback font LiberationSans for CID-keyed TrueType font GulimChe\n",
      "10월 24, 2025 4:32:09 오후 org.apache.pdfbox.pdmodel.font.PDCIDFontType2 findFontOrSubstitute\n",
      "WARNING: Using fallback font LiberationSans for CID-keyed TrueType font Gulim,Bold\n",
      "10월 24, 2025 4:32:09 오후 org.apache.pdfbox.pdmodel.font.PDCIDFontType2 findFontOrSubstitute\n",
      "WARNING: Using fallback font LiberationSans for CID-keyed TrueType font Malgun Gothic,Bold\n",
      "10월 24, 2025 4:32:09 오후 org.apache.pdfbox.rendering.TTFGlyph2D getPathForGID\n",
      "WARNING: No glyph for code 13336 (CID 3418) in font GulimChe\n",
      "10월 24, 2025 4:32:09 오후 org.apache.pdfbox.rendering.TTFGlyph2D getPathForGID\n",
      "WARNING: No glyph for code 8036 (CID 1f64) in font Gulim,Bold\n",
      "10월 24, 2025 4:32:09 오후 org.apache.pdfbox.rendering.TTFGlyph2D getPathForGID\n",
      "WARNING: No glyph for code 751 (CID 02ef) in font Malgun Gothic,Bold\n",
      "10월 24, 2025 4:32:09 오후 org.apache.pdfbox.pdmodel.font.PDCIDFontType2 findFontOrSubstitute\n",
      "WARNING: Using fallback font LiberationSans for CID-keyed TrueType font GulimChe\n",
      "10월 24, 2025 4:32:09 오후 org.apache.pdfbox.pdmodel.font.PDCIDFontType2 findFontOrSubstitute\n",
      "WARNING: Using fallback font LiberationSans for CID-keyed TrueType font Gulim,Bold\n",
      "10월 24, 2025 4:32:09 오후 org.apache.pdfbox.pdmodel.font.PDCIDFontType2 findFontOrSubstitute\n",
      "WARNING: Using fallback font LiberationSans for CID-keyed TrueType font Malgun Gothic,Bold\n",
      "\n"
     ]
    },
    {
     "name": "stdout",
     "output_type": "stream",
     "text": [
      "2024 년 4 월 기온\n"
     ]
    },
    {
     "name": "stderr",
     "output_type": "stream",
     "text": [
      "Got stderr: 10월 24, 2025 4:32:10 오후 org.apache.pdfbox.pdmodel.font.PDCIDFontType2 findFontOrSubstitute\n",
      "WARNING: Using fallback font LiberationSans for CID-keyed TrueType font GulimChe\n",
      "10월 24, 2025 4:32:10 오후 org.apache.pdfbox.pdmodel.font.PDCIDFontType2 findFontOrSubstitute\n",
      "WARNING: Using fallback font LiberationSans for CID-keyed TrueType font Gulim,Bold\n",
      "10월 24, 2025 4:32:10 오후 org.apache.pdfbox.pdmodel.font.PDCIDFontType2 findFontOrSubstitute\n",
      "WARNING: Using fallback font LiberationSans for CID-keyed TrueType font Malgun Gothic,Bold\n",
      "\n"
     ]
    },
    {
     "name": "stdout",
     "output_type": "stream",
     "text": [
      "2024 년 4 월 풍속\n"
     ]
    },
    {
     "name": "stderr",
     "output_type": "stream",
     "text": [
      "Got stderr: 10월 24, 2025 4:32:10 오후 org.apache.pdfbox.pdmodel.font.PDCIDFontType2 findFontOrSubstitute\n",
      "WARNING: Using fallback font LiberationSans for CID-keyed TrueType font GulimChe\n",
      "10월 24, 2025 4:32:10 오후 org.apache.pdfbox.pdmodel.font.PDCIDFontType2 findFontOrSubstitute\n",
      "WARNING: Using fallback font LiberationSans for CID-keyed TrueType font Gulim,Bold\n",
      "10월 24, 2025 4:32:10 오후 org.apache.pdfbox.pdmodel.font.PDCIDFontType2 findFontOrSubstitute\n",
      "WARNING: Using fallback font LiberationSans for CID-keyed TrueType font Malgun Gothic,Bold\n",
      "\n"
     ]
    },
    {
     "name": "stdout",
     "output_type": "stream",
     "text": [
      "2024 년 5 월 수온\n"
     ]
    },
    {
     "name": "stderr",
     "output_type": "stream",
     "text": [
      "Got stderr: 10월 24, 2025 4:32:11 오후 org.apache.pdfbox.pdmodel.font.PDCIDFontType2 findFontOrSubstitute\n",
      "WARNING: Using fallback font LiberationSans for CID-keyed TrueType font GulimChe\n",
      "10월 24, 2025 4:32:11 오후 org.apache.pdfbox.pdmodel.font.PDCIDFontType2 findFontOrSubstitute\n",
      "WARNING: Using fallback font LiberationSans for CID-keyed TrueType font Gulim,Bold\n",
      "10월 24, 2025 4:32:11 오후 org.apache.pdfbox.pdmodel.font.PDCIDFontType2 findFontOrSubstitute\n",
      "WARNING: Using fallback font LiberationSans for CID-keyed TrueType font Malgun Gothic,Bold\n",
      "10월 24, 2025 4:32:11 오후 org.apache.pdfbox.rendering.TTFGlyph2D getPathForGID\n",
      "WARNING: No glyph for code 13336 (CID 3418) in font GulimChe\n",
      "10월 24, 2025 4:32:11 오후 org.apache.pdfbox.rendering.TTFGlyph2D getPathForGID\n",
      "WARNING: No glyph for code 8036 (CID 1f64) in font Gulim,Bold\n",
      "10월 24, 2025 4:32:11 오후 org.apache.pdfbox.rendering.TTFGlyph2D getPathForGID\n",
      "WARNING: No glyph for code 751 (CID 02ef) in font Malgun Gothic,Bold\n",
      "10월 24, 2025 4:32:11 오후 org.apache.pdfbox.pdmodel.font.PDCIDFontType2 findFontOrSubstitute\n",
      "WARNING: Using fallback font LiberationSans for CID-keyed TrueType font GulimChe\n",
      "10월 24, 2025 4:32:11 오후 org.apache.pdfbox.pdmodel.font.PDCIDFontType2 findFontOrSubstitute\n",
      "WARNING: Using fallback font LiberationSans for CID-keyed TrueType font Gulim,Bold\n",
      "10월 24, 2025 4:32:11 오후 org.apache.pdfbox.pdmodel.font.PDCIDFontType2 findFontOrSubstitute\n",
      "WARNING: Using fallback font LiberationSans for CID-keyed TrueType font Malgun Gothic,Bold\n",
      "\n"
     ]
    },
    {
     "name": "stdout",
     "output_type": "stream",
     "text": [
      "2024 년 5 월 기온\n"
     ]
    },
    {
     "name": "stderr",
     "output_type": "stream",
     "text": [
      "Got stderr: 10월 24, 2025 4:32:12 오후 org.apache.pdfbox.pdmodel.font.PDCIDFontType2 findFontOrSubstitute\n",
      "WARNING: Using fallback font LiberationSans for CID-keyed TrueType font GulimChe\n",
      "10월 24, 2025 4:32:12 오후 org.apache.pdfbox.pdmodel.font.PDCIDFontType2 findFontOrSubstitute\n",
      "WARNING: Using fallback font LiberationSans for CID-keyed TrueType font Gulim,Bold\n",
      "10월 24, 2025 4:32:12 오후 org.apache.pdfbox.pdmodel.font.PDCIDFontType2 findFontOrSubstitute\n",
      "WARNING: Using fallback font LiberationSans for CID-keyed TrueType font Malgun Gothic,Bold\n",
      "\n"
     ]
    },
    {
     "name": "stdout",
     "output_type": "stream",
     "text": [
      "2024 년 5 월 풍속\n"
     ]
    },
    {
     "name": "stderr",
     "output_type": "stream",
     "text": [
      "Got stderr: 10월 24, 2025 4:32:12 오후 org.apache.pdfbox.pdmodel.font.PDCIDFontType2 findFontOrSubstitute\n",
      "WARNING: Using fallback font LiberationSans for CID-keyed TrueType font GulimChe\n",
      "10월 24, 2025 4:32:12 오후 org.apache.pdfbox.pdmodel.font.PDCIDFontType2 findFontOrSubstitute\n",
      "WARNING: Using fallback font LiberationSans for CID-keyed TrueType font Gulim,Bold\n",
      "10월 24, 2025 4:32:12 오후 org.apache.pdfbox.pdmodel.font.PDCIDFontType2 findFontOrSubstitute\n",
      "WARNING: Using fallback font LiberationSans for CID-keyed TrueType font Malgun Gothic,Bold\n",
      "\n"
     ]
    },
    {
     "name": "stdout",
     "output_type": "stream",
     "text": [
      "2024 년 6 월 수온\n"
     ]
    },
    {
     "name": "stderr",
     "output_type": "stream",
     "text": [
      "Got stderr: 10월 24, 2025 4:32:13 오후 org.apache.pdfbox.pdmodel.font.PDCIDFontType2 findFontOrSubstitute\n",
      "WARNING: Using fallback font LiberationSans for CID-keyed TrueType font GulimChe\n",
      "10월 24, 2025 4:32:13 오후 org.apache.pdfbox.pdmodel.font.PDCIDFontType2 findFontOrSubstitute\n",
      "WARNING: Using fallback font LiberationSans for CID-keyed TrueType font Gulim,Bold\n",
      "10월 24, 2025 4:32:13 오후 org.apache.pdfbox.pdmodel.font.PDCIDFontType2 findFontOrSubstitute\n",
      "WARNING: Using fallback font LiberationSans for CID-keyed TrueType font Malgun Gothic,Bold\n",
      "10월 24, 2025 4:32:13 오후 org.apache.pdfbox.rendering.TTFGlyph2D getPathForGID\n",
      "WARNING: No glyph for code 13336 (CID 3418) in font GulimChe\n",
      "10월 24, 2025 4:32:13 오후 org.apache.pdfbox.rendering.TTFGlyph2D getPathForGID\n",
      "WARNING: No glyph for code 8036 (CID 1f64) in font Gulim,Bold\n",
      "10월 24, 2025 4:32:13 오후 org.apache.pdfbox.rendering.TTFGlyph2D getPathForGID\n",
      "WARNING: No glyph for code 751 (CID 02ef) in font Malgun Gothic,Bold\n",
      "10월 24, 2025 4:32:13 오후 org.apache.pdfbox.pdmodel.font.PDCIDFontType2 findFontOrSubstitute\n",
      "WARNING: Using fallback font LiberationSans for CID-keyed TrueType font GulimChe\n",
      "10월 24, 2025 4:32:13 오후 org.apache.pdfbox.pdmodel.font.PDCIDFontType2 findFontOrSubstitute\n",
      "WARNING: Using fallback font LiberationSans for CID-keyed TrueType font Gulim,Bold\n",
      "10월 24, 2025 4:32:13 오후 org.apache.pdfbox.pdmodel.font.PDCIDFontType2 findFontOrSubstitute\n",
      "WARNING: Using fallback font LiberationSans for CID-keyed TrueType font Malgun Gothic,Bold\n",
      "\n"
     ]
    },
    {
     "name": "stdout",
     "output_type": "stream",
     "text": [
      "2024 년 6 월 기온\n"
     ]
    },
    {
     "name": "stderr",
     "output_type": "stream",
     "text": [
      "Got stderr: 10월 24, 2025 4:32:14 오후 org.apache.pdfbox.pdmodel.font.PDCIDFontType2 findFontOrSubstitute\n",
      "WARNING: Using fallback font LiberationSans for CID-keyed TrueType font GulimChe\n",
      "10월 24, 2025 4:32:14 오후 org.apache.pdfbox.pdmodel.font.PDCIDFontType2 findFontOrSubstitute\n",
      "WARNING: Using fallback font LiberationSans for CID-keyed TrueType font Gulim,Bold\n",
      "10월 24, 2025 4:32:14 오후 org.apache.pdfbox.pdmodel.font.PDCIDFontType2 findFontOrSubstitute\n",
      "WARNING: Using fallback font LiberationSans for CID-keyed TrueType font Malgun Gothic,Bold\n",
      "\n"
     ]
    },
    {
     "name": "stdout",
     "output_type": "stream",
     "text": [
      "2024 년 6 월 풍속\n"
     ]
    },
    {
     "name": "stderr",
     "output_type": "stream",
     "text": [
      "Got stderr: 10월 24, 2025 4:32:15 오후 org.apache.pdfbox.pdmodel.font.PDCIDFontType2 findFontOrSubstitute\n",
      "WARNING: Using fallback font LiberationSans for CID-keyed TrueType font GulimChe\n",
      "10월 24, 2025 4:32:15 오후 org.apache.pdfbox.pdmodel.font.PDCIDFontType2 findFontOrSubstitute\n",
      "WARNING: Using fallback font LiberationSans for CID-keyed TrueType font Gulim,Bold\n",
      "10월 24, 2025 4:32:15 오후 org.apache.pdfbox.pdmodel.font.PDCIDFontType2 findFontOrSubstitute\n",
      "WARNING: Using fallback font LiberationSans for CID-keyed TrueType font Malgun Gothic,Bold\n",
      "\n"
     ]
    },
    {
     "name": "stdout",
     "output_type": "stream",
     "text": [
      "2024 년 7 월 수온\n"
     ]
    },
    {
     "name": "stderr",
     "output_type": "stream",
     "text": [
      "Got stderr: 10월 24, 2025 4:32:15 오후 org.apache.pdfbox.pdmodel.font.PDCIDFontType2 findFontOrSubstitute\n",
      "WARNING: Using fallback font LiberationSans for CID-keyed TrueType font GulimChe\n",
      "10월 24, 2025 4:32:15 오후 org.apache.pdfbox.pdmodel.font.PDCIDFontType2 findFontOrSubstitute\n",
      "WARNING: Using fallback font LiberationSans for CID-keyed TrueType font Gulim,Bold\n",
      "10월 24, 2025 4:32:15 오후 org.apache.pdfbox.pdmodel.font.PDCIDFontType2 findFontOrSubstitute\n",
      "WARNING: Using fallback font LiberationSans for CID-keyed TrueType font Malgun Gothic,Bold\n",
      "10월 24, 2025 4:32:15 오후 org.apache.pdfbox.rendering.TTFGlyph2D getPathForGID\n",
      "WARNING: No glyph for code 13336 (CID 3418) in font GulimChe\n",
      "10월 24, 2025 4:32:15 오후 org.apache.pdfbox.rendering.TTFGlyph2D getPathForGID\n",
      "WARNING: No glyph for code 8036 (CID 1f64) in font Gulim,Bold\n",
      "10월 24, 2025 4:32:15 오후 org.apache.pdfbox.rendering.TTFGlyph2D getPathForGID\n",
      "WARNING: No glyph for code 751 (CID 02ef) in font Malgun Gothic,Bold\n",
      "10월 24, 2025 4:32:16 오후 org.apache.pdfbox.pdmodel.font.PDCIDFontType2 findFontOrSubstitute\n",
      "WARNING: Using fallback font LiberationSans for CID-keyed TrueType font GulimChe\n",
      "10월 24, 2025 4:32:16 오후 org.apache.pdfbox.pdmodel.font.PDCIDFontType2 findFontOrSubstitute\n",
      "WARNING: Using fallback font LiberationSans for CID-keyed TrueType font Gulim,Bold\n",
      "10월 24, 2025 4:32:16 오후 org.apache.pdfbox.pdmodel.font.PDCIDFontType2 findFontOrSubstitute\n",
      "WARNING: Using fallback font LiberationSans for CID-keyed TrueType font Malgun Gothic,Bold\n",
      "\n"
     ]
    },
    {
     "name": "stdout",
     "output_type": "stream",
     "text": [
      "2024 년 7 월 기온\n"
     ]
    },
    {
     "name": "stderr",
     "output_type": "stream",
     "text": [
      "Got stderr: 10월 24, 2025 4:32:16 오후 org.apache.pdfbox.pdmodel.font.PDCIDFontType2 findFontOrSubstitute\n",
      "WARNING: Using fallback font LiberationSans for CID-keyed TrueType font GulimChe\n",
      "10월 24, 2025 4:32:16 오후 org.apache.pdfbox.pdmodel.font.PDCIDFontType2 findFontOrSubstitute\n",
      "WARNING: Using fallback font LiberationSans for CID-keyed TrueType font Gulim,Bold\n",
      "10월 24, 2025 4:32:16 오후 org.apache.pdfbox.pdmodel.font.PDCIDFontType2 findFontOrSubstitute\n",
      "WARNING: Using fallback font LiberationSans for CID-keyed TrueType font Malgun Gothic,Bold\n",
      "\n"
     ]
    },
    {
     "name": "stdout",
     "output_type": "stream",
     "text": [
      "2024 년 7 월 풍속\n"
     ]
    },
    {
     "name": "stderr",
     "output_type": "stream",
     "text": [
      "Got stderr: 10월 24, 2025 4:32:17 오후 org.apache.pdfbox.pdmodel.font.PDCIDFontType2 findFontOrSubstitute\n",
      "WARNING: Using fallback font LiberationSans for CID-keyed TrueType font GulimChe\n",
      "10월 24, 2025 4:32:17 오후 org.apache.pdfbox.pdmodel.font.PDCIDFontType2 findFontOrSubstitute\n",
      "WARNING: Using fallback font LiberationSans for CID-keyed TrueType font Gulim,Bold\n",
      "10월 24, 2025 4:32:17 오후 org.apache.pdfbox.pdmodel.font.PDCIDFontType2 findFontOrSubstitute\n",
      "WARNING: Using fallback font LiberationSans for CID-keyed TrueType font Malgun Gothic,Bold\n",
      "\n"
     ]
    },
    {
     "name": "stdout",
     "output_type": "stream",
     "text": [
      "2024 년 8 월 수온\n"
     ]
    },
    {
     "name": "stderr",
     "output_type": "stream",
     "text": [
      "Got stderr: 10월 24, 2025 4:32:17 오후 org.apache.pdfbox.pdmodel.font.PDCIDFontType2 findFontOrSubstitute\n",
      "WARNING: Using fallback font LiberationSans for CID-keyed TrueType font GulimChe\n",
      "10월 24, 2025 4:32:17 오후 org.apache.pdfbox.pdmodel.font.PDCIDFontType2 findFontOrSubstitute\n",
      "WARNING: Using fallback font LiberationSans for CID-keyed TrueType font Gulim,Bold\n",
      "10월 24, 2025 4:32:17 오후 org.apache.pdfbox.pdmodel.font.PDCIDFontType2 findFontOrSubstitute\n",
      "WARNING: Using fallback font LiberationSans for CID-keyed TrueType font Malgun Gothic,Bold\n",
      "10월 24, 2025 4:32:18 오후 org.apache.pdfbox.rendering.TTFGlyph2D getPathForGID\n",
      "WARNING: No glyph for code 13336 (CID 3418) in font GulimChe\n",
      "10월 24, 2025 4:32:18 오후 org.apache.pdfbox.rendering.TTFGlyph2D getPathForGID\n",
      "WARNING: No glyph for code 8036 (CID 1f64) in font Gulim,Bold\n",
      "10월 24, 2025 4:32:18 오후 org.apache.pdfbox.rendering.TTFGlyph2D getPathForGID\n",
      "WARNING: No glyph for code 751 (CID 02ef) in font Malgun Gothic,Bold\n",
      "10월 24, 2025 4:32:18 오후 org.apache.pdfbox.pdmodel.font.PDCIDFontType2 findFontOrSubstitute\n",
      "WARNING: Using fallback font LiberationSans for CID-keyed TrueType font GulimChe\n",
      "10월 24, 2025 4:32:18 오후 org.apache.pdfbox.pdmodel.font.PDCIDFontType2 findFontOrSubstitute\n",
      "WARNING: Using fallback font LiberationSans for CID-keyed TrueType font Gulim,Bold\n",
      "10월 24, 2025 4:32:18 오후 org.apache.pdfbox.pdmodel.font.PDCIDFontType2 findFontOrSubstitute\n",
      "WARNING: Using fallback font LiberationSans for CID-keyed TrueType font Malgun Gothic,Bold\n",
      "\n"
     ]
    },
    {
     "name": "stdout",
     "output_type": "stream",
     "text": [
      "2024 년 8 월 기온\n"
     ]
    },
    {
     "name": "stderr",
     "output_type": "stream",
     "text": [
      "Got stderr: 10월 24, 2025 4:32:19 오후 org.apache.pdfbox.pdmodel.font.PDCIDFontType2 findFontOrSubstitute\n",
      "WARNING: Using fallback font LiberationSans for CID-keyed TrueType font GulimChe\n",
      "10월 24, 2025 4:32:19 오후 org.apache.pdfbox.pdmodel.font.PDCIDFontType2 findFontOrSubstitute\n",
      "WARNING: Using fallback font LiberationSans for CID-keyed TrueType font Gulim,Bold\n",
      "10월 24, 2025 4:32:19 오후 org.apache.pdfbox.pdmodel.font.PDCIDFontType2 findFontOrSubstitute\n",
      "WARNING: Using fallback font LiberationSans for CID-keyed TrueType font Malgun Gothic,Bold\n",
      "\n"
     ]
    },
    {
     "name": "stdout",
     "output_type": "stream",
     "text": [
      "2024 년 8 월 풍속\n"
     ]
    },
    {
     "name": "stderr",
     "output_type": "stream",
     "text": [
      "Got stderr: 10월 24, 2025 4:32:19 오후 org.apache.pdfbox.pdmodel.font.PDCIDFontType2 findFontOrSubstitute\n",
      "WARNING: Using fallback font LiberationSans for CID-keyed TrueType font GulimChe\n",
      "10월 24, 2025 4:32:19 오후 org.apache.pdfbox.pdmodel.font.PDCIDFontType2 findFontOrSubstitute\n",
      "WARNING: Using fallback font LiberationSans for CID-keyed TrueType font Gulim,Bold\n",
      "10월 24, 2025 4:32:19 오후 org.apache.pdfbox.pdmodel.font.PDCIDFontType2 findFontOrSubstitute\n",
      "WARNING: Using fallback font LiberationSans for CID-keyed TrueType font Malgun Gothic,Bold\n",
      "\n"
     ]
    },
    {
     "name": "stdout",
     "output_type": "stream",
     "text": [
      "2024 년 9 월 수온\n"
     ]
    },
    {
     "name": "stderr",
     "output_type": "stream",
     "text": [
      "Got stderr: 10월 24, 2025 4:32:20 오후 org.apache.pdfbox.pdmodel.font.PDCIDFontType2 findFontOrSubstitute\n",
      "WARNING: Using fallback font LiberationSans for CID-keyed TrueType font GulimChe\n",
      "10월 24, 2025 4:32:20 오후 org.apache.pdfbox.pdmodel.font.PDCIDFontType2 findFontOrSubstitute\n",
      "WARNING: Using fallback font LiberationSans for CID-keyed TrueType font Gulim,Bold\n",
      "10월 24, 2025 4:32:20 오후 org.apache.pdfbox.pdmodel.font.PDCIDFontType2 findFontOrSubstitute\n",
      "WARNING: Using fallback font LiberationSans for CID-keyed TrueType font Malgun Gothic,Bold\n",
      "10월 24, 2025 4:32:20 오후 org.apache.pdfbox.rendering.TTFGlyph2D getPathForGID\n",
      "WARNING: No glyph for code 13336 (CID 3418) in font GulimChe\n",
      "10월 24, 2025 4:32:20 오후 org.apache.pdfbox.rendering.TTFGlyph2D getPathForGID\n",
      "WARNING: No glyph for code 8036 (CID 1f64) in font Gulim,Bold\n",
      "10월 24, 2025 4:32:20 오후 org.apache.pdfbox.rendering.TTFGlyph2D getPathForGID\n",
      "WARNING: No glyph for code 751 (CID 02ef) in font Malgun Gothic,Bold\n",
      "10월 24, 2025 4:32:20 오후 org.apache.pdfbox.pdmodel.font.PDCIDFontType2 findFontOrSubstitute\n",
      "WARNING: Using fallback font LiberationSans for CID-keyed TrueType font GulimChe\n",
      "10월 24, 2025 4:32:20 오후 org.apache.pdfbox.pdmodel.font.PDCIDFontType2 findFontOrSubstitute\n",
      "WARNING: Using fallback font LiberationSans for CID-keyed TrueType font Gulim,Bold\n",
      "10월 24, 2025 4:32:20 오후 org.apache.pdfbox.pdmodel.font.PDCIDFontType2 findFontOrSubstitute\n",
      "WARNING: Using fallback font LiberationSans for CID-keyed TrueType font Malgun Gothic,Bold\n",
      "\n"
     ]
    },
    {
     "name": "stdout",
     "output_type": "stream",
     "text": [
      "2024 년 9 월 기온\n"
     ]
    },
    {
     "name": "stderr",
     "output_type": "stream",
     "text": [
      "Got stderr: 10월 24, 2025 4:32:21 오후 org.apache.pdfbox.pdmodel.font.PDCIDFontType2 findFontOrSubstitute\n",
      "WARNING: Using fallback font LiberationSans for CID-keyed TrueType font GulimChe\n",
      "10월 24, 2025 4:32:21 오후 org.apache.pdfbox.pdmodel.font.PDCIDFontType2 findFontOrSubstitute\n",
      "WARNING: Using fallback font LiberationSans for CID-keyed TrueType font Gulim,Bold\n",
      "10월 24, 2025 4:32:21 오후 org.apache.pdfbox.pdmodel.font.PDCIDFontType2 findFontOrSubstitute\n",
      "WARNING: Using fallback font LiberationSans for CID-keyed TrueType font Malgun Gothic,Bold\n",
      "\n"
     ]
    },
    {
     "name": "stdout",
     "output_type": "stream",
     "text": [
      "2024 년 9 월 풍속\n"
     ]
    },
    {
     "name": "stderr",
     "output_type": "stream",
     "text": [
      "Got stderr: 10월 24, 2025 4:32:21 오후 org.apache.pdfbox.pdmodel.font.PDCIDFontType2 findFontOrSubstitute\n",
      "WARNING: Using fallback font LiberationSans for CID-keyed TrueType font GulimChe\n",
      "10월 24, 2025 4:32:21 오후 org.apache.pdfbox.pdmodel.font.PDCIDFontType2 findFontOrSubstitute\n",
      "WARNING: Using fallback font LiberationSans for CID-keyed TrueType font Gulim,Bold\n",
      "10월 24, 2025 4:32:21 오후 org.apache.pdfbox.pdmodel.font.PDCIDFontType2 findFontOrSubstitute\n",
      "WARNING: Using fallback font LiberationSans for CID-keyed TrueType font Malgun Gothic,Bold\n",
      "\n"
     ]
    },
    {
     "name": "stdout",
     "output_type": "stream",
     "text": [
      "2024 년 10 월 수온\n"
     ]
    },
    {
     "name": "stderr",
     "output_type": "stream",
     "text": [
      "Got stderr: 10월 24, 2025 4:32:22 오후 org.apache.pdfbox.pdmodel.font.PDCIDFontType2 findFontOrSubstitute\n",
      "WARNING: Using fallback font LiberationSans for CID-keyed TrueType font GulimChe\n",
      "10월 24, 2025 4:32:22 오후 org.apache.pdfbox.pdmodel.font.PDCIDFontType2 findFontOrSubstitute\n",
      "WARNING: Using fallback font LiberationSans for CID-keyed TrueType font Gulim,Bold\n",
      "10월 24, 2025 4:32:22 오후 org.apache.pdfbox.pdmodel.font.PDCIDFontType2 findFontOrSubstitute\n",
      "WARNING: Using fallback font LiberationSans for CID-keyed TrueType font Malgun Gothic,Bold\n",
      "10월 24, 2025 4:32:22 오후 org.apache.pdfbox.rendering.TTFGlyph2D getPathForGID\n",
      "WARNING: No glyph for code 13336 (CID 3418) in font GulimChe\n",
      "10월 24, 2025 4:32:22 오후 org.apache.pdfbox.rendering.TTFGlyph2D getPathForGID\n",
      "WARNING: No glyph for code 8036 (CID 1f64) in font Gulim,Bold\n",
      "10월 24, 2025 4:32:22 오후 org.apache.pdfbox.rendering.TTFGlyph2D getPathForGID\n",
      "WARNING: No glyph for code 751 (CID 02ef) in font Malgun Gothic,Bold\n",
      "10월 24, 2025 4:32:22 오후 org.apache.pdfbox.pdmodel.font.PDCIDFontType2 findFontOrSubstitute\n",
      "WARNING: Using fallback font LiberationSans for CID-keyed TrueType font GulimChe\n",
      "10월 24, 2025 4:32:22 오후 org.apache.pdfbox.pdmodel.font.PDCIDFontType2 findFontOrSubstitute\n",
      "WARNING: Using fallback font LiberationSans for CID-keyed TrueType font Gulim,Bold\n",
      "10월 24, 2025 4:32:22 오후 org.apache.pdfbox.pdmodel.font.PDCIDFontType2 findFontOrSubstitute\n",
      "WARNING: Using fallback font LiberationSans for CID-keyed TrueType font Malgun Gothic,Bold\n",
      "\n"
     ]
    },
    {
     "name": "stdout",
     "output_type": "stream",
     "text": [
      "2024 년 10 월 기온\n"
     ]
    },
    {
     "name": "stderr",
     "output_type": "stream",
     "text": [
      "Got stderr: 10월 24, 2025 4:32:23 오후 org.apache.pdfbox.pdmodel.font.PDCIDFontType2 findFontOrSubstitute\n",
      "WARNING: Using fallback font LiberationSans for CID-keyed TrueType font GulimChe\n",
      "10월 24, 2025 4:32:23 오후 org.apache.pdfbox.pdmodel.font.PDCIDFontType2 findFontOrSubstitute\n",
      "WARNING: Using fallback font LiberationSans for CID-keyed TrueType font Gulim,Bold\n",
      "10월 24, 2025 4:32:23 오후 org.apache.pdfbox.pdmodel.font.PDCIDFontType2 findFontOrSubstitute\n",
      "WARNING: Using fallback font LiberationSans for CID-keyed TrueType font Malgun Gothic,Bold\n",
      "\n"
     ]
    },
    {
     "name": "stdout",
     "output_type": "stream",
     "text": [
      "2024 년 10 월 풍속\n"
     ]
    },
    {
     "name": "stderr",
     "output_type": "stream",
     "text": [
      "Got stderr: 10월 24, 2025 4:32:23 오후 org.apache.pdfbox.pdmodel.font.PDCIDFontType2 findFontOrSubstitute\n",
      "WARNING: Using fallback font LiberationSans for CID-keyed TrueType font GulimChe\n",
      "10월 24, 2025 4:32:23 오후 org.apache.pdfbox.pdmodel.font.PDCIDFontType2 findFontOrSubstitute\n",
      "WARNING: Using fallback font LiberationSans for CID-keyed TrueType font Gulim,Bold\n",
      "10월 24, 2025 4:32:23 오후 org.apache.pdfbox.pdmodel.font.PDCIDFontType2 findFontOrSubstitute\n",
      "WARNING: Using fallback font LiberationSans for CID-keyed TrueType font Malgun Gothic,Bold\n",
      "\n"
     ]
    },
    {
     "name": "stdout",
     "output_type": "stream",
     "text": [
      "2024 년 11 월 수온\n"
     ]
    },
    {
     "name": "stderr",
     "output_type": "stream",
     "text": [
      "Got stderr: 10월 24, 2025 4:32:24 오후 org.apache.pdfbox.pdmodel.font.PDCIDFontType2 findFontOrSubstitute\n",
      "WARNING: Using fallback font LiberationSans for CID-keyed TrueType font GulimChe\n",
      "10월 24, 2025 4:32:24 오후 org.apache.pdfbox.pdmodel.font.PDCIDFontType2 findFontOrSubstitute\n",
      "WARNING: Using fallback font LiberationSans for CID-keyed TrueType font Gulim,Bold\n",
      "10월 24, 2025 4:32:24 오후 org.apache.pdfbox.pdmodel.font.PDCIDFontType2 findFontOrSubstitute\n",
      "WARNING: Using fallback font LiberationSans for CID-keyed TrueType font Malgun Gothic,Bold\n",
      "10월 24, 2025 4:32:24 오후 org.apache.pdfbox.rendering.TTFGlyph2D getPathForGID\n",
      "WARNING: No glyph for code 13336 (CID 3418) in font GulimChe\n",
      "10월 24, 2025 4:32:24 오후 org.apache.pdfbox.rendering.TTFGlyph2D getPathForGID\n",
      "WARNING: No glyph for code 8036 (CID 1f64) in font Gulim,Bold\n",
      "10월 24, 2025 4:32:24 오후 org.apache.pdfbox.rendering.TTFGlyph2D getPathForGID\n",
      "WARNING: No glyph for code 751 (CID 02ef) in font Malgun Gothic,Bold\n",
      "10월 24, 2025 4:32:24 오후 org.apache.pdfbox.pdmodel.font.PDCIDFontType2 findFontOrSubstitute\n",
      "WARNING: Using fallback font LiberationSans for CID-keyed TrueType font GulimChe\n",
      "10월 24, 2025 4:32:24 오후 org.apache.pdfbox.pdmodel.font.PDCIDFontType2 findFontOrSubstitute\n",
      "WARNING: Using fallback font LiberationSans for CID-keyed TrueType font Gulim,Bold\n",
      "10월 24, 2025 4:32:24 오후 org.apache.pdfbox.pdmodel.font.PDCIDFontType2 findFontOrSubstitute\n",
      "WARNING: Using fallback font LiberationSans for CID-keyed TrueType font Malgun Gothic,Bold\n",
      "\n"
     ]
    },
    {
     "name": "stdout",
     "output_type": "stream",
     "text": [
      "2024 년 11 월 기온\n"
     ]
    },
    {
     "name": "stderr",
     "output_type": "stream",
     "text": [
      "Got stderr: 10월 24, 2025 4:32:25 오후 org.apache.pdfbox.pdmodel.font.PDCIDFontType2 findFontOrSubstitute\n",
      "WARNING: Using fallback font LiberationSans for CID-keyed TrueType font GulimChe\n",
      "10월 24, 2025 4:32:25 오후 org.apache.pdfbox.pdmodel.font.PDCIDFontType2 findFontOrSubstitute\n",
      "WARNING: Using fallback font LiberationSans for CID-keyed TrueType font Gulim,Bold\n",
      "10월 24, 2025 4:32:25 오후 org.apache.pdfbox.pdmodel.font.PDCIDFontType2 findFontOrSubstitute\n",
      "WARNING: Using fallback font LiberationSans for CID-keyed TrueType font Malgun Gothic,Bold\n",
      "\n"
     ]
    },
    {
     "name": "stdout",
     "output_type": "stream",
     "text": [
      "2024 년 11 월 풍속\n"
     ]
    },
    {
     "name": "stderr",
     "output_type": "stream",
     "text": [
      "Got stderr: 10월 24, 2025 4:32:25 오후 org.apache.pdfbox.pdmodel.font.PDCIDFontType2 findFontOrSubstitute\n",
      "WARNING: Using fallback font LiberationSans for CID-keyed TrueType font GulimChe\n",
      "10월 24, 2025 4:32:25 오후 org.apache.pdfbox.pdmodel.font.PDCIDFontType2 findFontOrSubstitute\n",
      "WARNING: Using fallback font LiberationSans for CID-keyed TrueType font Gulim,Bold\n",
      "10월 24, 2025 4:32:25 오후 org.apache.pdfbox.pdmodel.font.PDCIDFontType2 findFontOrSubstitute\n",
      "WARNING: Using fallback font LiberationSans for CID-keyed TrueType font Malgun Gothic,Bold\n",
      "\n"
     ]
    },
    {
     "name": "stdout",
     "output_type": "stream",
     "text": [
      "2024 년 12 월 수온\n"
     ]
    },
    {
     "name": "stderr",
     "output_type": "stream",
     "text": [
      "Got stderr: 10월 24, 2025 4:32:26 오후 org.apache.pdfbox.pdmodel.font.PDCIDFontType2 findFontOrSubstitute\n",
      "WARNING: Using fallback font LiberationSans for CID-keyed TrueType font GulimChe\n",
      "10월 24, 2025 4:32:26 오후 org.apache.pdfbox.pdmodel.font.PDCIDFontType2 findFontOrSubstitute\n",
      "WARNING: Using fallback font LiberationSans for CID-keyed TrueType font Gulim,Bold\n",
      "10월 24, 2025 4:32:26 오후 org.apache.pdfbox.pdmodel.font.PDCIDFontType2 findFontOrSubstitute\n",
      "WARNING: Using fallback font LiberationSans for CID-keyed TrueType font Malgun Gothic,Bold\n",
      "10월 24, 2025 4:32:26 오후 org.apache.pdfbox.rendering.TTFGlyph2D getPathForGID\n",
      "WARNING: No glyph for code 13336 (CID 3418) in font GulimChe\n",
      "10월 24, 2025 4:32:26 오후 org.apache.pdfbox.rendering.TTFGlyph2D getPathForGID\n",
      "WARNING: No glyph for code 8036 (CID 1f64) in font Gulim,Bold\n",
      "10월 24, 2025 4:32:26 오후 org.apache.pdfbox.rendering.TTFGlyph2D getPathForGID\n",
      "WARNING: No glyph for code 751 (CID 02ef) in font Malgun Gothic,Bold\n",
      "10월 24, 2025 4:32:26 오후 org.apache.pdfbox.pdmodel.font.PDCIDFontType2 findFontOrSubstitute\n",
      "WARNING: Using fallback font LiberationSans for CID-keyed TrueType font GulimChe\n",
      "10월 24, 2025 4:32:26 오후 org.apache.pdfbox.pdmodel.font.PDCIDFontType2 findFontOrSubstitute\n",
      "WARNING: Using fallback font LiberationSans for CID-keyed TrueType font Gulim,Bold\n",
      "10월 24, 2025 4:32:26 오후 org.apache.pdfbox.pdmodel.font.PDCIDFontType2 findFontOrSubstitute\n",
      "WARNING: Using fallback font LiberationSans for CID-keyed TrueType font Malgun Gothic,Bold\n",
      "\n"
     ]
    },
    {
     "name": "stdout",
     "output_type": "stream",
     "text": [
      "2024 년 12 월 기온\n"
     ]
    },
    {
     "name": "stderr",
     "output_type": "stream",
     "text": [
      "Got stderr: 10월 24, 2025 4:32:27 오후 org.apache.pdfbox.pdmodel.font.PDCIDFontType2 findFontOrSubstitute\n",
      "WARNING: Using fallback font LiberationSans for CID-keyed TrueType font GulimChe\n",
      "10월 24, 2025 4:32:27 오후 org.apache.pdfbox.pdmodel.font.PDCIDFontType2 findFontOrSubstitute\n",
      "WARNING: Using fallback font LiberationSans for CID-keyed TrueType font Gulim,Bold\n",
      "10월 24, 2025 4:32:27 오후 org.apache.pdfbox.pdmodel.font.PDCIDFontType2 findFontOrSubstitute\n",
      "WARNING: Using fallback font LiberationSans for CID-keyed TrueType font Malgun Gothic,Bold\n",
      "\n"
     ]
    },
    {
     "name": "stdout",
     "output_type": "stream",
     "text": [
      "2024 년 12 월 풍속\n"
     ]
    }
   ],
   "source": [
    "# 2021 ~ 2024 제주 해양데이터(수온, 기온, 풍속) pdf -> csv 변환\n",
    "\n",
    "year = 2021\n",
    "month = 1\n",
    "i = 0\n",
    "info = ['수온', '기온', '풍속']\n",
    "\n",
    "while year <= 2024:\n",
    "    month_str = str(month).zfill(2)\n",
    "    file1 = f\"./{year}/제주/pdf/제주_{info[i]}_{year}_{month_str}_월간보고서.pdf\"\n",
    "    file2 = f\"./{year}/제주/csv/{info[i]}_{year}_{month}.csv\"\n",
    "\n",
    "    dfs = tabula.read_pdf(file1, pages='all', multiple_tables=True)\n",
    "    dfs[0].to_csv(file2, index=False)\n",
    "    print(year, '년', month, '월', info[i])\n",
    "\n",
    "    i += 1\n",
    "    if i == len(info):\n",
    "        i = 0\n",
    "        month += 1\n",
    "        if month == 13:\n",
    "            month = 1\n",
    "            year += 1\n"
   ]
  },
  {
   "cell_type": "code",
   "execution_count": 60,
   "id": "8cfd3f7a-21de-408e-94cf-ed1970c7f227",
   "metadata": {},
   "outputs": [],
   "source": [
    "# df = pd.read_csv('./2021/제주/csv/기온_2021_1.csv')"
   ]
  },
  {
   "cell_type": "code",
   "execution_count": 42,
   "id": "1a5a386d-8795-49a4-9a5f-1fbefd7e5fe7",
   "metadata": {},
   "outputs": [],
   "source": [
    "# # df['평균']\n",
    "# info = ['수온','기온','풍속']\n",
    "\n",
    "# df.rename(columns={'평균': info[1]+' 평균'}, inplace=True)\n",
    "# df['year'] = 2021\n",
    "# df['month'] = 1\n",
    "# df['산지'] = '제주도'"
   ]
  },
  {
   "cell_type": "code",
   "execution_count": 75,
   "id": "b37fb74f-c979-4c89-9361-893f9c07dd94",
   "metadata": {},
   "outputs": [
    {
     "data": {
      "text/html": [
       "<div>\n",
       "<style scoped>\n",
       "    .dataframe tbody tr th:only-of-type {\n",
       "        vertical-align: middle;\n",
       "    }\n",
       "\n",
       "    .dataframe tbody tr th {\n",
       "        vertical-align: top;\n",
       "    }\n",
       "\n",
       "    .dataframe thead th {\n",
       "        text-align: right;\n",
       "    }\n",
       "</style>\n",
       "<table border=\"1\" class=\"dataframe\">\n",
       "  <thead>\n",
       "    <tr style=\"text-align: right;\">\n",
       "      <th></th>\n",
       "      <th>year</th>\n",
       "      <th>month</th>\n",
       "      <th>산지</th>\n",
       "      <th>기온 평균</th>\n",
       "      <th>수온 평균</th>\n",
       "      <th>풍속 평균</th>\n",
       "    </tr>\n",
       "  </thead>\n",
       "  <tbody>\n",
       "    <tr>\n",
       "      <th>0</th>\n",
       "      <td>2021</td>\n",
       "      <td>1</td>\n",
       "      <td>제주도</td>\n",
       "      <td>7.2</td>\n",
       "      <td>14.4</td>\n",
       "      <td>5.0</td>\n",
       "    </tr>\n",
       "    <tr>\n",
       "      <th>1</th>\n",
       "      <td>2021</td>\n",
       "      <td>2</td>\n",
       "      <td>제주도</td>\n",
       "      <td>9.4</td>\n",
       "      <td>14.6</td>\n",
       "      <td>5.2</td>\n",
       "    </tr>\n",
       "    <tr>\n",
       "      <th>2</th>\n",
       "      <td>2021</td>\n",
       "      <td>3</td>\n",
       "      <td>제주도</td>\n",
       "      <td>12.0</td>\n",
       "      <td>14.9</td>\n",
       "      <td>4.0</td>\n",
       "    </tr>\n",
       "    <tr>\n",
       "      <th>3</th>\n",
       "      <td>2021</td>\n",
       "      <td>4</td>\n",
       "      <td>제주도</td>\n",
       "      <td>14.7</td>\n",
       "      <td>15.8</td>\n",
       "      <td>4.6</td>\n",
       "    </tr>\n",
       "    <tr>\n",
       "      <th>4</th>\n",
       "      <td>2021</td>\n",
       "      <td>5</td>\n",
       "      <td>제주도</td>\n",
       "      <td>17.9</td>\n",
       "      <td>17.6</td>\n",
       "      <td>4.1</td>\n",
       "    </tr>\n",
       "    <tr>\n",
       "      <th>5</th>\n",
       "      <td>2021</td>\n",
       "      <td>6</td>\n",
       "      <td>제주도</td>\n",
       "      <td>22.1</td>\n",
       "      <td>20.3</td>\n",
       "      <td>2.9</td>\n",
       "    </tr>\n",
       "    <tr>\n",
       "      <th>6</th>\n",
       "      <td>2021</td>\n",
       "      <td>7</td>\n",
       "      <td>제주도</td>\n",
       "      <td>26.7</td>\n",
       "      <td>24.7</td>\n",
       "      <td>3.7</td>\n",
       "    </tr>\n",
       "    <tr>\n",
       "      <th>7</th>\n",
       "      <td>2021</td>\n",
       "      <td>8</td>\n",
       "      <td>제주도</td>\n",
       "      <td>26.6</td>\n",
       "      <td>25.7</td>\n",
       "      <td>3.0</td>\n",
       "    </tr>\n",
       "    <tr>\n",
       "      <th>8</th>\n",
       "      <td>2021</td>\n",
       "      <td>9</td>\n",
       "      <td>제주도</td>\n",
       "      <td>24.1</td>\n",
       "      <td>24.3</td>\n",
       "      <td>4.4</td>\n",
       "    </tr>\n",
       "    <tr>\n",
       "      <th>9</th>\n",
       "      <td>2021</td>\n",
       "      <td>10</td>\n",
       "      <td>제주도</td>\n",
       "      <td>19.7</td>\n",
       "      <td>22.7</td>\n",
       "      <td>2.8</td>\n",
       "    </tr>\n",
       "    <tr>\n",
       "      <th>10</th>\n",
       "      <td>2021</td>\n",
       "      <td>11</td>\n",
       "      <td>제주도</td>\n",
       "      <td>14.3</td>\n",
       "      <td>19.4</td>\n",
       "      <td>4.4</td>\n",
       "    </tr>\n",
       "    <tr>\n",
       "      <th>11</th>\n",
       "      <td>2021</td>\n",
       "      <td>12</td>\n",
       "      <td>제주도</td>\n",
       "      <td>9.3</td>\n",
       "      <td>16.7</td>\n",
       "      <td>4.2</td>\n",
       "    </tr>\n",
       "    <tr>\n",
       "      <th>12</th>\n",
       "      <td>2022</td>\n",
       "      <td>1</td>\n",
       "      <td>제주도</td>\n",
       "      <td>6.4</td>\n",
       "      <td>15.1</td>\n",
       "      <td>3.6</td>\n",
       "    </tr>\n",
       "    <tr>\n",
       "      <th>13</th>\n",
       "      <td>2022</td>\n",
       "      <td>2</td>\n",
       "      <td>제주도</td>\n",
       "      <td>5.6</td>\n",
       "      <td>13.7</td>\n",
       "      <td>4.1</td>\n",
       "    </tr>\n",
       "    <tr>\n",
       "      <th>14</th>\n",
       "      <td>2022</td>\n",
       "      <td>3</td>\n",
       "      <td>제주도</td>\n",
       "      <td>11.0</td>\n",
       "      <td>13.9</td>\n",
       "      <td>3.5</td>\n",
       "    </tr>\n",
       "    <tr>\n",
       "      <th>15</th>\n",
       "      <td>2022</td>\n",
       "      <td>4</td>\n",
       "      <td>제주도</td>\n",
       "      <td>14.5</td>\n",
       "      <td>16.2</td>\n",
       "      <td>3.2</td>\n",
       "    </tr>\n",
       "    <tr>\n",
       "      <th>16</th>\n",
       "      <td>2022</td>\n",
       "      <td>5</td>\n",
       "      <td>제주도</td>\n",
       "      <td>18.0</td>\n",
       "      <td>17.9</td>\n",
       "      <td>3.3</td>\n",
       "    </tr>\n",
       "    <tr>\n",
       "      <th>17</th>\n",
       "      <td>2022</td>\n",
       "      <td>6</td>\n",
       "      <td>제주도</td>\n",
       "      <td>22.3</td>\n",
       "      <td>20.3</td>\n",
       "      <td>3.4</td>\n",
       "    </tr>\n",
       "    <tr>\n",
       "      <th>18</th>\n",
       "      <td>2022</td>\n",
       "      <td>7</td>\n",
       "      <td>제주도</td>\n",
       "      <td>27.1</td>\n",
       "      <td>26.0</td>\n",
       "      <td>3.4</td>\n",
       "    </tr>\n",
       "    <tr>\n",
       "      <th>19</th>\n",
       "      <td>2022</td>\n",
       "      <td>8</td>\n",
       "      <td>제주도</td>\n",
       "      <td>28.1</td>\n",
       "      <td>28.3</td>\n",
       "      <td>3.2</td>\n",
       "    </tr>\n",
       "    <tr>\n",
       "      <th>20</th>\n",
       "      <td>2022</td>\n",
       "      <td>9</td>\n",
       "      <td>제주도</td>\n",
       "      <td>23.6</td>\n",
       "      <td>25.0</td>\n",
       "      <td>4.4</td>\n",
       "    </tr>\n",
       "    <tr>\n",
       "      <th>21</th>\n",
       "      <td>2022</td>\n",
       "      <td>10</td>\n",
       "      <td>제주도</td>\n",
       "      <td>18.3</td>\n",
       "      <td>22.0</td>\n",
       "      <td>3.5</td>\n",
       "    </tr>\n",
       "    <tr>\n",
       "      <th>22</th>\n",
       "      <td>2022</td>\n",
       "      <td>11</td>\n",
       "      <td>제주도</td>\n",
       "      <td>15.5</td>\n",
       "      <td>20.3</td>\n",
       "      <td>3.0</td>\n",
       "    </tr>\n",
       "    <tr>\n",
       "      <th>23</th>\n",
       "      <td>2022</td>\n",
       "      <td>12</td>\n",
       "      <td>제주도</td>\n",
       "      <td>7.5</td>\n",
       "      <td>17.3</td>\n",
       "      <td>4.8</td>\n",
       "    </tr>\n",
       "    <tr>\n",
       "      <th>24</th>\n",
       "      <td>2023</td>\n",
       "      <td>1</td>\n",
       "      <td>제주도</td>\n",
       "      <td>7.3</td>\n",
       "      <td>15.5</td>\n",
       "      <td>4.3</td>\n",
       "    </tr>\n",
       "    <tr>\n",
       "      <th>25</th>\n",
       "      <td>2023</td>\n",
       "      <td>2</td>\n",
       "      <td>제주도</td>\n",
       "      <td>8.0</td>\n",
       "      <td>14.6</td>\n",
       "      <td>3.0</td>\n",
       "    </tr>\n",
       "    <tr>\n",
       "      <th>26</th>\n",
       "      <td>2023</td>\n",
       "      <td>3</td>\n",
       "      <td>제주도</td>\n",
       "      <td>12.0</td>\n",
       "      <td>15.2</td>\n",
       "      <td>2.6</td>\n",
       "    </tr>\n",
       "    <tr>\n",
       "      <th>27</th>\n",
       "      <td>2023</td>\n",
       "      <td>4</td>\n",
       "      <td>제주도</td>\n",
       "      <td>15.0</td>\n",
       "      <td>16.5</td>\n",
       "      <td>4.4</td>\n",
       "    </tr>\n",
       "    <tr>\n",
       "      <th>28</th>\n",
       "      <td>2023</td>\n",
       "      <td>5</td>\n",
       "      <td>제주도</td>\n",
       "      <td>18.2</td>\n",
       "      <td>18.0</td>\n",
       "      <td>2.9</td>\n",
       "    </tr>\n",
       "    <tr>\n",
       "      <th>29</th>\n",
       "      <td>2023</td>\n",
       "      <td>6</td>\n",
       "      <td>제주도</td>\n",
       "      <td>22.0</td>\n",
       "      <td>20.0</td>\n",
       "      <td>3.2</td>\n",
       "    </tr>\n",
       "    <tr>\n",
       "      <th>30</th>\n",
       "      <td>2023</td>\n",
       "      <td>7</td>\n",
       "      <td>제주도</td>\n",
       "      <td>27.0</td>\n",
       "      <td>24.5</td>\n",
       "      <td>3.0</td>\n",
       "    </tr>\n",
       "    <tr>\n",
       "      <th>31</th>\n",
       "      <td>2023</td>\n",
       "      <td>8</td>\n",
       "      <td>제주도</td>\n",
       "      <td>28.1</td>\n",
       "      <td>27.5</td>\n",
       "      <td>2.7</td>\n",
       "    </tr>\n",
       "    <tr>\n",
       "      <th>32</th>\n",
       "      <td>2023</td>\n",
       "      <td>9</td>\n",
       "      <td>제주도</td>\n",
       "      <td>25.7</td>\n",
       "      <td>26.9</td>\n",
       "      <td>2.7</td>\n",
       "    </tr>\n",
       "    <tr>\n",
       "      <th>33</th>\n",
       "      <td>2023</td>\n",
       "      <td>10</td>\n",
       "      <td>제주도</td>\n",
       "      <td>19.6</td>\n",
       "      <td>22.7</td>\n",
       "      <td>2.7</td>\n",
       "    </tr>\n",
       "    <tr>\n",
       "      <th>34</th>\n",
       "      <td>2023</td>\n",
       "      <td>11</td>\n",
       "      <td>제주도</td>\n",
       "      <td>14.1</td>\n",
       "      <td>20.1</td>\n",
       "      <td>4.0</td>\n",
       "    </tr>\n",
       "    <tr>\n",
       "      <th>35</th>\n",
       "      <td>2023</td>\n",
       "      <td>12</td>\n",
       "      <td>제주도</td>\n",
       "      <td>10.0</td>\n",
       "      <td>17.0</td>\n",
       "      <td>4.0</td>\n",
       "    </tr>\n",
       "    <tr>\n",
       "      <th>36</th>\n",
       "      <td>2024</td>\n",
       "      <td>1</td>\n",
       "      <td>제주도</td>\n",
       "      <td>8.4</td>\n",
       "      <td>15.7</td>\n",
       "      <td>4.3</td>\n",
       "    </tr>\n",
       "    <tr>\n",
       "      <th>37</th>\n",
       "      <td>2024</td>\n",
       "      <td>2</td>\n",
       "      <td>제주도</td>\n",
       "      <td>10.0</td>\n",
       "      <td>15.0</td>\n",
       "      <td>4.0</td>\n",
       "    </tr>\n",
       "    <tr>\n",
       "      <th>38</th>\n",
       "      <td>2024</td>\n",
       "      <td>3</td>\n",
       "      <td>제주도</td>\n",
       "      <td>10.9</td>\n",
       "      <td>14.8</td>\n",
       "      <td>4.0</td>\n",
       "    </tr>\n",
       "    <tr>\n",
       "      <th>39</th>\n",
       "      <td>2024</td>\n",
       "      <td>4</td>\n",
       "      <td>제주도</td>\n",
       "      <td>16.0</td>\n",
       "      <td>16.5</td>\n",
       "      <td>2.9</td>\n",
       "    </tr>\n",
       "    <tr>\n",
       "      <th>40</th>\n",
       "      <td>2024</td>\n",
       "      <td>5</td>\n",
       "      <td>제주도</td>\n",
       "      <td>18.2</td>\n",
       "      <td>17.8</td>\n",
       "      <td>3.2</td>\n",
       "    </tr>\n",
       "    <tr>\n",
       "      <th>41</th>\n",
       "      <td>2024</td>\n",
       "      <td>6</td>\n",
       "      <td>제주도</td>\n",
       "      <td>22.0</td>\n",
       "      <td>20.4</td>\n",
       "      <td>2.8</td>\n",
       "    </tr>\n",
       "    <tr>\n",
       "      <th>42</th>\n",
       "      <td>2024</td>\n",
       "      <td>7</td>\n",
       "      <td>제주도</td>\n",
       "      <td>27.9</td>\n",
       "      <td>25.2</td>\n",
       "      <td>3.0</td>\n",
       "    </tr>\n",
       "    <tr>\n",
       "      <th>43</th>\n",
       "      <td>2024</td>\n",
       "      <td>8</td>\n",
       "      <td>제주도</td>\n",
       "      <td>29.3</td>\n",
       "      <td>28.7</td>\n",
       "      <td>2.5</td>\n",
       "    </tr>\n",
       "    <tr>\n",
       "      <th>44</th>\n",
       "      <td>2024</td>\n",
       "      <td>9</td>\n",
       "      <td>제주도</td>\n",
       "      <td>27.3</td>\n",
       "      <td>28.2</td>\n",
       "      <td>3.1</td>\n",
       "    </tr>\n",
       "    <tr>\n",
       "      <th>45</th>\n",
       "      <td>2024</td>\n",
       "      <td>10</td>\n",
       "      <td>제주도</td>\n",
       "      <td>21.2</td>\n",
       "      <td>24.5</td>\n",
       "      <td>3.5</td>\n",
       "    </tr>\n",
       "    <tr>\n",
       "      <th>46</th>\n",
       "      <td>2024</td>\n",
       "      <td>11</td>\n",
       "      <td>제주도</td>\n",
       "      <td>15.7</td>\n",
       "      <td>21.7</td>\n",
       "      <td>4.4</td>\n",
       "    </tr>\n",
       "    <tr>\n",
       "      <th>47</th>\n",
       "      <td>2024</td>\n",
       "      <td>12</td>\n",
       "      <td>제주도</td>\n",
       "      <td>9.3</td>\n",
       "      <td>17.2</td>\n",
       "      <td>4.8</td>\n",
       "    </tr>\n",
       "  </tbody>\n",
       "</table>\n",
       "</div>"
      ],
      "text/plain": [
       "    year  month   산지  기온 평균  수온 평균  풍속 평균\n",
       "0   2021      1  제주도    7.2   14.4    5.0\n",
       "1   2021      2  제주도    9.4   14.6    5.2\n",
       "2   2021      3  제주도   12.0   14.9    4.0\n",
       "3   2021      4  제주도   14.7   15.8    4.6\n",
       "4   2021      5  제주도   17.9   17.6    4.1\n",
       "5   2021      6  제주도   22.1   20.3    2.9\n",
       "6   2021      7  제주도   26.7   24.7    3.7\n",
       "7   2021      8  제주도   26.6   25.7    3.0\n",
       "8   2021      9  제주도   24.1   24.3    4.4\n",
       "9   2021     10  제주도   19.7   22.7    2.8\n",
       "10  2021     11  제주도   14.3   19.4    4.4\n",
       "11  2021     12  제주도    9.3   16.7    4.2\n",
       "12  2022      1  제주도    6.4   15.1    3.6\n",
       "13  2022      2  제주도    5.6   13.7    4.1\n",
       "14  2022      3  제주도   11.0   13.9    3.5\n",
       "15  2022      4  제주도   14.5   16.2    3.2\n",
       "16  2022      5  제주도   18.0   17.9    3.3\n",
       "17  2022      6  제주도   22.3   20.3    3.4\n",
       "18  2022      7  제주도   27.1   26.0    3.4\n",
       "19  2022      8  제주도   28.1   28.3    3.2\n",
       "20  2022      9  제주도   23.6   25.0    4.4\n",
       "21  2022     10  제주도   18.3   22.0    3.5\n",
       "22  2022     11  제주도   15.5   20.3    3.0\n",
       "23  2022     12  제주도    7.5   17.3    4.8\n",
       "24  2023      1  제주도    7.3   15.5    4.3\n",
       "25  2023      2  제주도    8.0   14.6    3.0\n",
       "26  2023      3  제주도   12.0   15.2    2.6\n",
       "27  2023      4  제주도   15.0   16.5    4.4\n",
       "28  2023      5  제주도   18.2   18.0    2.9\n",
       "29  2023      6  제주도   22.0   20.0    3.2\n",
       "30  2023      7  제주도   27.0   24.5    3.0\n",
       "31  2023      8  제주도   28.1   27.5    2.7\n",
       "32  2023      9  제주도   25.7   26.9    2.7\n",
       "33  2023     10  제주도   19.6   22.7    2.7\n",
       "34  2023     11  제주도   14.1   20.1    4.0\n",
       "35  2023     12  제주도   10.0   17.0    4.0\n",
       "36  2024      1  제주도    8.4   15.7    4.3\n",
       "37  2024      2  제주도   10.0   15.0    4.0\n",
       "38  2024      3  제주도   10.9   14.8    4.0\n",
       "39  2024      4  제주도   16.0   16.5    2.9\n",
       "40  2024      5  제주도   18.2   17.8    3.2\n",
       "41  2024      6  제주도   22.0   20.4    2.8\n",
       "42  2024      7  제주도   27.9   25.2    3.0\n",
       "43  2024      8  제주도   29.3   28.7    2.5\n",
       "44  2024      9  제주도   27.3   28.2    3.1\n",
       "45  2024     10  제주도   21.2   24.5    3.5\n",
       "46  2024     11  제주도   15.7   21.7    4.4\n",
       "47  2024     12  제주도    9.3   17.2    4.8"
      ]
     },
     "execution_count": 75,
     "metadata": {},
     "output_type": "execute_result"
    }
   ],
   "source": [
    "# 2021 ~ 2024 제주도의 해양정보(수온, 기온, 풍속) 데이터 추출\n",
    "\n",
    "start_year = 2021\n",
    "end_year = 2024\n",
    "info = ['수온', '기온', '풍속']\n",
    "dfs = []\n",
    "\n",
    "for year in range(start_year, end_year + 1):\n",
    "    for month in range(1, 13):\n",
    "        for i in range(len(info)):\n",
    "            file_path = f'./{year}/제주/csv/{info[i]}_{year}_{month}.csv'\n",
    "            try:\n",
    "                df = pd.read_csv(file_path, encoding='utf-8')\n",
    "                \n",
    "                df = df[['평균']]\n",
    "                df.rename(columns={'평균': '평균'}, inplace=True)  # 원래 컬럼명 유지\n",
    "                \n",
    "                df['year'] = year\n",
    "                df['month'] = month\n",
    "                df['산지'] = '제주도'\n",
    "                df['항목'] = info[i]\n",
    "                \n",
    "                df_last = df.iloc[-1:]\n",
    "                dfs.append(df_last)\n",
    "            except FileNotFoundError:\n",
    "                print(f\"{file_path} 파일이 없습니다. 건너뜁니다.\")\n",
    "                continue\n",
    "\n",
    "combined_df = pd.concat(dfs, ignore_index=True)\n",
    "\n",
    "# 'year', 'month', '산지'를 기준으로 항목별 평균 컬럼으로 변환\n",
    "final_df = combined_df.pivot_table(\n",
    "    index=['year', 'month', '산지'], \n",
    "    columns='항목', \n",
    "    values='평균',\n",
    "    aggfunc='first'\n",
    ").reset_index()\n",
    "\n",
    "final_df.columns.name = None  # columns 그룹명 제거\n",
    "final_df.rename(columns={\n",
    "    '수온': '수온 평균', \n",
    "    '기온': '기온 평균', \n",
    "    '풍속': '풍속 평균'\n",
    "}, inplace=True)\n",
    "\n",
    "final_df\n"
   ]
  },
  {
   "cell_type": "code",
   "execution_count": 78,
   "id": "81d423c6-3ea0-4396-847e-e820ea1ed2eb",
   "metadata": {},
   "outputs": [],
   "source": [
    "final_df.to_csv('../해양정보_추출/제주_2021_2024_해양데이터.csv', index=False, encoding='utf-8-sig')"
   ]
  },
  {
   "cell_type": "code",
   "execution_count": 76,
   "id": "62b9a36b-5bac-404a-9a99-a13a04d1a41d",
   "metadata": {},
   "outputs": [
    {
     "ename": "SyntaxError",
     "evalue": "invalid syntax (942398928.py, line 8)",
     "output_type": "error",
     "traceback": [
      "\u001b[0;36m  Cell \u001b[0;32mIn[76], line 8\u001b[0;36m\u001b[0m\n\u001b[0;31m    for year == 2021 :\u001b[0m\n\u001b[0m             ^\u001b[0m\n\u001b[0;31mSyntaxError\u001b[0m\u001b[0;31m:\u001b[0m invalid syntax\n"
     ]
    }
   ],
   "source": [
    "# # 2021 제주도의 해양정보(수온, 기온, 풍속) 데이터 추출 테스트\n",
    "\n",
    "# year = 2021\n",
    "# i = 0 # info 값 돌리기\n",
    "# info = ['수온','기온','풍속']\n",
    "\n",
    "# dfs = []\n",
    "# for year == 2021 :\n",
    "#     for month in range(1, 13):\n",
    "#         file_path = f'./{year}/제주/csv/{info[i]}_{year}_{month}.csv'\n",
    "#         df1 = pd.read_csv(file_path1, encoding='utf-8')  # 기온\n",
    "        \n",
    "#         # 필요한 컬럼만 선택 (예: '평균' 컬럼)\n",
    "#         df = df[['평균']]\n",
    "        \n",
    "#         # 컬럼명 변경 (선택사항)\n",
    "#         df.rename(columns={'평균': {info[i]}+' 평균'}, inplace=True)\n",
    "        \n",
    "#         # 연도, 월, 산지 컬럼 추가\n",
    "#         df['year'] = year\n",
    "#         df['month'] = month\n",
    "#         df['산지'] = '제주도'\n",
    "    \n",
    "#         # 원하는 컬럼으로 마지막 행만 추출\n",
    "#         df_last = df[['year', 'month', '산지', info[i]+'평균']].iloc[-1:]\n",
    "        \n",
    "#         dfs.append(df_last)\n",
    "\n",
    "#     # 12개월 데이터 합치기\n",
    "#     combined_df = pd.concat(dfs, ignore_index=True)\n",
    "    \n",
    "#     combined_df\n",
    "\n"
   ]
  },
  {
   "cell_type": "code",
   "execution_count": 59,
   "id": "6ffa7880-315c-4daf-9386-8e88c4f0be52",
   "metadata": {},
   "outputs": [
    {
     "data": {
      "text/html": [
       "<div>\n",
       "<style scoped>\n",
       "    .dataframe tbody tr th:only-of-type {\n",
       "        vertical-align: middle;\n",
       "    }\n",
       "\n",
       "    .dataframe tbody tr th {\n",
       "        vertical-align: top;\n",
       "    }\n",
       "\n",
       "    .dataframe thead th {\n",
       "        text-align: right;\n",
       "    }\n",
       "</style>\n",
       "<table border=\"1\" class=\"dataframe\">\n",
       "  <thead>\n",
       "    <tr style=\"text-align: right;\">\n",
       "      <th></th>\n",
       "      <th>기온 평균</th>\n",
       "      <th>year</th>\n",
       "      <th>month</th>\n",
       "      <th>산지</th>\n",
       "    </tr>\n",
       "  </thead>\n",
       "  <tbody>\n",
       "    <tr>\n",
       "      <th>31</th>\n",
       "      <td>9.3</td>\n",
       "      <td>2021</td>\n",
       "      <td>12</td>\n",
       "      <td>제주도</td>\n",
       "    </tr>\n",
       "  </tbody>\n",
       "</table>\n",
       "</div>"
      ],
      "text/plain": [
       "    기온 평균  year  month   산지\n",
       "31    9.3  2021     12  제주도"
      ]
     },
     "execution_count": 59,
     "metadata": {},
     "output_type": "execute_result"
    }
   ],
   "source": []
  },
  {
   "cell_type": "code",
   "execution_count": null,
   "id": "7c6ebfd9-34fd-4e5b-8532-0140fd739559",
   "metadata": {},
   "outputs": [],
   "source": []
  }
 ],
 "metadata": {
  "kernelspec": {
   "display_name": "Python 3 (ipykernel)",
   "language": "python",
   "name": "python3"
  },
  "language_info": {
   "codemirror_mode": {
    "name": "ipython",
    "version": 3
   },
   "file_extension": ".py",
   "mimetype": "text/x-python",
   "name": "python",
   "nbconvert_exporter": "python",
   "pygments_lexer": "ipython3",
   "version": "3.10.18"
  }
 },
 "nbformat": 4,
 "nbformat_minor": 5
}
