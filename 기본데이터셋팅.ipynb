{
 "cells": [
  {
   "cell_type": "code",
   "execution_count": 1,
   "id": "a18f8044-3400-48f7-b885-9b21c5c9d8ee",
   "metadata": {},
   "outputs": [],
   "source": [
    "import pandas as pd\n",
    "import os"
   ]
  },
  {
   "cell_type": "code",
   "execution_count": null,
   "id": "c5cebe1b-d72d-401c-a02f-e32780dde09f",
   "metadata": {},
   "outputs": [],
   "source": [
    "pip install pandas xlrd"
   ]
  },
  {
   "cell_type": "markdown",
   "id": "68069b57-2f8a-4160-a263-6ed9637190b4",
   "metadata": {},
   "source": [
    "기존 폴더에 있는 엑셀파일들을 한번에 csv파일로 변환"
   ]
  },
  {
   "cell_type": "code",
   "execution_count": null,
   "id": "5530d8c8-b019-4126-9931-4b3eb69a41b5",
   "metadata": {},
   "outputs": [],
   "source": [
    "# input_folder = './data/넙치/2024(넙치)'   # 엑셀 파일이 있는 폴더 경로\n",
    "# output_folder = './data/넙치csv/2024'    # 변환된 파일을 저장할 폴더 경로\n",
    "\n",
    "# if not os.path.exists(output_folder):\n",
    "#     os.makedirs(output_folder)\n",
    "\n",
    "# for file in os.listdir(input_folder):\n",
    "#     if file.endswith('.xls'):\n",
    "#         xls_path = os.path.join(input_folder, file)\n",
    "#         csv_path = os.path.join(output_folder, file.replace('.xls', '.csv'))\n",
    "        \n",
    "#         # xls 파일을 읽고 DataFrame으로 변환\n",
    "#         df = pd.read_excel(xls_path, engine='xlrd')\n",
    "        \n",
    "#         # CSV로 저장\n",
    "#         df.to_csv(csv_path, index=False, encoding='utf-8-sig')\n",
    "#         print(f'{file} → CSV 변환 완료')\n",
    "\n",
    "# print('모든 XLS 파일 CSV 변환 완료!')"
   ]
  },
  {
   "cell_type": "code",
   "execution_count": null,
   "id": "98f753c9-4df8-4a44-aa75-86e93174f7e9",
   "metadata": {},
   "outputs": [],
   "source": [
    "# file의 경로를 f'./data/{원하는품종csv}csv/{year}/{year}-{month}.csv'\n",
    "# 원하는품종에 값으로 변경해주면 된다."
   ]
  },
  {
   "cell_type": "code",
   "execution_count": 32,
   "id": "ae5d523e-40db-4600-b4a3-480b620c4a95",
   "metadata": {},
   "outputs": [
    {
     "name": "stdout",
     "output_type": "stream",
     "text": [
      "Requirement already satisfied: koreanize-matplotlib in /opt/miniconda3/envs/yh/lib/python3.10/site-packages (0.1.1)\n",
      "Requirement already satisfied: matplotlib in /opt/miniconda3/envs/yh/lib/python3.10/site-packages (from koreanize-matplotlib) (3.10.0)\n",
      "Requirement already satisfied: contourpy>=1.0.1 in /opt/miniconda3/envs/yh/lib/python3.10/site-packages (from matplotlib->koreanize-matplotlib) (1.3.1)\n",
      "Requirement already satisfied: cycler>=0.10 in /opt/miniconda3/envs/yh/lib/python3.10/site-packages (from matplotlib->koreanize-matplotlib) (0.11.0)\n",
      "Requirement already satisfied: fonttools>=4.22.0 in /opt/miniconda3/envs/yh/lib/python3.10/site-packages (from matplotlib->koreanize-matplotlib) (4.55.3)\n",
      "Requirement already satisfied: kiwisolver>=1.3.1 in /opt/miniconda3/envs/yh/lib/python3.10/site-packages (from matplotlib->koreanize-matplotlib) (1.4.8)\n",
      "Requirement already satisfied: numpy>=1.23 in /opt/miniconda3/envs/yh/lib/python3.10/site-packages (from matplotlib->koreanize-matplotlib) (2.0.1)\n",
      "Requirement already satisfied: packaging>=20.0 in /opt/miniconda3/envs/yh/lib/python3.10/site-packages (from matplotlib->koreanize-matplotlib) (25.0)\n",
      "Requirement already satisfied: pillow>=8 in /opt/miniconda3/envs/yh/lib/python3.10/site-packages (from matplotlib->koreanize-matplotlib) (11.3.0)\n",
      "Requirement already satisfied: pyparsing>=2.3.1 in /opt/miniconda3/envs/yh/lib/python3.10/site-packages (from matplotlib->koreanize-matplotlib) (3.2.0)\n",
      "Requirement already satisfied: python-dateutil>=2.7 in /opt/miniconda3/envs/yh/lib/python3.10/site-packages (from matplotlib->koreanize-matplotlib) (2.9.0.post0)\n",
      "Requirement already satisfied: six>=1.5 in /opt/miniconda3/envs/yh/lib/python3.10/site-packages (from python-dateutil>=2.7->matplotlib->koreanize-matplotlib) (1.17.0)\n",
      "Note: you may need to restart the kernel to use updated packages.\n"
     ]
    }
   ],
   "source": [
    "%pip install koreanize-matplotlib\n",
    "from koreanize_matplotlib import koreanize\n",
    "koreanize()"
   ]
  },
  {
   "cell_type": "code",
   "execution_count": 34,
   "id": "39b08307-b547-4fb5-aa56-575a59fa172a",
   "metadata": {},
   "outputs": [],
   "source": [
    "import matplotlib.pyplot as plt"
   ]
  },
  {
   "cell_type": "code",
   "execution_count": null,
   "id": "29fff280-bc8f-45fe-8f78-e833e5ca962d",
   "metadata": {},
   "outputs": [],
   "source": [
    "# 갈치"
   ]
  },
  {
   "cell_type": "code",
   "execution_count": 2,
   "id": "c7acd1fe-d234-4ddb-807d-b1f6739abceb",
   "metadata": {},
   "outputs": [],
   "source": [
    "dfs = []\n",
    "for year in range(2021, 2025):\n",
    "    for month in range(1, 13):\n",
    "        file = f'./data/갈치csv/{year}/{year}-{month}.csv'\n",
    "        if os.path.exists(file):\n",
    "            df = pd.read_csv(file, encoding='utf-8')\n",
    "            df['year'] = year\n",
    "            df['month'] = month\n",
    "            dfs.append(df)\n",
    "\n",
    "data_gal = pd.concat(dfs, ignore_index=True)"
   ]
  },
  {
   "cell_type": "code",
   "execution_count": 3,
   "id": "44ac2737-beda-48db-81fb-2a2832713b80",
   "metadata": {},
   "outputs": [],
   "source": [
    "# datetime 형식\n",
    "data_gal['date'] = pd.to_datetime(\n",
    "    dict(year=data_gal['year'], month=data_gal['month'], day=1)\n",
    ")"
   ]
  },
  {
   "cell_type": "code",
   "execution_count": 35,
   "id": "cbdf1044-7392-4526-b75d-c145808119be",
   "metadata": {},
   "outputs": [
    {
     "data": {
      "image/png": "[encoded data removed]",
      "text/plain": [
       "<Figure size 640x480 with 1 Axes>"
      ]
     },
     "metadata": {},
     "output_type": "display_data"
    }
   ],
   "source": [
    "data_gal['어종'].value_counts().plot(kind='bar')\n",
    "plt.show()"
   ]
  },
  {
   "cell_type": "code",
   "execution_count": 119,
   "id": "0d106af0-9493-412e-b760-6bdb1cf7e96c",
   "metadata": {},
   "outputs": [],
   "source": [
    "data_gal.to_csv('./data/갈치csv/갈치.csv', index=False, encoding='utf-8-sig')"
   ]
  },
  {
   "cell_type": "code",
   "execution_count": null,
   "id": "c3e5095a-1540-4aab-8765-85bf03224fb4",
   "metadata": {},
   "outputs": [],
   "source": []
  },
  {
   "cell_type": "code",
   "execution_count": null,
   "id": "70172728-837e-4884-a128-c3b1158f0716",
   "metadata": {},
   "outputs": [],
   "source": [
    "# 명태"
   ]
  },
  {
   "cell_type": "code",
   "execution_count": 14,
   "id": "426910c8-7fe0-4915-819a-d69c6b888aa1",
   "metadata": {},
   "outputs": [],
   "source": [
    "dfs = []\n",
    "for year in range(2021, 2025):\n",
    "    for month in range(1, 13):\n",
    "        file = f'./data/명태csv/{year}/{year}-{month}.csv'\n",
    "        if os.path.exists(file):\n",
    "            df = pd.read_csv(file, encoding='utf-8')\n",
    "            df['year'] = year\n",
    "            df['month'] = month\n",
    "            dfs.append(df)\n",
    "\n",
    "data_mung = pd.concat(dfs, ignore_index=True)\n",
    "\n",
    "# datetime 형식\n",
    "data_mung['date'] = pd.to_datetime(\n",
    "    dict(year=data_mung['year'], month=data_mung['month'], day=1)\n",
    ")"
   ]
  },
  {
   "cell_type": "code",
   "execution_count": 42,
   "id": "d636325e-51bb-4129-b076-dfbba30b59ee",
   "metadata": {},
   "outputs": [
    {
     "data": {
      "text/plain": [
       "0       (선)명태\n",
       "1       (냉)명태\n",
       "2       (냉)명태\n",
       "3       (냉)명태\n",
       "4       (냉)명태\n",
       "        ...  \n",
       "423     (냉)명태\n",
       "424     (냉)명태\n",
       "425    (냉)명태포\n",
       "426    (냉)명태포\n",
       "427    (냉)명태포\n",
       "Name: 어종, Length: 428, dtype: object"
      ]
     },
     "execution_count": 42,
     "metadata": {},
     "output_type": "execute_result"
    }
   ],
   "source": [
    "data_mung['어종']"
   ]
  },
  {
   "cell_type": "code",
   "execution_count": 37,
   "id": "f52d96a3-afff-4ab9-9576-e9d20f9b8c5e",
   "metadata": {},
   "outputs": [
    {
     "data": {
      "image/png": "[encoded data removed]",
      "text/plain": [
       "<Figure size 640x480 with 1 Axes>"
      ]
     },
     "metadata": {},
     "output_type": "display_data"
    }
   ],
   "source": [
    "data_mung['어종'].value_counts().plot(kind='bar')\n",
    "plt.show()"
   ]
  },
  {
   "cell_type": "code",
   "execution_count": 118,
   "id": "4ed9756d-1ad2-490c-b71d-42242a824a29",
   "metadata": {},
   "outputs": [],
   "source": [
    "data_mung.to_csv('./data/명태csv/명태.csv', index=False, encoding='utf-8-sig')"
   ]
  },
  {
   "cell_type": "code",
   "execution_count": null,
   "id": "8896d2dc-9f1a-4a9e-87ec-da9de9d4ec73",
   "metadata": {},
   "outputs": [],
   "source": [
    "# 고등어"
   ]
  },
  {
   "cell_type": "code",
   "execution_count": 16,
   "id": "c2a44411-9bed-45d5-a2a3-44b720e716d0",
   "metadata": {},
   "outputs": [],
   "source": [
    "dfs = []\n",
    "for year in range(2021, 2025):\n",
    "    for month in range(1, 13):\n",
    "        file = f'./data/고등어csv/{year}/{year}-{month}.csv'\n",
    "        if os.path.exists(file):\n",
    "            df = pd.read_csv(file, encoding='utf-8')\n",
    "            df['year'] = year\n",
    "            df['month'] = month\n",
    "            dfs.append(df)\n",
    "\n",
    "data_go = pd.concat(dfs, ignore_index=True)\n",
    "\n",
    "# datetime 형식\n",
    "data_go['date'] = pd.to_datetime(\n",
    "    dict(year=data_go['year'], month=data_go['month'], day=1)\n",
    ")"
   ]
  },
  {
   "cell_type": "code",
   "execution_count": 41,
   "id": "5462452d-1615-4d76-a9d4-01b3cddd4ea5",
   "metadata": {},
   "outputs": [
    {
     "data": {
      "text/plain": [
       "0        (선)고등어\n",
       "1        (선)고등어\n",
       "2        (선)고등어\n",
       "3        (선)고등어\n",
       "4        (선)고등어\n",
       "         ...   \n",
       "2047    (냉)염고등어\n",
       "2048    (냉)염고등어\n",
       "2049    (냉)염고등어\n",
       "2050    (냉)염고등어\n",
       "2051    (선)점고등어\n",
       "Name: 어종, Length: 2052, dtype: object"
      ]
     },
     "execution_count": 41,
     "metadata": {},
     "output_type": "execute_result"
    }
   ],
   "source": [
    "data_go['어종']"
   ]
  },
  {
   "cell_type": "code",
   "execution_count": 114,
   "id": "74eeb74b-3a56-410b-af80-96c904cec80d",
   "metadata": {},
   "outputs": [],
   "source": [
    "data_go.to_csv('./data/고등어csv/고등어.csv', index=False, encoding='utf-8-sig')"
   ]
  },
  {
   "cell_type": "code",
   "execution_count": 115,
   "id": "c72f93f9-bd6e-42b2-a1d3-4c97c1062205",
   "metadata": {},
   "outputs": [
    {
     "data": {
      "text/html": [
       "<div>\n",
       "<style scoped>\n",
       "    .dataframe tbody tr th:only-of-type {\n",
       "        vertical-align: middle;\n",
       "    }\n",
       "\n",
       "    .dataframe tbody tr th {\n",
       "        vertical-align: top;\n",
       "    }\n",
       "\n",
       "    .dataframe thead th {\n",
       "        text-align: right;\n",
       "    }\n",
       "</style>\n",
       "<table border=\"1\" class=\"dataframe\">\n",
       "  <thead>\n",
       "    <tr style=\"text-align: right;\">\n",
       "      <th></th>\n",
       "      <th>어종</th>\n",
       "      <th>산지</th>\n",
       "      <th>규격</th>\n",
       "      <th>포장</th>\n",
       "      <th>수량</th>\n",
       "      <th>중량</th>\n",
       "      <th>낙찰고가</th>\n",
       "      <th>낙찰저가</th>\n",
       "      <th>평균가</th>\n",
       "      <th>year</th>\n",
       "      <th>month</th>\n",
       "      <th>date</th>\n",
       "    </tr>\n",
       "  </thead>\n",
       "  <tbody>\n",
       "    <tr>\n",
       "      <th>0</th>\n",
       "      <td>(선)고등어</td>\n",
       "      <td>부산(기장)</td>\n",
       "      <td>30미</td>\n",
       "      <td>S/P</td>\n",
       "      <td>142</td>\n",
       "      <td>15.0</td>\n",
       "      <td>36,000</td>\n",
       "      <td>31,000</td>\n",
       "      <td>33,500</td>\n",
       "      <td>2021</td>\n",
       "      <td>1</td>\n",
       "      <td>2021-01-01</td>\n",
       "    </tr>\n",
       "    <tr>\n",
       "      <th>1</th>\n",
       "      <td>(선)고등어</td>\n",
       "      <td>목포</td>\n",
       "      <td>30미</td>\n",
       "      <td>S/P</td>\n",
       "      <td>4</td>\n",
       "      <td>10.0</td>\n",
       "      <td>30,000</td>\n",
       "      <td>30,000</td>\n",
       "      <td>30,000</td>\n",
       "      <td>2021</td>\n",
       "      <td>1</td>\n",
       "      <td>2021-01-01</td>\n",
       "    </tr>\n",
       "    <tr>\n",
       "      <th>2</th>\n",
       "      <td>(선)고등어</td>\n",
       "      <td>제주도</td>\n",
       "      <td>10미</td>\n",
       "      <td>S/P</td>\n",
       "      <td>59</td>\n",
       "      <td>15.0</td>\n",
       "      <td>60,000</td>\n",
       "      <td>25,000</td>\n",
       "      <td>34,700</td>\n",
       "      <td>2021</td>\n",
       "      <td>1</td>\n",
       "      <td>2021-01-01</td>\n",
       "    </tr>\n",
       "    <tr>\n",
       "      <th>3</th>\n",
       "      <td>(선)고등어</td>\n",
       "      <td>부산(기장)</td>\n",
       "      <td>22미</td>\n",
       "      <td>S/P</td>\n",
       "      <td>168</td>\n",
       "      <td>15.0</td>\n",
       "      <td>52,000</td>\n",
       "      <td>47,000</td>\n",
       "      <td>48,900</td>\n",
       "      <td>2021</td>\n",
       "      <td>1</td>\n",
       "      <td>2021-01-01</td>\n",
       "    </tr>\n",
       "    <tr>\n",
       "      <th>4</th>\n",
       "      <td>(선)고등어</td>\n",
       "      <td>목포</td>\n",
       "      <td>20미</td>\n",
       "      <td>S/P</td>\n",
       "      <td>32</td>\n",
       "      <td>10.0</td>\n",
       "      <td>30,000</td>\n",
       "      <td>30,000</td>\n",
       "      <td>30,000</td>\n",
       "      <td>2021</td>\n",
       "      <td>1</td>\n",
       "      <td>2021-01-01</td>\n",
       "    </tr>\n",
       "    <tr>\n",
       "      <th>...</th>\n",
       "      <td>...</td>\n",
       "      <td>...</td>\n",
       "      <td>...</td>\n",
       "      <td>...</td>\n",
       "      <td>...</td>\n",
       "      <td>...</td>\n",
       "      <td>...</td>\n",
       "      <td>...</td>\n",
       "      <td>...</td>\n",
       "      <td>...</td>\n",
       "      <td>...</td>\n",
       "      <td>...</td>\n",
       "    </tr>\n",
       "    <tr>\n",
       "      <th>2047</th>\n",
       "      <td>(냉)염고등어</td>\n",
       "      <td>노르웨이</td>\n",
       "      <td>중</td>\n",
       "      <td>CT/(BT)</td>\n",
       "      <td>271</td>\n",
       "      <td>6.0</td>\n",
       "      <td>40,800</td>\n",
       "      <td>38,200</td>\n",
       "      <td>39,300</td>\n",
       "      <td>2024</td>\n",
       "      <td>12</td>\n",
       "      <td>2024-12-01</td>\n",
       "    </tr>\n",
       "    <tr>\n",
       "      <th>2048</th>\n",
       "      <td>(냉)염고등어</td>\n",
       "      <td>노르웨이</td>\n",
       "      <td>8손</td>\n",
       "      <td>CT/(BT)</td>\n",
       "      <td>255</td>\n",
       "      <td>7.0</td>\n",
       "      <td>42,700</td>\n",
       "      <td>42,700</td>\n",
       "      <td>42,700</td>\n",
       "      <td>2024</td>\n",
       "      <td>12</td>\n",
       "      <td>2024-12-01</td>\n",
       "    </tr>\n",
       "    <tr>\n",
       "      <th>2049</th>\n",
       "      <td>(냉)염고등어</td>\n",
       "      <td>기타(국내)</td>\n",
       "      <td>대</td>\n",
       "      <td>CT/(BT)</td>\n",
       "      <td>10</td>\n",
       "      <td>13.0</td>\n",
       "      <td>47,000</td>\n",
       "      <td>47,000</td>\n",
       "      <td>47,000</td>\n",
       "      <td>2024</td>\n",
       "      <td>12</td>\n",
       "      <td>2024-12-01</td>\n",
       "    </tr>\n",
       "    <tr>\n",
       "      <th>2050</th>\n",
       "      <td>(냉)염고등어</td>\n",
       "      <td>노르웨이</td>\n",
       "      <td>150/200</td>\n",
       "      <td>CT/(BT)</td>\n",
       "      <td>20</td>\n",
       "      <td>12.0</td>\n",
       "      <td>104,900</td>\n",
       "      <td>104,900</td>\n",
       "      <td>104,900</td>\n",
       "      <td>2024</td>\n",
       "      <td>12</td>\n",
       "      <td>2024-12-01</td>\n",
       "    </tr>\n",
       "    <tr>\n",
       "      <th>2051</th>\n",
       "      <td>(선)점고등어</td>\n",
       "      <td>부산(기장)</td>\n",
       "      <td>20미</td>\n",
       "      <td>S/P</td>\n",
       "      <td>30</td>\n",
       "      <td>10.0</td>\n",
       "      <td>33,000</td>\n",
       "      <td>33,000</td>\n",
       "      <td>33,000</td>\n",
       "      <td>2024</td>\n",
       "      <td>12</td>\n",
       "      <td>2024-12-01</td>\n",
       "    </tr>\n",
       "  </tbody>\n",
       "</table>\n",
       "<p>2052 rows × 12 columns</p>\n",
       "</div>"
      ],
      "text/plain": [
       "           어종      산지       규격       포장   수량    중량     낙찰고가     낙찰저가      평균가  \\\n",
       "0      (선)고등어  부산(기장)      30미      S/P  142  15.0   36,000   31,000   33,500   \n",
       "1      (선)고등어      목포      30미      S/P    4  10.0   30,000   30,000   30,000   \n",
       "2      (선)고등어     제주도      10미      S/P   59  15.0   60,000   25,000   34,700   \n",
       "3      (선)고등어  부산(기장)      22미      S/P  168  15.0   52,000   47,000   48,900   \n",
       "4      (선)고등어      목포      20미      S/P   32  10.0   30,000   30,000   30,000   \n",
       "...       ...     ...      ...      ...  ...   ...      ...      ...      ...   \n",
       "2047  (냉)염고등어    노르웨이        중  CT/(BT)  271   6.0   40,800   38,200   39,300   \n",
       "2048  (냉)염고등어    노르웨이       8손  CT/(BT)  255   7.0   42,700   42,700   42,700   \n",
       "2049  (냉)염고등어  기타(국내)        대  CT/(BT)   10  13.0   47,000   47,000   47,000   \n",
       "2050  (냉)염고등어    노르웨이  150/200  CT/(BT)   20  12.0  104,900  104,900  104,900   \n",
       "2051  (선)점고등어  부산(기장)      20미      S/P   30  10.0   33,000   33,000   33,000   \n",
       "\n",
       "      year  month        date  \n",
       "0     2021      1  2021-01-01  \n",
       "1     2021      1  2021-01-01  \n",
       "2     2021      1  2021-01-01  \n",
       "3     2021      1  2021-01-01  \n",
       "4     2021      1  2021-01-01  \n",
       "...    ...    ...         ...  \n",
       "2047  2024     12  2024-12-01  \n",
       "2048  2024     12  2024-12-01  \n",
       "2049  2024     12  2024-12-01  \n",
       "2050  2024     12  2024-12-01  \n",
       "2051  2024     12  2024-12-01  \n",
       "\n",
       "[2052 rows x 12 columns]"
      ]
     },
     "execution_count": 115,
     "metadata": {},
     "output_type": "execute_result"
    }
   ],
   "source": [
    "pd.read_csv('./data/고등어csv/고등어.csv')"
   ]
  },
  {
   "cell_type": "code",
   "execution_count": 43,
   "id": "43f7d28f-ca4e-44cd-8d67-8bf4787c59ea",
   "metadata": {},
   "outputs": [
    {
     "data": {
      "image/png": "[encoded data removed]",
      "text/plain": [
       "<Figure size 640x480 with 1 Axes>"
      ]
     },
     "metadata": {},
     "output_type": "display_data"
    }
   ],
   "source": [
    "data_go['어종'].value_counts().plot(kind='bar')\n",
    "plt.show()"
   ]
  },
  {
   "cell_type": "code",
   "execution_count": null,
   "id": "05dab84c-8379-4e4a-9831-f54bcb0b8eef",
   "metadata": {},
   "outputs": [],
   "source": []
  },
  {
   "cell_type": "code",
   "execution_count": null,
   "id": "854bafef-9be6-49d4-8f37-5a5d5e01645d",
   "metadata": {},
   "outputs": [],
   "source": [
    "# 우럭"
   ]
  },
  {
   "cell_type": "code",
   "execution_count": 18,
   "id": "8738e57f-7442-4d45-85c1-1bdca3c87d0f",
   "metadata": {},
   "outputs": [],
   "source": [
    "dfs = []\n",
    "for year in range(2021, 2025):\n",
    "    for month in range(1, 13):\n",
    "        file = f'./data/우럭csv/{year}/{year}-{month}.csv'\n",
    "        if os.path.exists(file):\n",
    "            df = pd.read_csv(file, encoding='utf-8')\n",
    "            df['year'] = year\n",
    "            df['month'] = month\n",
    "            dfs.append(df)\n",
    "\n",
    "data_ou = pd.concat(dfs, ignore_index=True)\n",
    "\n",
    "# datetime 형식\n",
    "data_ou['date'] = pd.to_datetime(\n",
    "    dict(year=data_ou['year'], month=data_ou['month'], day=1)\n",
    ")"
   ]
  },
  {
   "cell_type": "code",
   "execution_count": 44,
   "id": "3bd766e2-3d8e-4479-9730-b5536f329b51",
   "metadata": {},
   "outputs": [
    {
     "data": {
      "text/plain": [
       "<Axes: xlabel='어종'>"
      ]
     },
     "execution_count": 44,
     "metadata": {},
     "output_type": "execute_result"
    },
    {
     "data": {
      "image/png": "[encoded data removed]",
      "text/plain": [
       "<Figure size 640x480 with 1 Axes>"
      ]
     },
     "metadata": {},
     "output_type": "display_data"
    }
   ],
   "source": [
    "data_ou['어종'].value_counts().plot(kind='bar')"
   ]
  },
  {
   "cell_type": "code",
   "execution_count": 116,
   "id": "6527ef74-57a8-427a-aab0-606a48f501ce",
   "metadata": {},
   "outputs": [],
   "source": [
    "data_ou.to_csv('./data/우럭csv/우럭.csv', index=False, encoding='utf-8-sig')"
   ]
  },
  {
   "cell_type": "code",
   "execution_count": null,
   "id": "5ce173f5-0685-4491-8fcd-caff1febdc06",
   "metadata": {},
   "outputs": [],
   "source": []
  },
  {
   "cell_type": "code",
   "execution_count": null,
   "id": "7311fd2a-4cfc-4396-a13c-153f16e12d87",
   "metadata": {},
   "outputs": [],
   "source": [
    "# 넙치"
   ]
  },
  {
   "cell_type": "code",
   "execution_count": 20,
   "id": "47681c55-3918-4ef9-8da0-a8947b77636b",
   "metadata": {},
   "outputs": [],
   "source": [
    "dfs = []\n",
    "for year in range(2021, 2025):\n",
    "    for month in range(1, 13):\n",
    "        file = f'./data/넙치csv/{year}/{year}-{month}.csv'\n",
    "        if os.path.exists(file):\n",
    "            df = pd.read_csv(file, encoding='utf-8')\n",
    "            df['year'] = year\n",
    "            df['month'] = month\n",
    "            dfs.append(df)\n",
    "\n",
    "data_nup = pd.concat(dfs, ignore_index=True)\n",
    "\n",
    "# datetime 형식\n",
    "data_nup['date'] = pd.to_datetime(\n",
    "    dict(year=data_nup['year'], month=data_nup['month'], day=1)\n",
    ")"
   ]
  },
  {
   "cell_type": "code",
   "execution_count": 53,
   "id": "b1b7ea8f-35d6-4d73-b408-98e28d06dede",
   "metadata": {},
   "outputs": [
    {
     "data": {
      "text/plain": [
       "어종\n",
       "(선)넙치     1202\n",
       "(활)넙치      888\n",
       "(활)찰넙치      38\n",
       "(냉)넙치        7\n",
       "(선)찰넙치       4\n",
       "(선)대구        2\n",
       "(선)가자미       1\n",
       "(활)도다리       1\n",
       "(선)양태        1\n",
       "Name: count, dtype: int64"
      ]
     },
     "execution_count": 53,
     "metadata": {},
     "output_type": "execute_result"
    }
   ],
   "source": [
    "data_nup['어종'].value_counts()"
   ]
  },
  {
   "cell_type": "code",
   "execution_count": 45,
   "id": "93fbdf33-9249-4db3-83e8-a6eb7481f391",
   "metadata": {},
   "outputs": [
    {
     "data": {
      "text/plain": [
       "<Axes: xlabel='어종'>"
      ]
     },
     "execution_count": 45,
     "metadata": {},
     "output_type": "execute_result"
    },
    {
     "data": {
      "image/png": "[encoded data removed]",
      "text/plain": [
       "<Figure size 640x480 with 1 Axes>"
      ]
     },
     "metadata": {},
     "output_type": "display_data"
    }
   ],
   "source": [
    "data_nup['어종'].value_counts().plot(kind='bar')"
   ]
  },
  {
   "cell_type": "code",
   "execution_count": 117,
   "id": "d7791f7a-2810-435d-8404-ef8b394ccb36",
   "metadata": {},
   "outputs": [],
   "source": [
    "data_nup.to_csv('./data/넙치csv/넙치.csv', index=False, encoding='utf-8-sig')"
   ]
  },
  {
   "cell_type": "code",
   "execution_count": 52,
   "id": "48c9e646-043b-4fa9-ad75-bf3d89dcfd05",
   "metadata": {},
   "outputs": [
    {
     "data": {
      "image/png": "[encoded data removed]",
      "text/plain": [
       "<Figure size 2000x400 with 5 Axes>"
      ]
     },
     "metadata": {},
     "output_type": "display_data"
    }
   ],
   "source": [
    "import matplotlib.pyplot as plt\n",
    "\n",
    "fig, axes = plt.subplots(1, 5, figsize=(20, 4))\n",
    "\n",
    "data_list = [data_gal, data_mung, data_go, data_ou, data_nup]\n",
    "titles = ['갈치', '명태', '고등어', '우럭', '넙치']\n",
    "\n",
    "for ax, data, title in zip(axes, data_list, titles):\n",
    "    data['어종'].value_counts().plot(kind='bar', ax=ax)\n",
    "    ax.set_title(title)  # 지정한 이름으로 타이틀 설정\n",
    "\n",
    "plt.tight_layout()\n",
    "plt.show()\n"
   ]
  },
  {
   "cell_type": "raw",
   "id": "55820dcc-a5ed-4958-8a80-2b17fbeb8da9",
   "metadata": {},
   "source": [
    "data_gal['어종'].value_counts()"
   ]
  },
  {
   "cell_type": "code",
   "execution_count": null,
   "id": "e7432cec-816c-4889-b779-7d1a996b8f37",
   "metadata": {},
   "outputs": [],
   "source": [
    "# 데이터 합치기 (명태,고등어,우럭,갈치,넙치)"
   ]
  },
  {
   "cell_type": "code",
   "execution_count": 25,
   "id": "9872ccc2-9cd7-4b89-97c2-6075adcfce59",
   "metadata": {},
   "outputs": [],
   "source": [
    "df = pd.concat([data_mung, data_go, data_ou, data_gal, data_nup], axis=0, ignore_index=True)\n"
   ]
  },
  {
   "cell_type": "code",
   "execution_count": 29,
   "id": "c40416c8-cd25-4a52-9457-38c113b2d0d9",
   "metadata": {},
   "outputs": [
    {
     "data": {
      "text/html": [
       "<div>\n",
       "<style scoped>\n",
       "    .dataframe tbody tr th:only-of-type {\n",
       "        vertical-align: middle;\n",
       "    }\n",
       "\n",
       "    .dataframe tbody tr th {\n",
       "        vertical-align: top;\n",
       "    }\n",
       "\n",
       "    .dataframe thead th {\n",
       "        text-align: right;\n",
       "    }\n",
       "</style>\n",
       "<table border=\"1\" class=\"dataframe\">\n",
       "  <thead>\n",
       "    <tr style=\"text-align: right;\">\n",
       "      <th></th>\n",
       "      <th>어종</th>\n",
       "      <th>산지</th>\n",
       "      <th>규격</th>\n",
       "      <th>포장</th>\n",
       "      <th>수량</th>\n",
       "      <th>중량</th>\n",
       "      <th>낙찰고가</th>\n",
       "      <th>낙찰저가</th>\n",
       "      <th>평균가</th>\n",
       "      <th>year</th>\n",
       "      <th>month</th>\n",
       "      <th>date</th>\n",
       "    </tr>\n",
       "  </thead>\n",
       "  <tbody>\n",
       "    <tr>\n",
       "      <th>0</th>\n",
       "      <td>(선)명태</td>\n",
       "      <td>일본</td>\n",
       "      <td>중</td>\n",
       "      <td>S/P</td>\n",
       "      <td>5</td>\n",
       "      <td>10.0</td>\n",
       "      <td>60,000</td>\n",
       "      <td>60,000</td>\n",
       "      <td>60,000</td>\n",
       "      <td>2021</td>\n",
       "      <td>1</td>\n",
       "      <td>2021-01-01</td>\n",
       "    </tr>\n",
       "    <tr>\n",
       "      <th>1</th>\n",
       "      <td>(냉)명태</td>\n",
       "      <td>러시아</td>\n",
       "      <td>6통</td>\n",
       "      <td>PAN(펜)</td>\n",
       "      <td>2,117</td>\n",
       "      <td>21.5</td>\n",
       "      <td>33,600</td>\n",
       "      <td>24,500</td>\n",
       "      <td>25,700</td>\n",
       "      <td>2021</td>\n",
       "      <td>1</td>\n",
       "      <td>2021-01-01</td>\n",
       "    </tr>\n",
       "    <tr>\n",
       "      <th>2</th>\n",
       "      <td>(냉)명태</td>\n",
       "      <td>러시아</td>\n",
       "      <td>4통</td>\n",
       "      <td>PAN(펜)</td>\n",
       "      <td>246</td>\n",
       "      <td>21.5</td>\n",
       "      <td>47,200</td>\n",
       "      <td>46,700</td>\n",
       "      <td>46,900</td>\n",
       "      <td>2021</td>\n",
       "      <td>1</td>\n",
       "      <td>2021-01-01</td>\n",
       "    </tr>\n",
       "    <tr>\n",
       "      <th>3</th>\n",
       "      <td>(냉)명태</td>\n",
       "      <td>러시아</td>\n",
       "      <td>9통</td>\n",
       "      <td>PAN(펜)</td>\n",
       "      <td>220</td>\n",
       "      <td>21.5</td>\n",
       "      <td>30,500</td>\n",
       "      <td>30,500</td>\n",
       "      <td>30,500</td>\n",
       "      <td>2021</td>\n",
       "      <td>1</td>\n",
       "      <td>2021-01-01</td>\n",
       "    </tr>\n",
       "    <tr>\n",
       "      <th>4</th>\n",
       "      <td>(냉)명태</td>\n",
       "      <td>러시아</td>\n",
       "      <td>3통</td>\n",
       "      <td>PAN(펜)</td>\n",
       "      <td>331</td>\n",
       "      <td>21.5</td>\n",
       "      <td>51,900</td>\n",
       "      <td>41,000</td>\n",
       "      <td>42,000</td>\n",
       "      <td>2021</td>\n",
       "      <td>1</td>\n",
       "      <td>2021-01-01</td>\n",
       "    </tr>\n",
       "    <tr>\n",
       "      <th>...</th>\n",
       "      <td>...</td>\n",
       "      <td>...</td>\n",
       "      <td>...</td>\n",
       "      <td>...</td>\n",
       "      <td>...</td>\n",
       "      <td>...</td>\n",
       "      <td>...</td>\n",
       "      <td>...</td>\n",
       "      <td>...</td>\n",
       "      <td>...</td>\n",
       "      <td>...</td>\n",
       "      <td>...</td>\n",
       "    </tr>\n",
       "    <tr>\n",
       "      <th>16872</th>\n",
       "      <td>(활)찰넙치</td>\n",
       "      <td>태안</td>\n",
       "      <td>2미</td>\n",
       "      <td>kg</td>\n",
       "      <td>5.6</td>\n",
       "      <td>1.0</td>\n",
       "      <td>20,000</td>\n",
       "      <td>20,000</td>\n",
       "      <td>20,000</td>\n",
       "      <td>2024</td>\n",
       "      <td>12</td>\n",
       "      <td>2024-12-01</td>\n",
       "    </tr>\n",
       "    <tr>\n",
       "      <th>16873</th>\n",
       "      <td>(활)찰넙치</td>\n",
       "      <td>제주도</td>\n",
       "      <td>1미</td>\n",
       "      <td>kg</td>\n",
       "      <td>265.1</td>\n",
       "      <td>1.0</td>\n",
       "      <td>28,500</td>\n",
       "      <td>25,000</td>\n",
       "      <td>27,500</td>\n",
       "      <td>2024</td>\n",
       "      <td>12</td>\n",
       "      <td>2024-12-01</td>\n",
       "    </tr>\n",
       "    <tr>\n",
       "      <th>16874</th>\n",
       "      <td>(활)찰넙치</td>\n",
       "      <td>제주도</td>\n",
       "      <td>7미</td>\n",
       "      <td>kg</td>\n",
       "      <td>108.5</td>\n",
       "      <td>1.0</td>\n",
       "      <td>28,000</td>\n",
       "      <td>22,000</td>\n",
       "      <td>25,200</td>\n",
       "      <td>2024</td>\n",
       "      <td>12</td>\n",
       "      <td>2024-12-01</td>\n",
       "    </tr>\n",
       "    <tr>\n",
       "      <th>16875</th>\n",
       "      <td>(활)찰넙치</td>\n",
       "      <td>제주도</td>\n",
       "      <td>5미</td>\n",
       "      <td>kg</td>\n",
       "      <td>38.4</td>\n",
       "      <td>1.0</td>\n",
       "      <td>18,000</td>\n",
       "      <td>12,000</td>\n",
       "      <td>14,400</td>\n",
       "      <td>2024</td>\n",
       "      <td>12</td>\n",
       "      <td>2024-12-01</td>\n",
       "    </tr>\n",
       "    <tr>\n",
       "      <th>16876</th>\n",
       "      <td>(활)찰넙치</td>\n",
       "      <td>제주도</td>\n",
       "      <td>10미</td>\n",
       "      <td>kg</td>\n",
       "      <td>135</td>\n",
       "      <td>1.0</td>\n",
       "      <td>24,000</td>\n",
       "      <td>22,000</td>\n",
       "      <td>23,200</td>\n",
       "      <td>2024</td>\n",
       "      <td>12</td>\n",
       "      <td>2024-12-01</td>\n",
       "    </tr>\n",
       "  </tbody>\n",
       "</table>\n",
       "<p>16877 rows × 12 columns</p>\n",
       "</div>"
      ],
      "text/plain": [
       "           어종   산지   규격      포장     수량    중량    낙찰고가    낙찰저가     평균가  year  \\\n",
       "0       (선)명태   일본    중     S/P      5  10.0  60,000  60,000  60,000  2021   \n",
       "1       (냉)명태  러시아   6통  PAN(펜)  2,117  21.5  33,600  24,500  25,700  2021   \n",
       "2       (냉)명태  러시아   4통  PAN(펜)    246  21.5  47,200  46,700  46,900  2021   \n",
       "3       (냉)명태  러시아   9통  PAN(펜)    220  21.5  30,500  30,500  30,500  2021   \n",
       "4       (냉)명태  러시아   3통  PAN(펜)    331  21.5  51,900  41,000  42,000  2021   \n",
       "...       ...  ...  ...     ...    ...   ...     ...     ...     ...   ...   \n",
       "16872  (활)찰넙치   태안   2미      kg    5.6   1.0  20,000  20,000  20,000  2024   \n",
       "16873  (활)찰넙치  제주도   1미      kg  265.1   1.0  28,500  25,000  27,500  2024   \n",
       "16874  (활)찰넙치  제주도   7미      kg  108.5   1.0  28,000  22,000  25,200  2024   \n",
       "16875  (활)찰넙치  제주도   5미      kg   38.4   1.0  18,000  12,000  14,400  2024   \n",
       "16876  (활)찰넙치  제주도  10미      kg    135   1.0  24,000  22,000  23,200  2024   \n",
       "\n",
       "       month       date  \n",
       "0          1 2021-01-01  \n",
       "1          1 2021-01-01  \n",
       "2          1 2021-01-01  \n",
       "3          1 2021-01-01  \n",
       "4          1 2021-01-01  \n",
       "...      ...        ...  \n",
       "16872     12 2024-12-01  \n",
       "16873     12 2024-12-01  \n",
       "16874     12 2024-12-01  \n",
       "16875     12 2024-12-01  \n",
       "16876     12 2024-12-01  \n",
       "\n",
       "[16877 rows x 12 columns]"
      ]
     },
     "execution_count": 29,
     "metadata": {},
     "output_type": "execute_result"
    }
   ],
   "source": [
    "df"
   ]
  },
  {
   "cell_type": "code",
   "execution_count": 58,
   "id": "126c1d19-f9b6-412d-be59-f8a15c3d720e",
   "metadata": {},
   "outputs": [
    {
     "data": {
      "text/html": [
       "<div>\n",
       "<style scoped>\n",
       "    .dataframe tbody tr th:only-of-type {\n",
       "        vertical-align: middle;\n",
       "    }\n",
       "\n",
       "    .dataframe tbody tr th {\n",
       "        vertical-align: top;\n",
       "    }\n",
       "\n",
       "    .dataframe thead th {\n",
       "        text-align: right;\n",
       "    }\n",
       "</style>\n",
       "<table border=\"1\" class=\"dataframe\">\n",
       "  <thead>\n",
       "    <tr style=\"text-align: right;\">\n",
       "      <th></th>\n",
       "      <th>어종</th>\n",
       "      <th>산지</th>\n",
       "      <th>규격</th>\n",
       "      <th>포장</th>\n",
       "      <th>수량</th>\n",
       "      <th>중량</th>\n",
       "      <th>낙찰고가</th>\n",
       "      <th>낙찰저가</th>\n",
       "      <th>평균가</th>\n",
       "      <th>year</th>\n",
       "      <th>month</th>\n",
       "      <th>date</th>\n",
       "    </tr>\n",
       "  </thead>\n",
       "  <tbody>\n",
       "    <tr>\n",
       "      <th>0</th>\n",
       "      <td>(선)갈치</td>\n",
       "      <td>목포</td>\n",
       "      <td>5미</td>\n",
       "      <td>S/P</td>\n",
       "      <td>1</td>\n",
       "      <td>15.0</td>\n",
       "      <td>110,000</td>\n",
       "      <td>110,000</td>\n",
       "      <td>110,000</td>\n",
       "      <td>2021</td>\n",
       "      <td>1</td>\n",
       "      <td>2021-01-01</td>\n",
       "    </tr>\n",
       "    <tr>\n",
       "      <th>1</th>\n",
       "      <td>(선)갈치</td>\n",
       "      <td>목포</td>\n",
       "      <td>10미</td>\n",
       "      <td>S/P</td>\n",
       "      <td>39</td>\n",
       "      <td>15.0</td>\n",
       "      <td>200,000</td>\n",
       "      <td>30,000</td>\n",
       "      <td>141,700</td>\n",
       "      <td>2021</td>\n",
       "      <td>1</td>\n",
       "      <td>2021-01-01</td>\n",
       "    </tr>\n",
       "    <tr>\n",
       "      <th>2</th>\n",
       "      <td>(선)갈치</td>\n",
       "      <td>목포</td>\n",
       "      <td>중</td>\n",
       "      <td>S/P</td>\n",
       "      <td>3</td>\n",
       "      <td>20.0</td>\n",
       "      <td>110,000</td>\n",
       "      <td>77,000</td>\n",
       "      <td>99,000</td>\n",
       "      <td>2021</td>\n",
       "      <td>1</td>\n",
       "      <td>2021-01-01</td>\n",
       "    </tr>\n",
       "    <tr>\n",
       "      <th>3</th>\n",
       "      <td>(선)갈치</td>\n",
       "      <td>목포</td>\n",
       "      <td>8미</td>\n",
       "      <td>S/P</td>\n",
       "      <td>25</td>\n",
       "      <td>20.0</td>\n",
       "      <td>155,000</td>\n",
       "      <td>50,000</td>\n",
       "      <td>138,600</td>\n",
       "      <td>2021</td>\n",
       "      <td>1</td>\n",
       "      <td>2021-01-01</td>\n",
       "    </tr>\n",
       "    <tr>\n",
       "      <th>4</th>\n",
       "      <td>(선)갈치</td>\n",
       "      <td>삼천포</td>\n",
       "      <td>중</td>\n",
       "      <td>S/P</td>\n",
       "      <td>2</td>\n",
       "      <td>20.0</td>\n",
       "      <td>200,000</td>\n",
       "      <td>200,000</td>\n",
       "      <td>200,000</td>\n",
       "      <td>2021</td>\n",
       "      <td>1</td>\n",
       "      <td>2021-01-01</td>\n",
       "    </tr>\n",
       "    <tr>\n",
       "      <th>...</th>\n",
       "      <td>...</td>\n",
       "      <td>...</td>\n",
       "      <td>...</td>\n",
       "      <td>...</td>\n",
       "      <td>...</td>\n",
       "      <td>...</td>\n",
       "      <td>...</td>\n",
       "      <td>...</td>\n",
       "      <td>...</td>\n",
       "      <td>...</td>\n",
       "      <td>...</td>\n",
       "      <td>...</td>\n",
       "    </tr>\n",
       "    <tr>\n",
       "      <th>10104</th>\n",
       "      <td>(선)은갈치</td>\n",
       "      <td>제주도</td>\n",
       "      <td>3미</td>\n",
       "      <td>S/P</td>\n",
       "      <td>1</td>\n",
       "      <td>2.3</td>\n",
       "      <td>55,000</td>\n",
       "      <td>55,000</td>\n",
       "      <td>55,000</td>\n",
       "      <td>2024</td>\n",
       "      <td>12</td>\n",
       "      <td>2024-12-01</td>\n",
       "    </tr>\n",
       "    <tr>\n",
       "      <th>10105</th>\n",
       "      <td>(선)은갈치</td>\n",
       "      <td>제주도</td>\n",
       "      <td>6미</td>\n",
       "      <td>S/P</td>\n",
       "      <td>1</td>\n",
       "      <td>3.7</td>\n",
       "      <td>100,000</td>\n",
       "      <td>100,000</td>\n",
       "      <td>100,000</td>\n",
       "      <td>2024</td>\n",
       "      <td>12</td>\n",
       "      <td>2024-12-01</td>\n",
       "    </tr>\n",
       "    <tr>\n",
       "      <th>10106</th>\n",
       "      <td>(선)은갈치</td>\n",
       "      <td>제주도</td>\n",
       "      <td>27미</td>\n",
       "      <td>S/P</td>\n",
       "      <td>1</td>\n",
       "      <td>10.0</td>\n",
       "      <td>60,000</td>\n",
       "      <td>60,000</td>\n",
       "      <td>60,000</td>\n",
       "      <td>2024</td>\n",
       "      <td>12</td>\n",
       "      <td>2024-12-01</td>\n",
       "    </tr>\n",
       "    <tr>\n",
       "      <th>10107</th>\n",
       "      <td>(선)은갈치</td>\n",
       "      <td>제주도</td>\n",
       "      <td>2미</td>\n",
       "      <td>S/P</td>\n",
       "      <td>7</td>\n",
       "      <td>3.0</td>\n",
       "      <td>130,000</td>\n",
       "      <td>110,000</td>\n",
       "      <td>115,700</td>\n",
       "      <td>2024</td>\n",
       "      <td>12</td>\n",
       "      <td>2024-12-01</td>\n",
       "    </tr>\n",
       "    <tr>\n",
       "      <th>10108</th>\n",
       "      <td>(냉)은갈치</td>\n",
       "      <td>제주도</td>\n",
       "      <td>20/25미</td>\n",
       "      <td>CT/(BT)</td>\n",
       "      <td>50</td>\n",
       "      <td>10.0</td>\n",
       "      <td>220,700</td>\n",
       "      <td>220,700</td>\n",
       "      <td>220,700</td>\n",
       "      <td>2024</td>\n",
       "      <td>12</td>\n",
       "      <td>2024-12-01</td>\n",
       "    </tr>\n",
       "  </tbody>\n",
       "</table>\n",
       "<p>10109 rows × 12 columns</p>\n",
       "</div>"
      ],
      "text/plain": [
       "           어종   산지      규격       포장  수량    중량     낙찰고가     낙찰저가      평균가  \\\n",
       "0       (선)갈치   목포      5미      S/P   1  15.0  110,000  110,000  110,000   \n",
       "1       (선)갈치   목포     10미      S/P  39  15.0  200,000   30,000  141,700   \n",
       "2       (선)갈치   목포       중      S/P   3  20.0  110,000   77,000   99,000   \n",
       "3       (선)갈치   목포      8미      S/P  25  20.0  155,000   50,000  138,600   \n",
       "4       (선)갈치  삼천포       중      S/P   2  20.0  200,000  200,000  200,000   \n",
       "...       ...  ...     ...      ...  ..   ...      ...      ...      ...   \n",
       "10104  (선)은갈치  제주도      3미      S/P   1   2.3   55,000   55,000   55,000   \n",
       "10105  (선)은갈치  제주도      6미      S/P   1   3.7  100,000  100,000  100,000   \n",
       "10106  (선)은갈치  제주도     27미      S/P   1  10.0   60,000   60,000   60,000   \n",
       "10107  (선)은갈치  제주도      2미      S/P   7   3.0  130,000  110,000  115,700   \n",
       "10108  (냉)은갈치  제주도  20/25미  CT/(BT)  50  10.0  220,700  220,700  220,700   \n",
       "\n",
       "       year  month       date  \n",
       "0      2021      1 2021-01-01  \n",
       "1      2021      1 2021-01-01  \n",
       "2      2021      1 2021-01-01  \n",
       "3      2021      1 2021-01-01  \n",
       "4      2021      1 2021-01-01  \n",
       "...     ...    ...        ...  \n",
       "10104  2024     12 2024-12-01  \n",
       "10105  2024     12 2024-12-01  \n",
       "10106  2024     12 2024-12-01  \n",
       "10107  2024     12 2024-12-01  \n",
       "10108  2024     12 2024-12-01  \n",
       "\n",
       "[10109 rows x 12 columns]"
      ]
     },
     "execution_count": 58,
     "metadata": {},
     "output_type": "execute_result"
    }
   ],
   "source": [
    "data_gal"
   ]
  },
  {
   "cell_type": "code",
   "execution_count": 104,
   "id": "c7c05698-ab42-4d17-8df1-fe02991f40da",
   "metadata": {},
   "outputs": [],
   "source": [
    "ls_gal = ['(선)은갈치', '(선)갈치', '(냉)갈치']\n",
    "fi_gal = data_gal[data_gal['어종'].isin(ls_gal)]"
   ]
  },
  {
   "cell_type": "code",
   "execution_count": 105,
   "id": "1d104a62-a5c8-4d88-89b3-93f94a7ff797",
   "metadata": {},
   "outputs": [
    {
     "data": {
      "text/html": [
       "<div>\n",
       "<style scoped>\n",
       "    .dataframe tbody tr th:only-of-type {\n",
       "        vertical-align: middle;\n",
       "    }\n",
       "\n",
       "    .dataframe tbody tr th {\n",
       "        vertical-align: top;\n",
       "    }\n",
       "\n",
       "    .dataframe thead th {\n",
       "        text-align: right;\n",
       "    }\n",
       "</style>\n",
       "<table border=\"1\" class=\"dataframe\">\n",
       "  <thead>\n",
       "    <tr style=\"text-align: right;\">\n",
       "      <th></th>\n",
       "      <th>어종</th>\n",
       "      <th>산지</th>\n",
       "      <th>규격</th>\n",
       "      <th>포장</th>\n",
       "      <th>수량</th>\n",
       "      <th>중량</th>\n",
       "      <th>낙찰고가</th>\n",
       "      <th>낙찰저가</th>\n",
       "      <th>평균가</th>\n",
       "      <th>year</th>\n",
       "      <th>month</th>\n",
       "      <th>date</th>\n",
       "    </tr>\n",
       "  </thead>\n",
       "  <tbody>\n",
       "    <tr>\n",
       "      <th>0</th>\n",
       "      <td>(선)갈치</td>\n",
       "      <td>목포</td>\n",
       "      <td>5미</td>\n",
       "      <td>S/P</td>\n",
       "      <td>1</td>\n",
       "      <td>15.0</td>\n",
       "      <td>110,000</td>\n",
       "      <td>110,000</td>\n",
       "      <td>110000</td>\n",
       "      <td>2021</td>\n",
       "      <td>1</td>\n",
       "      <td>2021-01-01</td>\n",
       "    </tr>\n",
       "    <tr>\n",
       "      <th>1</th>\n",
       "      <td>(선)갈치</td>\n",
       "      <td>목포</td>\n",
       "      <td>10미</td>\n",
       "      <td>S/P</td>\n",
       "      <td>39</td>\n",
       "      <td>15.0</td>\n",
       "      <td>200,000</td>\n",
       "      <td>30,000</td>\n",
       "      <td>141700</td>\n",
       "      <td>2021</td>\n",
       "      <td>1</td>\n",
       "      <td>2021-01-01</td>\n",
       "    </tr>\n",
       "    <tr>\n",
       "      <th>2</th>\n",
       "      <td>(선)갈치</td>\n",
       "      <td>목포</td>\n",
       "      <td>중</td>\n",
       "      <td>S/P</td>\n",
       "      <td>3</td>\n",
       "      <td>20.0</td>\n",
       "      <td>110,000</td>\n",
       "      <td>77,000</td>\n",
       "      <td>99000</td>\n",
       "      <td>2021</td>\n",
       "      <td>1</td>\n",
       "      <td>2021-01-01</td>\n",
       "    </tr>\n",
       "    <tr>\n",
       "      <th>3</th>\n",
       "      <td>(선)갈치</td>\n",
       "      <td>목포</td>\n",
       "      <td>8미</td>\n",
       "      <td>S/P</td>\n",
       "      <td>25</td>\n",
       "      <td>20.0</td>\n",
       "      <td>155,000</td>\n",
       "      <td>50,000</td>\n",
       "      <td>138600</td>\n",
       "      <td>2021</td>\n",
       "      <td>1</td>\n",
       "      <td>2021-01-01</td>\n",
       "    </tr>\n",
       "    <tr>\n",
       "      <th>4</th>\n",
       "      <td>(선)갈치</td>\n",
       "      <td>삼천포</td>\n",
       "      <td>중</td>\n",
       "      <td>S/P</td>\n",
       "      <td>2</td>\n",
       "      <td>20.0</td>\n",
       "      <td>200,000</td>\n",
       "      <td>200,000</td>\n",
       "      <td>200000</td>\n",
       "      <td>2021</td>\n",
       "      <td>1</td>\n",
       "      <td>2021-01-01</td>\n",
       "    </tr>\n",
       "    <tr>\n",
       "      <th>...</th>\n",
       "      <td>...</td>\n",
       "      <td>...</td>\n",
       "      <td>...</td>\n",
       "      <td>...</td>\n",
       "      <td>...</td>\n",
       "      <td>...</td>\n",
       "      <td>...</td>\n",
       "      <td>...</td>\n",
       "      <td>...</td>\n",
       "      <td>...</td>\n",
       "      <td>...</td>\n",
       "      <td>...</td>\n",
       "    </tr>\n",
       "    <tr>\n",
       "      <th>10103</th>\n",
       "      <td>(선)은갈치</td>\n",
       "      <td>제주도</td>\n",
       "      <td>7미</td>\n",
       "      <td>S/P</td>\n",
       "      <td>2</td>\n",
       "      <td>3.0</td>\n",
       "      <td>60,000</td>\n",
       "      <td>40,000</td>\n",
       "      <td>50000</td>\n",
       "      <td>2024</td>\n",
       "      <td>12</td>\n",
       "      <td>2024-12-01</td>\n",
       "    </tr>\n",
       "    <tr>\n",
       "      <th>10104</th>\n",
       "      <td>(선)은갈치</td>\n",
       "      <td>제주도</td>\n",
       "      <td>3미</td>\n",
       "      <td>S/P</td>\n",
       "      <td>1</td>\n",
       "      <td>2.3</td>\n",
       "      <td>55,000</td>\n",
       "      <td>55,000</td>\n",
       "      <td>55000</td>\n",
       "      <td>2024</td>\n",
       "      <td>12</td>\n",
       "      <td>2024-12-01</td>\n",
       "    </tr>\n",
       "    <tr>\n",
       "      <th>10105</th>\n",
       "      <td>(선)은갈치</td>\n",
       "      <td>제주도</td>\n",
       "      <td>6미</td>\n",
       "      <td>S/P</td>\n",
       "      <td>1</td>\n",
       "      <td>3.7</td>\n",
       "      <td>100,000</td>\n",
       "      <td>100,000</td>\n",
       "      <td>100000</td>\n",
       "      <td>2024</td>\n",
       "      <td>12</td>\n",
       "      <td>2024-12-01</td>\n",
       "    </tr>\n",
       "    <tr>\n",
       "      <th>10106</th>\n",
       "      <td>(선)은갈치</td>\n",
       "      <td>제주도</td>\n",
       "      <td>27미</td>\n",
       "      <td>S/P</td>\n",
       "      <td>1</td>\n",
       "      <td>10.0</td>\n",
       "      <td>60,000</td>\n",
       "      <td>60,000</td>\n",
       "      <td>60000</td>\n",
       "      <td>2024</td>\n",
       "      <td>12</td>\n",
       "      <td>2024-12-01</td>\n",
       "    </tr>\n",
       "    <tr>\n",
       "      <th>10107</th>\n",
       "      <td>(선)은갈치</td>\n",
       "      <td>제주도</td>\n",
       "      <td>2미</td>\n",
       "      <td>S/P</td>\n",
       "      <td>7</td>\n",
       "      <td>3.0</td>\n",
       "      <td>130,000</td>\n",
       "      <td>110,000</td>\n",
       "      <td>115700</td>\n",
       "      <td>2024</td>\n",
       "      <td>12</td>\n",
       "      <td>2024-12-01</td>\n",
       "    </tr>\n",
       "  </tbody>\n",
       "</table>\n",
       "<p>9619 rows × 12 columns</p>\n",
       "</div>"
      ],
      "text/plain": [
       "           어종   산지   규격   포장  수량    중량     낙찰고가     낙찰저가     평균가  year  month  \\\n",
       "0       (선)갈치   목포   5미  S/P   1  15.0  110,000  110,000  110000  2021      1   \n",
       "1       (선)갈치   목포  10미  S/P  39  15.0  200,000   30,000  141700  2021      1   \n",
       "2       (선)갈치   목포    중  S/P   3  20.0  110,000   77,000   99000  2021      1   \n",
       "3       (선)갈치   목포   8미  S/P  25  20.0  155,000   50,000  138600  2021      1   \n",
       "4       (선)갈치  삼천포    중  S/P   2  20.0  200,000  200,000  200000  2021      1   \n",
       "...       ...  ...  ...  ...  ..   ...      ...      ...     ...   ...    ...   \n",
       "10103  (선)은갈치  제주도   7미  S/P   2   3.0   60,000   40,000   50000  2024     12   \n",
       "10104  (선)은갈치  제주도   3미  S/P   1   2.3   55,000   55,000   55000  2024     12   \n",
       "10105  (선)은갈치  제주도   6미  S/P   1   3.7  100,000  100,000  100000  2024     12   \n",
       "10106  (선)은갈치  제주도  27미  S/P   1  10.0   60,000   60,000   60000  2024     12   \n",
       "10107  (선)은갈치  제주도   2미  S/P   7   3.0  130,000  110,000  115700  2024     12   \n",
       "\n",
       "            date  \n",
       "0     2021-01-01  \n",
       "1     2021-01-01  \n",
       "2     2021-01-01  \n",
       "3     2021-01-01  \n",
       "4     2021-01-01  \n",
       "...          ...  \n",
       "10103 2024-12-01  \n",
       "10104 2024-12-01  \n",
       "10105 2024-12-01  \n",
       "10106 2024-12-01  \n",
       "10107 2024-12-01  \n",
       "\n",
       "[9619 rows x 12 columns]"
      ]
     },
     "execution_count": 105,
     "metadata": {},
     "output_type": "execute_result"
    }
   ],
   "source": [
    "fi_gal"
   ]
  },
  {
   "cell_type": "code",
   "execution_count": 66,
   "id": "495f507b-6464-4aa5-84f4-f623faf29b38",
   "metadata": {},
   "outputs": [
    {
     "data": {
      "text/plain": [
       "numpy.int64"
      ]
     },
     "execution_count": 66,
     "metadata": {},
     "output_type": "execute_result"
    }
   ],
   "source": [
    "type(df['year'][0])"
   ]
  },
  {
   "cell_type": "code",
   "execution_count": 73,
   "id": "064c4f58-c857-465b-b0f3-b2d518c50516",
   "metadata": {},
   "outputs": [],
   "source": [
    "import numpy as np"
   ]
  },
  {
   "cell_type": "code",
   "execution_count": 79,
   "id": "c7a45853-896e-4bda-8f13-96158697ac93",
   "metadata": {},
   "outputs": [],
   "source": [
    "data_gal['평균가']=data_gal['평균가'].str.replace(',', '').astype(int)"
   ]
  },
  {
   "cell_type": "code",
   "execution_count": 80,
   "id": "b972e181-4e1a-42cb-8e58-d5ae071e9b38",
   "metadata": {},
   "outputs": [
    {
     "data": {
      "text/plain": [
       "np.float64(84093.33032897701)"
      ]
     },
     "execution_count": 80,
     "metadata": {},
     "output_type": "execute_result"
    }
   ],
   "source": [
    "(data_gal[data_gal['year']==2021]['평균가']).mean()"
   ]
  },
  {
   "cell_type": "code",
   "execution_count": 81,
   "id": "cfc01bf1-4b42-451d-a8a9-6982e6ed5168",
   "metadata": {},
   "outputs": [
    {
     "data": {
      "text/plain": [
       "np.float64(96915.89442815249)"
      ]
     },
     "execution_count": 81,
     "metadata": {},
     "output_type": "execute_result"
    }
   ],
   "source": [
    "(data_gal[data_gal['year']==2022]['평균가']).mean()"
   ]
  },
  {
   "cell_type": "code",
   "execution_count": 82,
   "id": "eed1d9ef-e450-450b-93dd-ebbbca415bef",
   "metadata": {},
   "outputs": [
    {
     "data": {
      "text/plain": [
       "np.float64(107260.60828142177)"
      ]
     },
     "execution_count": 82,
     "metadata": {},
     "output_type": "execute_result"
    }
   ],
   "source": [
    "(data_gal[data_gal['year']==2023]['평균가']).mean()"
   ]
  },
  {
   "cell_type": "code",
   "execution_count": 83,
   "id": "552e88e4-5cf1-442e-b488-ce99f8ad35c5",
   "metadata": {},
   "outputs": [
    {
     "data": {
      "text/plain": [
       "np.float64(106535.01157407407)"
      ]
     },
     "execution_count": 83,
     "metadata": {},
     "output_type": "execute_result"
    }
   ],
   "source": [
    "(data_gal[data_gal['year']==2024]['평균가']).mean()"
   ]
  },
  {
   "cell_type": "code",
   "execution_count": 107,
   "id": "fb53afe2-d914-428f-9ad1-4a162acf476b",
   "metadata": {},
   "outputs": [
    {
     "data": {
      "image/png": "[encoded data removed]",
      "text/plain": [
       "<Figure size 800x400 with 1 Axes>"
      ]
     },
     "metadata": {},
     "output_type": "display_data"
    }
   ],
   "source": [
    "import matplotlib.pyplot as plt\n",
    "\n",
    "\n",
    "\n",
    "# 2021~2024년 범위 필터링\n",
    "filtered = data_gal[data_gal['year'].between(2021, 2024)]\n",
    "\n",
    "# 연도별 평균 계산\n",
    "yearly_means = filtered.groupby('year')['평균가'].mean()\n",
    "\n",
    "# 그래프 출력\n",
    "plt.figure(figsize=(8, 4))\n",
    "yearly_means.plot(kind='bar', color='skyblue')\n",
    "plt.xlabel('년도')\n",
    "plt.ylabel('갈치평균가 평균값')\n",
    "plt.title('2021-2024년 연도별 평균가 평균')\n",
    "plt.show()\n"
   ]
  },
  {
   "cell_type": "code",
   "execution_count": 106,
   "id": "b015de2f-9c82-4ec2-846a-561baadcf05f",
   "metadata": {},
   "outputs": [
    {
     "data": {
      "image/png": "[encoded data removed]",
      "text/plain": [
       "<Figure size 800x400 with 1 Axes>"
      ]
     },
     "metadata": {},
     "output_type": "display_data"
    }
   ],
   "source": [
    "import matplotlib.pyplot as plt\n",
    "\n",
    "\n",
    "\n",
    "# 2021~2024년 범위 필터링\n",
    "filtered = fi_gal[fi_gal['year'].between(2021, 2024)]\n",
    "\n",
    "# 연도별 평균 계산\n",
    "yearly_means = filtered.groupby('year')['평균가'].mean()\n",
    "\n",
    "# 그래프 출력\n",
    "plt.figure(figsize=(8, 4))\n",
    "yearly_means.plot(kind='bar', color='skyblue')\n",
    "plt.xlabel('년도')\n",
    "plt.ylabel('갈치평균가 평균값')\n",
    "plt.title('2021-2024년 연도별 평균가 평균')\n",
    "plt.show()"
   ]
  },
  {
   "cell_type": "code",
   "execution_count": 108,
   "id": "afc94385-5a35-4e3c-8f3a-62ea6aaa17de",
   "metadata": {},
   "outputs": [
    {
     "data": {
      "image/png": "[encoded data removed]",
      "text/plain": [
       "<Figure size 800x400 with 1 Axes>"
      ]
     },
     "metadata": {},
     "output_type": "display_data"
    }
   ],
   "source": [
    "import matplotlib.pyplot as plt\n",
    "\n",
    "\n",
    "\n",
    "# 2021~2024년 범위 필터링\n",
    "filtered = data_gal[data_gal['month'].between(1, 12)]\n",
    "\n",
    "# 연도별 평균 계산\n",
    "months_means = filtered.groupby('month')['평균가'].mean()\n",
    "\n",
    "# 그래프 출력\n",
    "plt.figure(figsize=(8, 4))\n",
    "months_means.plot(kind='bar', color='skyblue')\n",
    "plt.xlabel('달')\n",
    "plt.ylabel('갈치평균가 평균값')\n",
    "plt.title('2021-2024년 달별 평균가 평균')\n",
    "plt.show()"
   ]
  },
  {
   "cell_type": "code",
   "execution_count": 113,
   "id": "2259fef3-a197-4b53-a50b-845b8629d289",
   "metadata": {},
   "outputs": [
    {
     "name": "stdout",
     "output_type": "stream",
     "text": [
      "어종별 가장 많이 나오는 산지:\n",
      "어종\n",
      "(냉)갈치         세네갈\n",
      "(냉)갈치(H/G)    모로코\n",
      "(냉)먹갈치        제주도\n",
      "(냉)은갈치        제주도\n",
      "(선)갈치          안흥\n",
      "(선)갈치 기타      대부도\n",
      "(선)먹갈치        제주도\n",
      "(선)은갈치        제주도\n",
      "dtype: object\n"
     ]
    },
    {
     "data": {
      "image/png": "[encoded data removed]",
      "text/plain": [
       "<Figure size 1200x600 with 1 Axes>"
      ]
     },
     "metadata": {},
     "output_type": "display_data"
    }
   ],
   "source": [
    "import matplotlib.pyplot as plt\n",
    "\n",
    "# 1. 어종별 산지 개수 집계 (피벗 테이블 형태)\n",
    "pivot_data = data_gal.pivot_table(index='산지', columns='어종', aggfunc='size', fill_value=0)\n",
    "\n",
    "# 2. 어종별로 산지에서 가장 많이 나오는 개수와 산지 확인\n",
    "most_common_per_species = pivot_data.idxmax()\n",
    "most_common_counts = pivot_data.max()\n",
    "\n",
    "print(\"어종별 가장 많이 나오는 산지:\")\n",
    "print(most_common_per_species)\n",
    "\n",
    "# 3. 그래프 그리기 (어종별 산지별 개수)\n",
    "pivot_data.plot(kind='bar', figsize=(12, 6))\n",
    "plt.title('어종별 산지 개수')\n",
    "plt.xlabel('산지')\n",
    "plt.ylabel('개수')\n",
    "plt.legend(title='어종', bbox_to_anchor=(1.05, 1), loc='upper left')\n",
    "plt.tight_layout()\n",
    "plt.show()\n"
   ]
  },
  {
   "cell_type": "code",
   "execution_count": 122,
   "id": "b772aad6-47a7-4a04-84cf-881b66aa360a",
   "metadata": {},
   "outputs": [],
   "source": [
    "df.to_csv('./data/어종별.csv', index=False, encoding='utf-8-sig')"
   ]
  },
  {
   "cell_type": "code",
   "execution_count": 123,
   "id": "7c341194-11e3-4141-9217-569d82a9cbb0",
   "metadata": {},
   "outputs": [
    {
     "data": {
      "text/plain": [
       "<Axes: xlabel='어종'>"
      ]
     },
     "execution_count": 123,
     "metadata": {},
     "output_type": "execute_result"
    },
    {
     "data": {
      "image/png": "[encoded data removed]",
      "text/plain": [
       "<Figure size 640x480 with 1 Axes>"
      ]
     },
     "metadata": {},
     "output_type": "display_data"
    }
   ],
   "source": [
    "data_gal.to_csv('./data/갈치csv/갈치.csv', index=False, encoding='utf-8-sig')\n",
    "data_mung.to_csv('./data/명태csv/명태.csv', index=False, encoding='utf-8-sig')\n",
    "data_go.to_csv('./data/고등어csv/고등어.csv', index=False, encoding='utf-8-sig')\n",
    "data_ou.to_csv('./data/우럭csv/우럭.csv', index=False, encoding='utf-8-sig')\n",
    "data_nup['어종'].value_counts().plot(kind='bar')"
   ]
  }
 ],
 "metadata": {
  "kernelspec": {
   "display_name": "Python 3 (ipykernel)",
   "language": "python",
   "name": "python3"
  },
  "language_info": {
   "codemirror_mode": {
    "name": "ipython",
    "version": 3
   },
   "file_extension": ".py",
   "mimetype": "text/x-python",
   "name": "python",
   "nbconvert_exporter": "python",
   "pygments_lexer": "ipython3",
   "version": "3.10.18"
  }
 },
 "nbformat": 4,
 "nbformat_minor": 5
}
